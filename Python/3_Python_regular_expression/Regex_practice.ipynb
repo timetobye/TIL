{
 "cells": [
  {
   "cell_type": "markdown",
   "metadata": {},
   "source": [
    "### Regex expression 학습\n",
    "\n",
    "학습 날짜 : 2019년 04월 07일\n",
    "\n",
    "학습 장소 : 프로그래머스 - 정규표현식 사이트\n",
    "\n",
    "학습 언어 : python3"
   ]
  },
  {
   "cell_type": "markdown",
   "metadata": {},
   "source": [
    "### 한글 고르기"
   ]
  },
  {
   "cell_type": "code",
   "execution_count": 4,
   "metadata": {},
   "outputs": [],
   "source": [
    "import re\n",
    "\n",
    "def regex_practice(regex):\n",
    "    \n",
    "    search_target = '''Luke Skywarker 02-123-4567 luke@daum.net\n",
    "    다스베이더 070-9999-9999 darth_vader@gmail.com\n",
    "    princess leia 010 2454 3457 leia@gmail.com'''\n",
    "    \n",
    "    result = re.findall(regex, search_target)\n",
    "    print(\"\\n\".join(result))"
   ]
  },
  {
   "cell_type": "code",
   "execution_count": 5,
   "metadata": {},
   "outputs": [
    {
     "name": "stdout",
     "output_type": "stream",
     "text": [
      "다스베이더\n"
     ]
    }
   ],
   "source": [
    "# 빈칸에 정규표현식을 적습니다.\n",
    "regex = r'[가-힣]+'\n",
    "\n",
    "regex_practice(regex)"
   ]
  },
  {
   "cell_type": "markdown",
   "metadata": {},
   "source": [
    "### 기타 대표문자\n",
    "\n",
    "- 숫자(\\d)나 글자(\\w)이외에도 다양한 대표 문자가 있습니다.\n",
    "  - \\s 공백 문자(스페이스, 탭, 뉴라인)\n",
    "  - \\S 공백 문자를 제외한 문자\n",
    "  - \\D 숫자를 제외한 문자\n",
    "  - \\W 글자 대표 문자를 제외한 글자들(특수문자, 공백 등)"
   ]
  },
  {
   "cell_type": "code",
   "execution_count": 10,
   "metadata": {},
   "outputs": [],
   "source": [
    "# 공백 출력\n",
    "regex = r'\\s+'\n",
    "regex_practice(regex)"
   ]
  },
  {
   "cell_type": "code",
   "execution_count": 11,
   "metadata": {},
   "outputs": [],
   "source": [
    "# 문자열 출력\n",
    "regex = r'\\S+'\n",
    "regex_practice(regex)"
   ]
  },
  {
   "cell_type": "code",
   "execution_count": 12,
   "metadata": {},
   "outputs": [],
   "source": [
    "# 숫자를 제외한 문자\n",
    "regex = r'\\D+'\n",
    "regex_practice(regex)"
   ]
  },
  {
   "cell_type": "code",
   "execution_count": 40,
   "metadata": {},
   "outputs": [
    {
     "name": "stdout",
     "output_type": "stream",
     "text": [
      "[' ', ' ', '-', '-', ' ', '@', '.', '\\n    ', ' ', '-', '-', ' ', '@', '.', '\\n    ', ' ', ' ', ' ', ' ', ' ', '@', '.']\n"
     ]
    }
   ],
   "source": [
    "# 글자 대표 문자를 제외한 글자들(특수 문자, 공백 등)\n",
    "regex = r'\\W+'\n",
    "regex_practice(regex)"
   ]
  },
  {
   "cell_type": "markdown",
   "metadata": {},
   "source": [
    "### 1강 정규표현식 사용해 보기\n",
    "\n",
    "정규표현식은 문자열에서 특정 패턴을 만족하는 부분을 찾아낼 때 사용합니다. 예를 들어 볼까요? 스타워즈 주인공들의 주소록에서 전화번호를 찾아봅시다. 주소록은 코드 5번째 줄 search_target 변수에 적어두었습니다.\n",
    "\n",
    "사람 이름\n",
    "전화번호\n",
    "이메일\n",
    "이 적힌 주소록에서, 전화번호만 찾는 정규표현식은 다음과 같습니다.\n",
    "\n",
    "\"0\\d{1,2}[ -]?\\d{3,4}[ -]?\\d{3,4}\"\n",
    "\n",
    "빈칸에 이 정규표현식 적어 [실행] 버튼을 눌러보세요.\n",
    "\n",
    "출력을 확인해 보면, search_target에 들어있는 모든 전화번호를 찾아내서 한 줄씩 출력하는 걸 알 수 있습니다.\n"
   ]
  },
  {
   "cell_type": "code",
   "execution_count": 15,
   "metadata": {},
   "outputs": [
    {
     "name": "stdout",
     "output_type": "stream",
     "text": [
      "02-123-4567\n",
      "070-9999-9999\n",
      "010 2454 3457\n"
     ]
    }
   ],
   "source": [
    "regex = r'0\\d{1,2}[ -]?\\d{3,4}[ -]?\\d{3,4}'\n",
    "regex_practice(regex)"
   ]
  },
  {
   "cell_type": "markdown",
   "metadata": {},
   "source": [
    "### 2강 - 대표문자 - 숫자\n",
    "전화번호를 찾기 위한 첫 단계는 숫자를 찾아내는 겁니다.\n",
    "\n",
    "\\d는 숫자를 대표하는 정규표현식입니다. 이때 d는 digit을 뜻합니다.\n",
    "\n",
    "빈칸에 \\d를 입력하고 [실행]해 보세요. Output으로 search_target에 들은 모든 숫자가 한 줄씩 나올 겁니다."
   ]
  },
  {
   "cell_type": "code",
   "execution_count": 16,
   "metadata": {},
   "outputs": [
    {
     "name": "stdout",
     "output_type": "stream",
     "text": [
      "0\n",
      "2\n",
      "1\n",
      "2\n",
      "3\n",
      "4\n",
      "5\n",
      "6\n",
      "7\n",
      "0\n",
      "7\n",
      "0\n",
      "9\n",
      "9\n",
      "9\n",
      "9\n",
      "9\n",
      "9\n",
      "9\n",
      "9\n",
      "0\n",
      "1\n",
      "0\n",
      "2\n",
      "4\n",
      "5\n",
      "4\n",
      "3\n",
      "4\n",
      "5\n",
      "7\n"
     ]
    }
   ],
   "source": [
    "regex = r'\\d'\n",
    "regex_practice(regex)"
   ]
  },
  {
   "cell_type": "markdown",
   "metadata": {},
   "source": [
    "### 2강 - 대표문자 - 글자\n",
    "\\w는 글자를 대표하는 정규표현식입니다. \\w는\n",
    "\n",
    "- a, b, c, 가, 나, 다, 1, 2와 같은 문자와 숫자를 포함합니다.\n",
    "- 특수문자는 포함하지 않지만, _(언더스코어)는 포함합니다.\n",
    "\n",
    "빈칸에 \\w를 입력하고 [실행]해 보세요. Output으로 search_target에 들은 모든 문자와 숫자가 한 줄씩 나올 겁니다."
   ]
  },
  {
   "cell_type": "code",
   "execution_count": 18,
   "metadata": {},
   "outputs": [],
   "source": [
    "regex = r'\\w'\n",
    "regex_practice(regex)"
   ]
  },
  {
   "cell_type": "markdown",
   "metadata": {},
   "source": [
    "### 3강 횟수 정하기 - 하나 이상\n",
    "\n",
    "\\d는 숫자를 한글자만 찾습니다. 그런데, 전화번호를 구성하는 043이나 2568같이 연결된 숫자를 찾고 싶을 때는 어떻게 해야 할까요?\n",
    "\n",
    "그럴 땐 +를 이용하면 됩니다. +는 하나 혹은 그 이상 연결된이라는 뜻입니다. 따라서 \\d+는 하나 혹은 그 이상 연결된 숫자를 의미합니다.\n",
    "\n",
    "빈칸에 \\d+를 입력하고 [실행]해 보세요. Output으로 search_target에 들은 모든 연결된 숫자가 한 줄씩 나올 겁니다."
   ]
  },
  {
   "cell_type": "code",
   "execution_count": 20,
   "metadata": {},
   "outputs": [
    {
     "name": "stdout",
     "output_type": "stream",
     "text": [
      "02\n",
      "123\n",
      "4567\n",
      "070\n",
      "9999\n",
      "9999\n",
      "010\n",
      "2454\n",
      "3457\n"
     ]
    }
   ],
   "source": [
    "# + 를 사용하여 하나 혹은 그 이상 연결된 숫자를 파악\n",
    "regex = r'\\d+'\n",
    "regex_practice(regex)"
   ]
  },
  {
   "cell_type": "markdown",
   "metadata": {},
   "source": [
    "### 3강 횟수 정하기 - 0개 이상\n",
    "\n",
    "정규표현식으로 010, 123, 456 중 자연수를 찾으려면 어떻게 해야 할까요? 자연수는\n",
    "\n",
    "0으로 시작하지 않으니 자연수의 첫자리는 반드시 1 ~ 9 중에 하나이어야 합니다.\n",
    "그다음 자리부터는 0~9 사이의 숫자가 나올 수도 있고, 나오지 않을 수도 있지요.\n",
    "다시 말해, 자연수는 다음과 같이 표현할 수 있습니다.\n",
    "\n",
    "1. 처음에 1~9중 하나의 숫자가 나온 다음\n",
    "2. 그 뒤에는 숫자가 0개 이상 나오면"
   ]
  },
  {
   "cell_type": "code",
   "execution_count": 22,
   "metadata": {},
   "outputs": [
    {
     "name": "stdout",
     "output_type": "stream",
     "text": [
      "2\n",
      "123\n",
      "4567\n",
      "70\n",
      "9999\n",
      "9999\n",
      "10\n",
      "2454\n",
      "3457\n"
     ]
    }
   ],
   "source": [
    "# *은 0개 이상이라는 뜻입니다. 따라서 \\d*는 숫자가 0개 이상이다를 의미합니다. 이를 이용하면 자연수는 [1-9]\\d*로 표현할 수 있습니다.\n",
    "# 빈칸에 [1-9]\\d*를 입력하고 [실행]해 보세요. Output으로 search_target에 들은 모든 자연수가 한 줄씩 나올 겁니다.\n",
    "# 숫자 1~9 0개 이상의 숫자 조합\n",
    "# [1-9]\\d+ 하면 2 가 나오질 않음\n",
    "\n",
    "regex = r'[1-9]\\d*'\n",
    "regex_practice(regex)"
   ]
  },
  {
   "cell_type": "markdown",
   "metadata": {},
   "source": [
    "### 3강 횟수 정하기 - 있거나 없나가(1)\n",
    "전화번호는 -을 포함하거나, 포함하지 않을 수 있습니다. 예를 들어, 다음은 모두 유효한 전화번호입니다.\n",
    "\n",
    "021234567\n",
    "02-123-4567\n",
    "\n",
    "따라서 전화번호는 연속되는 숫자 3 ~ 4개 사이에 -가 있거나 없다고 표현할 수 있습니다.\n",
    "\n",
    "?는 '있거나 없거나'라는 뜻입니다. \n",
    "\n",
    "따라서 -?는 -가 있거나 없다를 의미합니다. \n",
    "\n",
    "따라서 이를 연속하는 숫자는 \\d+와 조합하면 전화번호를 찾는 정규표현식을 만들 수 있습니다.\n",
    "\n",
    "\n",
    "\\d+-?\\d+-?\\d+"
   ]
  },
  {
   "cell_type": "code",
   "execution_count": 24,
   "metadata": {},
   "outputs": [],
   "source": [
    "def regex_practice(regex):\n",
    "    \n",
    "    search_target = '''Luke Skywarker 02-123-4567 luke@daum.net\n",
    "    다스베이더 070-9999-9999 darth_vader@gmail.com\n",
    "    princess leia 010 2454 3457 leia@gmail.com'''\n",
    "    \n",
    "    result = re.findall(regex, search_target)\n",
    "    print(result)"
   ]
  },
  {
   "cell_type": "code",
   "execution_count": 25,
   "metadata": {},
   "outputs": [
    {
     "name": "stdout",
     "output_type": "stream",
     "text": [
      "['02-123-4567', '070-9999-9999', '010', '2454', '3457']\n"
     ]
    }
   ],
   "source": [
    "# 숫자 + 있거나 없거나 + 숫자 + 있거나 없거나 + 숫자\n",
    "\n",
    "regex = r'\\d+-?\\d+-?\\d+'\n",
    "regex_practice(regex)"
   ]
  },
  {
   "cell_type": "markdown",
   "metadata": {},
   "source": [
    "### 3강 횟수 정하기 - 있거나 없거나(2)\n",
    "\n",
    "앞에서 배운 \\d+-?\\d+-?\\d+ 정규표현식은 한계가 있습니다. 010 2454 3457과 같이 공백이 포함된 전화번호를 찾을 수 없지요.\n",
    "\n",
    "021234567\n",
    "02-123-4567\n",
    "010 2454 3457\n",
    "\n",
    "모든 전화번호를 찾으려면\n",
    "\n",
    "\"-가 있거나 없다는 조건이 아니라\"\n",
    "\n",
    "\"- 또는 공백이 있거나 없다는 조건을 써야 합니다.\""
   ]
  },
  {
   "cell_type": "code",
   "execution_count": 28,
   "metadata": {},
   "outputs": [
    {
     "name": "stdout",
     "output_type": "stream",
     "text": [
      "['02-123-4567', '070-9999-9999', '010 2454 3457']\n"
     ]
    }
   ],
   "source": [
    "# [- ]? 를 주목하자 - 옆에 공백이 있다.\n",
    "# - 또는 (공백)이 있거나 없다는 조건은 [- ]?로 표현할 수 있습니다.\n",
    "\n",
    "regex = r'\\d+[- ]?\\d+[- ]?\\d+'\n",
    "regex_practice(regex)"
   ]
  },
  {
   "cell_type": "markdown",
   "metadata": {},
   "source": [
    "### 3강 횟수 정하기 - n번(1)\n",
    "앞서 배운 \\d+[- ]?\\d+[- ]?\\d+ 정규표현식으로는 전화번호를 찾는데 한계가 있습니다. \n",
    "\n",
    "0030589-5-95826과 같이 연결된 숫자가 너무 많은 문자열도 전화번호라고 인식합니다.\n",
    "\n",
    "코드를 실행해서 결과를 확인해 보세요. 다음 강의에서는 이를 해결할 방법을 알아보겠습니다."
   ]
  },
  {
   "cell_type": "code",
   "execution_count": 29,
   "metadata": {},
   "outputs": [],
   "source": [
    "def regex_exp(regex):\n",
    "    \n",
    "    search_target = '''이상한 전화번호 0030589-5-95826\n",
    "    Luke Skywarker 02-123-4567 luke@daum.net\n",
    "    다스베이더 070-9999-9999 darth_vader@gmail.com\n",
    "    princess leia 010 2454 3457 leia@gmail.com'''\n",
    "    \n",
    "    result=re.findall(regex,search_target)\n",
    "    print(result)"
   ]
  },
  {
   "cell_type": "markdown",
   "metadata": {},
   "source": [
    "### 3강 횟수 정하기 - n번(2)\n",
    "\n",
    "{숫자}는 `숫자`번 반복한다는 뜻입니다. 예를 들어 \\d{2}는 숫자가 연속 두 번 나온다는 뜻입니다.\n",
    "\n",
    "빈칸에 \\d{2}[- ]?\\d{3}[- ]?\\d{4}를 입력하고 [실행]해 보세요."
   ]
  },
  {
   "cell_type": "code",
   "execution_count": 30,
   "metadata": {},
   "outputs": [
    {
     "name": "stdout",
     "output_type": "stream",
     "text": [
      "['02-123-4567']\n"
     ]
    }
   ],
   "source": [
    "regex = r'\\d{2}[- ]?\\d{3}[- ]?\\d{4}'\n",
    "regex_exp(regex)"
   ]
  },
  {
   "cell_type": "markdown",
   "metadata": {},
   "source": [
    "### 3강 횟수 정하기 - n~m번\n",
    "\n",
    "앞서 배운 \\d{2}[- ]?\\d{3}[- ]?\\d{4} 정규표현식으로는 전화번호를 찾는데 한계가 있습니다. 전화번호의 첫 부분에 숫자가 3번(010 2454 3457) 나오는 경우를 인식하지 못하지요.\n",
    "\n",
    "{숫자1, 숫자2}는 숫자1부터 숫자2까지 반복한다는 뜻입니다. 예를 들어, \\w{2,3}는 문자가 2 ~ 3번 나온다는 뜻입니다.\n",
    "\n",
    "전화번호의 자릿수는 다음과 같습니다. 따라서 전화번호는 \\d{2,3}[- ]?\\d{3,4}[- ]?\\d{4}와 같이 표현할 수 있습니다."
   ]
  },
  {
   "cell_type": "code",
   "execution_count": 31,
   "metadata": {},
   "outputs": [
    {
     "name": "stdout",
     "output_type": "stream",
     "text": [
      "['02-123-4567', '070-9999-9999', '010 2454 3457']\n"
     ]
    }
   ],
   "source": [
    "regex = r'\\d{2,3}[- ]?\\d{3,4}[- ]?\\d{4}'\n",
    "regex_exp(regex)"
   ]
  },
  {
   "cell_type": "markdown",
   "metadata": {},
   "source": [
    "### 4강 고르기 - 몇 개 중에 고르기\n",
    "\n",
    "알파벳 중에 소문자 모음(a,e,i,o,u)만 고르고 싶을 땐 어떻게 할까요?\n",
    "\n",
    "그럴 때는 [aeiou]라고 적어주세요. 정규표현식에서 대괄호[ ] 안에 글자를 넣으면 해당 글자를 모두 선택할 수 있습니다.\n",
    "\n",
    "빈칸에 [aeiou]를 입력하고 [실행]해 보세요. Output으로 search_target에 들은 모든 소문자 알파벳이 한 줄씩 나올 겁니다."
   ]
  },
  {
   "cell_type": "code",
   "execution_count": 36,
   "metadata": {},
   "outputs": [],
   "source": [
    "def regex_select(regex):\n",
    "    \n",
    "    search_target = '''Luke Skywarker 02-123-4567 luke@daum.net\n",
    "    다스베이더 070-9999-9999 darth_vader@gmail.com\n",
    "    princess leia 010 2454 3457 leia@gmail.com'''\n",
    "    \n",
    "    result=re.findall(regex,search_target)\n",
    "    print(\"\\n\".join(result))"
   ]
  },
  {
   "cell_type": "code",
   "execution_count": 37,
   "metadata": {},
   "outputs": [
    {
     "name": "stdout",
     "output_type": "stream",
     "text": [
      "u\n",
      "e\n",
      "a\n",
      "e\n",
      "u\n",
      "e\n",
      "a\n",
      "u\n",
      "e\n",
      "a\n",
      "a\n",
      "e\n",
      "a\n",
      "i\n",
      "o\n",
      "i\n",
      "e\n",
      "e\n",
      "i\n",
      "a\n",
      "e\n",
      "i\n",
      "a\n",
      "a\n",
      "i\n",
      "o\n"
     ]
    }
   ],
   "source": [
    "regex = r'[aeiou]'\n",
    "regex_select(regex)"
   ]
  },
  {
   "cell_type": "markdown",
   "metadata": {},
   "source": [
    "### 4강 고르기 - 범위에서 고르기(1)\n",
    "소문자 알파벳만 고르고 싶을 땐 어떻게 할까요? [abcdefghijklmnopqrlstuvwxyz]처럼 대괄호 안에 소문자를 모두 나열할 수도 있지만 뭔가 찜찜하지요.\n",
    "\n",
    "우리는 간단히 [a-z]를 쓰도록 합시다. [a-z]는 a부터 z까지 글자를 모두 선택하라는 의미입니다.\n",
    "\n",
    "빈칸에 [a-z]를 입력하고 [실행]해 보세요. Output으로 search_target에 들은 모든 소문자 알파벳이 한 줄씩 나올 겁니다."
   ]
  },
  {
   "cell_type": "code",
   "execution_count": 38,
   "metadata": {},
   "outputs": [
    {
     "name": "stdout",
     "output_type": "stream",
     "text": [
      "u\n",
      "k\n",
      "e\n",
      "k\n",
      "y\n",
      "w\n",
      "a\n",
      "r\n",
      "k\n",
      "e\n",
      "r\n",
      "l\n",
      "u\n",
      "k\n",
      "e\n",
      "d\n",
      "a\n",
      "u\n",
      "m\n",
      "n\n",
      "e\n",
      "t\n",
      "d\n",
      "a\n",
      "r\n",
      "t\n",
      "h\n",
      "v\n",
      "a\n",
      "d\n",
      "e\n",
      "r\n",
      "g\n",
      "m\n",
      "a\n",
      "i\n",
      "l\n",
      "c\n",
      "o\n",
      "m\n",
      "p\n",
      "r\n",
      "i\n",
      "n\n",
      "c\n",
      "e\n",
      "s\n",
      "s\n",
      "l\n",
      "e\n",
      "i\n",
      "a\n",
      "l\n",
      "e\n",
      "i\n",
      "a\n",
      "g\n",
      "m\n",
      "a\n",
      "i\n",
      "l\n",
      "c\n",
      "o\n",
      "m\n"
     ]
    }
   ],
   "source": [
    "regex = r'[a-z]'\n",
    "regex_select(regex)"
   ]
  },
  {
   "cell_type": "markdown",
   "metadata": {},
   "source": [
    "### 4강 고르기 - 범위에서 고르기(2)\n",
    "연속된 영어 소문자를 찾으려면 어떻게 할까요?\n",
    "\n",
    "소문자를 뜻하는 [a-z]와 반복을 뜻하는 +를 붙여 => [a-z]+를 씁니다.\n",
    "\n",
    "빈칸에 [a-z]+를 입력하고 [실행]해 보세요. Output으로 search_target에 들은 모든 연속된 소문자가 한 줄씩 나올 겁니다."
   ]
  },
  {
   "cell_type": "code",
   "execution_count": 39,
   "metadata": {},
   "outputs": [
    {
     "name": "stdout",
     "output_type": "stream",
     "text": [
      "uke\n",
      "kywarker\n",
      "luke\n",
      "daum\n",
      "net\n",
      "darth\n",
      "vader\n",
      "gmail\n",
      "com\n",
      "princess\n",
      "leia\n",
      "leia\n",
      "gmail\n",
      "com\n"
     ]
    }
   ],
   "source": [
    "regex = r'[a-z]+'\n",
    "regex_select(regex)"
   ]
  },
  {
   "cell_type": "markdown",
   "metadata": {},
   "source": [
    "### 4강 고르기 - 한글 고르기\n",
    "\n",
    "한글 단어를 찾으려면 어떻게 할까요?\n",
    "\n",
    "한글의 첫 번째 글자는 가이고 마지막 글자는 힣입니다. 따라서 한글은 [가-힣]으로 찾을 수 있습니다.1\n",
    "\n",
    "빈칸에 [가-힣]+를 입력하고 [실행]해 보세요. Output으로 search_target에 들은 모든 한글 단어가 한 줄씩 나올 겁니다.\n",
    "\n",
    "단, 이 방식으로는 ㄱㄴㄷ이나 ㅏㅑㅓㅕ같은 낱글자는 찾을 수 없습니다.\n",
    "\n",
    "- 가장 위에서 진행하였음"
   ]
  }
 ],
 "metadata": {
  "kernelspec": {
   "display_name": "Python 3",
   "language": "python",
   "name": "python3"
  },
  "language_info": {
   "codemirror_mode": {
    "name": "ipython",
    "version": 3
   },
   "file_extension": ".py",
   "mimetype": "text/x-python",
   "name": "python",
   "nbconvert_exporter": "python",
   "pygments_lexer": "ipython3",
   "version": "3.7.0"
  }
 },
 "nbformat": 4,
 "nbformat_minor": 2
}
