{
 "cells": [
  {
   "cell_type": "markdown",
   "metadata": {},
   "source": [
    "# Python intermediate Stduy group\n",
    "\n",
    "## Reference : https://github.com/KaggleBreak/interpy-kr\n",
    "\n",
    "- 위 내용을 참고하여 재학습하였습니다.\n",
    "\n",
    "# \\_\\_slots\\_\\_\n",
    "\n",
    "- 파이썬은 인스턴스의 모든 속성을 dict에 동적 저장\n",
    "- \\_\\_slots\\_\\_ 명령어를 통해 속성을 정적 정의 가능\n",
    "- 장점: 속성 정의/호출 속도 향상 및 메모리 사용량 감소\n",
    "- 단점: 정의 이후 속성 추가/제거 불가\n",
    "\n",
    "참고:\n",
    "1. https://www.christianbarra.com/posts/let-me-introduce-slots/\n",
    "2. https://blog.usejournal.com/a-quick-dive-into-pythons-slots-72cdc2d334e7\n",
    "  - dead link\n",
    "3. https://thomas-cokelaer.info/tutorials/python/slots.html\n",
    "\n",
    "\n",
    "- 학습 후 To-do list\n",
    "  - 문서가 좀 이해하기 어려워서 다시 나중에 할 것\n",
    "  - official document : https://docs.python.org/3/reference/datamodel.html\n",
    "  - ~~뭔소리인지 사실 모르겠다~~\n",
    "\n",
    "------------------------------"
   ]
  },
  {
   "cell_type": "markdown",
   "metadata": {},
   "source": [
    "사용전에 아래와 같이 형태를 갖춤\n",
    "\n",
    "```python3\n",
    "\n",
    "__slots__ = ['name', 'identifier']\n",
    "\n",
    "def __init__(self, name, identifier):\n",
    "    self.name = name\n",
    "    self.identifier = identifier\n",
    "    self.set_up()\n",
    "```"
   ]
  },
  {
   "cell_type": "code",
   "execution_count": 1,
   "metadata": {},
   "outputs": [],
   "source": [
    "class MyClass(object):\n",
    "    __slots__ = ['name', 'identifier']\n",
    "\n",
    "    def __init__(self, name, identifier):\n",
    "        self.name = name\n",
    "        self.identifier = identifier\n",
    "        self.set_up()"
   ]
  },
  {
   "cell_type": "code",
   "execution_count": 12,
   "metadata": {},
   "outputs": [],
   "source": [
    "# library 설치가 안된다...?\n",
    "\n",
    "# import ipython_memory_usage.ipython_memory_usage as imu\n",
    "num = 1024*256\n",
    "# imu.start_watching_memory()"
   ]
  },
  {
   "cell_type": "markdown",
   "metadata": {},
   "source": [
    "### 메모리 사용량 및 속도 비교"
   ]
  },
  {
   "cell_type": "code",
   "execution_count": 8,
   "metadata": {},
   "outputs": [],
   "source": [
    "class MyClass1(object):\n",
    "    __slots__ = ['name', 'identifier']\n",
    "    def __init__(self, name, identifier):\n",
    "        self.name = name\n",
    "        self.identifier = identifier"
   ]
  },
  {
   "cell_type": "code",
   "execution_count": 9,
   "metadata": {},
   "outputs": [],
   "source": [
    "class MyClass2(object):\n",
    "    def __init__(self, name, identifier):\n",
    "        self.name = name\n",
    "        self.identifier = identifier"
   ]
  },
  {
   "cell_type": "code",
   "execution_count": 13,
   "metadata": {},
   "outputs": [
    {
     "name": "stdout",
     "output_type": "stream",
     "text": [
      "75.1 ms ± 1.08 ms per loop (mean ± std. dev. of 7 runs, 10 loops each)\n",
      "114 ms ± 856 µs per loop (mean ± std. dev. of 7 runs, 10 loops each)\n"
     ]
    }
   ],
   "source": [
    "%timeit [MyClass1(1,1) for i in range(num)]\n",
    "%timeit [MyClass2(1,1) for i in range(num)]"
   ]
  },
  {
   "cell_type": "markdown",
   "metadata": {},
   "source": [
    "slots을 사용하면 속도가 빠르구나! "
   ]
  },
  {
   "cell_type": "code",
   "execution_count": 14,
   "metadata": {},
   "outputs": [],
   "source": [
    "x = [MyClass1(1,1) for i in range(num)]"
   ]
  },
  {
   "cell_type": "code",
   "execution_count": 17,
   "metadata": {},
   "outputs": [],
   "source": [
    "y = [MyClass2(1,1) for i in range(num)]"
   ]
  },
  {
   "cell_type": "code",
   "execution_count": 18,
   "metadata": {},
   "outputs": [
    {
     "name": "stdout",
     "output_type": "stream",
     "text": [
      "80 112\n"
     ]
    }
   ],
   "source": [
    "from sys import getsizeof\n",
    "\n",
    "print(getsizeof(x[0].__slots__), getsizeof(y[0].__dict__))"
   ]
  },
  {
   "cell_type": "markdown",
   "metadata": {},
   "source": [
    "### 속성 추가 방법"
   ]
  },
  {
   "cell_type": "code",
   "execution_count": 19,
   "metadata": {},
   "outputs": [
    {
     "ename": "AttributeError",
     "evalue": "'MyClass1' object has no attribute 'test_value'",
     "output_type": "error",
     "traceback": [
      "\u001b[0;31m---------------------------------------------------------------------------\u001b[0m",
      "\u001b[0;31mAttributeError\u001b[0m                            Traceback (most recent call last)",
      "\u001b[0;32m<ipython-input-19-c1464bf31e42>\u001b[0m in \u001b[0;36m<module>\u001b[0;34m()\u001b[0m\n\u001b[0;32m----> 1\u001b[0;31m \u001b[0mx\u001b[0m\u001b[0;34m[\u001b[0m\u001b[0;36m0\u001b[0m\u001b[0;34m]\u001b[0m\u001b[0;34m.\u001b[0m\u001b[0mtest_value\u001b[0m \u001b[0;34m=\u001b[0m \u001b[0;34m'Some String'\u001b[0m\u001b[0;34m\u001b[0m\u001b[0;34m\u001b[0m\u001b[0m\n\u001b[0m",
      "\u001b[0;31mAttributeError\u001b[0m: 'MyClass1' object has no attribute 'test_value'"
     ]
    }
   ],
   "source": [
    "x[0].test_value = 'Some String'"
   ]
  },
  {
   "cell_type": "code",
   "execution_count": 23,
   "metadata": {},
   "outputs": [],
   "source": [
    "class MyClass3(object):\n",
    "    __slots__ = ['name', 'identifier', '__dict__']\n",
    "    def __init__(self, name, identifier):\n",
    "        self.name = name\n",
    "        self.identifier = identifier"
   ]
  },
  {
   "cell_type": "code",
   "execution_count": 24,
   "metadata": {},
   "outputs": [
    {
     "name": "stdout",
     "output_type": "stream",
     "text": [
      "71.9 ms ± 1.12 ms per loop (mean ± std. dev. of 7 runs, 10 loops each)\n",
      "110 ms ± 3.17 ms per loop (mean ± std. dev. of 7 runs, 10 loops each)\n"
     ]
    }
   ],
   "source": [
    "%timeit [MyClass3(1,1) for i in range(num)]\n",
    "%timeit [MyClass2(1,1) for i in range(num)]"
   ]
  },
  {
   "cell_type": "code",
   "execution_count": 25,
   "metadata": {},
   "outputs": [],
   "source": [
    "z = [MyClass3(1,1) for i in range(num)]"
   ]
  },
  {
   "cell_type": "code",
   "execution_count": 26,
   "metadata": {},
   "outputs": [],
   "source": [
    "a = [MyClass2(1,1) for i in range(num)]"
   ]
  },
  {
   "cell_type": "code",
   "execution_count": 27,
   "metadata": {},
   "outputs": [
    {
     "name": "stdout",
     "output_type": "stream",
     "text": [
      "1 1 {'test_value': 'Some String'} Some String\n"
     ]
    }
   ],
   "source": [
    "a[0].test_value = 'Some String'\n",
    "z[0].test_value = 'Some String'\n",
    "print(z[0].name, z[0].identifier, z[0].__dict__, z[0].test_value)"
   ]
  },
  {
   "cell_type": "code",
   "execution_count": 28,
   "metadata": {},
   "outputs": [
    {
     "name": "stdout",
     "output_type": "stream",
     "text": [
      "88 112 112\n"
     ]
    }
   ],
   "source": [
    "print(getsizeof(z[0].__slots__), getsizeof(z[0].__dict__), getsizeof(a[0].__dict__))"
   ]
  }
 ],
 "metadata": {
  "kernelspec": {
   "display_name": "Python 3",
   "language": "python",
   "name": "python3"
  },
  "language_info": {
   "codemirror_mode": {
    "name": "ipython",
    "version": 3
   },
   "file_extension": ".py",
   "mimetype": "text/x-python",
   "name": "python",
   "nbconvert_exporter": "python",
   "pygments_lexer": "ipython3",
   "version": "3.6.7"
  }
 },
 "nbformat": 4,
 "nbformat_minor": 2
}
