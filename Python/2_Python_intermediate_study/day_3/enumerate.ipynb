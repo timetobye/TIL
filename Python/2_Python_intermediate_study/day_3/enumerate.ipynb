{
 "cells": [
  {
   "cell_type": "markdown",
   "metadata": {},
   "source": [
    "### Python intermediate Stduy group\n",
    "\n",
    "## Reference : https://github.com/KaggleBreak/interpy-kr\n",
    "\n",
    "- 위 내용을 참고하여 재학습하였습니다."
   ]
  },
  {
   "cell_type": "markdown",
   "metadata": {},
   "source": [
    "# enumerate\n",
    "- 파이썬의 내장함수\n",
    "- 순서가 있는 자료형(리스트, 튜플, 문자열)을 입력으로 받아 인덱스 값을 포함하는 enumerate 객체를 리턴.\n",
    "- 보통 enumerate 함수는 for문과 함께 자주 사용.\n",
    "- for문처럼 반복되는 구간에서 객체가 현재 어느 위치에 있는지 알려주는 인덱스 값이 필요할때 enumerate 함수를 사용하면 매우 유용."
   ]
  },
  {
   "cell_type": "code",
   "execution_count": 2,
   "metadata": {},
   "outputs": [],
   "source": [
    "import collections"
   ]
  },
  {
   "cell_type": "code",
   "execution_count": 7,
   "metadata": {},
   "outputs": [
    {
     "name": "stdout",
     "output_type": "stream",
     "text": [
      "list is iterable :  True\n",
      "dict is iterable :  True\n",
      "set is iterable :  True\n",
      "string is iterable :  True\n",
      "bytes is iterable :  True\n",
      "tuple is iterable :  True\n",
      "range is iterable :  True\n",
      "--------------------------------------------------\n",
      "int is iterable :  False\n",
      "float is iterable :  False\n",
      "None is iterable :  False\n"
     ]
    }
   ],
   "source": [
    "# iterable type\n",
    "\n",
    "var_list = [1, 3, 5, 7]\n",
    "print(\"list is iterable : \", isinstance(var_list, collections.Iterable))\n",
    "\n",
    "var_dict = {\"a\": 1, \"b\":1}\n",
    "print(\"dict is iterable : \", isinstance(var_dict, collections.Iterable))\n",
    "\n",
    "var_set = {1, 3}\n",
    "print(\"set is iterable : \", isinstance(var_set, collections.Iterable))\n",
    "\n",
    "var_str = \"abc\"\n",
    "print(\"string is iterable : \", isinstance(var_str, collections.Iterable))\n",
    "\n",
    "var_bytes = b'abcdef'\n",
    "print(\"bytes is iterable : \", isinstance(var_bytes, collections.Iterable))\n",
    "\n",
    "var_tuple = (1, 3, 5, 7)\n",
    "print(\"tuple is iterable : \", isinstance(var_tuple, collections.Iterable))\n",
    "\n",
    "var_range = range(0,5)\n",
    "print(\"range is iterable : \", isinstance(var_range, collections.Iterable))\n",
    "print(\"-\" * 50)\n",
    "\n",
    "\n",
    "var_int = 932\n",
    "print(\"int is iterable : \", isinstance(var_int, collections.Iterable))\n",
    "\n",
    "var_float = 10.2\n",
    "print(\"float is iterable : \", isinstance(var_float, collections.Iterable))\n",
    "\n",
    "var_none = None\n",
    "print(\"None is iterable : \", isinstance(var_none, collections.Iterable))"
   ]
  },
  {
   "cell_type": "code",
   "execution_count": 8,
   "metadata": {},
   "outputs": [],
   "source": [
    "my_list = ['body', 'foo', 'bar']"
   ]
  },
  {
   "cell_type": "code",
   "execution_count": 9,
   "metadata": {},
   "outputs": [
    {
     "name": "stdout",
     "output_type": "stream",
     "text": [
      "0 body\n",
      "1 foo\n",
      "2 bar\n"
     ]
    }
   ],
   "source": [
    "# range 이용\n",
    "for i in range(len(my_list)):\n",
    "    item = my_list[i]\n",
    "    print(i, item)"
   ]
  },
  {
   "cell_type": "code",
   "execution_count": 10,
   "metadata": {},
   "outputs": [
    {
     "data": {
      "text/plain": [
       "True"
      ]
     },
     "execution_count": 10,
     "metadata": {},
     "output_type": "execute_result"
    }
   ],
   "source": [
    "isinstance(enumerate(my_list), collections.Iterable)"
   ]
  },
  {
   "cell_type": "code",
   "execution_count": 11,
   "metadata": {},
   "outputs": [
    {
     "name": "stdout",
     "output_type": "stream",
     "text": [
      "0 body\n",
      "1 foo\n",
      "2 bar\n"
     ]
    }
   ],
   "source": [
    "for i, name in enumerate(my_list):\n",
    "    print(i, name)"
   ]
  },
  {
   "cell_type": "markdown",
   "metadata": {},
   "source": [
    "- optional argument를 이용가능함\n",
    "\n",
    "```\n",
    "for i, value in enumerate(my_list, 1):\n",
    "    print(i, value)\n",
    "```"
   ]
  },
  {
   "cell_type": "code",
   "execution_count": 12,
   "metadata": {},
   "outputs": [
    {
     "name": "stdout",
     "output_type": "stream",
     "text": [
      "1 body\n",
      "2 foo\n",
      "3 bar\n"
     ]
    }
   ],
   "source": [
    "for c, value in enumerate(my_list, 1):\n",
    "    print(c, value)"
   ]
  },
  {
   "cell_type": "code",
   "execution_count": 13,
   "metadata": {},
   "outputs": [
    {
     "name": "stdout",
     "output_type": "stream",
     "text": [
      "3 body\n",
      "4 foo\n",
      "5 bar\n"
     ]
    }
   ],
   "source": [
    "for i, value in enumerate(my_list, 3):\n",
    "    print(i, value)"
   ]
  },
  {
   "cell_type": "code",
   "execution_count": 14,
   "metadata": {},
   "outputs": [],
   "source": [
    "def my_enumerate(sequence, start=0):\n",
    "    n = start\n",
    "    \n",
    "    for element in sequence:\n",
    "        yield n, element\n",
    "        n += 1"
   ]
  },
  {
   "cell_type": "code",
   "execution_count": 16,
   "metadata": {},
   "outputs": [
    {
     "data": {
      "text/plain": [
       "<generator object my_enumerate at 0x109550780>"
      ]
     },
     "execution_count": 16,
     "metadata": {},
     "output_type": "execute_result"
    }
   ],
   "source": [
    "my_enumerate(my_list, 1)"
   ]
  },
  {
   "cell_type": "code",
   "execution_count": 15,
   "metadata": {},
   "outputs": [
    {
     "name": "stdout",
     "output_type": "stream",
     "text": [
      "1 body\n",
      "2 foo\n",
      "3 bar\n"
     ]
    }
   ],
   "source": [
    "for i, value in my_enumerate(my_list, 1):\n",
    "    print(i, value)"
   ]
  },
  {
   "cell_type": "code",
   "execution_count": 17,
   "metadata": {},
   "outputs": [],
   "source": [
    "my_list = ['사과', '바나나', '포도', '배']\n",
    "\n",
    "counter_list = list(enumerate(my_list, 2))"
   ]
  },
  {
   "cell_type": "code",
   "execution_count": 19,
   "metadata": {},
   "outputs": [
    {
     "data": {
      "text/plain": [
       "[(2, '사과'), (3, '바나나'), (4, '포도'), (5, '배')]"
      ]
     },
     "execution_count": 19,
     "metadata": {},
     "output_type": "execute_result"
    }
   ],
   "source": [
    "counter_list"
   ]
  },
  {
   "cell_type": "code",
   "execution_count": null,
   "metadata": {},
   "outputs": [],
   "source": []
  }
 ],
 "metadata": {
  "kernelspec": {
   "display_name": "Python 3",
   "language": "python",
   "name": "python3"
  },
  "language_info": {
   "codemirror_mode": {
    "name": "ipython",
    "version": 3
   },
   "file_extension": ".py",
   "mimetype": "text/x-python",
   "name": "python",
   "nbconvert_exporter": "python",
   "pygments_lexer": "ipython3",
   "version": "3.6.7"
  }
 },
 "nbformat": 4,
 "nbformat_minor": 2
}
