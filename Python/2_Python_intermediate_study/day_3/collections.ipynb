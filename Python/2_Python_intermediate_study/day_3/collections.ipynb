{
 "cells": [
  {
   "cell_type": "markdown",
   "metadata": {},
   "source": [
    "# Python intermediate Stduy group\n",
    "\n",
    "## Reference : https://github.com/KaggleBreak/interpy-kr\n",
    "\n",
    "- 위 내용을 참고하여 재학습하였습니다."
   ]
  },
  {
   "cell_type": "markdown",
   "metadata": {},
   "source": [
    "# Collection 구성\n",
    "\n",
    "## collections 제공 요소\n",
    ": tuple, dict 에 대한 확장 데이터 구조를 제공\n",
    "\n",
    "|  <center>주요 요소</center> |  <center>설명</center> |  <center>추가된 버전</center> |\n",
    "|:--------|:--------|--------:|\n",
    "| <center>namedtuple()</center>  | Tuple 타입의 subclass를 만들어 주는 function | *New in version 2.6* |\n",
    "| <center>OrderedDict</center>  | dict subclass that remembers the order entries were added |*New in version 2.7* |\n",
    "| <center>Counter</center>  | dict subclass for counting hashable objects |*New in version 2.7* |\n",
    "| <center>defaultdict</center>  | dict subclass that calls a factory function to supply missing values |*New in version 2.7* |\n",
    "| <center>deque</center>  | list-like container with fast appends and pops on either end |*New in version 2.4* |"
   ]
  },
  {
   "cell_type": "markdown",
   "metadata": {},
   "source": [
    "## 1. tuple\n",
    "\n",
    "- tuple 타입은 immutable 타입으로 내부 원소에 대해 갱신이 불가능하여 리스트처리보다 제한적이다.\n",
    "- slicing은 string 처럼 처리 가능"
   ]
  },
  {
   "cell_type": "code",
   "execution_count": 2,
   "metadata": {},
   "outputs": [],
   "source": [
    "tuple_practice = (1, )"
   ]
  },
  {
   "cell_type": "code",
   "execution_count": 3,
   "metadata": {},
   "outputs": [
    {
     "name": "stdout",
     "output_type": "stream",
     "text": [
      "(1,)\n"
     ]
    }
   ],
   "source": [
    "print(tuple_practice)"
   ]
  },
  {
   "cell_type": "code",
   "execution_count": 5,
   "metadata": {},
   "outputs": [
    {
     "data": {
      "text/plain": [
       "(1, 2, 3, 4, 5, 6)"
      ]
     },
     "execution_count": 5,
     "metadata": {},
     "output_type": "execute_result"
    }
   ],
   "source": [
    "# concat tuple structure\n",
    "\n",
    "(1, 2, 3) + (4, 5, 6)"
   ]
  },
  {
   "cell_type": "code",
   "execution_count": 8,
   "metadata": {},
   "outputs": [
    {
     "data": {
      "text/plain": [
       "('Hi!', 'Hi!', 'Hi!', 'Hi!')"
      ]
     },
     "execution_count": 8,
     "metadata": {},
     "output_type": "execute_result"
    }
   ],
   "source": [
    "('Hi!',) * 4"
   ]
  },
  {
   "cell_type": "code",
   "execution_count": 9,
   "metadata": {},
   "outputs": [
    {
     "data": {
      "text/plain": [
       "'Hi!Hi!Hi!Hi!'"
      ]
     },
     "execution_count": 9,
     "metadata": {},
     "output_type": "execute_result"
    }
   ],
   "source": [
    "('Hi!') * 4"
   ]
  },
  {
   "cell_type": "code",
   "execution_count": 10,
   "metadata": {},
   "outputs": [
    {
     "data": {
      "text/plain": [
       "True"
      ]
     },
     "execution_count": 10,
     "metadata": {},
     "output_type": "execute_result"
    }
   ],
   "source": [
    "3 in (1, 2, 3)"
   ]
  },
  {
   "cell_type": "code",
   "execution_count": 11,
   "metadata": {},
   "outputs": [
    {
     "name": "stdout",
     "output_type": "stream",
     "text": [
      "1\n",
      "2\n",
      "4\n"
     ]
    }
   ],
   "source": [
    "for x in (1, 2, 4):\n",
    "    print(x)"
   ]
  },
  {
   "cell_type": "code",
   "execution_count": 12,
   "metadata": {},
   "outputs": [
    {
     "data": {
      "text/plain": [
       "1"
      ]
     },
     "execution_count": 12,
     "metadata": {},
     "output_type": "execute_result"
    }
   ],
   "source": [
    "t = (1, 2, 3, 4, 5)\n",
    "\n",
    "t.count(3)"
   ]
  },
  {
   "cell_type": "code",
   "execution_count": 14,
   "metadata": {},
   "outputs": [
    {
     "ename": "ValueError",
     "evalue": "tuple.index(x): x not in tuple",
     "output_type": "error",
     "traceback": [
      "\u001b[0;31m---------------------------------------------------------------------------\u001b[0m",
      "\u001b[0;31mValueError\u001b[0m                                Traceback (most recent call last)",
      "\u001b[0;32m<ipython-input-14-586cccc47b32>\u001b[0m in \u001b[0;36m<module>\u001b[0;34m()\u001b[0m\n\u001b[0;32m----> 1\u001b[0;31m \u001b[0mt\u001b[0m\u001b[0;34m.\u001b[0m\u001b[0mindex\u001b[0m\u001b[0;34m(\u001b[0m\u001b[0;36m0\u001b[0m\u001b[0;34m)\u001b[0m\u001b[0;34m\u001b[0m\u001b[0;34m\u001b[0m\u001b[0m\n\u001b[0m",
      "\u001b[0;31mValueError\u001b[0m: tuple.index(x): x not in tuple"
     ]
    }
   ],
   "source": [
    "t.index(0)"
   ]
  },
  {
   "cell_type": "code",
   "execution_count": 17,
   "metadata": {},
   "outputs": [
    {
     "name": "stdout",
     "output_type": "stream",
     "text": [
      "0 1 2 3 4\n"
     ]
    }
   ],
   "source": [
    "# 튜플 내의 원소의 위치를 보여준다. 1은 0 위치에 있다. 이렇게 이해하면 됨\n",
    "\n",
    "print(t.index(1), t.index(2), t.index(3), t.index(4), t.index(5))"
   ]
  },
  {
   "cell_type": "markdown",
   "metadata": {},
   "source": [
    "-----------------------------"
   ]
  },
  {
   "cell_type": "markdown",
   "metadata": {},
   "source": [
    "### 2. namedtuple\n",
    "- Tuple을 보다 명시적으로 사용하기 위해 index보다 name을 키로 이용하여 접근하기 위해 만든 별도의 function class\n",
    "- 여전히 불변\n",
    "- namedtuple 인스턴스는 인스턴스당 사전들을 가지지 않으므로, 일반 튜플보다 더 가볍고 메모리 사용량 줄일수 있음. dict보다 빠름."
   ]
  },
  {
   "cell_type": "code",
   "execution_count": 18,
   "metadata": {},
   "outputs": [],
   "source": [
    "from collections import namedtuple"
   ]
  },
  {
   "cell_type": "code",
   "execution_count": 19,
   "metadata": {},
   "outputs": [
    {
     "name": "stdout",
     "output_type": "stream",
     "text": [
      "Help on function namedtuple in module collections:\n",
      "\n",
      "namedtuple(typename, field_names, *, verbose=False, rename=False, module=None)\n",
      "    Returns a new subclass of tuple with named fields.\n",
      "    \n",
      "    >>> Point = namedtuple('Point', ['x', 'y'])\n",
      "    >>> Point.__doc__                   # docstring for the new class\n",
      "    'Point(x, y)'\n",
      "    >>> p = Point(11, y=22)             # instantiate with positional args or keywords\n",
      "    >>> p[0] + p[1]                     # indexable like a plain tuple\n",
      "    33\n",
      "    >>> x, y = p                        # unpack like a regular tuple\n",
      "    >>> x, y\n",
      "    (11, 22)\n",
      "    >>> p.x + p.y                       # fields also accessible by name\n",
      "    33\n",
      "    >>> d = p._asdict()                 # convert to a dictionary\n",
      "    >>> d['x']\n",
      "    11\n",
      "    >>> Point(**d)                      # convert from a dictionary\n",
      "    Point(x=11, y=22)\n",
      "    >>> p._replace(x=100)               # _replace() is like str.replace() but targets named fields\n",
      "    Point(x=100, y=22)\n",
      "\n"
     ]
    }
   ],
   "source": [
    "help(namedtuple)"
   ]
  },
  {
   "cell_type": "code",
   "execution_count": 20,
   "metadata": {},
   "outputs": [],
   "source": [
    "point = namedtuple('point', ['x', 'y'])"
   ]
  },
  {
   "cell_type": "code",
   "execution_count": 21,
   "metadata": {},
   "outputs": [
    {
     "name": "stdout",
     "output_type": "stream",
     "text": [
      "subclass check : True\n"
     ]
    }
   ],
   "source": [
    "print(f'subclass check : {issubclass(point, tuple)}')"
   ]
  },
  {
   "cell_type": "code",
   "execution_count": 22,
   "metadata": {},
   "outputs": [
    {
     "name": "stdout",
     "output_type": "stream",
     "text": [
      "point(x, y)\n"
     ]
    }
   ],
   "source": [
    "print(point.__doc__)"
   ]
  },
  {
   "cell_type": "code",
   "execution_count": 23,
   "metadata": {},
   "outputs": [
    {
     "data": {
      "text/plain": [
       "33"
      ]
     },
     "execution_count": 23,
     "metadata": {},
     "output_type": "execute_result"
    }
   ],
   "source": [
    "p = point(11, y=22)\n",
    "p[0] + p[1] "
   ]
  },
  {
   "cell_type": "code",
   "execution_count": 24,
   "metadata": {},
   "outputs": [
    {
     "data": {
      "text/plain": [
       "point(x=11, y=22)"
      ]
     },
     "execution_count": 24,
     "metadata": {},
     "output_type": "execute_result"
    }
   ],
   "source": [
    "p"
   ]
  },
  {
   "cell_type": "code",
   "execution_count": 26,
   "metadata": {},
   "outputs": [
    {
     "ename": "ValueError",
     "evalue": "Type names and field names cannot be a keyword: 'class'",
     "output_type": "error",
     "traceback": [
      "\u001b[0;31m---------------------------------------------------------------------------\u001b[0m",
      "\u001b[0;31mValueError\u001b[0m                                Traceback (most recent call last)",
      "\u001b[0;32m<ipython-input-26-a4a69352e4f5>\u001b[0m in \u001b[0;36m<module>\u001b[0;34m()\u001b[0m\n\u001b[1;32m      1\u001b[0m \u001b[0;31m# 필드명을 키워드로 정의시 에러 발생\u001b[0m\u001b[0;34m\u001b[0m\u001b[0;34m\u001b[0m\u001b[0;34m\u001b[0m\u001b[0m\n\u001b[1;32m      2\u001b[0m \u001b[0;34m\u001b[0m\u001b[0m\n\u001b[0;32m----> 3\u001b[0;31m \u001b[0mwith_class\u001b[0m \u001b[0;34m=\u001b[0m \u001b[0mnamedtuple\u001b[0m\u001b[0;34m(\u001b[0m\u001b[0;34m'Person'\u001b[0m\u001b[0;34m,\u001b[0m \u001b[0;34m'name class age gender'\u001b[0m\u001b[0;34m)\u001b[0m\u001b[0;34m\u001b[0m\u001b[0;34m\u001b[0m\u001b[0m\n\u001b[0m",
      "\u001b[0;32m~/anaconda3/lib/python3.6/collections/__init__.py\u001b[0m in \u001b[0;36mnamedtuple\u001b[0;34m(typename, field_names, verbose, rename, module)\u001b[0m\n\u001b[1;32m    402\u001b[0m         \u001b[0;32mif\u001b[0m \u001b[0m_iskeyword\u001b[0m\u001b[0;34m(\u001b[0m\u001b[0mname\u001b[0m\u001b[0;34m)\u001b[0m\u001b[0;34m:\u001b[0m\u001b[0;34m\u001b[0m\u001b[0;34m\u001b[0m\u001b[0m\n\u001b[1;32m    403\u001b[0m             raise ValueError('Type names and field names cannot be a '\n\u001b[0;32m--> 404\u001b[0;31m                              'keyword: %r' % name)\n\u001b[0m\u001b[1;32m    405\u001b[0m     \u001b[0mseen\u001b[0m \u001b[0;34m=\u001b[0m \u001b[0mset\u001b[0m\u001b[0;34m(\u001b[0m\u001b[0;34m)\u001b[0m\u001b[0;34m\u001b[0m\u001b[0;34m\u001b[0m\u001b[0m\n\u001b[1;32m    406\u001b[0m     \u001b[0;32mfor\u001b[0m \u001b[0mname\u001b[0m \u001b[0;32min\u001b[0m \u001b[0mfield_names\u001b[0m\u001b[0;34m:\u001b[0m\u001b[0;34m\u001b[0m\u001b[0;34m\u001b[0m\u001b[0m\n",
      "\u001b[0;31mValueError\u001b[0m: Type names and field names cannot be a keyword: 'class'"
     ]
    }
   ],
   "source": [
    "# 필드명을 키워드로 정의시 에러 발생\n",
    "\n",
    "with_class = namedtuple('Person', 'name class age gender')"
   ]
  },
  {
   "cell_type": "code",
   "execution_count": 28,
   "metadata": {},
   "outputs": [],
   "source": [
    "# rename = True로 정의하면 필드명이 중복이거나 명명이 불가한 경우 이름을 바꿈)\n",
    "\n",
    "with_class = namedtuple('Person', 'name class age gender', rename=True)"
   ]
  },
  {
   "cell_type": "code",
   "execution_count": 30,
   "metadata": {},
   "outputs": [
    {
     "name": "stdout",
     "output_type": "stream",
     "text": [
      "('name', '_1', 'age', 'gender')\n"
     ]
    }
   ],
   "source": [
    "print(with_class._fields)"
   ]
  },
  {
   "cell_type": "code",
   "execution_count": 32,
   "metadata": {},
   "outputs": [
    {
     "name": "stdout",
     "output_type": "stream",
     "text": [
      "a\n"
     ]
    }
   ],
   "source": [
    "a = with_class(\"dah1\", \"a\", 10, \"f\")\n",
    "print(a._1)"
   ]
  },
  {
   "cell_type": "code",
   "execution_count": 33,
   "metadata": {},
   "outputs": [
    {
     "name": "stdout",
     "output_type": "stream",
     "text": [
      "asdfqwerzxcv\n"
     ]
    }
   ],
   "source": [
    "a = with_class(\"dah1\", \"asdfqwerzxcv\", 10, \"f\")\n",
    "print(a._1)"
   ]
  },
  {
   "cell_type": "code",
   "execution_count": 35,
   "metadata": {},
   "outputs": [
    {
     "name": "stdout",
     "output_type": "stream",
     "text": [
      "('name', 'age', 'gender', '_3')\n"
     ]
    }
   ],
   "source": [
    "# 중복이 있을 때도 자동으로 명명해준다.\n",
    "\n",
    "two_ages = namedtuple('Person', 'name age gender age', rename=True)\n",
    "print(two_ages._fields)"
   ]
  },
  {
   "cell_type": "markdown",
   "metadata": {},
   "source": [
    "#### namedtuple 메소드"
   ]
  },
  {
   "cell_type": "code",
   "execution_count": 37,
   "metadata": {},
   "outputs": [
    {
     "name": "stdout",
     "output_type": "stream",
     "text": [
      "Type of person: <class 'type'>\n"
     ]
    }
   ],
   "source": [
    "person = namedtuple('Person', 'name age gender')\n",
    "print('Type of person:', type(person))"
   ]
  },
  {
   "cell_type": "code",
   "execution_count": 38,
   "metadata": {},
   "outputs": [
    {
     "name": "stdout",
     "output_type": "stream",
     "text": [
      "Person(name='Bob', age=30, gender='male')\n"
     ]
    }
   ],
   "source": [
    "bob = person(name='Bob', age=30, gender='male')\n",
    "print(bob)"
   ]
  },
  {
   "cell_type": "code",
   "execution_count": 39,
   "metadata": {},
   "outputs": [
    {
     "name": "stdout",
     "output_type": "stream",
     "text": [
      "('name', 'age', 'gender')\n"
     ]
    }
   ],
   "source": [
    "print(bob._fields)"
   ]
  },
  {
   "cell_type": "code",
   "execution_count": 41,
   "metadata": {},
   "outputs": [
    {
     "name": "stdout",
     "output_type": "stream",
     "text": [
      "OrderedDict([('name', 'Bob'), ('age', 30), ('gender', 'male')])\n"
     ]
    }
   ],
   "source": [
    "# orderd dict 타입으로 변환\n",
    "\n",
    "print(bob._asdict())"
   ]
  },
  {
   "cell_type": "code",
   "execution_count": 42,
   "metadata": {},
   "outputs": [
    {
     "name": "stdout",
     "output_type": "stream",
     "text": [
      "Jane\n",
      "Person(name='Jane', age=29, gender='female')\n"
     ]
    }
   ],
   "source": [
    "# 다른 인스턴스를 생성\n",
    "\n",
    "jane = bob._make(['Jane', 29, 'female'])\n",
    "print(jane.name)\n",
    "print(jane)"
   ]
  },
  {
   "cell_type": "code",
   "execution_count": 44,
   "metadata": {},
   "outputs": [
    {
     "name": "stdout",
     "output_type": "stream",
     "text": [
      "Type of Person: <class 'type'>\n",
      "\n",
      "Representation: Person(name='Bob', age=30, gender='male')\n",
      "Person(name='Bob', age=50, gender='male')\n",
      "1\n",
      "1\n"
     ]
    }
   ],
   "source": [
    "Person = namedtuple('Person', 'name age gender')\n",
    "print('Type of Person:', type(Person))\n",
    "\n",
    "bob = Person(name='Bob', age=30, gender='male')\n",
    "print('\\nRepresentation:', bob)\n",
    "\n",
    "# 변경된 튜플은 새로운 객체로 만듬\n",
    "bob = bob._replace(age=50)\n",
    "print(bob)\n",
    "print(bob.index(50))\n",
    "print(bob.count(50))"
   ]
  },
  {
   "cell_type": "markdown",
   "metadata": {},
   "source": [
    "----------------------------"
   ]
  },
  {
   "cell_type": "markdown",
   "metadata": {},
   "source": [
    "### 3. dict"
   ]
  },
  {
   "cell_type": "code",
   "execution_count": 45,
   "metadata": {},
   "outputs": [
    {
     "data": {
      "text/plain": [
       "{'k': 1, 'l': 2}"
      ]
     },
     "execution_count": 45,
     "metadata": {},
     "output_type": "execute_result"
    }
   ],
   "source": [
    "d = {\"k\" : 1, \"l\" : 2}\n",
    "d_copy = d.copy()\n",
    "d_copy"
   ]
  },
  {
   "cell_type": "code",
   "execution_count": 48,
   "metadata": {},
   "outputs": [
    {
     "data": {
      "text/plain": [
       "{'k': None, 'l': None}"
      ]
     },
     "execution_count": 48,
     "metadata": {},
     "output_type": "execute_result"
    }
   ],
   "source": [
    "# dict 객체의 키를 새로운 dict객체를 생성하는 키로 처리\n",
    "\n",
    "d_fromkeys = d.fromkeys(d)\n",
    "d_fromkeys"
   ]
  },
  {
   "cell_type": "code",
   "execution_count": 49,
   "metadata": {},
   "outputs": [
    {
     "name": "stdout",
     "output_type": "stream",
     "text": [
      "1\n"
     ]
    }
   ],
   "source": [
    "# 키를 가지고 dict 의 값을 가져옴\n",
    "\n",
    "print(d.get('k'))"
   ]
  },
  {
   "cell_type": "code",
   "execution_count": 50,
   "metadata": {},
   "outputs": [
    {
     "name": "stdout",
     "output_type": "stream",
     "text": [
      "1\n"
     ]
    }
   ],
   "source": [
    "print(d['k'])"
   ]
  },
  {
   "cell_type": "code",
   "execution_count": 51,
   "metadata": {},
   "outputs": [
    {
     "name": "stdout",
     "output_type": "stream",
     "text": [
      "None\n"
     ]
    }
   ],
   "source": [
    "print(d.get('a'))"
   ]
  },
  {
   "cell_type": "code",
   "execution_count": 52,
   "metadata": {},
   "outputs": [
    {
     "ename": "KeyError",
     "evalue": "'a'",
     "output_type": "error",
     "traceback": [
      "\u001b[0;31m---------------------------------------------------------------------------\u001b[0m",
      "\u001b[0;31mKeyError\u001b[0m                                  Traceback (most recent call last)",
      "\u001b[0;32m<ipython-input-52-01eabc1db271>\u001b[0m in \u001b[0;36m<module>\u001b[0;34m()\u001b[0m\n\u001b[0;32m----> 1\u001b[0;31m \u001b[0mprint\u001b[0m\u001b[0;34m(\u001b[0m\u001b[0md\u001b[0m\u001b[0;34m[\u001b[0m\u001b[0;34m'a'\u001b[0m\u001b[0;34m]\u001b[0m\u001b[0;34m)\u001b[0m\u001b[0;34m\u001b[0m\u001b[0;34m\u001b[0m\u001b[0m\n\u001b[0m",
      "\u001b[0;31mKeyError\u001b[0m: 'a'"
     ]
    }
   ],
   "source": [
    "print(d['a'])"
   ]
  },
  {
   "cell_type": "markdown",
   "metadata": {},
   "source": [
    "그러니 우리는 get을 써서 에러를 막아야한다."
   ]
  },
  {
   "cell_type": "code",
   "execution_count": 53,
   "metadata": {},
   "outputs": [
    {
     "name": "stdout",
     "output_type": "stream",
     "text": [
      "dict_items([('k', 1), ('l', 2)])\n"
     ]
    }
   ],
   "source": [
    "print(d.items())"
   ]
  },
  {
   "cell_type": "code",
   "execution_count": 54,
   "metadata": {},
   "outputs": [
    {
     "data": {
      "text/plain": [
       "dict_keys(['k', 'l'])"
      ]
     },
     "execution_count": 54,
     "metadata": {},
     "output_type": "execute_result"
    }
   ],
   "source": [
    "d.keys()"
   ]
  },
  {
   "cell_type": "code",
   "execution_count": 56,
   "metadata": {},
   "outputs": [
    {
     "data": {
      "text/plain": [
       "['k', 'l']"
      ]
     },
     "execution_count": 56,
     "metadata": {},
     "output_type": "execute_result"
    }
   ],
   "source": [
    "list(d.keys())"
   ]
  },
  {
   "cell_type": "code",
   "execution_count": 57,
   "metadata": {},
   "outputs": [
    {
     "name": "stdout",
     "output_type": "stream",
     "text": [
      "{'k': 1, 'l': 2, 's': 3}\n"
     ]
    }
   ],
   "source": [
    "# dict 내의 키와 값을 추가\n",
    "\n",
    "d.setdefault('s', 3)\n",
    "print(d)"
   ]
  },
  {
   "cell_type": "code",
   "execution_count": 58,
   "metadata": {},
   "outputs": [
    {
     "name": "stdout",
     "output_type": "stream",
     "text": [
      "{'k': 1, 'l': 2, 's': 3, 't': 5}\n"
     ]
    }
   ],
   "source": [
    "d['t'] = 5\n",
    "print(d)"
   ]
  },
  {
   "cell_type": "code",
   "execution_count": 59,
   "metadata": {},
   "outputs": [
    {
     "name": "stdout",
     "output_type": "stream",
     "text": [
      "{'k': 1, 'l': 2, 's': 3, 't': 5, 1: 1}\n"
     ]
    }
   ],
   "source": [
    "d.update({1: 1})\n",
    "print(d)"
   ]
  },
  {
   "cell_type": "code",
   "execution_count": 60,
   "metadata": {},
   "outputs": [
    {
     "data": {
      "text/plain": [
       "dict_values([1, 2, 3, 5, 1])"
      ]
     },
     "execution_count": 60,
     "metadata": {},
     "output_type": "execute_result"
    }
   ],
   "source": [
    "d.values()"
   ]
  },
  {
   "cell_type": "code",
   "execution_count": 61,
   "metadata": {},
   "outputs": [
    {
     "name": "stdout",
     "output_type": "stream",
     "text": [
      "{'k': 1, 'l': 2, 's': 3, 't': 5, 1: 1}\n"
     ]
    }
   ],
   "source": [
    "print(d)"
   ]
  },
  {
   "cell_type": "code",
   "execution_count": 62,
   "metadata": {},
   "outputs": [
    {
     "name": "stdout",
     "output_type": "stream",
     "text": [
      "{'k': 1, 'l': 2, 's': 3, 't': 5, 1: 1}\n",
      "3\n"
     ]
    }
   ],
   "source": [
    "print(d)\n",
    "print(d.pop('s')) # dict내의 원소를 삭제"
   ]
  },
  {
   "cell_type": "code",
   "execution_count": 63,
   "metadata": {},
   "outputs": [
    {
     "data": {
      "text/plain": [
       "{'k': 1, 'l': 2, 't': 5, 1: 1}"
      ]
     },
     "execution_count": 63,
     "metadata": {},
     "output_type": "execute_result"
    }
   ],
   "source": [
    "d"
   ]
  },
  {
   "cell_type": "code",
   "execution_count": 64,
   "metadata": {},
   "outputs": [
    {
     "data": {
      "text/plain": [
       "{}"
      ]
     },
     "execution_count": 64,
     "metadata": {},
     "output_type": "execute_result"
    }
   ],
   "source": [
    "d = {\"k\":1, \"l\":2}\n",
    "d.clear()   # dict 객체 내 요소들 클리어\n",
    "d"
   ]
  },
  {
   "cell_type": "markdown",
   "metadata": {},
   "source": [
    "-------------------------------"
   ]
  },
  {
   "cell_type": "markdown",
   "metadata": {},
   "source": [
    "### 4. OrderedDict\n",
    "\n",
    "- OrderedDict는 dict의 subclass로써 새로운 인스턴스를 만드는 클래스.  \n",
    "- 기존 키의 값을 덮어 쓰더라도 해당 키의 위치는 변하지 않음.  \n",
    "- 항목을 삭제했다가 다시 삽입하면 키가 사전 끝으로 이동.\n",
    "- collections.OrderedDict는 순서를 유지하기 위해 linked list로 내부에 구성되어 각 순서를 유지함"
   ]
  },
  {
   "cell_type": "code",
   "execution_count": 65,
   "metadata": {},
   "outputs": [],
   "source": [
    "import collections"
   ]
  },
  {
   "cell_type": "code",
   "execution_count": 66,
   "metadata": {},
   "outputs": [
    {
     "name": "stdout",
     "output_type": "stream",
     "text": [
      "Help on class OrderedDict in module collections:\n",
      "\n",
      "class OrderedDict(builtins.dict)\n",
      " |  Dictionary that remembers insertion order\n",
      " |  \n",
      " |  Method resolution order:\n",
      " |      OrderedDict\n",
      " |      builtins.dict\n",
      " |      builtins.object\n",
      " |  \n",
      " |  Methods defined here:\n",
      " |  \n",
      " |  __delitem__(self, key, /)\n",
      " |      Delete self[key].\n",
      " |  \n",
      " |  __eq__(self, value, /)\n",
      " |      Return self==value.\n",
      " |  \n",
      " |  __ge__(self, value, /)\n",
      " |      Return self>=value.\n",
      " |  \n",
      " |  __gt__(self, value, /)\n",
      " |      Return self>value.\n",
      " |  \n",
      " |  __init__(self, /, *args, **kwargs)\n",
      " |      Initialize self.  See help(type(self)) for accurate signature.\n",
      " |  \n",
      " |  __iter__(self, /)\n",
      " |      Implement iter(self).\n",
      " |  \n",
      " |  __le__(self, value, /)\n",
      " |      Return self<=value.\n",
      " |  \n",
      " |  __lt__(self, value, /)\n",
      " |      Return self<value.\n",
      " |  \n",
      " |  __ne__(self, value, /)\n",
      " |      Return self!=value.\n",
      " |  \n",
      " |  __new__(*args, **kwargs) from builtins.type\n",
      " |      Create and return a new object.  See help(type) for accurate signature.\n",
      " |  \n",
      " |  __reduce__(...)\n",
      " |      Return state information for pickling\n",
      " |  \n",
      " |  __repr__(self, /)\n",
      " |      Return repr(self).\n",
      " |  \n",
      " |  __reversed__(...)\n",
      " |      od.__reversed__() <==> reversed(od)\n",
      " |  \n",
      " |  __setitem__(self, key, value, /)\n",
      " |      Set self[key] to value.\n",
      " |  \n",
      " |  __sizeof__(...)\n",
      " |      D.__sizeof__() -> size of D in memory, in bytes\n",
      " |  \n",
      " |  clear(...)\n",
      " |      od.clear() -> None.  Remove all items from od.\n",
      " |  \n",
      " |  copy(...)\n",
      " |      od.copy() -> a shallow copy of od\n",
      " |  \n",
      " |  fromkeys(...) from builtins.type\n",
      " |      OD.fromkeys(S[, v]) -> New ordered dictionary with keys from S.\n",
      " |      If not specified, the value defaults to None.\n",
      " |  \n",
      " |  items(...)\n",
      " |      D.items() -> a set-like object providing a view on D's items\n",
      " |  \n",
      " |  keys(...)\n",
      " |      D.keys() -> a set-like object providing a view on D's keys\n",
      " |  \n",
      " |  move_to_end(...)\n",
      " |      Move an existing element to the end (or beginning if last==False).\n",
      " |      \n",
      " |      Raises KeyError if the element does not exist.\n",
      " |      When last=True, acts like a fast version of self[key]=self.pop(key).\n",
      " |  \n",
      " |  pop(...)\n",
      " |      od.pop(k[,d]) -> v, remove specified key and return the corresponding\n",
      " |      value.  If key is not found, d is returned if given, otherwise KeyError\n",
      " |      is raised.\n",
      " |  \n",
      " |  popitem(self, /, last=True)\n",
      " |      Remove and return a (key, value) pair from the dictionary.\n",
      " |      \n",
      " |      Pairs are returned in LIFO order if last is true or FIFO order if false.\n",
      " |  \n",
      " |  setdefault(...)\n",
      " |      od.setdefault(k[,d]) -> od.get(k,d), also set od[k]=d if k not in od\n",
      " |  \n",
      " |  update(...)\n",
      " |      D.update([E, ]**F) -> None.  Update D from dict/iterable E and F.\n",
      " |      If E is present and has a .keys() method, then does:  for k in E: D[k] = E[k]\n",
      " |      If E is present and lacks a .keys() method, then does:  for k, v in E: D[k] = v\n",
      " |      In either case, this is followed by: for k in F:  D[k] = F[k]\n",
      " |  \n",
      " |  values(...)\n",
      " |      D.values() -> an object providing a view on D's values\n",
      " |  \n",
      " |  ----------------------------------------------------------------------\n",
      " |  Data descriptors defined here:\n",
      " |  \n",
      " |  __dict__\n",
      " |  \n",
      " |  ----------------------------------------------------------------------\n",
      " |  Data and other attributes defined here:\n",
      " |  \n",
      " |  __hash__ = None\n",
      " |  \n",
      " |  ----------------------------------------------------------------------\n",
      " |  Methods inherited from builtins.dict:\n",
      " |  \n",
      " |  __contains__(self, key, /)\n",
      " |      True if D has a key k, else False.\n",
      " |  \n",
      " |  __getattribute__(self, name, /)\n",
      " |      Return getattr(self, name).\n",
      " |  \n",
      " |  __getitem__(...)\n",
      " |      x.__getitem__(y) <==> x[y]\n",
      " |  \n",
      " |  __len__(self, /)\n",
      " |      Return len(self).\n",
      " |  \n",
      " |  get(...)\n",
      " |      D.get(k[,d]) -> D[k] if k in D, else d.  d defaults to None.\n",
      "\n"
     ]
    }
   ],
   "source": [
    "help(collections.OrderedDict)"
   ]
  },
  {
   "cell_type": "code",
   "execution_count": 67,
   "metadata": {},
   "outputs": [
    {
     "name": "stdout",
     "output_type": "stream",
     "text": [
      "banana 3\n",
      "pear 4\n",
      "orange 1\n",
      "apple 2\n"
     ]
    }
   ],
   "source": [
    "d = {'banana':3, 'pear':4, 'orange':1, 'apple':2}\n",
    "\n",
    "# dictionary sorted by key\n",
    "\n",
    "for key, value in d.items():\n",
    "    print(key, value)"
   ]
  },
  {
   "cell_type": "code",
   "execution_count": 68,
   "metadata": {},
   "outputs": [
    {
     "name": "stdout",
     "output_type": "stream",
     "text": [
      "[('apple', 2), ('banana', 3), ('orange', 1), ('pear', 4)]\n"
     ]
    }
   ],
   "source": [
    "print(sorted(d.items(), key = lambda x : x[0]))"
   ]
  },
  {
   "cell_type": "code",
   "execution_count": 69,
   "metadata": {},
   "outputs": [],
   "source": [
    "from collections import OrderedDict"
   ]
  },
  {
   "cell_type": "code",
   "execution_count": 70,
   "metadata": {},
   "outputs": [
    {
     "name": "stdout",
     "output_type": "stream",
     "text": [
      "OrderedDict([('apple', 2), ('banana', 3), ('orange', 1), ('pear', 4)])\n"
     ]
    }
   ],
   "source": [
    "ordered_dict = OrderedDict(sorted(d.items(), key=lambda x : x[0]))\n",
    "print(ordered_dict)"
   ]
  },
  {
   "cell_type": "markdown",
   "metadata": {},
   "source": [
    "### OrderedDict - pop 메소드 "
   ]
  },
  {
   "cell_type": "code",
   "execution_count": 71,
   "metadata": {},
   "outputs": [
    {
     "name": "stdout",
     "output_type": "stream",
     "text": [
      "{'a': 1, 'b': 2}\n"
     ]
    }
   ],
   "source": [
    "practice_dict = {}\n",
    "\n",
    "practice_dict['a'] = 1\n",
    "practice_dict['b'] = 2\n",
    "\n",
    "print(practice_dict)"
   ]
  },
  {
   "cell_type": "code",
   "execution_count": 72,
   "metadata": {},
   "outputs": [
    {
     "name": "stdout",
     "output_type": "stream",
     "text": [
      "OrderedDict([('b', 2), ('a', 1)])\n"
     ]
    }
   ],
   "source": [
    "ordered_practice_dict = OrderedDict({'b':2, 'a':1})\n",
    "print(ordered_practice_dict)"
   ]
  },
  {
   "cell_type": "code",
   "execution_count": 73,
   "metadata": {},
   "outputs": [
    {
     "name": "stdout",
     "output_type": "stream",
     "text": [
      "2\n",
      "OrderedDict([('a', 1)])\n"
     ]
    }
   ],
   "source": [
    "print(ordered_practice_dict.pop('b'))\n",
    "print(ordered_practice_dict)"
   ]
  },
  {
   "cell_type": "code",
   "execution_count": 75,
   "metadata": {},
   "outputs": [
    {
     "name": "stdout",
     "output_type": "stream",
     "text": [
      "2\n",
      "{'a': 1}\n"
     ]
    }
   ],
   "source": [
    "print(practice_dict.pop('b'))\n",
    "print(practice_dict)"
   ]
  },
  {
   "cell_type": "markdown",
   "metadata": {},
   "source": [
    "### OrderedDict - move_to_end 메소드\n",
    "- collections.OrderedDict는 순서를 유지하고 있어서 dict타입처럼 처리하기 위해서는 move_to_end 메소드를 이용해서 처리\n",
    "- OrderedDict.move_to_end() 메소드는 key가 존재할 경우, (key,value)를 맨 오른쪽(뒤) 또는 맨 왼쪽(앞)으로 이동해주는 메소드이다. move_to_end(key, last=True)의 인자인 last=는 True 일 경우 맨 오른쪽(뒤)로 이동하고, False 인 경우 맨 왼쪽(앞)으로 이동한다.\n",
    "\n",
    "출처: https://excelsior-cjh.tistory.com/98 [EXCELSIOR]"
   ]
  },
  {
   "cell_type": "code",
   "execution_count": 79,
   "metadata": {},
   "outputs": [
    {
     "data": {
      "text/plain": [
       "{}"
      ]
     },
     "execution_count": 79,
     "metadata": {},
     "output_type": "execute_result"
    }
   ],
   "source": [
    "practice_dict.clear()\n",
    "practice_dict"
   ]
  },
  {
   "cell_type": "code",
   "execution_count": 80,
   "metadata": {},
   "outputs": [
    {
     "name": "stdout",
     "output_type": "stream",
     "text": [
      "OrderedDict([('a', '1'), ('b', '2'), ('c', '3')])\n"
     ]
    }
   ],
   "source": [
    "practice_dict = OrderedDict([('a', '1'), ('b', '2')])\n",
    "practice_dict.update({'c' : '3'})\n",
    "print(practice_dict)"
   ]
  },
  {
   "cell_type": "code",
   "execution_count": 81,
   "metadata": {},
   "outputs": [
    {
     "name": "stdout",
     "output_type": "stream",
     "text": [
      "OrderedDict([('c', '3'), ('a', '1'), ('b', '2')])\n"
     ]
    }
   ],
   "source": [
    "practice_dict.move_to_end('c', last=False)\n",
    "print(practice_dict)"
   ]
  },
  {
   "cell_type": "code",
   "execution_count": 82,
   "metadata": {},
   "outputs": [
    {
     "data": {
      "text/plain": [
       "\u001b[0;31mDocstring:\u001b[0m\n",
       "Move an existing element to the end (or beginning if last==False).\n",
       "\n",
       "Raises KeyError if the element does not exist.\n",
       "When last=True, acts like a fast version of self[key]=self.pop(key).\n",
       "\u001b[0;31mType:\u001b[0m      builtin_function_or_method\n"
      ]
     },
     "metadata": {},
     "output_type": "display_data"
    }
   ],
   "source": [
    "practice_dict.move_to_end?"
   ]
  },
  {
   "cell_type": "code",
   "execution_count": 88,
   "metadata": {},
   "outputs": [
    {
     "name": "stdout",
     "output_type": "stream",
     "text": [
      "OrderedDict([('a', '1'), ('b', '2'), ('c', '3')])\n"
     ]
    }
   ],
   "source": [
    "practice_dict.move_to_end('a', last=False)\n",
    "print(practice_dict)"
   ]
  },
  {
   "cell_type": "code",
   "execution_count": 89,
   "metadata": {},
   "outputs": [
    {
     "name": "stdout",
     "output_type": "stream",
     "text": [
      "OrderedDict([('b', '2'), ('c', '3'), ('a', '1')])\n"
     ]
    }
   ],
   "source": [
    "practice_dict.move_to_end('a', last=True)\n",
    "print(practice_dict)"
   ]
  },
  {
   "cell_type": "markdown",
   "metadata": {},
   "source": [
    "- OrderedDict 클래스에서 순서가 다르면 다른것으로 인식함"
   ]
  },
  {
   "cell_type": "code",
   "execution_count": 90,
   "metadata": {},
   "outputs": [
    {
     "name": "stdout",
     "output_type": "stream",
     "text": [
      "OrderedDict([('name', 'name'), ('age', 30)])\n",
      "name\n"
     ]
    }
   ],
   "source": [
    "practice_dict_one = OrderedDict(name = 'name', age = 30)\n",
    "print(practice_dict_one)\n",
    "print(practice_dict_one['name'])"
   ]
  },
  {
   "cell_type": "code",
   "execution_count": 95,
   "metadata": {},
   "outputs": [
    {
     "name": "stdout",
     "output_type": "stream",
     "text": [
      "OrderedDict([('age', 30), ('name', 'name')])\n",
      "name\n"
     ]
    }
   ],
   "source": [
    "practice_dict_two = OrderedDict(age = 30, name = 'name')\n",
    "print(practice_dict_two)\n",
    "print(practice_dict_two['name'])"
   ]
  },
  {
   "cell_type": "code",
   "execution_count": 96,
   "metadata": {},
   "outputs": [
    {
     "name": "stdout",
     "output_type": "stream",
     "text": [
      "False\n"
     ]
    }
   ],
   "source": [
    "# compare two things.....\n",
    "\n",
    "print(practice_dict_one == practice_dict_two)"
   ]
  },
  {
   "cell_type": "code",
   "execution_count": 97,
   "metadata": {},
   "outputs": [
    {
     "name": "stdout",
     "output_type": "stream",
     "text": [
      "None\n",
      "OrderedDict([('name', 'name'), ('age', 30)])\n"
     ]
    }
   ],
   "source": [
    "print(practice_dict_two.move_to_end('name', last=False))\n",
    "print(practice_dict_two)"
   ]
  },
  {
   "cell_type": "code",
   "execution_count": 98,
   "metadata": {},
   "outputs": [
    {
     "name": "stdout",
     "output_type": "stream",
     "text": [
      "True\n"
     ]
    }
   ],
   "source": [
    "# re - compare two things.....\n",
    "\n",
    "print(practice_dict_one == practice_dict_two)"
   ]
  },
  {
   "cell_type": "markdown",
   "metadata": {},
   "source": [
    "-------------------------"
   ]
  },
  {
   "cell_type": "markdown",
   "metadata": {},
   "source": [
    "### 5. Counter\n",
    "\n",
    "- Counter는 dict의 subclass로써 새로운 인스턴스를 만드는 클래스\n",
    "- 특정 아이템의 개수를 세는 함수"
   ]
  },
  {
   "cell_type": "markdown",
   "metadata": {},
   "source": [
    "#### COUNTER 생성 예시\n",
    "- Counter 클래스로 생성하는 이유는 실제 키값들에 연속된 상황 확인이 필요한 경우 사용"
   ]
  },
  {
   "cell_type": "code",
   "execution_count": 99,
   "metadata": {},
   "outputs": [],
   "source": [
    "from collections import Counter"
   ]
  },
  {
   "cell_type": "code",
   "execution_count": 100,
   "metadata": {},
   "outputs": [
    {
     "data": {
      "text/plain": [
       "Counter({'a': 2, 't': 2, 'c': 1, 'k': 1, 'e': 1, 'd': 1})"
      ]
     },
     "execution_count": 100,
     "metadata": {},
     "output_type": "execute_result"
    }
   ],
   "source": [
    "Counter(\"attacked\")"
   ]
  },
  {
   "cell_type": "code",
   "execution_count": 101,
   "metadata": {},
   "outputs": [
    {
     "data": {
      "text/plain": [
       "Counter({1: 3, 2: 4})"
      ]
     },
     "execution_count": 101,
     "metadata": {},
     "output_type": "execute_result"
    }
   ],
   "source": [
    "Counter({1:3, 2:4})"
   ]
  },
  {
   "cell_type": "code",
   "execution_count": 102,
   "metadata": {},
   "outputs": [
    {
     "data": {
      "text/plain": [
       "Counter({(1, 3): 1, (2, 4): 1})"
      ]
     },
     "execution_count": 102,
     "metadata": {},
     "output_type": "execute_result"
    }
   ],
   "source": [
    "Counter({1:3, 2:4}.items())"
   ]
  },
  {
   "cell_type": "code",
   "execution_count": 103,
   "metadata": {},
   "outputs": [
    {
     "data": {
      "text/plain": [
       "Counter({1: 1, 4: 1, 3: 1})"
      ]
     },
     "execution_count": 103,
     "metadata": {},
     "output_type": "execute_result"
    }
   ],
   "source": [
    "Counter([1, 4, 3])"
   ]
  },
  {
   "cell_type": "code",
   "execution_count": 104,
   "metadata": {},
   "outputs": [
    {
     "data": {
      "text/plain": [
       "Counter({'a': 2, 'b': 1, 'c': 1, 'd': 3})"
      ]
     },
     "execution_count": 104,
     "metadata": {},
     "output_type": "execute_result"
    }
   ],
   "source": [
    "Counter(['a', 'a', 'b', 'c', 'd', 'd', 'd'])"
   ]
  },
  {
   "cell_type": "markdown",
   "metadata": {},
   "source": [
    "#### Counter 추가 메서드"
   ]
  },
  {
   "cell_type": "code",
   "execution_count": 105,
   "metadata": {},
   "outputs": [
    {
     "name": "stdout",
     "output_type": "stream",
     "text": [
      "Counter({1: 1, 2: 1, 3: 1, 4: 1})\n",
      "Counter({2: 4, 1: 2})\n"
     ]
    }
   ],
   "source": [
    "a1 = Counter([1,2,3,4])\n",
    "a2 = Counter({1:2, 2:4})\n",
    "print(a1)\n",
    "print(a2)"
   ]
  },
  {
   "cell_type": "code",
   "execution_count": 107,
   "metadata": {},
   "outputs": [
    {
     "name": "stdout",
     "output_type": "stream",
     "text": [
      "<itertools.chain object at 0x1107c90b8>\n",
      "[1, 2, 3, 4]\n"
     ]
    }
   ],
   "source": [
    "# Counter 인스턴스의 요소를 counter 개수만큼 보여줌\n",
    "\n",
    "print(a1.elements())\n",
    "print(list(a1.elements()))"
   ]
  },
  {
   "cell_type": "code",
   "execution_count": 108,
   "metadata": {},
   "outputs": [
    {
     "name": "stdout",
     "output_type": "stream",
     "text": [
      "[1, 1, 2, 2, 2, 2]\n",
      "[(2, 4), (1, 2)]\n"
     ]
    }
   ],
   "source": [
    "# Counter 인스턴스의 값을 튜플로 key/value를 묶어서 리스트로 보여줌\n",
    "\n",
    "print(list(a2.elements()))\n",
    "print(a2.most_common())"
   ]
  },
  {
   "cell_type": "code",
   "execution_count": 109,
   "metadata": {},
   "outputs": [
    {
     "name": "stdout",
     "output_type": "stream",
     "text": [
      "[('d', 3), ('a', 2), ('b', 1), ('c', 1)]\n"
     ]
    }
   ],
   "source": [
    "sample_Counter = Counter(['a', 'a', 'b', 'c', 'd', 'd', 'd'])\n",
    "\n",
    "print(sample_Counter.most_common())"
   ]
  },
  {
   "cell_type": "code",
   "execution_count": 110,
   "metadata": {},
   "outputs": [
    {
     "name": "stdout",
     "output_type": "stream",
     "text": [
      "Counter({2: 3, 1: 1, 3: -1, 4: -1})\n",
      "Counter({2: 4, 1: 2})\n"
     ]
    }
   ],
   "source": [
    "# Counter 인스턴스들간에 값을 뺌\n",
    "\n",
    "a2.subtract(a1)\n",
    "print(a2)\n",
    "print(a2+a1)"
   ]
  },
  {
   "cell_type": "code",
   "execution_count": 111,
   "metadata": {},
   "outputs": [
    {
     "name": "stdout",
     "output_type": "stream",
     "text": [
      "s1 :  Counter({'a': 2, 'b': 2, 'e': 2, 'c': 1, 'd': 1})\n",
      "s2 :  Counter({'d': 1, 'e': 1, 'f': 1, 'a': 1, 'b': 1, 'c': 1})\n",
      "s1 + s2 :  Counter({'a': 3, 'b': 3, 'e': 3, 'c': 2, 'd': 2, 'f': 1})\n",
      "s1 - s2 :  Counter({'a': 1, 'b': 1, 'e': 1})\n",
      "s2 - s1 :  Counter({'f': 1})\n",
      "--------------------------------------------------\n",
      "s1 & s2 :  Counter({'a': 1, 'b': 1, 'c': 1, 'e': 1, 'd': 1})\n",
      "s1 | s2 :  Counter({'a': 2, 'b': 2, 'e': 2, 'c': 1, 'd': 1, 'f': 1})\n"
     ]
    }
   ],
   "source": [
    "s1 = Counter(\"abceabde\")\n",
    "s2 = Counter(\"defabc\")\n",
    "print(\"s1 : \", s1)\n",
    "print(\"s2 : \", s2)\n",
    "\n",
    "# Counter 더하기\n",
    "s_add = s1 + s2\n",
    "print(\"s1 + s2 : \", s_add)\n",
    "\n",
    "# Counter 빼기\n",
    "s_sub = s1 - s2\n",
    "print(\"s1 - s2 : \", s_sub)\n",
    "\n",
    "s_sub2 = s2 - s1\n",
    "print(\"s2 - s1 : \", s_sub2)\n",
    "print('-' * 50)\n",
    "\n",
    "#교집합\n",
    "s_intersection = s1 & s2\n",
    "print(\"s1 & s2 : \", s_intersection)\n",
    "# 합집합\n",
    "s_union = s1 | s2\n",
    "print(\"s1 | s2 : \", s_union)"
   ]
  },
  {
   "cell_type": "markdown",
   "metadata": {},
   "source": [
    "#### Counter 인스턴스는 dict 타입처럼 키를 통해 접근 가능"
   ]
  },
  {
   "cell_type": "code",
   "execution_count": 112,
   "metadata": {},
   "outputs": [
    {
     "name": "stdout",
     "output_type": "stream",
     "text": [
      "Counter({'a': 2, 'b': 2, 'e': 2, 'c': 1, 'd': 1})\n",
      "--------------------------------------------------\n"
     ]
    }
   ],
   "source": [
    "alphabet_string = Counter(\"abceabde\")\n",
    "print(alphabet_string)\n",
    "print('-'*50)"
   ]
  },
  {
   "cell_type": "code",
   "execution_count": 113,
   "metadata": {},
   "outputs": [
    {
     "name": "stdout",
     "output_type": "stream",
     "text": [
      "a  :  2\n",
      "b  :  2\n",
      "c  :  1\n",
      "d  :  1\n",
      "e  :  2\n",
      "f  :  0\n",
      "alphabet_string element  ['a', 'a', 'b', 'b', 'c', 'e', 'e', 'd']\n"
     ]
    }
   ],
   "source": [
    "for item in \"abcdef\":\n",
    "    print(item, \" : \", alphabet_string[item])\n",
    "    \n",
    "print(\"alphabet_string element \", [alphabet for alphabet in alphabet_string.elements()])"
   ]
  },
  {
   "cell_type": "code",
   "execution_count": 114,
   "metadata": {},
   "outputs": [
    {
     "data": {
      "text/plain": [
       "['a', 'a', 'b', 'b', 'c', 'e', 'e', 'd']"
      ]
     },
     "execution_count": 114,
     "metadata": {},
     "output_type": "execute_result"
    }
   ],
   "source": [
    "list(alphabet_string.elements())"
   ]
  },
  {
   "cell_type": "markdown",
   "metadata": {},
   "source": [
    "-------------------------------------------"
   ]
  },
  {
   "cell_type": "markdown",
   "metadata": {},
   "source": [
    "### 6. defaultdict\n",
    "- dict의 subclass로써 새로운 인스턴스를 만드는 클래스\n",
    "- dict와는 달리 key값의 존재 유무를 확인할 필요가 없음"
   ]
  },
  {
   "cell_type": "code",
   "execution_count": 115,
   "metadata": {},
   "outputs": [
    {
     "data": {
      "text/plain": [
       "True"
      ]
     },
     "execution_count": 115,
     "metadata": {},
     "output_type": "execute_result"
    }
   ],
   "source": [
    "issubclass(collections.defaultdict, dict)"
   ]
  },
  {
   "cell_type": "code",
   "execution_count": 117,
   "metadata": {},
   "outputs": [],
   "source": [
    "from collections import defaultdict"
   ]
  },
  {
   "cell_type": "code",
   "execution_count": 122,
   "metadata": {},
   "outputs": [
    {
     "name": "stdout",
     "output_type": "stream",
     "text": [
      "Help on member descriptor collections.defaultdict.default_factory:\n",
      "\n",
      "default_factory\n",
      "    Factory for default value called by __missing__().\n",
      "\n",
      "[]\n",
      "--------------------------------------------------\n",
      "defaultdict(<class 'list'>, {'key': []})\n"
     ]
    }
   ],
   "source": [
    "help(defaultdict.default_factory)\n",
    "a = defaultdict(list)\n",
    "print(a['key'])\n",
    "print('-' * 50)\n",
    "print(a)"
   ]
  },
  {
   "cell_type": "code",
   "execution_count": 121,
   "metadata": {},
   "outputs": [
    {
     "ename": "KeyError",
     "evalue": "'key'",
     "output_type": "error",
     "traceback": [
      "\u001b[0;31m---------------------------------------------------------------------------\u001b[0m",
      "\u001b[0;31mKeyError\u001b[0m                                  Traceback (most recent call last)",
      "\u001b[0;32m<ipython-input-121-3f47a4e7a3d7>\u001b[0m in \u001b[0;36m<module>\u001b[0;34m()\u001b[0m\n\u001b[1;32m      1\u001b[0m \u001b[0md\u001b[0m \u001b[0;34m=\u001b[0m \u001b[0mdict\u001b[0m\u001b[0;34m(\u001b[0m\u001b[0;34m)\u001b[0m\u001b[0;34m\u001b[0m\u001b[0;34m\u001b[0m\u001b[0m\n\u001b[0;32m----> 2\u001b[0;31m \u001b[0mprint\u001b[0m\u001b[0;34m(\u001b[0m\u001b[0md\u001b[0m\u001b[0;34m[\u001b[0m\u001b[0;34m'key'\u001b[0m\u001b[0;34m]\u001b[0m\u001b[0;34m)\u001b[0m\u001b[0;34m\u001b[0m\u001b[0;34m\u001b[0m\u001b[0m\n\u001b[0m",
      "\u001b[0;31mKeyError\u001b[0m: 'key'"
     ]
    }
   ],
   "source": [
    "d = dict()\n",
    "print(d['key'])"
   ]
  },
  {
   "cell_type": "markdown",
   "metadata": {},
   "source": [
    "#### defaultdict : list값 처리\n",
    "- defaultdict는 값 객체를 list로 처리하여 순차적인 여러 값(key: multi-value 구조)을 처리"
   ]
  },
  {
   "cell_type": "code",
   "execution_count": 123,
   "metadata": {},
   "outputs": [
    {
     "name": "stdout",
     "output_type": "stream",
     "text": [
      "defaultdict(<class 'list'>, {})\n",
      "defaultdict(<class 'list'>, {'1': [1, 2, 3]})\n"
     ]
    }
   ],
   "source": [
    "from collections import defaultdict\n",
    "\n",
    "a = defaultdict(list)\n",
    "print(a)\n",
    "\n",
    "\n",
    "a['1'].extend([1,2,3])\n",
    "print(a)"
   ]
  },
  {
   "cell_type": "code",
   "execution_count": 128,
   "metadata": {},
   "outputs": [
    {
     "name": "stdout",
     "output_type": "stream",
     "text": [
      "defaultdict(<class 'list'>, {'태희': ['노랑', '빨강'], '지훈': ['파랑', '검정'], '별이': ['초록'], '샛별': ['실버']})\n"
     ]
    }
   ],
   "source": [
    "colours = (\n",
    "  ('태희', '노랑'),\n",
    "  ('지훈', '파랑'),\n",
    "  ('별이', '초록'),\n",
    "  ('지훈', '검정'),\n",
    "  ('태희', '빨강'),\n",
    "  ('샛별', '실버'),\n",
    ")\n",
    "\n",
    "favourite_colours = defaultdict(list)\n",
    "\n",
    "for name, colour in colours:\n",
    "    favourite_colours[name].append(colour)\n",
    "\n",
    "print(favourite_colours)"
   ]
  },
  {
   "cell_type": "markdown",
   "metadata": {},
   "source": [
    "#### defaultdict : set 값 처리\n",
    "- defaultdict는 값 객체를 list로 처리하여 유일한 원소를 가지는 여러값(key:multi-value 구조)을 처리"
   ]
  },
  {
   "cell_type": "code",
   "execution_count": 129,
   "metadata": {},
   "outputs": [
    {
     "name": "stdout",
     "output_type": "stream",
     "text": [
      "defaultdict(<class 'set'>, {})\n",
      "defaultdict(<class 'set'>, {'s': {1, 2, 3}})\n"
     ]
    }
   ],
   "source": [
    "a = defaultdict(set)\n",
    "print(a)\n",
    "\n",
    "a['s'].update([1,2,3,1])\n",
    "print(a)"
   ]
  },
  {
   "cell_type": "code",
   "execution_count": 131,
   "metadata": {},
   "outputs": [],
   "source": [
    "a.clear()"
   ]
  },
  {
   "cell_type": "code",
   "execution_count": 132,
   "metadata": {},
   "outputs": [
    {
     "name": "stdout",
     "output_type": "stream",
     "text": [
      "defaultdict(None, {})\n"
     ]
    },
    {
     "ename": "KeyError",
     "evalue": "'s'",
     "output_type": "error",
     "traceback": [
      "\u001b[0;31m---------------------------------------------------------------------------\u001b[0m",
      "\u001b[0;31mKeyError\u001b[0m                                  Traceback (most recent call last)",
      "\u001b[0;32m<ipython-input-132-930e9cf5717f>\u001b[0m in \u001b[0;36m<module>\u001b[0;34m()\u001b[0m\n\u001b[1;32m      2\u001b[0m \u001b[0mprint\u001b[0m\u001b[0;34m(\u001b[0m\u001b[0ma\u001b[0m\u001b[0;34m)\u001b[0m\u001b[0;34m\u001b[0m\u001b[0;34m\u001b[0m\u001b[0m\n\u001b[1;32m      3\u001b[0m \u001b[0;34m\u001b[0m\u001b[0m\n\u001b[0;32m----> 4\u001b[0;31m \u001b[0ma\u001b[0m\u001b[0;34m[\u001b[0m\u001b[0;34m's'\u001b[0m\u001b[0;34m]\u001b[0m\u001b[0;34m.\u001b[0m\u001b[0mupdate\u001b[0m\u001b[0;34m(\u001b[0m\u001b[0;34m[\u001b[0m\u001b[0;36m1\u001b[0m\u001b[0;34m,\u001b[0m\u001b[0;36m2\u001b[0m\u001b[0;34m,\u001b[0m\u001b[0;36m3\u001b[0m\u001b[0;34m,\u001b[0m\u001b[0;36m1\u001b[0m\u001b[0;34m]\u001b[0m\u001b[0;34m)\u001b[0m\u001b[0;34m\u001b[0m\u001b[0;34m\u001b[0m\u001b[0m\n\u001b[0m\u001b[1;32m      5\u001b[0m \u001b[0mprint\u001b[0m\u001b[0;34m(\u001b[0m\u001b[0ma\u001b[0m\u001b[0;34m)\u001b[0m\u001b[0;34m\u001b[0m\u001b[0;34m\u001b[0m\u001b[0m\n",
      "\u001b[0;31mKeyError\u001b[0m: 's'"
     ]
    }
   ],
   "source": [
    "a = defaultdict()\n",
    "print(a)\n",
    "\n",
    "a['s'].update([1,2,3,1])\n",
    "print(a)"
   ]
  },
  {
   "cell_type": "code",
   "execution_count": 133,
   "metadata": {},
   "outputs": [
    {
     "name": "stdout",
     "output_type": "stream",
     "text": [
      "d :  defaultdict(<function default_factory at 0x110808d08>, {'foo': 'bar'})\n",
      "foo => bar\n",
      "bar => default value\n",
      "d1 :  defaultdict(<class 'list'>, {'foo': [1, 2, 3]})\n"
     ]
    }
   ],
   "source": [
    "from collections import defaultdict\n",
    "\n",
    "def default_factory():\n",
    "    return 'default value'\n",
    "\n",
    "d = defaultdict(default_factory, foo='bar')\n",
    "print('d : ', d)\n",
    "print('foo =>', d['foo'])\n",
    "print('bar =>', d['bar'])\n",
    "\n",
    "d1 = defaultdict(list, foo=[1,2,3])\n",
    "print('d1 : ', d1)"
   ]
  },
  {
   "cell_type": "code",
   "execution_count": 134,
   "metadata": {},
   "outputs": [
    {
     "name": "stdout",
     "output_type": "stream",
     "text": [
      "defaultdict(<function <lambda> at 0x1108080d0>, {'colours': defaultdict(<function <lambda> at 0x1108080d0>, {'favourite': '노랑'})})\n",
      "--------------------------------------------------\n",
      "{\"colours\": {\"favourite\": \"\\ub178\\ub791\"}}\n"
     ]
    }
   ],
   "source": [
    "# 아래 단락은 키에러 뜸\n",
    "# some_dict = {}\n",
    "# some_dict['colours']['favourite'] = \"노랑\"\n",
    "\n",
    "# defaultdict로 작업하면 해결가능\n",
    "tree = lambda: defaultdict(tree)\n",
    "some_dict = tree()\n",
    "some_dict['colours']['favourite'] = \"노랑\"\n",
    "print(some_dict)\n",
    "print('-' * 50)\n",
    "\n",
    "import json\n",
    "print(json.dumps(some_dict))"
   ]
  },
  {
   "cell_type": "markdown",
   "metadata": {},
   "source": [
    "-----------------------"
   ]
  },
  {
   "cell_type": "markdown",
   "metadata": {},
   "source": [
    "### 7. deque\n",
    "- 새로운 인스턴스를 만드는 클래스\n",
    "- 양방향에서 처리할 수 있는 double ended queue 자료 구조"
   ]
  },
  {
   "cell_type": "code",
   "execution_count": 136,
   "metadata": {},
   "outputs": [],
   "source": [
    "from collections import deque"
   ]
  },
  {
   "cell_type": "code",
   "execution_count": 137,
   "metadata": {},
   "outputs": [
    {
     "name": "stdout",
     "output_type": "stream",
     "text": [
      "append\n",
      "appendleft\n",
      "clear\n",
      "copy\n",
      "count\n",
      "extend\n",
      "extendleft\n",
      "index\n",
      "insert\n",
      "maxlen\n",
      "pop\n",
      "popleft\n",
      "remove\n",
      "reverse\n",
      "rotate\n"
     ]
    }
   ],
   "source": [
    "# deque의 메서드\n",
    "for method in dir(deque):\n",
    "    if method.startswith('__'):\n",
    "        pass\n",
    "    else:\n",
    "        print(method)"
   ]
  },
  {
   "cell_type": "code",
   "execution_count": 139,
   "metadata": {},
   "outputs": [
    {
     "name": "stdout",
     "output_type": "stream",
     "text": [
      "deque([1, 2, 3], maxlen=5)\n",
      "deque([2, 3, 4, 5, 6], maxlen=5)\n",
      "--------------------------------------------------\n",
      "deque([1, 2, 3])\n",
      "deque([1, 2, 3, 1, 2, 3])\n"
     ]
    }
   ],
   "source": [
    "# deque 생성\n",
    "from collections import deque\n",
    "d = deque([1,2,3], 5) # que의 최대 길이도 설정됨 '5'\n",
    "print(d)\n",
    "\n",
    "d.extend([4,5,6]) # 4,5,6이 들어가니까 기존에 있는 1,2,3 중 1이 밀려서 사라짐\n",
    "print(d)\n",
    "print('-' * 50)\n",
    "\n",
    "dd = deque([1,2,3])\n",
    "print(dd)\n",
    "\n",
    "dd.extend(dd)\n",
    "print(dd)"
   ]
  },
  {
   "cell_type": "markdown",
   "metadata": {},
   "source": [
    "#### deque 메서드"
   ]
  },
  {
   "cell_type": "code",
   "execution_count": 142,
   "metadata": {},
   "outputs": [
    {
     "name": "stdout",
     "output_type": "stream",
     "text": [
      "deque([1, 2, 3, 1])\n"
     ]
    }
   ],
   "source": [
    "d = deque([1,2,3])\n",
    "d.append(1)   # 우측에 원소 추가\n",
    "print(d)"
   ]
  },
  {
   "cell_type": "code",
   "execution_count": 143,
   "metadata": {},
   "outputs": [
    {
     "name": "stdout",
     "output_type": "stream",
     "text": [
      "deque([3, 1, 2, 3, 1])\n"
     ]
    }
   ],
   "source": [
    "d.appendleft(3)  # 좌측에 원소 추가\n",
    "print(d)"
   ]
  },
  {
   "cell_type": "code",
   "execution_count": 144,
   "metadata": {},
   "outputs": [
    {
     "data": {
      "text/plain": [
       "2"
      ]
     },
     "execution_count": 144,
     "metadata": {},
     "output_type": "execute_result"
    }
   ],
   "source": [
    "d.count(3) # 원소의 개수"
   ]
  },
  {
   "cell_type": "code",
   "execution_count": 145,
   "metadata": {},
   "outputs": [
    {
     "name": "stdout",
     "output_type": "stream",
     "text": [
      "deque([3, 1, 2, 3, 1, 2, 3, 4])\n"
     ]
    }
   ],
   "source": [
    "d.extend([2,3,4])  # 리스트 등을 기존 인스턴스에 추가\n",
    "print(d)"
   ]
  },
  {
   "cell_type": "code",
   "execution_count": 146,
   "metadata": {},
   "outputs": [
    {
     "name": "stdout",
     "output_type": "stream",
     "text": [
      "deque([12, 10, 3, 1, 2, 3, 1, 2, 3, 4])\n"
     ]
    }
   ],
   "source": [
    "d.extendleft([10, 12])  # 기존 인스턴스 좌측부터 추가\n",
    "print(d)"
   ]
  },
  {
   "cell_type": "code",
   "execution_count": 147,
   "metadata": {},
   "outputs": [
    {
     "name": "stdout",
     "output_type": "stream",
     "text": [
      "deque([])\n"
     ]
    },
    {
     "data": {
      "text/plain": [
       "deque([])"
      ]
     },
     "execution_count": 147,
     "metadata": {},
     "output_type": "execute_result"
    }
   ],
   "source": [
    "d.clear()  # 요소들을 전부 초기화\n",
    "print(d)\n",
    "deque([])"
   ]
  },
  {
   "cell_type": "code",
   "execution_count": 148,
   "metadata": {},
   "outputs": [
    {
     "name": "stdout",
     "output_type": "stream",
     "text": [
      "2\n",
      "deque([3, 10, 12, 4, 3])\n"
     ]
    }
   ],
   "source": [
    "d = deque([3, 10, 12, 4, 3, 2])\n",
    "print(d.pop())  #우측 요소 삭제\n",
    "print(d)"
   ]
  },
  {
   "cell_type": "code",
   "execution_count": 149,
   "metadata": {},
   "outputs": [
    {
     "name": "stdout",
     "output_type": "stream",
     "text": [
      "3\n",
      "deque([10, 12, 4, 3])\n"
     ]
    }
   ],
   "source": [
    "d = deque([3, 10, 12, 4, 3])\n",
    "print(d.popleft())  # 좌측 요소 삭제\n",
    "print(d)"
   ]
  },
  {
   "cell_type": "code",
   "execution_count": 150,
   "metadata": {},
   "outputs": [
    {
     "name": "stdout",
     "output_type": "stream",
     "text": [
      "deque([3, 10, 12, 4, 3, 2])\n"
     ]
    }
   ],
   "source": [
    "d = deque([1, 3, 10, 12, 4, 3, 2])\n",
    "d.remove(1)  # 값으로 요소 삭제\n",
    "print(d)"
   ]
  },
  {
   "cell_type": "code",
   "execution_count": 151,
   "metadata": {},
   "outputs": [
    {
     "name": "stdout",
     "output_type": "stream",
     "text": [
      "deque([3, 10, 1, 12, 4, 3, 2])\n"
     ]
    }
   ],
   "source": [
    "d = deque([1, 3, 10, 1, 12, 4, 3, 2])\n",
    "d.remove(1)  # 값으로 요소 삭제(좌측부터)\n",
    "print(d)"
   ]
  },
  {
   "cell_type": "code",
   "execution_count": 152,
   "metadata": {},
   "outputs": [
    {
     "name": "stdout",
     "output_type": "stream",
     "text": [
      "deque([1, 3, 10, 12, 4, 3, 2])\n"
     ]
    }
   ],
   "source": [
    "d = deque([2, 3, 4, 12, 10, 3, 1])\n",
    "d.reverse()  # 내부 요소들을 역정렬\n",
    "print(d)"
   ]
  },
  {
   "cell_type": "code",
   "execution_count": 153,
   "metadata": {},
   "outputs": [
    {
     "name": "stdout",
     "output_type": "stream",
     "text": [
      "deque([2, 3, 4, 12, 10, 3, 1])\n"
     ]
    }
   ],
   "source": [
    "d = deque([4, 12, 10, 3, 1, 2, 3])\n",
    "d.rotate(2)  # 요소들을 n값만큼 순회\n",
    "print(d)"
   ]
  },
  {
   "cell_type": "code",
   "execution_count": 155,
   "metadata": {},
   "outputs": [
    {
     "name": "stdout",
     "output_type": "stream",
     "text": [
      "deque([10, 3, 1, 2, 3, 4, 12])\n"
     ]
    }
   ],
   "source": [
    "d = deque([4, 12, 10, 3, 1, 2, 3])\n",
    "d.rotate(5)  # 요소들을 n값만큼 순회(오른쪽에 있는 값이 왼쪽으로)\n",
    "print(d)"
   ]
  },
  {
   "cell_type": "markdown",
   "metadata": {},
   "source": [
    "#### deque(양방향 queue) 다루기\n",
    ": 앞과 뒤로 모든 queue 처리가 가능"
   ]
  },
  {
   "cell_type": "code",
   "execution_count": 156,
   "metadata": {},
   "outputs": [
    {
     "name": "stdout",
     "output_type": "stream",
     "text": [
      "Deque: deque(['a', 'b', 'c', 'd', 'e', 'f', 'g'])\n",
      "Length: 7\n",
      "Left end: a\n",
      "Right end: g\n",
      "remove(c): deque(['a', 'b', 'd', 'e', 'f', 'g'])\n"
     ]
    }
   ],
   "source": [
    "d = deque('abcdefg')\n",
    "print('Deque:', d)\n",
    "print('Length:', len(d))\n",
    "print('Left end:', d[0])\n",
    "print('Right end:', d[-1])\n",
    "\n",
    "d.remove('c')\n",
    "print('remove(c):', d)"
   ]
  },
  {
   "cell_type": "markdown",
   "metadata": {},
   "source": [
    "------------------"
   ]
  },
  {
   "cell_type": "markdown",
   "metadata": {},
   "source": [
    "### 8. enum.Enum\n",
    "- enum은 상수를 정의할수 있게 해주는 라이브러리\n",
    "- 참고 : https://pythonkim.tistory.com/90\n",
    "- 참고 또 : https://docs.python.org/3/library/enum.html"
   ]
  },
  {
   "cell_type": "code",
   "execution_count": 157,
   "metadata": {},
   "outputs": [],
   "source": [
    "from collections import namedtuple\n",
    "from enum import Enum\n",
    "\n",
    "class Species(Enum):\n",
    "    cat = 1\n",
    "    dog = 2\n",
    "    horse = 4\n",
    "    aardvark = 5\n",
    "    butterfly = 3\n",
    "    owl = 6\n",
    "    platypus = 7\n",
    "    dragon = 8\n",
    "    unicorn = 9\n",
    "    \n",
    "    kitten = 1\n",
    "    puppy = 2"
   ]
  },
  {
   "cell_type": "code",
   "execution_count": 158,
   "metadata": {},
   "outputs": [
    {
     "data": {
      "text/plain": [
       "\u001b[0;31mInit signature:\u001b[0m \u001b[0mEnum\u001b[0m\u001b[0;34m(\u001b[0m\u001b[0mvalue\u001b[0m\u001b[0;34m,\u001b[0m \u001b[0mnames\u001b[0m\u001b[0;34m=\u001b[0m\u001b[0;32mNone\u001b[0m\u001b[0;34m,\u001b[0m \u001b[0;34m*\u001b[0m\u001b[0;34m,\u001b[0m \u001b[0mmodule\u001b[0m\u001b[0;34m=\u001b[0m\u001b[0;32mNone\u001b[0m\u001b[0;34m,\u001b[0m \u001b[0mqualname\u001b[0m\u001b[0;34m=\u001b[0m\u001b[0;32mNone\u001b[0m\u001b[0;34m,\u001b[0m \u001b[0mtype\u001b[0m\u001b[0;34m=\u001b[0m\u001b[0;32mNone\u001b[0m\u001b[0;34m,\u001b[0m \u001b[0mstart\u001b[0m\u001b[0;34m=\u001b[0m\u001b[0;36m1\u001b[0m\u001b[0;34m)\u001b[0m\u001b[0;34m\u001b[0m\u001b[0;34m\u001b[0m\u001b[0m\n",
       "\u001b[0;31mDocstring:\u001b[0m     \n",
       "Generic enumeration.\n",
       "\n",
       "Derive from this class to define new enumerations.\n",
       "\u001b[0;31mFile:\u001b[0m           ~/anaconda3/lib/python3.6/enum.py\n",
       "\u001b[0;31mType:\u001b[0m           EnumMeta\n"
      ]
     },
     "metadata": {},
     "output_type": "display_data"
    }
   ],
   "source": [
    "Enum?"
   ]
  },
  {
   "cell_type": "code",
   "execution_count": 159,
   "metadata": {},
   "outputs": [
    {
     "name": "stdout",
     "output_type": "stream",
     "text": [
      "<enum 'Species'>\n",
      "[<Species.cat: 1>, <Species.dog: 2>, <Species.horse: 4>, <Species.aardvark: 5>, <Species.butterfly: 3>, <Species.owl: 6>, <Species.platypus: 7>, <Species.dragon: 8>, <Species.unicorn: 9>]\n"
     ]
    }
   ],
   "source": [
    "print(Species)\n",
    "print(list(Species))"
   ]
  },
  {
   "cell_type": "code",
   "execution_count": 161,
   "metadata": {},
   "outputs": [
    {
     "name": "stdout",
     "output_type": "stream",
     "text": [
      "Species.cat :  Species.cat\n",
      "Species.kitten :  Species.cat\n",
      "Species.puppy :  Species.dog\n"
     ]
    }
   ],
   "source": [
    "print('Species.cat : ', Species.cat)\n",
    "print('Species.kitten : ', Species.kitten)\n",
    "print('Species.puppy : ', Species.puppy)"
   ]
  },
  {
   "cell_type": "code",
   "execution_count": 162,
   "metadata": {},
   "outputs": [
    {
     "name": "stdout",
     "output_type": "stream",
     "text": [
      "Species.kitten.name :  cat\n",
      "Species.kitten.value :  1\n"
     ]
    }
   ],
   "source": [
    "print('Species.kitten.name : ', Species.kitten.name)\n",
    "print('Species.kitten.value : ', Species.kitten.value)"
   ]
  },
  {
   "cell_type": "code",
   "execution_count": 163,
   "metadata": {},
   "outputs": [
    {
     "name": "stdout",
     "output_type": "stream",
     "text": [
      "repr(Species.cat) :  <Species.cat: 1>\n",
      "type(Species.kitten) :  <enum 'Species'>\n"
     ]
    }
   ],
   "source": [
    "print('repr(Species.cat) : ', repr(Species.cat))\n",
    "print('type(Species.kitten) : ', type(Species.kitten))"
   ]
  },
  {
   "cell_type": "code",
   "execution_count": 165,
   "metadata": {},
   "outputs": [
    {
     "name": "stdout",
     "output_type": "stream",
     "text": [
      "Shake.VANILLA VANILLA 7\n",
      "Shake.CHOCOLATE CHOCOLATE 4\n",
      "Shake.COOKIES COOKIES 9\n",
      "Shake.MINT MINT 3\n"
     ]
    },
    {
     "data": {
      "text/plain": [
       "<Shake.MINT: 3>"
      ]
     },
     "execution_count": 165,
     "metadata": {},
     "output_type": "execute_result"
    }
   ],
   "source": [
    ">>> class Shake(Enum):\n",
    "...     VANILLA = 7\n",
    "...     CHOCOLATE = 4\n",
    "...     COOKIES = 9\n",
    "...     MINT = 3\n",
    "...\n",
    ">>> for shake in Shake:\n",
    "...     print(shake, shake.name, shake.value)\n",
    "...\n",
    "Shake.VANILLA\n",
    "Shake.CHOCOLATE\n",
    "Shake.COOKIES\n",
    "Shake.MINT"
   ]
  },
  {
   "cell_type": "code",
   "execution_count": 166,
   "metadata": {},
   "outputs": [
    {
     "name": "stdout",
     "output_type": "stream",
     "text": [
      "Species(9) :  Species.unicorn\n"
     ]
    }
   ],
   "source": [
    "print('Species(9) : ', Species(9))"
   ]
  },
  {
   "cell_type": "code",
   "execution_count": 167,
   "metadata": {},
   "outputs": [],
   "source": [
    "Animal = namedtuple('Animal', 'name age type')"
   ]
  },
  {
   "cell_type": "code",
   "execution_count": 168,
   "metadata": {},
   "outputs": [
    {
     "data": {
      "text/plain": [
       "Animal(name='Perry', age=31, type=<Species.cat: 1>)"
      ]
     },
     "execution_count": 168,
     "metadata": {},
     "output_type": "execute_result"
    }
   ],
   "source": [
    "perry = Animal(name=\"Perry\", age=31, type=Species.cat)\n",
    "perry"
   ]
  },
  {
   "cell_type": "code",
   "execution_count": 172,
   "metadata": {},
   "outputs": [
    {
     "data": {
      "text/plain": [
       "Animal(name='Drogon', age=4, type=<Species.dragon: 8>)"
      ]
     },
     "execution_count": 172,
     "metadata": {},
     "output_type": "execute_result"
    }
   ],
   "source": [
    "dragon = Animal(name=\"Drogon\", age=4, type=Species.dragon)\n",
    "dragon"
   ]
  },
  {
   "cell_type": "code",
   "execution_count": 173,
   "metadata": {},
   "outputs": [
    {
     "data": {
      "text/plain": [
       "Animal(name='Tom', age=75, type=<Species.cat: 1>)"
      ]
     },
     "execution_count": 173,
     "metadata": {},
     "output_type": "execute_result"
    }
   ],
   "source": [
    "tom = Animal(name=\"Tom\", age=75, type=Species.cat)\n",
    "tom"
   ]
  },
  {
   "cell_type": "code",
   "execution_count": 174,
   "metadata": {},
   "outputs": [
    {
     "data": {
      "text/plain": [
       "Animal(name='Charlie', age=2, type=<Species.cat: 1>)"
      ]
     },
     "execution_count": 174,
     "metadata": {},
     "output_type": "execute_result"
    }
   ],
   "source": [
    "charlie = Animal(name=\"Charlie\", age=2, type=Species.kitten)\n",
    "charlie"
   ]
  },
  {
   "cell_type": "code",
   "execution_count": 175,
   "metadata": {},
   "outputs": [
    {
     "name": "stdout",
     "output_type": "stream",
     "text": [
      "True\n",
      "Species.cat\n",
      "Species.cat\n"
     ]
    }
   ],
   "source": [
    "# And now, some tests.\n",
    "print(charlie.type == tom.type)\n",
    "\n",
    "print(charlie.type)\n",
    "\n",
    "print(tom.type)"
   ]
  },
  {
   "cell_type": "code",
   "execution_count": 176,
   "metadata": {},
   "outputs": [
    {
     "data": {
      "text/plain": [
       "True"
      ]
     },
     "execution_count": 176,
     "metadata": {},
     "output_type": "execute_result"
    }
   ],
   "source": [
    "Species.cat == Species.kitten  # 값이 같으면 같은것으로 취급"
   ]
  },
  {
   "cell_type": "code",
   "execution_count": 177,
   "metadata": {},
   "outputs": [
    {
     "name": "stdout",
     "output_type": "stream",
     "text": [
      "Species.butterfly\n",
      "Species.cat\n",
      "Species.cat\n"
     ]
    }
   ],
   "source": [
    "# 값을 부르는 방법\n",
    "print(Species(3))\n",
    "print(Species['cat'])\n",
    "print(Species.cat)"
   ]
  },
  {
   "cell_type": "code",
   "execution_count": 178,
   "metadata": {},
   "outputs": [
    {
     "name": "stdout",
     "output_type": "stream",
     "text": [
      "Species.cat\n",
      "DIFF.\n"
     ]
    }
   ],
   "source": [
    "c = Species.cat\n",
    "print(c)\n",
    "# enum을 정수와 비교하는 것은 항상 False.\n",
    "if c == c.value:                                # DIFF.\n",
    "    print('SAME.')\n",
    "else:\n",
    "    print('DIFF.')"
   ]
  },
  {
   "cell_type": "code",
   "execution_count": 179,
   "metadata": {},
   "outputs": [
    {
     "name": "stdout",
     "output_type": "stream",
     "text": [
      "Species.cat\n",
      "Species.dog\n",
      "Species.horse\n",
      "Species.aardvark\n",
      "Species.butterfly\n",
      "Species.owl\n",
      "Species.platypus\n",
      "Species.dragon\n",
      "Species.unicorn\n"
     ]
    }
   ],
   "source": [
    "# enum을 반복문에 적용할수 있음\n",
    "for name in Species:\n",
    "    print(name)"
   ]
  },
  {
   "cell_type": "markdown",
   "metadata": {},
   "source": [
    "~~사실 잘 모르겠다...~~"
   ]
  },
  {
   "cell_type": "markdown",
   "metadata": {},
   "source": [
    "### 8. itemgetter\n",
    "\n",
    "- itemgetter : 동일한 키 처리\n",
    "- ‘fname’ key를 key값으로 읽는 itg를 생성해 서 실제 dict 타입을 파라미터로 주면 값을 결과로 제공"
   ]
  },
  {
   "cell_type": "code",
   "execution_count": 180,
   "metadata": {},
   "outputs": [
    {
     "name": "stdout",
     "output_type": "stream",
     "text": [
      "['__call__', '__class__', '__delattr__', '__dir__', '__doc__', '__eq__', '__format__', '__ge__', '__getattribute__', '__gt__', '__hash__', '__init__', '__init_subclass__', '__le__', '__lt__', '__ne__', '__new__', '__reduce__', '__reduce_ex__', '__repr__', '__setattr__', '__sizeof__', '__str__', '__subclasshook__']\n",
      "<class 'operator.itemgetter'>\n",
      "Brian\n"
     ]
    }
   ],
   "source": [
    "rows = [\n",
    "    {'fname' : 'Brian', 'lname':'Jones', 'uid':1003},\n",
    "    {'fname' : 'David', 'lname':'Beazley', 'uid':1002},\n",
    "    {'fname' : 'John', 'lname':'Cleese', 'uid':1001},\n",
    "    {'fname' : 'Big', 'lname':'Jones', 'uid':1004},\n",
    "]\n",
    "\n",
    "from operator import itemgetter\n",
    "itg = itemgetter('fname')\n",
    "print(dir(itg))\n",
    "print(type(itg))\n",
    "print(itg(rows[0]))"
   ]
  },
  {
   "cell_type": "markdown",
   "metadata": {},
   "source": [
    "- **list.sort() vs sorted()**\n",
    "    - list.sort() 는 리스트 내부에서 정렬.  \n",
    "    - sorted() 는 정렬된 값을 반환.  \n",
    "    - 원래 값을 유지하면서 정렬된 결과를 얻고 싶다면 sorted() 를 사용. \n",
    "    - list.sort() 는 값을 돌려주지 않기 때문에 받게 되면 None 을 받게 된다.   \n",
    "    - list.sort() 는 리스트 형에 한해서만 동작, sorted() 는 iterable(순회가능) 한 자료형에 대해서 동작."
   ]
  },
  {
   "cell_type": "markdown",
   "metadata": {},
   "source": [
    "- itemgetter이용해서 sorting : 결과 값을 기준으로 dict 타입 원소를 가지는 list를 sorted 처리하기\n",
    "    - 디셔너리에서 key, value 데이터를 정렬을 하고 싶을 때 -> 리스트로 변환하여 정렬\n",
    "    - 기본적으로 sorted함수를 쓰면 해결됨\n",
    "    - key에 의한 정렬이 아닌 value로 정렬하거나 내림차순으로 정렬하고 싶을때 sorted에 인자 넣어주기"
   ]
  },
  {
   "cell_type": "markdown",
   "metadata": {},
   "source": [
    "### How to 정렬?\n",
    "- https://docs.python.org/ko/3/howto/sorting.html"
   ]
  },
  {
   "cell_type": "code",
   "execution_count": 181,
   "metadata": {},
   "outputs": [
    {
     "data": {
      "text/plain": [
       "[('abcde', 7), ('fko', 5), ('fzowe', 5)]"
      ]
     },
     "execution_count": 181,
     "metadata": {},
     "output_type": "execute_result"
    }
   ],
   "source": [
    "dict = {\"abcde\" : 7, \"fzowe\" : 5, \"fko\" : 5}\n",
    "sortedArr = sorted(dict.items())\n",
    "sortedArr"
   ]
  },
  {
   "cell_type": "code",
   "execution_count": 183,
   "metadata": {},
   "outputs": [],
   "source": [
    "rows = [\n",
    "    {'fname' : 'Brian', 'lname':'Jones', 'uid':1003},\n",
    "    {'fname' : 'David', 'lname':'Beazley', 'uid':1002},\n",
    "    {'fname' : 'John', 'lname':'Cleese', 'uid':1001},\n",
    "    {'fname' : 'Big', 'lname':'Jones', 'uid':1005},\n",
    "    {'fname' : 'Big', 'lname':'alpha', 'uid':1004},\n",
    "]"
   ]
  },
  {
   "cell_type": "code",
   "execution_count": 185,
   "metadata": {},
   "outputs": [],
   "source": [
    "from pprint import pprint"
   ]
  },
  {
   "cell_type": "code",
   "execution_count": 186,
   "metadata": {},
   "outputs": [
    {
     "name": "stdout",
     "output_type": "stream",
     "text": [
      "[{'fname': 'Big', 'lname': 'Jones', 'uid': 1005},\n",
      " {'fname': 'Big', 'lname': 'alpha', 'uid': 1004},\n",
      " {'fname': 'Brian', 'lname': 'Jones', 'uid': 1003},\n",
      " {'fname': 'David', 'lname': 'Beazley', 'uid': 1002},\n",
      " {'fname': 'John', 'lname': 'Cleese', 'uid': 1001}]\n"
     ]
    }
   ],
   "source": [
    "itg = itemgetter('fname')\n",
    "rows_by_fname = sorted(rows, key=itg)\n",
    "# rows_by_fname = sorted(rows, key=itg, reverse=True)   # 내림차순 정렬\n",
    "\n",
    "pprint(rows_by_fname)"
   ]
  },
  {
   "cell_type": "code",
   "execution_count": 187,
   "metadata": {},
   "outputs": [
    {
     "name": "stdout",
     "output_type": "stream",
     "text": [
      "[{'fname': 'Big', 'lname': 'alpha', 'uid': 1004},\n",
      " {'fname': 'Big', 'lname': 'Jones', 'uid': 1005},\n",
      " {'fname': 'Brian', 'lname': 'Jones', 'uid': 1003},\n",
      " {'fname': 'David', 'lname': 'Beazley', 'uid': 1002},\n",
      " {'fname': 'John', 'lname': 'Cleese', 'uid': 1001}]\n"
     ]
    }
   ],
   "source": [
    "# set the sorted key using itemgetter\n",
    "\n",
    "itg2 = itemgetter('fname', 'uid')\n",
    "rows_by_fname2 = sorted(rows, key=itg2)\n",
    "\n",
    "pprint(rows_by_fname2)"
   ]
  },
  {
   "cell_type": "markdown",
   "metadata": {},
   "source": [
    "- 튜플로 정렬~"
   ]
  },
  {
   "cell_type": "code",
   "execution_count": 190,
   "metadata": {},
   "outputs": [
    {
     "data": {
      "text/plain": [
       "[('kim', 30), ('han', 10), ('min', 20), ('han', 70), ('min', 90)]"
      ]
     },
     "execution_count": 190,
     "metadata": {},
     "output_type": "execute_result"
    }
   ],
   "source": [
    "tuples = [('kim',30), ('han',10), ('min',20), ('han',70), ('min', 90)]\n",
    "tuples"
   ]
  },
  {
   "cell_type": "code",
   "execution_count": 191,
   "metadata": {},
   "outputs": [
    {
     "name": "stdout",
     "output_type": "stream",
     "text": [
      "[('han', 10), ('han', 70), ('kim', 30), ('min', 20), ('min', 90)]\n"
     ]
    }
   ],
   "source": [
    "tuples.sort(key=itemgetter(0,1))\n",
    "print(tuples)"
   ]
  },
  {
   "cell_type": "code",
   "execution_count": 193,
   "metadata": {},
   "outputs": [
    {
     "data": {
      "text/plain": [
       "[('kim', 30), ('han', 10), ('min', 20), ('han', 70), ('min', 90)]"
      ]
     },
     "execution_count": 193,
     "metadata": {},
     "output_type": "execute_result"
    }
   ],
   "source": [
    "tuples = [('kim',30), ('han',10), ('min',20), ('han',70), ('min', 90)]\n",
    "tuples"
   ]
  },
  {
   "cell_type": "code",
   "execution_count": 194,
   "metadata": {},
   "outputs": [
    {
     "data": {
      "text/plain": [
       "[('han', 10), ('han', 70), ('kim', 30), ('min', 20), ('min', 90)]"
      ]
     },
     "execution_count": 194,
     "metadata": {},
     "output_type": "execute_result"
    }
   ],
   "source": [
    "sorted_tuples = sorted(tuples, key=itemgetter(0,1))\n",
    "sorted_tuples"
   ]
  },
  {
   "cell_type": "code",
   "execution_count": 195,
   "metadata": {},
   "outputs": [
    {
     "data": {
      "text/plain": [
       "[('kim', 30), ('han', 10), ('min', 20), ('han', 70), ('min', 90)]"
      ]
     },
     "execution_count": 195,
     "metadata": {},
     "output_type": "execute_result"
    }
   ],
   "source": [
    "tuples = [('kim',30), ('han',10), ('min',20), ('han',70), ('min', 90)]\n",
    "tuples"
   ]
  },
  {
   "cell_type": "code",
   "execution_count": 196,
   "metadata": {},
   "outputs": [
    {
     "name": "stdout",
     "output_type": "stream",
     "text": [
      "[('han', 10), ('min', 20), ('kim', 30), ('han', 70), ('min', 90)]\n"
     ]
    }
   ],
   "source": [
    "tuples.sort(key=itemgetter(1, 0))\n",
    "print(tuples)"
   ]
  },
  {
   "cell_type": "markdown",
   "metadata": {},
   "source": [
    "### 9. attrgetter\n",
    "- attrgetter에 class 속성을 부여하고 인스턴스를 파라미터로 받으면 그 결과값인 속성이 값을 가져옴"
   ]
  },
  {
   "cell_type": "code",
   "execution_count": 197,
   "metadata": {},
   "outputs": [],
   "source": [
    "from operator import attrgetter"
   ]
  },
  {
   "cell_type": "code",
   "execution_count": 201,
   "metadata": {},
   "outputs": [],
   "source": [
    "class User(object):\n",
    "    def __init__(self, user_id):\n",
    "        self.user_id = user_id\n",
    "        \n",
    "    def __repr__(self):\n",
    "        return '유저({})....'.format(self.user_id)"
   ]
  },
  {
   "cell_type": "code",
   "execution_count": 202,
   "metadata": {},
   "outputs": [
    {
     "name": "stdout",
     "output_type": "stream",
     "text": [
      "operator.attrgetter('user_id')\n",
      "[유저(1)...., 유저(3)...., 유저(7)....]\n"
     ]
    }
   ],
   "source": [
    "x = attrgetter('user_id')\n",
    "print(x)\n",
    "\n",
    "\n",
    "users = [User(1), User(3), User(7)]\n",
    "print(users)"
   ]
  },
  {
   "cell_type": "code",
   "execution_count": 206,
   "metadata": {},
   "outputs": [
    {
     "name": "stdout",
     "output_type": "stream",
     "text": [
      "[유저(1)...., 유저(3)...., 유저(7)....]\n"
     ]
    }
   ],
   "source": [
    "users = [User(3), User(1), User(7)]\n",
    "\n",
    "x = sorted(users, key=attrgetter('user_id'))\n",
    "print(x)"
   ]
  },
  {
   "cell_type": "code",
   "execution_count": 207,
   "metadata": {},
   "outputs": [
    {
     "data": {
      "text/plain": [
       "[유저(1)...., 유저(3)...., 유저(7)....]"
      ]
     },
     "execution_count": 207,
     "metadata": {},
     "output_type": "execute_result"
    }
   ],
   "source": [
    "sorted(users, key=lambda x: x.user_id)"
   ]
  },
  {
   "cell_type": "code",
   "execution_count": 210,
   "metadata": {},
   "outputs": [
    {
     "name": "stdout",
     "output_type": "stream",
     "text": [
      "ABC\n",
      "WorkingTime[using_lambda]: 7.673808813095093 sec\n",
      "None\n",
      "WorkingTime[using_attrgetter]: 7.359635829925537 sec\n"
     ]
    }
   ],
   "source": [
    "import time\n",
    "\n",
    "def logging_time(original_fn):\n",
    "    def wrapper_fn(*args, **kwargs):\n",
    "        start_time = time.time()\n",
    "        result = original_fn(*args, **kwargs)\n",
    "#         print(result)\n",
    "        end_time = time.time()\n",
    "        print(\"WorkingTime[{}]: {} sec\".format(original_fn.__name__, end_time-start_time))\n",
    "        return result\n",
    "    return wrapper_fn\n",
    "\n",
    "\n",
    "@logging_time\n",
    "def using_lambda():\n",
    "    for i in range(10000000):\n",
    "        sorted(users, key=lambda x: x.user_id)\n",
    "        \n",
    "#     return \"ABC\"\n",
    "    \n",
    "@logging_time\n",
    "def using_attrgetter():\n",
    "    for i in range(10000000):\n",
    "        sorted(users, key=attrgetter('user_id'))\n",
    "    \n",
    "    \n",
    "    \n",
    "using_lambda()\n",
    "using_attrgetter()"
   ]
  },
  {
   "cell_type": "code",
   "execution_count": null,
   "metadata": {},
   "outputs": [],
   "source": []
  },
  {
   "cell_type": "code",
   "execution_count": null,
   "metadata": {},
   "outputs": [],
   "source": []
  },
  {
   "cell_type": "code",
   "execution_count": null,
   "metadata": {},
   "outputs": [],
   "source": []
  },
  {
   "cell_type": "code",
   "execution_count": null,
   "metadata": {},
   "outputs": [],
   "source": []
  },
  {
   "cell_type": "code",
   "execution_count": null,
   "metadata": {},
   "outputs": [],
   "source": []
  }
 ],
 "metadata": {
  "kernelspec": {
   "display_name": "Python 3",
   "language": "python",
   "name": "python3"
  },
  "language_info": {
   "codemirror_mode": {
    "name": "ipython",
    "version": 3
   },
   "file_extension": ".py",
   "mimetype": "text/x-python",
   "name": "python",
   "nbconvert_exporter": "python",
   "pygments_lexer": "ipython3",
   "version": "3.6.7"
  }
 },
 "nbformat": 4,
 "nbformat_minor": 2
}
