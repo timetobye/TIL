{
 "cells": [
  {
   "cell_type": "markdown",
   "metadata": {},
   "source": [
    "### Python intermediate Stduy group\n",
    "\n",
    "## Reference : https://github.com/KaggleBreak/interpy-kr\n",
    "\n",
    "- 위 내용을 참고하여 재학습하였습니다.\n",
    "\n",
    "## Python Comprehension\n",
    "### 한 sequence가 다른 sequence(iterable object)로부터 변형되어 구축될 수 있게한 기능\n",
    "### iterable한 오브젝트를 생성하기 위한 방법중 하나로 파이썬에서 사용할 수 있는 유용한 기능중 하나\n",
    "* Python2 : List Comprehension 만 지원\n",
    "* Python3 : Dictionary Comprehension과 Set Comprehension추가 지원\n",
    "* Generator Comprehension이라 일컫는 Generator Expression"
   ]
  },
  {
   "cell_type": "markdown",
   "metadata": {},
   "source": [
    "### List Comprehension"
   ]
  },
  {
   "cell_type": "markdown",
   "metadata": {},
   "source": [
    "<img src=\"http://www.thagomizer.com/img/list_comprehension.png\">"
   ]
  },
  {
   "cell_type": "code",
   "execution_count": 1,
   "metadata": {},
   "outputs": [],
   "source": [
    "numbers = [x ** 2 for x in range(0, 50) if x % 3 == 0]"
   ]
  },
  {
   "cell_type": "code",
   "execution_count": 2,
   "metadata": {},
   "outputs": [
    {
     "name": "stdout",
     "output_type": "stream",
     "text": [
      "[0, 9, 36, 81, 144, 225, 324, 441, 576, 729, 900, 1089, 1296, 1521, 1764, 2025, 2304]\n"
     ]
    }
   ],
   "source": [
    "print(numbers)"
   ]
  },
  {
   "cell_type": "markdown",
   "metadata": {},
   "source": [
    "### Dictionary Comprehension\n",
    "\n",
    "##### 두 리스트를 하나의 dict로 합치는 DC. 하나는 key, 또 다른 하나는 value로 사용한다"
   ]
  },
  {
   "cell_type": "code",
   "execution_count": 3,
   "metadata": {},
   "outputs": [
    {
     "name": "stdout",
     "output_type": "stream",
     "text": [
      "{'math': 90, 'history': 80, 'english': 95, 'computer engineering': 100}\n"
     ]
    }
   ],
   "source": [
    "subjects = ['math', 'history', 'english', 'computer engineering']\n",
    "scores = [90, 80, 95, 100]\n",
    "\n",
    "\n",
    "scored_dict = {key : value for key, value in zip(subjects, scores)}\n",
    "print(scored_dict)"
   ]
  },
  {
   "cell_type": "markdown",
   "metadata": {},
   "source": [
    "### 튜플 리스트를 dict 형태로 변환하는 DC"
   ]
  },
  {
   "cell_type": "code",
   "execution_count": 4,
   "metadata": {},
   "outputs": [
    {
     "name": "stdout",
     "output_type": "stream",
     "text": [
      "{'math': 90, 'history': 80, 'english': 95, 'computer engineering': 100}\n"
     ]
    }
   ],
   "source": [
    "score_tuples = [('math', 90), ('history', 80), ('english', 95), ('computer engineering', 100)]\n",
    "score_dict2 = {t[0] : t[1] for t in score_tuples}\n",
    "print(score_dict2)"
   ]
  },
  {
   "cell_type": "markdown",
   "metadata": {},
   "source": [
    "### Set Comprehension\n",
    "\n",
    "##### 다음의 LC는 중복된 값들을 포함한다"
   ]
  },
  {
   "cell_type": "code",
   "execution_count": 6,
   "metadata": {},
   "outputs": [
    {
     "name": "stdout",
     "output_type": "stream",
     "text": [
      "[4, 6, 8, 10, 12, 14, 16, 18, 20, 22, 24, 26, 28, 30, 32, 34, 36, 38, 40, 42, 44, 46, 48, 6, 9, 12, 15, 18, 21, 24, 27, 30, 33, 36, 39, 42, 45, 48, 8, 12, 16, 20, 24, 28, 32, 36, 40, 44, 48, 10, 15, 20, 25, 30, 35, 40, 45, 12, 18, 24, 30, 36, 42, 48, 14, 21, 28, 35, 42, 49, 16, 24, 32, 40, 48]\n"
     ]
    }
   ],
   "source": [
    "no_primes = [j for i in range(2, 9) for j in range(i * 2, 50, i)]\n",
    "print(no_primes)"
   ]
  },
  {
   "cell_type": "markdown",
   "metadata": {},
   "source": [
    "### SC를 사용하면 중복값이 없는 집합을 얻을 수 있다"
   ]
  },
  {
   "cell_type": "code",
   "execution_count": 7,
   "metadata": {},
   "outputs": [
    {
     "name": "stdout",
     "output_type": "stream",
     "text": [
      "{4, 6, 8, 9, 10, 12, 14, 15, 16, 18, 20, 21, 22, 24, 25, 26, 27, 28, 30, 32, 33, 34, 35, 36, 38, 39, 40, 42, 44, 45, 46, 48, 49}\n"
     ]
    }
   ],
   "source": [
    "no_primes2 = {j for i in range(2, 9) for j in range(i * 2, 50 , i)}\n",
    "print(no_primes2)"
   ]
  },
  {
   "cell_type": "code",
   "execution_count": null,
   "metadata": {},
   "outputs": [],
   "source": []
  },
  {
   "cell_type": "markdown",
   "metadata": {},
   "source": [
    "### For - else\n",
    "\n",
    "* 보통의 프로그래밍언어에서 'else'라고하면, if와 함께 오는 경우가 대부분이지만, 파이썬에서는 for문과 함께 쓰기도합니다.\n",
    "* for-else는 for문이 중간에 break등으로 끊기지않고, 끝까지 수행되었을때 수행되는 코드를 담고있습니다.\n",
    "* 코딩을 하다보면 for문이 중간에 break되었는지, 되어있지 않는지 판별할때 테스트 변수를둬서 확인하는 방법으로 처리합니다. 이를 파이썬에서는 For-else문으로 간단하게 해결할수있습니다.\n"
   ]
  },
  {
   "cell_type": "code",
   "execution_count": 8,
   "metadata": {},
   "outputs": [
    {
     "name": "stdout",
     "output_type": "stream",
     "text": [
      "4=2*2.0\n",
      "6=2*3.0\n",
      "8=2*4.0\n",
      "9=3*3.0\n"
     ]
    }
   ],
   "source": [
    "for n in range(2, 10):\n",
    "    for x in range(2, n):\n",
    "        if n % x == 0:\n",
    "            print(f'{n}={x}*{n/x}')\n",
    "            break"
   ]
  },
  {
   "cell_type": "code",
   "execution_count": 9,
   "metadata": {},
   "outputs": [
    {
     "name": "stdout",
     "output_type": "stream",
     "text": [
      "2은 소수입니다.\n",
      "3은 소수입니다.\n",
      "4=2*2.0\n",
      "5은 소수입니다.\n",
      "6=2*3.0\n",
      "7은 소수입니다.\n",
      "8=2*4.0\n",
      "9=3*3.0\n"
     ]
    }
   ],
   "source": [
    "for n in range(2, 10):\n",
    "    for x in range(2, n):\n",
    "        if n % x == 0:\n",
    "            print(f'{n}={x}*{n/x}')\n",
    "            break\n",
    "    else:\n",
    "        print(f'{n}은 소수입니다.')"
   ]
  },
  {
   "cell_type": "markdown",
   "metadata": {},
   "source": [
    "으음....for-else는 알고리즘 풀 때 좋음"
   ]
  },
  {
   "cell_type": "code",
   "execution_count": null,
   "metadata": {},
   "outputs": [],
   "source": []
  }
 ],
 "metadata": {
  "kernelspec": {
   "display_name": "Python 3",
   "language": "python",
   "name": "python3"
  },
  "language_info": {
   "codemirror_mode": {
    "name": "ipython",
    "version": 3
   },
   "file_extension": ".py",
   "mimetype": "text/x-python",
   "name": "python",
   "nbconvert_exporter": "python",
   "pygments_lexer": "ipython3",
   "version": "3.6.7"
  }
 },
 "nbformat": 4,
 "nbformat_minor": 2
}
