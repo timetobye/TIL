{
 "cells": [
  {
   "cell_type": "markdown",
   "metadata": {},
   "source": [
    "# Python intermediate Stduy group\n",
    "\n",
    "## Reference : https://github.com/KaggleBreak/interpy-kr\n",
    "\n",
    "- 위 내용을 참고하여 재학습하였습니다."
   ]
  },
  {
   "cell_type": "markdown",
   "metadata": {},
   "source": [
    "### 학습 하고 난 후...\n",
    "- 공식 문서를 보고 조금 더 기초부터 학습이 필요하다고 생각함\n",
    "- https://docs.python.org/ko/3/library/unittest.html#organizing-tests"
   ]
  },
  {
   "cell_type": "markdown",
   "metadata": {},
   "source": [
    "# Unit Test\n",
    "- 유닛 테스트(unit test)는 컴퓨터 프로그래밍에서 소스 코드의 특정 모듈이 의도된 대로 정확히 작동하는지 검증하는 절차. \n",
    "- 즉, 모든 함수와 메소드에 대한 테스트 케이스(Test case)를 작성하는 절차."
   ]
  },
  {
   "cell_type": "markdown",
   "metadata": {},
   "source": [
    "### 사직 연산기"
   ]
  },
  {
   "cell_type": "code",
   "execution_count": 17,
   "metadata": {},
   "outputs": [],
   "source": [
    "class Calc():\n",
    "    @staticmethod\n",
    "    def add(a, b):\n",
    "        return a+b\n",
    "    \n",
    "    @staticmethod\n",
    "    def subtract(a, b):\n",
    "        return a - b\n",
    "    \n",
    "    @staticmethod\n",
    "    def multiply(a, b):\n",
    "        return a * b\n",
    "    \n",
    "    @staticmethod\n",
    "    def divide(a, b):\n",
    "        return a / b"
   ]
  },
  {
   "cell_type": "code",
   "execution_count": 2,
   "metadata": {},
   "outputs": [
    {
     "data": {
      "text/plain": [
       "3"
      ]
     },
     "execution_count": 2,
     "metadata": {},
     "output_type": "execute_result"
    }
   ],
   "source": [
    "Calc.add(1,2)"
   ]
  },
  {
   "cell_type": "markdown",
   "metadata": {},
   "source": [
    "### 단위 테스트 코드 작성\n",
    "\n",
    "1. import unittest\n",
    "2. 테스트는 TestCase 클래스로 구성된다. 따라서 unittest.TestCase를 상속받는 임의의 클래스를 만든다.\n",
    "3. 클래스 안에 test 로 시작하는 메서드 이름을 가진 테스트 케이스를 작성한다.\n",
    "\n",
    "|Method|Description|\n",
    "|:----------|:---------------|\n",
    "| assertEqual(a, b) | a == b |\n",
    "| assertNotEqual(a, b) | a != b |\n",
    "| assertTrue(x) | bool(x) is True |\n",
    "| assertFalse(x) | bool(x) is False |\n",
    "| assertIs(a, b) | a is b |\n",
    "| assertIsNot(a, b) | a is not b |\n",
    "| assertIsNone(x) | x is None |\n",
    "| assertIsNotNone(x) | x is not None |\n",
    "| assertIn(a. b) | a in b |\n",
    "| assertNotIn(a. b) | a not in b |\n",
    "| assertIsInstance(a. b) | not isinstance(a, b) |\n",
    "| assertRaises(exc, fun, \\*args, \\*\\*kwargs) | \tfun(\\*args, \\*\\*kwds) raises exc |"
   ]
  },
  {
   "cell_type": "code",
   "execution_count": 5,
   "metadata": {},
   "outputs": [],
   "source": [
    "import unittest"
   ]
  },
  {
   "cell_type": "code",
   "execution_count": 6,
   "metadata": {},
   "outputs": [],
   "source": [
    "class MyTestCase(unittest.TestCase):\n",
    "    \n",
    "    def test_sample(self):\n",
    "        self.assertEqual(Calc.add(1, 2), 3)"
   ]
  },
  {
   "cell_type": "markdown",
   "metadata": {},
   "source": [
    "### 단위 테스트 수행하기\n",
    "- unittest.main()을 수행하면 클래스 내 test로 시작되는 이름을 가진 모든 테스트 메서드들이 수행된다.\n",
    "- 하지만 아래 코드는 주피터 노트북에서는 작동하지 않음"
   ]
  },
  {
   "cell_type": "code",
   "execution_count": 9,
   "metadata": {},
   "outputs": [
    {
     "name": "stderr",
     "output_type": "stream",
     "text": [
      "E\n",
      "======================================================================\n",
      "ERROR: /Users/wontaek/Library/Jupyter/runtime/kernel-9891ad87-c24b-47f6-a301-6042ccec125f (unittest.loader._FailedTest)\n",
      "----------------------------------------------------------------------\n",
      "AttributeError: module '__main__' has no attribute '/Users/wontaek/Library/Jupyter/runtime/kernel-9891ad87-c24b-47f6-a301-6042ccec125f'\n",
      "\n",
      "----------------------------------------------------------------------\n",
      "Ran 1 test in 0.001s\n",
      "\n",
      "FAILED (errors=1)\n"
     ]
    },
    {
     "ename": "SystemExit",
     "evalue": "True",
     "output_type": "error",
     "traceback": [
      "An exception has occurred, use %tb to see the full traceback.\n",
      "\u001b[0;31mSystemExit\u001b[0m\u001b[0;31m:\u001b[0m True\n"
     ]
    },
    {
     "name": "stderr",
     "output_type": "stream",
     "text": [
      "/anaconda3/lib/python3.7/site-packages/IPython/core/interactiveshell.py:3304: UserWarning: To exit: use 'exit', 'quit', or Ctrl-D.\n",
      "  warn(\"To exit: use 'exit', 'quit', or Ctrl-D.\", stacklevel=1)\n"
     ]
    }
   ],
   "source": [
    "if __name__ == '__main__':\n",
    "    unittest.main()"
   ]
  },
  {
   "cell_type": "markdown",
   "metadata": {},
   "source": [
    "### 단위 테스트 수행하기 (주피터 노트북에서)\n",
    "- 테스트 메서드가 어떤 종류의 Exception을 일으키지 않고 실행된다면 테스트가 성공적으로 통과한 것"
   ]
  },
  {
   "cell_type": "code",
   "execution_count": 10,
   "metadata": {},
   "outputs": [
    {
     "name": "stderr",
     "output_type": "stream",
     "text": [
      ".\n",
      "----------------------------------------------------------------------\n",
      "Ran 1 test in 0.001s\n",
      "\n",
      "OK\n"
     ]
    }
   ],
   "source": [
    "if __name__ == '__main__':\n",
    "    unittest.main(argv=[''], exit=False)"
   ]
  },
  {
   "cell_type": "code",
   "execution_count": 18,
   "metadata": {},
   "outputs": [],
   "source": [
    "import unittest\n",
    "class MyTestCase(unittest.TestCase):\n",
    "    \n",
    "    def test_sample1(self):\n",
    "        self.assertEqual(Calc.add(1,2), 3)\n",
    "        \n",
    "    def test_sample2(self):\n",
    "        self.assertEqual(Calc.subtract(1,2), -1)\n",
    "        \n",
    "    def test_sample3(self):\n",
    "        self.assertEqual(Calc.multiply(1,2), 2)\n",
    "        \n",
    "    def test_sample4(self):\n",
    "        self.assertEqual(Calc.divide(1,2), 0.5)"
   ]
  },
  {
   "cell_type": "code",
   "execution_count": 19,
   "metadata": {},
   "outputs": [
    {
     "name": "stderr",
     "output_type": "stream",
     "text": [
      "....\n",
      "----------------------------------------------------------------------\n",
      "Ran 4 tests in 0.003s\n",
      "\n",
      "OK\n"
     ]
    }
   ],
   "source": [
    "if __name__ == '__main__':\n",
    "    unittest.main(argv=[''], exit=False)"
   ]
  },
  {
   "cell_type": "markdown",
   "metadata": {},
   "source": [
    "### Fixture\n",
    "\n",
    "- 하나의 테스트를 수행하기 위해서 하는 준비와 정리를 의미한다.\n",
    "- 각각의 시험을 수행하기 전에 setUp() 메서드를 호출하고 시험을 끝난 후에는 tearDown() 메서드를 호출한다."
   ]
  },
  {
   "cell_type": "code",
   "execution_count": 20,
   "metadata": {},
   "outputs": [],
   "source": [
    "import unittest\n",
    "class MyTestCase(unittest.TestCase):\n",
    "    def setUp(self):\n",
    "        print(\"setUp() called\")\n",
    "    \n",
    "    def tearDown(self):\n",
    "        print(\"tearDown() called\")\n",
    "    \n",
    "    def test_sample1(self):\n",
    "        self.assertEqual(Calc.add(1,2), 3)\n",
    "        print(\"test_sample1() called\")\n",
    "        \n",
    "    def test_sample2(self):\n",
    "        self.assertEqual(Calc.subtract(1,2), -1)\n",
    "        print(\"test_sample2() called\")"
   ]
  },
  {
   "cell_type": "code",
   "execution_count": 21,
   "metadata": {},
   "outputs": [
    {
     "name": "stderr",
     "output_type": "stream",
     "text": [
      ".."
     ]
    },
    {
     "name": "stdout",
     "output_type": "stream",
     "text": [
      "setUp() called\n",
      "test_sample1() called\n",
      "tearDown() called\n",
      "setUp() called\n",
      "test_sample2() called\n",
      "tearDown() called\n"
     ]
    },
    {
     "name": "stderr",
     "output_type": "stream",
     "text": [
      "\n",
      "----------------------------------------------------------------------\n",
      "Ran 2 tests in 0.001s\n",
      "\n",
      "OK\n"
     ]
    }
   ],
   "source": [
    "if __name__ == '__main__':\n",
    "    unittest.main(argv=[''], exit=False)"
   ]
  },
  {
   "cell_type": "markdown",
   "metadata": {},
   "source": [
    "# Mock을 이용한 단위 테스트\n",
    "- 외부의 API나 다른 모듈과의 연동된 상태를 테스트 하는 것은 단위 테스트(Unit Test)가 아니라 통합 테스트(Integration Test)라고 한다.\n",
    "- 유닛 테스트의 목적은 프로그램의 각 부분을 고립 시켜서 각각의 부분이 정확하게 동작하는지 확인하는 것이다.\n",
    "- 다른 모듈이나 객체를 의존하고 있다면, 그 의존하는 부분을 인터페이스가 동일한 의사(pseudo) 객체로 대체할 필요가 있다.\n",
    "- Mock을 이용하면 외부 API를 사용하고 있거나 DB에 접속하는 문제로 단위 테스트가 어려울 때, 외부에 의존하지 않고 테스트를 수행할 수 있다."
   ]
  },
  {
   "cell_type": "markdown",
   "metadata": {},
   "source": [
    "### 외부의 날씨 API를 호출하는 기능"
   ]
  },
  {
   "cell_type": "code",
   "execution_count": 22,
   "metadata": {},
   "outputs": [],
   "source": [
    "import requests\n",
    "\n",
    "class OutsideAPI:\n",
    "    def get_weather(self):\n",
    "        response = requests.get(\"http://www.intermediate-py.com/today/weather\")\n",
    "        return response.text\n",
    "\n",
    "def my_processing():\n",
    "    api = OutsideAPI()\n",
    "    weather = api.get_weather()\n",
    "    \n",
    "    if weather == \"맑음\":\n",
    "        return \"맑은 오늘은 행복이 배가 될거에요\"\n",
    "    elif weather == \"비\":\n",
    "        return \"우산을 꼭 챙기세요\""
   ]
  },
  {
   "cell_type": "code",
   "execution_count": 23,
   "metadata": {},
   "outputs": [],
   "source": [
    "class MyTestCase(unittest.TestCase):\n",
    "    def test_sample1(self):\n",
    "        self.assertIn(my_processing(), [\"맑은 오늘은 행복이 배가 될거에요\", \"우산을 꼭 챙기세요\"])"
   ]
  },
  {
   "cell_type": "code",
   "execution_count": 24,
   "metadata": {},
   "outputs": [
    {
     "name": "stderr",
     "output_type": "stream",
     "text": [
      "E\n",
      "======================================================================\n",
      "ERROR: test_sample1 (__main__.MyTestCase)\n",
      "----------------------------------------------------------------------\n",
      "Traceback (most recent call last):\n",
      "  File \"/anaconda3/lib/python3.7/site-packages/urllib3/connection.py\", line 159, in _new_conn\n",
      "    (self._dns_host, self.port), self.timeout, **extra_kw)\n",
      "  File \"/anaconda3/lib/python3.7/site-packages/urllib3/util/connection.py\", line 57, in create_connection\n",
      "    for res in socket.getaddrinfo(host, port, family, socket.SOCK_STREAM):\n",
      "  File \"/anaconda3/lib/python3.7/socket.py\", line 748, in getaddrinfo\n",
      "    for res in _socket.getaddrinfo(host, port, family, type, proto, flags):\n",
      "socket.gaierror: [Errno 8] nodename nor servname provided, or not known\n",
      "\n",
      "During handling of the above exception, another exception occurred:\n",
      "\n",
      "Traceback (most recent call last):\n",
      "  File \"/anaconda3/lib/python3.7/site-packages/urllib3/connectionpool.py\", line 600, in urlopen\n",
      "    chunked=chunked)\n",
      "  File \"/anaconda3/lib/python3.7/site-packages/urllib3/connectionpool.py\", line 354, in _make_request\n",
      "    conn.request(method, url, **httplib_request_kw)\n",
      "  File \"/anaconda3/lib/python3.7/http/client.py\", line 1229, in request\n",
      "    self._send_request(method, url, body, headers, encode_chunked)\n",
      "  File \"/anaconda3/lib/python3.7/http/client.py\", line 1275, in _send_request\n",
      "    self.endheaders(body, encode_chunked=encode_chunked)\n",
      "  File \"/anaconda3/lib/python3.7/http/client.py\", line 1224, in endheaders\n",
      "    self._send_output(message_body, encode_chunked=encode_chunked)\n",
      "  File \"/anaconda3/lib/python3.7/http/client.py\", line 1016, in _send_output\n",
      "    self.send(msg)\n",
      "  File \"/anaconda3/lib/python3.7/http/client.py\", line 956, in send\n",
      "    self.connect()\n",
      "  File \"/anaconda3/lib/python3.7/site-packages/urllib3/connection.py\", line 181, in connect\n",
      "    conn = self._new_conn()\n",
      "  File \"/anaconda3/lib/python3.7/site-packages/urllib3/connection.py\", line 168, in _new_conn\n",
      "    self, \"Failed to establish a new connection: %s\" % e)\n",
      "urllib3.exceptions.NewConnectionError: <urllib3.connection.HTTPConnection object at 0x10f35fdd8>: Failed to establish a new connection: [Errno 8] nodename nor servname provided, or not known\n",
      "\n",
      "During handling of the above exception, another exception occurred:\n",
      "\n",
      "Traceback (most recent call last):\n",
      "  File \"/anaconda3/lib/python3.7/site-packages/requests/adapters.py\", line 449, in send\n",
      "    timeout=timeout\n",
      "  File \"/anaconda3/lib/python3.7/site-packages/urllib3/connectionpool.py\", line 638, in urlopen\n",
      "    _stacktrace=sys.exc_info()[2])\n",
      "  File \"/anaconda3/lib/python3.7/site-packages/urllib3/util/retry.py\", line 398, in increment\n",
      "    raise MaxRetryError(_pool, url, error or ResponseError(cause))\n",
      "urllib3.exceptions.MaxRetryError: HTTPConnectionPool(host='www.intermediate-py.com', port=80): Max retries exceeded with url: /today/weather (Caused by NewConnectionError('<urllib3.connection.HTTPConnection object at 0x10f35fdd8>: Failed to establish a new connection: [Errno 8] nodename nor servname provided, or not known'))\n",
      "\n",
      "During handling of the above exception, another exception occurred:\n",
      "\n",
      "Traceback (most recent call last):\n",
      "  File \"<ipython-input-23-623c130d2a8b>\", line 3, in test_sample1\n",
      "    self.assertIn(my_processing(), [\"맑은 오늘은 행복이 배가 될거에요\", \"우산을 꼭 챙기세요\"])\n",
      "  File \"<ipython-input-22-6d927b7c15bc>\", line 10, in my_processing\n",
      "    weather = api.get_weather()\n",
      "  File \"<ipython-input-22-6d927b7c15bc>\", line 5, in get_weather\n",
      "    response = requests.get(\"http://www.intermediate-py.com/today/weather\")\n",
      "  File \"/anaconda3/lib/python3.7/site-packages/requests/api.py\", line 75, in get\n",
      "    return request('get', url, params=params, **kwargs)\n",
      "  File \"/anaconda3/lib/python3.7/site-packages/requests/api.py\", line 60, in request\n",
      "    return session.request(method=method, url=url, **kwargs)\n",
      "  File \"/anaconda3/lib/python3.7/site-packages/requests/sessions.py\", line 533, in request\n",
      "    resp = self.send(prep, **send_kwargs)\n",
      "  File \"/anaconda3/lib/python3.7/site-packages/requests/sessions.py\", line 646, in send\n",
      "    r = adapter.send(request, **kwargs)\n",
      "  File \"/anaconda3/lib/python3.7/site-packages/requests/adapters.py\", line 516, in send\n",
      "    raise ConnectionError(e, request=request)\n",
      "requests.exceptions.ConnectionError: HTTPConnectionPool(host='www.intermediate-py.com', port=80): Max retries exceeded with url: /today/weather (Caused by NewConnectionError('<urllib3.connection.HTTPConnection object at 0x10f35fdd8>: Failed to establish a new connection: [Errno 8] nodename nor servname provided, or not known'))\n",
      "\n",
      "----------------------------------------------------------------------\n",
      "Ran 1 test in 0.030s\n",
      "\n",
      "FAILED (errors=1)\n"
     ]
    }
   ],
   "source": [
    "if __name__ == '__main__':\n",
    "    unittest.main(argv=[''], exit=False)"
   ]
  },
  {
   "cell_type": "markdown",
   "metadata": {},
   "source": [
    "### 외부 API를 의사 객체로 대체\n",
    "- 특정 클래스나 매서드를 mock 객체로 대체하려면, patch 장식자 매니저를 이용한다."
   ]
  },
  {
   "cell_type": "code",
   "execution_count": 25,
   "metadata": {},
   "outputs": [],
   "source": [
    "import unittest\n",
    "from unittest.mock import patch\n",
    "\n",
    "class MyTestCase(unittest.TestCase):\n",
    "    @patch('__main__.OutsideAPI')\n",
    "    def test_sample1(self, APIMock):\n",
    "        api = APIMock()\n",
    "        api.get_weather.return_value = \"맑음\"\n",
    "        self.assertEqual(my_processing(), \"맑은 오늘은 행복이 배가 될거에요\")\n",
    "        \n",
    "    @patch('__main__.OutsideAPI')\n",
    "    def test_sample2(self, APIMock):\n",
    "        api = APIMock()\n",
    "        api.get_weather.return_value = \"비\"\n",
    "        self.assertEqual(my_processing(), \"우산을 꼭 챙기세요\")\n",
    "        \n",
    "    @patch('__main__.OutsideAPI')\n",
    "    def test_sample3(self, APIMock):\n",
    "        api = APIMock()\n",
    "        api.get_weather.return_value = \"맑음\"\n",
    "        self.assertIn(my_processing(), [\"맑은 오늘은 행복이 배가 될거에요\", \"우산을 꼭 챙기세요\"])"
   ]
  },
  {
   "cell_type": "code",
   "execution_count": 26,
   "metadata": {},
   "outputs": [
    {
     "name": "stderr",
     "output_type": "stream",
     "text": [
      "...\n",
      "----------------------------------------------------------------------\n",
      "Ran 3 tests in 0.004s\n",
      "\n",
      "OK\n"
     ]
    }
   ],
   "source": [
    "if __name__ == '__main__':\n",
    "    unittest.main(argv=[''], exit=False)"
   ]
  }
 ],
 "metadata": {
  "kernelspec": {
   "display_name": "Python 3",
   "language": "python",
   "name": "python3"
  },
  "language_info": {
   "codemirror_mode": {
    "name": "ipython",
    "version": 3
   },
   "file_extension": ".py",
   "mimetype": "text/x-python",
   "name": "python",
   "nbconvert_exporter": "python",
   "pygments_lexer": "ipython3",
   "version": "3.7.3"
  }
 },
 "nbformat": 4,
 "nbformat_minor": 2
}
