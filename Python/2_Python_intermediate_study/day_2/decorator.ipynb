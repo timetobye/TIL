{
 "cells": [
  {
   "cell_type": "markdown",
   "metadata": {},
   "source": [
    "### Python intermediate Stduy group\n",
    "\n",
    "## Reference : https://github.com/KaggleBreak/interpy-kr\n",
    "\n",
    "- 위 내용을 참고하여 재학습하였습니다.\n",
    "\n",
    "# Decorator\n",
    "\n",
    "## 1. function 레벨에서 데코레이터 사용하기: parameter가 없는 경우\n",
    "\n",
    "### decorator란?\n",
    "- decorator란?: 데코레이터를 적용한 함수를 wrapping 하고, 이 wrapping 된 함수의 앞뒤에 추가적으로 꾸며질 구문 들을 정의해서 손쉽게 재사용 가능하게 해주는 것\n",
    "- 아래 샘플 코드에서 함수 정의부 위에 '@'로 시작하는 부분이 decorator\n",
    "- 기본적인 function에 부가적인 장식이라는 의미에서 'decorator'라고 지칭함"
   ]
  },
  {
   "cell_type": "code",
   "execution_count": 1,
   "metadata": {},
   "outputs": [
    {
     "ename": "NameError",
     "evalue": "name 'sample_decorator' is not defined",
     "output_type": "error",
     "traceback": [
      "\u001b[0;31m---------------------------------------------------------------------------\u001b[0m",
      "\u001b[0;31mNameError\u001b[0m                                 Traceback (most recent call last)",
      "\u001b[0;32m<ipython-input-1-3008f09fbceb>\u001b[0m in \u001b[0;36m<module>\u001b[0;34m\u001b[0m\n\u001b[0;32m----> 1\u001b[0;31m \u001b[0;34m@\u001b[0m\u001b[0msample_decorator\u001b[0m\u001b[0;34m\u001b[0m\u001b[0m\n\u001b[0m\u001b[1;32m      2\u001b[0m \u001b[0;32mdef\u001b[0m \u001b[0mmy_function\u001b[0m\u001b[0;34m(\u001b[0m\u001b[0;34m)\u001b[0m\u001b[0;34m:\u001b[0m\u001b[0;34m\u001b[0m\u001b[0m\n\u001b[1;32m      3\u001b[0m     \u001b[0mprint\u001b[0m\u001b[0;34m(\u001b[0m\u001b[0;34m\"hi!\"\u001b[0m\u001b[0;34m)\u001b[0m\u001b[0;34m\u001b[0m\u001b[0m\n\u001b[1;32m      4\u001b[0m \u001b[0;34m\u001b[0m\u001b[0m\n\u001b[1;32m      5\u001b[0m \u001b[0;31m# sample_decorator가 아직 정의되지 않았기 때문에 위 코드를 실행하면 에러가 납니다\u001b[0m\u001b[0;34m\u001b[0m\u001b[0;34m\u001b[0m\u001b[0m\n",
      "\u001b[0;31mNameError\u001b[0m: name 'sample_decorator' is not defined"
     ]
    }
   ],
   "source": [
    "@sample_decorator\n",
    "def my_function():\n",
    "    print(\"hi!\")\n",
    "\n",
    "# sample_decorator가 아직 정의되지 않았기 때문에 위 코드를 실행하면 에러가 납니다"
   ]
  },
  {
   "cell_type": "markdown",
   "metadata": {},
   "source": [
    "### decorator는 언제 사용할까?\n",
    "- 예를 들어 아래 `print_hello`라는 함수처럼 인사말을 프린트해주는 간단한 함수가 있을 때 '안녕하세요!'의 바로 뒤에 현재 시간을 함께 프린트해주고 싶다면 어떻게 해야 할까?"
   ]
  },
  {
   "cell_type": "code",
   "execution_count": 2,
   "metadata": {},
   "outputs": [],
   "source": [
    "def print_hello():\n",
    "    print(\"안녕하세요!\")"
   ]
  },
  {
   "cell_type": "code",
   "execution_count": 3,
   "metadata": {},
   "outputs": [],
   "source": [
    "from datetime import datetime\n",
    "\n",
    "def print_hello():\n",
    "    print(\"안녕하세요!\")\n",
    "    print(datetime.now())"
   ]
  },
  {
   "cell_type": "markdown",
   "metadata": {},
   "source": [
    "- 하지만 이런 함수가 100개쯤 있다면...? 이들 모두에 동일한 라인을 추가하는 것은 귀찮고 효율적이지 못한 방법\n",
    "- 이 경우 아래와 같이 decorator를 사용할 수 있음\n",
    "- 아래 예제에서 `print_datetime`이라는 함수를 선언하고 파라미터로 function을 받음(지난 시간에 다루었던 first class 함수)\n",
    "- 내부에 `decorated`라는 nested 함수를 선언하고 input으로 받은 함수의 앞뒤에 장식적인 라인을 추가해 줌\n",
    "- 아래와 같은 원리로 동작하므로 입력받은 함수의 중간에 끼어들 수는 없음(입력받은 함수는 통으로 실행되고 그 앞이나 뒤에 라인을 추가해 주는 것)"
   ]
  },
  {
   "cell_type": "code",
   "execution_count": 6,
   "metadata": {},
   "outputs": [
    {
     "name": "stdout",
     "output_type": "stream",
     "text": [
      "yahoo\n",
      "This is A\n",
      "2019-05-08 02:28:46.899330\n",
      "--------------\n",
      "yahoo\n",
      "This is B\n",
      "2019-05-08 02:28:46.899450\n",
      "--------------\n",
      "yahoo\n",
      "This is C\n",
      "2019-05-08 02:28:46.899721\n",
      "--------------\n"
     ]
    }
   ],
   "source": [
    "def print_datetime(func):\n",
    "    \n",
    "    def decorated():\n",
    "        print('yahoo')\n",
    "        func()\n",
    "        print(datetime.now())\n",
    "        print('--------------')\n",
    "        \n",
    "    return decorated\n",
    "\n",
    "@print_datetime\n",
    "def print_a():\n",
    "    print(\"This is A\")\n",
    "    \n",
    "@print_datetime\n",
    "def print_b():\n",
    "    print(\"This is B\")\n",
    "    \n",
    "@print_datetime\n",
    "def print_c():\n",
    "    print(\"This is C\")\n",
    "    \n",
    "print_a()\n",
    "print_b()\n",
    "print_c()"
   ]
  },
  {
   "cell_type": "markdown",
   "metadata": {},
   "source": [
    "### @ 심볼이 없는 경우\n",
    "- 사실 데코레이터는 아래와 같이 동작하는 것을 `@` 심볼을 사용해 간편하게 만든 것\n",
    "- first-class function의 특징을 이용해 함수를 parameter로 주고받음\n",
    "- 아래 예시에서 nested method인 `decorated`에서는 `func`를 입력으로 받지 않았는데도 실행이 가능(closure 함수)"
   ]
  },
  {
   "cell_type": "code",
   "execution_count": 10,
   "metadata": {},
   "outputs": [
    {
     "name": "stdout",
     "output_type": "stream",
     "text": [
      "This is A\n"
     ]
    }
   ],
   "source": [
    "# @ 심볼을 사용하지 않은 데코레이터\n",
    "def print_datetime(func):\n",
    "    def decorated():\n",
    "        return func()\n",
    "    return decorated\n",
    "\n",
    "def print_a():\n",
    "    print(\"This is A\")\n",
    "\n",
    "decorated_print_a = print_datetime(print_a)\n",
    "decorated_print_a()"
   ]
  },
  {
   "cell_type": "code",
   "execution_count": 11,
   "metadata": {},
   "outputs": [
    {
     "data": {
      "text/plain": [
       "<function __main__.print_datetime.<locals>.decorated()>"
      ]
     },
     "execution_count": 11,
     "metadata": {},
     "output_type": "execute_result"
    }
   ],
   "source": [
    "# @ 심볼을 사용하지 않은 데코레이터\n",
    "def print_datetime(func):\n",
    "    def decorated():\n",
    "        return func()\n",
    "    return decorated\n",
    "\n",
    "def print_a():\n",
    "    print(\"This is A\")\n",
    "\n",
    "decorated_print_a = print_datetime(print_a)\n",
    "decorated_print_a"
   ]
  },
  {
   "cell_type": "markdown",
   "metadata": {},
   "source": [
    "## 2) function 레벨에서 데코레이터 사용하기: parameter가 있는 경우\n",
    "- input으로 들어오는 함수의 parameter가 몇 개인지 알 수 없기 때문에 지난 시간에 다루었던 `*args`와 `*kwargs`가 사용됨"
   ]
  },
  {
   "cell_type": "code",
   "execution_count": 8,
   "metadata": {},
   "outputs": [
    {
     "name": "stdout",
     "output_type": "stream",
     "text": [
      "This is A: A\n",
      "2019-05-08 02:34:39.406275\n",
      "This is B: B\n",
      "2019-05-08 02:34:39.406366\n",
      "This is C: C\n",
      "2019-05-08 02:34:39.406451\n"
     ]
    }
   ],
   "source": [
    "def print_datetime(func):\n",
    "    def decorated(*args, **kwargs):\n",
    "        func(*args, **kwargs)\n",
    "        print(datetime.now())\n",
    "    return decorated\n",
    "\n",
    "@print_datetime\n",
    "def print_a(alphabet):\n",
    "    print(\"This is A: {}\".format(alphabet))\n",
    "    \n",
    "@print_datetime\n",
    "def print_b(alphabet):\n",
    "    print(\"This is B: {}\".format(alphabet))\n",
    "    \n",
    "@print_datetime\n",
    "def print_c(alphabet):\n",
    "    print(\"This is C: {}\".format(alphabet))\n",
    "    \n",
    "print_a(\"A\")\n",
    "print_b(\"B\")\n",
    "print_c(\"C\")"
   ]
  },
  {
   "cell_type": "code",
   "execution_count": 16,
   "metadata": {},
   "outputs": [
    {
     "name": "stdout",
     "output_type": "stream",
     "text": [
      "('A', 'B', 'C')\n",
      "This is alphabet list: ('A', 'B', 'C')\n",
      "2021-03-03 23:52:53.342824\n"
     ]
    }
   ],
   "source": [
    "def print_datetime(func):\n",
    "    def decorated(*args, **kwargs):\n",
    "        func(*args, **kwargs)\n",
    "        print(datetime.now())\n",
    "    return decorated\n",
    "\n",
    "@print_datetime\n",
    "def print_a(*alphabet):\n",
    "    print(alphabet)\n",
    "    print(\"This is alphabet list: {}\".format(alphabet))\n",
    "    \n",
    "print_a(\"A\", \"B\", \"C\")"
   ]
  },
  {
   "cell_type": "code",
   "execution_count": 17,
   "metadata": {},
   "outputs": [
    {
     "name": "stdout",
     "output_type": "stream",
     "text": [
      "('A', 'B', 'C')\n",
      "This is alphabet list: ('A', 'B', 'C')\n",
      "2021-03-03 23:52:59.560068\n"
     ]
    }
   ],
   "source": [
    "def print_datetime(func):\n",
    "    def decorated(*args, **kwargs):\n",
    "        func(*args, **kwargs)\n",
    "        print(datetime.now())\n",
    "    return decorated\n",
    "\n",
    "@print_datetime\n",
    "def print_a(*alphabet):\n",
    "    print(alphabet)\n",
    "    print(\"This is alphabet list: {}\".format(alphabet))\n",
    "    \n",
    "result = print_a(\"A\", \"B\", \"C\")"
   ]
  },
  {
   "cell_type": "code",
   "execution_count": 18,
   "metadata": {},
   "outputs": [
    {
     "name": "stdout",
     "output_type": "stream",
     "text": [
      "None\n"
     ]
    }
   ],
   "source": [
    "print(result)"
   ]
  },
  {
   "cell_type": "markdown",
   "metadata": {},
   "source": [
    "## 3) function 레벨에서 데코레이터 사용하기: 리턴값이 있는 경우"
   ]
  },
  {
   "cell_type": "code",
   "execution_count": 7,
   "metadata": {},
   "outputs": [
    {
     "name": "stdout",
     "output_type": "stream",
     "text": [
      "This is A: A\n",
      "2021-03-03 23:43:01.782541\n",
      "This is B: B\n",
      "2021-03-03 23:43:01.782661\n",
      "This is C: C\n",
      "2021-03-03 23:43:01.782743\n",
      "A B C\n"
     ]
    }
   ],
   "source": [
    "def print_datetime(func):\n",
    "    def decorated(*args, **kwargs):\n",
    "        input_alphabet = func(*args, **kwargs)   # return값을 저장한 후\n",
    "        print(datetime.now())\n",
    "        return input_alphabet  # 리턴해주는 부분을 추가\n",
    "    return decorated\n",
    "\n",
    "@print_datetime\n",
    "def print_a(alphabet):\n",
    "    print(\"This is A: {}\".format(alphabet))\n",
    "    return alphabet\n",
    "    \n",
    "@print_datetime\n",
    "def print_b(alphabet):\n",
    "    print(\"This is B: {}\".format(alphabet))\n",
    "    return alphabet\n",
    "    \n",
    "@print_datetime\n",
    "def print_c(alphabet):\n",
    "    print(\"This is C: {}\".format(alphabet))\n",
    "    return alphabet\n",
    "    \n",
    "val_a = print_a(\"A\")\n",
    "val_b = print_b(\"B\")\n",
    "val_c = print_c(\"C\")\n",
    "print(val_a, val_b, val_c)"
   ]
  },
  {
   "cell_type": "code",
   "execution_count": 15,
   "metadata": {},
   "outputs": [
    {
     "name": "stdout",
     "output_type": "stream",
     "text": [
      "This is A: A\n",
      "A\n",
      "2021-03-03 23:51:54.008104\n",
      "This is B: B\n",
      "B\n",
      "2021-03-03 23:51:54.008229\n",
      "This is C: C\n",
      "C\n",
      "2021-03-03 23:51:54.008505\n",
      "A B C\n"
     ]
    }
   ],
   "source": [
    "def print_datetime(func):\n",
    "    def decorated(*args, **kwargs):\n",
    "        input_alphabet = func(*args, **kwargs)   # return값을 저장한 후\n",
    "        print(input_alphabet)\n",
    "        print(datetime.now())\n",
    "        return input_alphabet  # 리턴해주는 부분을 추가\n",
    "    return decorated\n",
    "\n",
    "@print_datetime\n",
    "def print_a(alphabet):\n",
    "    print(\"This is A: {}\".format(alphabet))\n",
    "    return alphabet\n",
    "    \n",
    "@print_datetime\n",
    "def print_b(alphabet):\n",
    "    print(\"This is B: {}\".format(alphabet))\n",
    "    return alphabet\n",
    "    \n",
    "@print_datetime\n",
    "def print_c(alphabet):\n",
    "    print(\"This is C: {}\".format(alphabet))\n",
    "    return alphabet\n",
    "\n",
    "val_a = print_a(\"A\")\n",
    "val_b = print_b(\"B\")\n",
    "val_c = print_c(\"C\")\n",
    "print(val_a, val_b, val_c)"
   ]
  },
  {
   "cell_type": "markdown",
   "metadata": {},
   "source": [
    "## 4) class 레벨에서 데코레이터 사용하기\n",
    "- class 형태로 decorator를 사용하고자 한다면 아래 `DatetimeDecorator` 예시처럼 `__call__` 함수로 정의해주면 됨\n",
    "- 위 function 레벨과 거의 유사하지만 조금 더 명시적임"
   ]
  },
  {
   "cell_type": "code",
   "execution_count": 14,
   "metadata": {},
   "outputs": [
    {
     "name": "stdout",
     "output_type": "stream",
     "text": [
      "This is A: wow\n",
      "2019-05-08 02:43:26.497707\n",
      "This is B: good\n",
      "2019-05-08 02:43:26.497902\n",
      "This is C: fantastic!\n",
      "2019-05-08 02:43:26.498024\n"
     ]
    }
   ],
   "source": [
    "class DatetimeDecorator:\n",
    "\n",
    "    def __init__(self, f):\n",
    "        self.func = f\n",
    "\n",
    "    def __call__(self, *args, **kwargs):\n",
    "        self.func(*args, **kwargs)\n",
    "        print(datetime.now())\n",
    "\n",
    "        \n",
    "class MainClass:\n",
    "    @DatetimeDecorator\n",
    "    def print_a(alphabet):\n",
    "        print(\"This is A: {}\".format(alphabet))\n",
    "\n",
    "    @DatetimeDecorator\n",
    "    def print_b(alphabet):\n",
    "        print(\"This is B: {}\".format(alphabet))\n",
    "\n",
    "    @DatetimeDecorator\n",
    "    def print_c(alphabet):\n",
    "        print(\"This is C: {}\".format(alphabet))\n",
    "\n",
    "        \n",
    "my = MainClass()\n",
    "my.print_a(\"wow\")\n",
    "my.print_b(\"good\")\n",
    "my.print_c(\"fantastic!\")"
   ]
  },
  {
   "cell_type": "markdown",
   "metadata": {},
   "source": [
    "## 5) 주요 활용 사례\n",
    "\n",
    "분석, 로깅\n",
    "- 특히 규모가 큰 애플리케이션에서는 현재 무슨 일이 벌어지고 있는지 구체적으로 측정하고 다양한 활동을 정량화 하는 지표 기록해야 할 때가 많음\n",
    "- 데코레이터는 중요 이벤트를 전용 함수나 메서드에 캡슐화함으로써 이러한 요구사항을 아주 가독성 높고 손쉽게 처리 가능\n",
    "- 동일한 프린트나 로깅 부분을 일일이 모든 함수에 추가해줄 수 없으므로 로깅 함수를 별도로 지정해 데코레이터로 사용"
   ]
  },
  {
   "cell_type": "code",
   "execution_count": 19,
   "metadata": {},
   "outputs": [
    {
     "name": "stdout",
     "output_type": "stream",
     "text": [
      "Ordering: order_hamburger\n",
      "Order result: ('더블패티', '치킨')\n",
      "Ordering: order_pizza\n",
      "Order result: ('토마토', '치즈')\n",
      "('토마토', '치즈') ('더블패티', '치킨')\n"
     ]
    }
   ],
   "source": [
    "def log_order_event(func):\n",
    "    def wrapper(*args, **kwargs):\n",
    "        print(\"Ordering: {}\".format(func.__name__))\n",
    "        order = func(*args, **kwargs)\n",
    "        print(\"Order result: {}\".format(order))\n",
    "        \n",
    "        return order\n",
    "    \n",
    "    return wrapper\n",
    "\n",
    "@log_order_event\n",
    "def order_hamburger(*menu_name):\n",
    "    return menu_name\n",
    "\n",
    "@log_order_event\n",
    "def order_pizza(*toppings):\n",
    "    return toppings\n",
    "\n",
    "burger_order = order_hamburger('더블패티', '치킨')\n",
    "pizza_order = order_pizza(\"토마토\", \"치즈\")\n",
    "\n",
    "print(pizza_order, burger_order)"
   ]
  },
  {
   "cell_type": "markdown",
   "metadata": {},
   "source": [
    "### 유효성 검사와 런타임 검사\n",
    "\n",
    "> 파이썬의 타입 체계는 타입에 엄격하지만(strongly typed) 매우 동적임. 따라서 들어오고 나가는 데이터에 대해 좀 더 세련된 맞춤형 검사를 강제하여 버그를 방지할 수 있음. 데코레이터를 이용하면 이 모든 작업을 손쉽게 처리하고 한번에 여러 함수에 적용할 수 있음\n",
    "\n",
    "> 예를 들어 함수가 여러 개 있고 각 함수는 딕셔너리를 하나 반환하는데, 이 딕셔너리에는 다른 필드와 함께 “summary”라는 필드가 포함돼 있음. 이 요약값은 20자를 넘으면 안 되고 이를 위반하면 오류. 아래 예시는 이 같은 오류가 발생할 경우 ValueError를 던지는 데코레이터"
   ]
  },
  {
   "cell_type": "code",
   "execution_count": 24,
   "metadata": {},
   "outputs": [],
   "source": [
    "def validate_summary(func):\n",
    "    def wrapper(*args, **kwargs):\n",
    "        data = func(*args, **kwargs)\n",
    "        \n",
    "        if len(data['summary']) > 20:\n",
    "            raise ValueError(\"Summary too long\")\n",
    "        \n",
    "        return data\n",
    "    \n",
    "    return wrapper\n",
    "\n",
    "@validate_summary\n",
    "def short_summary1(val):\n",
    "    return {'summary': \"이것은 짧은 summary\", 'val': val}\n",
    "\n",
    "\n",
    "@validate_summary\n",
    "def short_summary2(val):\n",
    "    return {'summary': \"이것도 짧은 summary\", 'val': val}\n",
    "\n",
    "@validate_summary\n",
    "def long_summary(val):\n",
    "    return {'summary': \"가나다라마바사아자차카타파하가나다라마바사아자차카타파하\", 'val': val}\n",
    "\n"
   ]
  },
  {
   "cell_type": "code",
   "execution_count": 27,
   "metadata": {},
   "outputs": [
    {
     "name": "stdout",
     "output_type": "stream",
     "text": [
      "{'summary': '이것은 짧은 summary', 'val': 'A'}\n"
     ]
    }
   ],
   "source": [
    "summary1_result = short_summary1(\"A\")\n",
    "print(summary1_result)"
   ]
  },
  {
   "cell_type": "code",
   "execution_count": 26,
   "metadata": {},
   "outputs": [
    {
     "name": "stdout",
     "output_type": "stream",
     "text": [
      "{'summary': '이것도 짧은 summary', 'val': 'B'}\n"
     ]
    }
   ],
   "source": [
    "summary2_result = short_summary2(\"B\")\n",
    "print(summary2_result)"
   ]
  },
  {
   "cell_type": "code",
   "execution_count": 28,
   "metadata": {},
   "outputs": [
    {
     "ename": "ValueError",
     "evalue": "Summary too long",
     "output_type": "error",
     "traceback": [
      "\u001b[0;31m---------------------------------------------------------------------------\u001b[0m",
      "\u001b[0;31mValueError\u001b[0m                                Traceback (most recent call last)",
      "\u001b[0;32m<ipython-input-28-d7d04c98e352>\u001b[0m in \u001b[0;36m<module>\u001b[0;34m\u001b[0m\n\u001b[0;32m----> 1\u001b[0;31m \u001b[0mlong_result\u001b[0m \u001b[0;34m=\u001b[0m \u001b[0mlong_summary\u001b[0m\u001b[0;34m(\u001b[0m\u001b[0;34m\"C\"\u001b[0m\u001b[0;34m)\u001b[0m\u001b[0;34m\u001b[0m\u001b[0m\n\u001b[0m\u001b[1;32m      2\u001b[0m \u001b[0mprint\u001b[0m\u001b[0;34m(\u001b[0m\u001b[0mlong_result\u001b[0m\u001b[0;34m)\u001b[0m\u001b[0;34m\u001b[0m\u001b[0m\n",
      "\u001b[0;32m<ipython-input-24-7f2b525c864f>\u001b[0m in \u001b[0;36mwrapper\u001b[0;34m(*args, **kwargs)\u001b[0m\n\u001b[1;32m      4\u001b[0m \u001b[0;34m\u001b[0m\u001b[0m\n\u001b[1;32m      5\u001b[0m         \u001b[0;32mif\u001b[0m \u001b[0mlen\u001b[0m\u001b[0;34m(\u001b[0m\u001b[0mdata\u001b[0m\u001b[0;34m[\u001b[0m\u001b[0;34m'summary'\u001b[0m\u001b[0;34m]\u001b[0m\u001b[0;34m)\u001b[0m \u001b[0;34m>\u001b[0m \u001b[0;36m20\u001b[0m\u001b[0;34m:\u001b[0m\u001b[0;34m\u001b[0m\u001b[0m\n\u001b[0;32m----> 6\u001b[0;31m             \u001b[0;32mraise\u001b[0m \u001b[0mValueError\u001b[0m\u001b[0;34m(\u001b[0m\u001b[0;34m\"Summary too long\"\u001b[0m\u001b[0;34m)\u001b[0m\u001b[0;34m\u001b[0m\u001b[0m\n\u001b[0m\u001b[1;32m      7\u001b[0m \u001b[0;34m\u001b[0m\u001b[0m\n\u001b[1;32m      8\u001b[0m         \u001b[0;32mreturn\u001b[0m \u001b[0mdata\u001b[0m\u001b[0;34m\u001b[0m\u001b[0m\n",
      "\u001b[0;31mValueError\u001b[0m: Summary too long"
     ]
    }
   ],
   "source": [
    "long_result = long_summary(\"C\")\n",
    "print(long_result)"
   ]
  },
  {
   "cell_type": "markdown",
   "metadata": {},
   "source": [
    "### 프레임워크 제작\n",
    "\n",
    "- 데코레이터를 작성하는 법에 익숙해지고 나면 데코레이터를 사용하는 단순한 문법의 이점을 얻을 수 있음. 바로 사용하기 쉬운 언어에 시맨틱을 추가할 수 있고 파이썬 자체의 문법을 확장할 수 있다는 것\n",
    "- 사실 많은 오픈소스 프레임워크에서는 데코레이터를 사용. 웹 애플리케이션 프레임워크인 플라스크(Flask)에서는 데코레이터를 사용해 HTTP 요청을 처리하는 함수로 URL을 라우팅\n",
    "- 아래 샘플 코드에서는 app이라는 전역 객체와 이 객체의 route 함수에서 특정 parameter를 받음. route는 핸들러 함수에 적용되는 데코레이터를 반환. 내부적인 동작 원리는 상당히 난해하고 복잡하지만 플라스크를 사용하는 사람의 관점에서는 그 모든 복잡성이 완전히 감춰짐"
   ]
  },
  {
   "cell_type": "code",
   "execution_count": null,
   "metadata": {},
   "outputs": [],
   "source": [
    "# 아래 예시는 flask에서 바로 가져온 것이라 실행은 되지 않습니다!\n",
    "\n",
    "# For a RESTful todo-list API.\n",
    "@app.route(\"/tasks/\", methods=[\"GET\"])\n",
    "def get_all_tasks():\n",
    "    tasks = app.store.get_all_tasks()\n",
    "    return make_response(json.dumps(tasks), 200)\n",
    "\n",
    "@app.route(\"/tasks/\", methods=[\"POST\"])\n",
    "def create_task():\n",
    "    payload = request.get_json(force=True)\n",
    "    task_id = app.store.create_task(\n",
    "        summary = payload[\"summary\"],\n",
    "        description = payload[\"description\"],\n",
    "    )\n",
    "    task_info = {\"id\": task_id}\n",
    "    return make_response(json.dumps(task_info), 201)\n",
    "\n",
    "@app.route(\"/tasks/<int:task_id>/\")\n",
    "def task_details(task_id):\n",
    "    task_info = app.store.task_details(task_id)\n",
    "    if task_info is None:\n",
    "        return make_response(\"\", 404)\n",
    "    return json.dumps(task_info)"
   ]
  },
  {
   "cell_type": "markdown",
   "metadata": {},
   "source": [
    "- 이 같은 방식으로 데코레이터를 사용하는 것은 일반 파이썬 코드에서도 볼 수 있음. 예를 들어 객체 시스템을 활용할 때 classmethod와 property 데코레이터가 사용됨\n",
    "- 이 클래스에는 세 개의 def statement가 있고 각각의 시맨틱이 모두 다름\n",
    "  - 생성자(__init__)는 일반 method\n",
    "  - for_winter는 팩터리의 일종을 제공하는 classmethod\n",
    "  - progress는 읽기 전용인 동적 속성\n",
    "- @classmethod와 @property 데코레이터의 단순함 덕분에 일상적으로 사용하는 파이썬 객체의 시맨틱을 확장하기가 쉬워짐\n",
    "\n",
    "참고 - https://paphopu.tistory.com/entry/Python-%EB%A7%A4%EA%B0%9C%EB%B3%80%EC%88%98-self-%EC%99%80-cls%EC%9D%98-%EC%B0%A8%EC%9D%B4-%EA%B7%B8%EB%A6%AC%EA%B3%A0-static-method%EC%97%90-%EB%8C%80%ED%95%B4%EC%84%9C"
   ]
  },
  {
   "cell_type": "markdown",
   "metadata": {},
   "source": [
    "### 재사용이 어려운 코드의 재사용\n",
    "- 파이썬에서는 표현력 있는 함수 문법, 함수형 프로그래밍 지원, 완전한 기능의 객체 시스템을 통해 코드를 손쉽게 재사용할 수 있는 형태로 캡슐화하는 강력한 도구를 제공합니다. 하지만 이것만으로는 처리할 수 없는 코드 재사용 패턴이 있음\n",
    "- 불안정한 API를 이용하는 경우를 생각하면, HTTP를 통해 JSON 형식으로 요청을 보내면 99.9%의 경우에는 올바르게 동작함. 하지만 아주 일부 요청이 서버에서 내부 오류를 일으켜서 요청을 재시도해야 하는 경우가 발생. 이 경우 다음과 같은 재시도 로직을 구현할 것"
   ]
  },
  {
   "cell_type": "code",
   "execution_count": null,
   "metadata": {},
   "outputs": [],
   "source": [
    "resp = None\n",
    "\n",
    "while True:\n",
    "    resp = make_api_call()\n",
    "    \n",
    "    if resp.status_code == 500 and tries < MAX_TRIES:\n",
    "        tries +=1\n",
    "        continue\n",
    "    \n",
    "    break\n",
    "    \n",
    "process_response(resp)"
   ]
  },
  {
   "cell_type": "markdown",
   "metadata": {},
   "source": [
    "- make_api_call 같은 함수가 여러 개 있고 이러한 함수를 코드 곳곳에서 호출한다면, 함수를 호출하는 while 반복문을 그때그때마다 구현하기엔 너무 귀찮고 어려움. (새로운 API 호출 함수를 추가할 때마다 같은 작업을 반복...) 이 경우 데코레이터를 사용하면 문제가 상당히 간단해짐"
   ]
  },
  {
   "cell_type": "code",
   "execution_count": null,
   "metadata": {},
   "outputs": [],
   "source": [
    "def retry(func):\n",
    "    def retried_func(*args, **kwargs):\n",
    "        MAX_TRIES = 3\n",
    "        tries = 0\n",
    "        \n",
    "        while True:\n",
    "            resp = func(*args, **kwargs)\n",
    "            \n",
    "            if resp.status_code == 500 and tries < MAX_TRIES:\n",
    "                tries += 1\n",
    "                continue\n",
    "            break\n",
    "        \n",
    "        return resp\n",
    "    return retried_func\n",
    "\n",
    "# 데코레이터가 적용된 함수에서는 Response 객체를 반환하고\n",
    "# 이 객체에는 status_code 속성이 포함\n",
    "# 200: 성공, 500: 서버 측 오류\n",
    "\n",
    "#이렇게 하면 사용하기 쉬운 @retry 데코레이터가 만들어짐\n",
    "@retry\n",
    "def make_api_call():\n",
    "    ...."
   ]
  },
  {
   "cell_type": "markdown",
   "metadata": {},
   "source": [
    "python LEGB\n",
    "- https://wikidocs.net/80519"
   ]
  },
  {
   "cell_type": "code",
   "execution_count": null,
   "metadata": {},
   "outputs": [],
   "source": []
  },
  {
   "cell_type": "code",
   "execution_count": null,
   "metadata": {},
   "outputs": [],
   "source": []
  },
  {
   "cell_type": "code",
   "execution_count": null,
   "metadata": {},
   "outputs": [],
   "source": []
  },
  {
   "cell_type": "code",
   "execution_count": null,
   "metadata": {},
   "outputs": [],
   "source": []
  },
  {
   "cell_type": "code",
   "execution_count": null,
   "metadata": {},
   "outputs": [],
   "source": []
  },
  {
   "cell_type": "code",
   "execution_count": null,
   "metadata": {},
   "outputs": [],
   "source": []
  },
  {
   "cell_type": "code",
   "execution_count": null,
   "metadata": {},
   "outputs": [],
   "source": []
  }
 ],
 "metadata": {
  "kernelspec": {
   "display_name": "Python 3",
   "language": "python",
   "name": "python3"
  },
  "language_info": {
   "codemirror_mode": {
    "name": "ipython",
    "version": 3
   },
   "file_extension": ".py",
   "mimetype": "text/x-python",
   "name": "python",
   "nbconvert_exporter": "python",
   "pygments_lexer": "ipython3",
   "version": "3.6.6"
  }
 },
 "nbformat": 4,
 "nbformat_minor": 2
}
