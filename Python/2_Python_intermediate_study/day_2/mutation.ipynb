{
 "cells": [
  {
   "cell_type": "markdown",
   "metadata": {},
   "source": [
    "# Python intermediate Stduy group\n",
    "\n",
    "## Reference : https://github.com/KaggleBreak/interpy-kr\n",
    "\n",
    "- 위 내용을 참고하여 재학습하였습니다.\n",
    "\n",
    "# 변형"
   ]
  },
  {
   "cell_type": "markdown",
   "metadata": {},
   "source": [
    "### List"
   ]
  },
  {
   "cell_type": "code",
   "execution_count": 1,
   "metadata": {},
   "outputs": [
    {
     "name": "stdout",
     "output_type": "stream",
     "text": [
      "['hi']\n"
     ]
    }
   ],
   "source": [
    "foo = ['hi']\n",
    "print(foo)"
   ]
  },
  {
   "cell_type": "code",
   "execution_count": 2,
   "metadata": {},
   "outputs": [
    {
     "name": "stdout",
     "output_type": "stream",
     "text": [
      "['hi', 'bye']\n"
     ]
    }
   ],
   "source": [
    "bar = foo\n",
    "bar += ['bye']\n",
    "print(foo)"
   ]
  },
  {
   "cell_type": "code",
   "execution_count": 3,
   "metadata": {},
   "outputs": [
    {
     "data": {
      "text/plain": [
       "(4559111048, 4559111048)"
      ]
     },
     "execution_count": 3,
     "metadata": {},
     "output_type": "execute_result"
    }
   ],
   "source": [
    "id(bar), id(foo)"
   ]
  },
  {
   "cell_type": "code",
   "execution_count": 4,
   "metadata": {},
   "outputs": [
    {
     "name": "stdout",
     "output_type": "stream",
     "text": [
      "0x10fbe8388 <class 'list'>\n",
      "0x10fbe8388 <class 'list'>\n",
      "True\n"
     ]
    }
   ],
   "source": [
    "print(hex(id(foo)), type(foo))   # 0x24a5d352fc8 <class 'list'>\n",
    "print(hex(id(bar)), type(bar))   # 0x24a5d352fc8 <class 'list'>\n",
    "print(foo == bar)   # True"
   ]
  },
  {
   "cell_type": "markdown",
   "metadata": {},
   "source": [
    "### Integer"
   ]
  },
  {
   "cell_type": "code",
   "execution_count": 3,
   "metadata": {},
   "outputs": [
    {
     "name": "stdout",
     "output_type": "stream",
     "text": [
      "True\n",
      "True\n",
      "True\n",
      "0x105720680\n"
     ]
    }
   ],
   "source": [
    "# int도 유사하지만 약간의 차이가 있다\n",
    "# 예시) 10이라는 정수 자체가 이미 메모리에 할당돼 있어 x는 해당 주소를 참조하는 형태\n",
    "\n",
    "x = 10\n",
    "y = x\n",
    "\n",
    "print(id(x) == id(y))\n",
    "print(id(x) == id(10))\n",
    "print(id(y) == id(10))\n",
    "print(hex(id(10)))"
   ]
  },
  {
   "cell_type": "code",
   "execution_count": 4,
   "metadata": {},
   "outputs": [
    {
     "name": "stdout",
     "output_type": "stream",
     "text": [
      "False\n",
      "True\n",
      "True\n",
      "0x105720680\n",
      "0x1057206a0\n"
     ]
    }
   ],
   "source": [
    "# 따라서 x += 1을 해줄 경우 x의 주소가 변하는 것처럼 결과가 나오는데 이는 사실 x가 11을 참조하기 때문\n",
    "\n",
    "x += 1\n",
    "\n",
    "print(id(x) == id(y))\n",
    "print(id(x) == id(11))\n",
    "print(id(y) == id(10))\n",
    "print(hex(id(10)))\n",
    "print(hex(id(11)))"
   ]
  },
  {
   "cell_type": "code",
   "execution_count": 6,
   "metadata": {},
   "outputs": [
    {
     "name": "stdout",
     "output_type": "stream",
     "text": [
      "True\n",
      "True\n",
      "0x1057206a0\n"
     ]
    }
   ],
   "source": [
    "y += 1\n",
    "\n",
    "print(id(x) == id(y))\n",
    "print(id(x) == id(11))\n",
    "print(hex(id(11)))"
   ]
  },
  {
   "cell_type": "markdown",
   "metadata": {},
   "source": [
    "### Tuple은 과연 불변?"
   ]
  },
  {
   "cell_type": "code",
   "execution_count": 8,
   "metadata": {},
   "outputs": [
    {
     "name": "stdout",
     "output_type": "stream",
     "text": [
      "('holberton', [1, 2, 3])\n",
      "False\n"
     ]
    }
   ],
   "source": [
    "s = ('holberton', [1, 2, 3])\n",
    "t = s\n",
    "s += (5, )\n",
    "\n",
    "print(t)\n",
    "print(id(s) == id(t))"
   ]
  },
  {
   "cell_type": "code",
   "execution_count": 10,
   "metadata": {},
   "outputs": [
    {
     "ename": "TypeError",
     "evalue": "'tuple' object does not support item assignment",
     "output_type": "error",
     "traceback": [
      "\u001b[0;31m---------------------------------------------------------------------------\u001b[0m",
      "\u001b[0;31mTypeError\u001b[0m                                 Traceback (most recent call last)",
      "\u001b[0;32m<ipython-input-10-e7cb9e8bbeaa>\u001b[0m in \u001b[0;36m<module>\u001b[0;34m\u001b[0m\n\u001b[0;32m----> 1\u001b[0;31m \u001b[0ms\u001b[0m\u001b[0;34m[\u001b[0m\u001b[0;36m1\u001b[0m\u001b[0;34m]\u001b[0m \u001b[0;34m+=\u001b[0m \u001b[0;34m[\u001b[0m\u001b[0;36m5\u001b[0m\u001b[0;34m,\u001b[0m \u001b[0;34m]\u001b[0m\u001b[0;34m\u001b[0m\u001b[0m\n\u001b[0m",
      "\u001b[0;31mTypeError\u001b[0m: 'tuple' object does not support item assignment"
     ]
    }
   ],
   "source": [
    "s[1] += [5, ]"
   ]
  },
  {
   "cell_type": "markdown",
   "metadata": {},
   "source": [
    "하지만 실제 s[1]이 참조하고 있는 list에는 새 요소가 추가됐으며 t도 동일한 주소를 참조하고 있기 때문에 t에도 반영"
   ]
  },
  {
   "cell_type": "code",
   "execution_count": 11,
   "metadata": {},
   "outputs": [
    {
     "name": "stdout",
     "output_type": "stream",
     "text": [
      "('holberton', [1, 2, 3, 5], 5)\n",
      "('holberton', [1, 2, 3, 5])\n",
      "0x10896f548\n",
      "False\n"
     ]
    }
   ],
   "source": [
    "print(s)\n",
    "print(t)\n",
    "print(hex(id(s[1])))\n",
    "print(id(s)==id(t))"
   ]
  },
  {
   "cell_type": "markdown",
   "metadata": {},
   "source": [
    "### 참조에 의한 호출\n",
    "참조(변형 가능한) 객체를 함수의 인자로 넘기기 때문에 실제로 함수 내에서 이뤄진 연산이 해당 객체에 반영"
   ]
  },
  {
   "cell_type": "code",
   "execution_count": 12,
   "metadata": {},
   "outputs": [
    {
     "name": "stdout",
     "output_type": "stream",
     "text": [
      "0x1088fc1c8\n",
      "[5, 6, 10]\n",
      "0x1088fc1c8\n"
     ]
    }
   ],
   "source": [
    "def update_list(sample_list):\n",
    "    sample_list += [10]\n",
    "    \n",
    "n = [5, 6]\n",
    "print(hex(id(n)))\n",
    "\n",
    "update_list(n)\n",
    "print(n)\n",
    "print(hex(id(n)))\n",
    "    "
   ]
  },
  {
   "cell_type": "markdown",
   "metadata": {},
   "source": [
    "### 값에 의한 호출\n",
    "\n",
    "아래와 같은 경우 객체가 참조하고 있는 값만을 넘겨주기 때문에 해당 함수를 호출하는 동안에만 참조 객체가 변경"
   ]
  },
  {
   "cell_type": "code",
   "execution_count": 13,
   "metadata": {},
   "outputs": [
    {
     "name": "stdout",
     "output_type": "stream",
     "text": [
      "0x1057205e0 15 0x105720720\n",
      "5\n"
     ]
    }
   ],
   "source": [
    "def update_number(n):\n",
    "    tmp = hex(id(n))\n",
    "    n += 10\n",
    "    \n",
    "    print(tmp, n, hex(id(n)))\n",
    "\n",
    "b = 5\n",
    "update_number(b)\n",
    "print(b)"
   ]
  },
  {
   "cell_type": "markdown",
   "metadata": {},
   "source": [
    "### 기타\n",
    "\n",
    "257 이상의 숫자는 동적으로 메모리에 할당\n",
    "- [동적으로 메모리 할당?](https://ko.wikipedia.org/wiki/%EB%8F%99%EC%A0%81_%EB%A9%94%EB%AA%A8%EB%A6%AC_%ED%95%A0%EB%8B%B9)"
   ]
  },
  {
   "cell_type": "code",
   "execution_count": 17,
   "metadata": {},
   "outputs": [
    {
     "name": "stdout",
     "output_type": "stream",
     "text": [
      "0x1088beb70\n",
      "False\n",
      "False\n"
     ]
    }
   ],
   "source": [
    "a = 257\n",
    "print(hex(id(a)))\n",
    "b = 257\n",
    "\n",
    "print(id(b) == id(a))\n",
    "print(id(b) == id(257))"
   ]
  },
  {
   "cell_type": "code",
   "execution_count": 18,
   "metadata": {},
   "outputs": [
    {
     "name": "stdout",
     "output_type": "stream",
     "text": [
      "0x1088beb90\n",
      "False\n",
      "False\n"
     ]
    }
   ],
   "source": [
    "a = 257\n",
    "print(hex(id(a)))\n",
    "b = 257\n",
    "\n",
    "print(id(b) == id(a))\n",
    "print(id(b) == id(257))"
   ]
  },
  {
   "cell_type": "code",
   "execution_count": 19,
   "metadata": {},
   "outputs": [
    {
     "data": {
      "text/plain": [
       "True"
      ]
     },
     "execution_count": 19,
     "metadata": {},
     "output_type": "execute_result"
    }
   ],
   "source": [
    "b = a\n",
    "id(b) == id(a)"
   ]
  },
  {
   "cell_type": "markdown",
   "metadata": {},
   "source": [
    "동일하게 두 list의 요소를 추가하는 코드라도 inline 함수와 풀어서 쓰는 경우 차이가 "
   ]
  },
  {
   "cell_type": "code",
   "execution_count": 21,
   "metadata": {},
   "outputs": [
    {
     "name": "stdout",
     "output_type": "stream",
     "text": [
      "0x108845588\n",
      "[1, 2, 1, 2] 0x10899e248\n",
      "[1, 2, 1, 2, 1, 2, 1, 2] 0x10899e248\n",
      "[1, 2, 1, 2, 1, 2, 1, 2, 1, 2, 1, 2, 1, 2, 1, 2] 0x10899e248\n"
     ]
    }
   ],
   "source": [
    "a = [1, 2]\n",
    "print(hex(id(a)))\n",
    "\n",
    "a = a + a\n",
    "print(a, hex(id(a)))\n",
    "\n",
    "a *= 2\n",
    "print(a, hex(id(a)))\n",
    "\n",
    "a += a\n",
    "print(a, hex(id(a)))"
   ]
  },
  {
   "cell_type": "markdown",
   "metadata": {},
   "source": [
    "문자열의 경우도 특정 길이 이하의 문자열에 대해서는 정수와 동일한 방식으로 저장 및 참조"
   ]
  },
  {
   "cell_type": "code",
   "execution_count": 25,
   "metadata": {},
   "outputs": [
    {
     "data": {
      "text/plain": [
       "True"
      ]
     },
     "execution_count": 25,
     "metadata": {},
     "output_type": "execute_result"
    }
   ],
   "source": [
    "# 어? 되네\n",
    "\n",
    "s1 = \"A random word\"\n",
    "s2 = \"A random word\"\n",
    "\n",
    "s1 == s2"
   ]
  },
  {
   "cell_type": "code",
   "execution_count": 23,
   "metadata": {},
   "outputs": [
    {
     "data": {
      "text/plain": [
       "True"
      ]
     },
     "execution_count": 23,
     "metadata": {},
     "output_type": "execute_result"
    }
   ],
   "source": [
    "s1 = \"Arandomword\"\n",
    "s2 = \"Arandomword\"\n",
    "s1 == s2 "
   ]
  },
  {
   "cell_type": "code",
   "execution_count": 27,
   "metadata": {},
   "outputs": [
    {
     "data": {
      "text/plain": [
       "True"
      ]
     },
     "execution_count": 27,
     "metadata": {},
     "output_type": "execute_result"
    }
   ],
   "source": [
    "s1 = \"A random word abcdefghsadfsadfsadfsadfsadfsadfsadfsadfsadf\"\n",
    "s2 = \"A random word abcdefghsadfsadfsadfsadfsadfsadfsadfsadfsadf\"\n",
    "\n",
    "s1 == s2"
   ]
  },
  {
   "cell_type": "markdown",
   "metadata": {},
   "source": [
    "~~되는 듯...~~"
   ]
  },
  {
   "cell_type": "code",
   "execution_count": null,
   "metadata": {},
   "outputs": [],
   "source": []
  }
 ],
 "metadata": {
  "kernelspec": {
   "display_name": "Python 3",
   "language": "python",
   "name": "python3"
  },
  "language_info": {
   "codemirror_mode": {
    "name": "ipython",
    "version": 3
   },
   "file_extension": ".py",
   "mimetype": "text/x-python",
   "name": "python",
   "nbconvert_exporter": "python",
   "pygments_lexer": "ipython3",
   "version": "3.6.6"
  }
 },
 "nbformat": 4,
 "nbformat_minor": 2
}
