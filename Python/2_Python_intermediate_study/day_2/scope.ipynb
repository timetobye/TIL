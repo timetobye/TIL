{
 "cells": [
  {
   "cell_type": "markdown",
   "metadata": {},
   "source": [
    "# Python intermediate Stduy group\n",
    "\n",
    "## Reference : https://github.com/KaggleBreak/interpy-kr\n",
    "\n",
    "- 위 내용을 참고하여 재학습하였습니다.\n",
    "\n",
    "### 범위(Scope)"
   ]
  },
  {
   "cell_type": "markdown",
   "metadata": {},
   "source": [
    "#### 범위의 모든 것\n",
    "\n",
    "![alt text](https://nbviewer.jupyter.org/github/KaggleBreak/interpy-kr/blob/master/day2/8_scope/img/scope_diagram.jpg)"
   ]
  },
  {
   "cell_type": "code",
   "execution_count": 1,
   "metadata": {},
   "outputs": [],
   "source": [
    "from IPython.display import Image\n",
    "import sys\n",
    "import os"
   ]
  },
  {
   "cell_type": "markdown",
   "metadata": {},
   "source": [
    "#### 기본 개념\n",
    "\n",
    "범위란 변수가 정의되고 검색될 수 있는 장소를 의미\n",
    "- 범위는 모듈 파일처럼 프로그램 코드 내에서 이름 충돌을 방지하도록 도움\n",
    "- 프로그램에서 이름을 사용할 때, 파이썬은 이름이 거주하는 장소인 네임스페이스에 이름을 생성, 변경, 검색 함\n",
    "- 이름의 값을 찾고자 할 때?\n",
    "  - 범위 = 네임스페이스\n",
    "- 특정 장소에서 이름을 할당 -> 이름이 소속될 네임스페이스 결정 -> 이름의 적용 범위 결정\n",
    "  - 이름을 할당한 장소가 이름의 적용 범위 결정\n",
    "- 할당된 이름이 소속된 네임스페이스가 서로 다르다면, 이름이 같아도 충돌하지 않음\n",
    "  - 함수에서의 원칙\n",
    "  \n",
    "  \n",
    "함수에서의 원칙\n",
    "- def 내에 할당된 이름들은 오직 그 def 내의 코드에 의해서만 보인다. 그 함수 외부에서는 그런 이름이 있는지 확인조차 할 수 없다.\n",
    "- def 내에 할당된 이름들은 비록 동일한 이름이 다른 곳에서 사용되고 있더라도 def 바깥의 변수들과 충돌하지 않는다.\n",
    "  - 주어진 def 문 밖에서 할당된(즉, 다른 def 문 또는 모듈 파일의 최상위 레벨에서 할당된) 이름 X는 def 문 안에 할당된 이름 X와 전혀 다르다.\n",
    "  \n",
    "변수가 사용될 수 있는 범위\n",
    "- 변수가 def 문 안에 할당되면 해당 함수에 대하여 지역(local) 범위를 갖는다.\n",
    "- 변수가 바깥쪽 def 안에서 할당되면 이는 중첩된 함수에 대한 비지역(nonlocal) 변수다.\n",
    "- 변수가 모든 def 의 바깥에서 할당되면 이는 전체 파일에 대한 전역(global) 변수다."
   ]
  },
  {
   "cell_type": "markdown",
   "metadata": {},
   "source": [
    "#### 범위의 세부 사항\n",
    "\n",
    "모듈은 전역 범위(global scope)\n",
    "- 모듈 파일의 최상위 레벨에서 생성되는 변수가 거주하는 네임스페이스 = 전역 범위\n",
    "- 전역 변수는 모듈 파일 자체 내에서는 단순 변수로 사용될 수 있음\n",
    "  - 그 모듈이 임포트 된 경우 외부 세계에 대하여 모듈 객체의 속성(attribute)이 된다.\n",
    "  \n",
    "전역 범위는 단일 파일에만 해당된다.\n",
    "- 파이썬에는 단일의 모든 것을 총망라하는 전역 파일 기반의 범위에 대한 개념은 없다.\n",
    "- 이름은 모듈에 따라 나누어지며, 만약 그 파일에서 정의한 이름을 사용하기를 원한다면 해당 모듈을 항상 명시적으로 임포트해야 함\n",
    "- 따라서 파이썬에서 '전역' = '모듈'\n",
    "\n",
    "함수 정의문 내에 할당된 이름은 전역이나 비지역으로 선언하지 않는 이상 지역\n",
    "- 함수를 둘러싼 모듈의 최상위 레벨에 존재하는 이름을 할당하려면 -> gloabl\n",
    "- 바깥쪽 함수에 존재하는 이름을 할당하려면 -> nonlocal\n",
    "\n",
    "\n",
    "지역 외 다른 이름은 바깥쪽 함수의 지역, 전역, 내장된 이름이다.\n",
    "- 지역\n",
    "- 바깥쪽(enclosing) 함수의 지역\n",
    "- 전역\n",
    "- 내장된 이름: 파이썬에서 제공하는 미리 정의된 내장 모듈(builtin)\n",
    "\n",
    "\n",
    "각각의 함수 호출은 새로운 지역 범위를 만든다.\n",
    "- 함수가 호출될 때마다 해당 함수 내에서 생성된 이름이 일반적으로 거주하는 네임스페이스, 즉 지역 범위가 새로 생성된다.\n",
    "- 각 호출은 해당 함수의 지역 변수에 대한 자신만의 사본을 받는다. -> 재귀함수"
   ]
  },
  {
   "cell_type": "markdown",
   "metadata": {},
   "source": [
    "#### 이름 확인(resolution) : LEGB 규칙\n",
    "\n",
    "앞 절까지의 혼란을 잠재우는 세 가지 원칙\n",
    "- def 문 내에서 이름 할당은 기본적으로 지역 이름을 생성하거나 변경\n",
    "- def 문 내에서 이름 참조는 지역 범위, 바깥쪽 함수 범위(만약 있다면), 전역 범위, 그리고 내장된 범위의 최대 네 가지의 범위를 탐색\n",
    "- def 문 내에서 gloabl 또는 nonlocal 문에서 선언된 이름은 각각 바깥쪽 모듈과 바깥쪽 함수의 범위에서 할당된 이름에 연결된다.\n",
    "\n",
    "**LEGB 규칙**\n",
    "- 함수 내에서 검증되지 않은 이름을 사용할 경우 탐색 순서는 아래와 같다.\n",
    "\n",
    "지역 범위(Local) -> 바깥쪽(Enclosing) 함수의 지역 범위 -> 전역 범위(global) -> 내장된 범위(built-in)\n",
    "- 탐색 중 이름이 처음 발견된 위치에서 이름 찾기를 중단\n",
    "- 이름이 발견되지 않는다면 오류를 보고함"
   ]
  },
  {
   "cell_type": "markdown",
   "metadata": {},
   "source": [
    "#### 그 외 파이썬 범위\n",
    "\n",
    "일부 컴프리헨션에서 임시 루프 변수\n",
    "- e.g. [X for X in I] 의 현재 반복 항목을 참조하기 위해 사용하는 변수 X\n",
    "- 제너레이터 내부의 상태를 반영하기 때문에 모든 컴프리헨션 형식에서 표현식 자체의 지역 범위가 됨\n",
    "\n",
    "일부 try 핸들러에서의 예외 참조 변수\n",
    "- except E as X 와 같은 try문의 핸들러 절에서 예외를 참조하기 위한 변수 X\n",
    "- 가비지 컬렉션의 메모리 소거를 지연시키기 때문에 except 블록에 대해 지역 범위를 가짐\n",
    "\n",
    "class문의 지역 범위\n",
    "- class문은 자신의 블록 최상위에서 할당되는 이름을 위하여 새로운 지역 범위를 만든다.\n",
    "- def의 경우처럼, class 안에 할당된 이름은 다른 곳의 이름과 충돌하지 않으며, 클래스 블록을 'L' 범위로 하는 LEGB 검색 규칙을 따른다.\n",
    "- 모듈과 임포트처럼 이 이름들은 class문이 종료된 후 클래스 객체의 속성으로 변형된다.\n",
    "- 함수와는 달리, 클래스 이름은 호출 때마다 생성되지 않는다.\n",
    "  - 클래스 객체 호출은 인스턴스(instance)를 생성\n",
    "  - 클래스에서 할당된 이름을 상속받고 객체별 상태를 속성으로 기록"
   ]
  },
  {
   "cell_type": "markdown",
   "metadata": {},
   "source": [
    "### 내장 범위\n",
    "\n",
    "- builtins 모듈에 목록이 있으며, 확인하기 위해서는 임포트해야함.\n",
    "- LEGB 검색 규칙 마지막 단계에서 이 모듈을 검색\n",
    "- 목록: 내장된 예외, 내장된 함수, None, True, False 등\n",
    "- 내장된 이름 재정의"
   ]
  },
  {
   "cell_type": "code",
   "execution_count": 2,
   "metadata": {},
   "outputs": [
    {
     "ename": "TypeError",
     "evalue": "'str' object is not callable",
     "output_type": "error",
     "traceback": [
      "\u001b[0;31m---------------------------------------------------------------------------\u001b[0m",
      "\u001b[0;31mTypeError\u001b[0m                                 Traceback (most recent call last)",
      "\u001b[0;32m<ipython-input-2-53f42ab330f8>\u001b[0m in \u001b[0;36m<module>\u001b[0;34m\u001b[0m\n\u001b[1;32m      3\u001b[0m     \u001b[0mopen\u001b[0m\u001b[0;34m(\u001b[0m\u001b[0;34m'./data.text'\u001b[0m\u001b[0;34m)\u001b[0m\u001b[0;34m\u001b[0m\u001b[0m\n\u001b[1;32m      4\u001b[0m \u001b[0;34m\u001b[0m\u001b[0m\n\u001b[0;32m----> 5\u001b[0;31m \u001b[0mhider\u001b[0m\u001b[0;34m(\u001b[0m\u001b[0;34m)\u001b[0m\u001b[0;34m\u001b[0m\u001b[0m\n\u001b[0m",
      "\u001b[0;32m<ipython-input-2-53f42ab330f8>\u001b[0m in \u001b[0;36mhider\u001b[0;34m()\u001b[0m\n\u001b[1;32m      1\u001b[0m \u001b[0;32mdef\u001b[0m \u001b[0mhider\u001b[0m\u001b[0;34m(\u001b[0m\u001b[0;34m)\u001b[0m\u001b[0;34m:\u001b[0m\u001b[0;34m\u001b[0m\u001b[0m\n\u001b[1;32m      2\u001b[0m     \u001b[0mopen\u001b[0m \u001b[0;34m=\u001b[0m \u001b[0;34m'spam'\u001b[0m\u001b[0;34m\u001b[0m\u001b[0m\n\u001b[0;32m----> 3\u001b[0;31m     \u001b[0mopen\u001b[0m\u001b[0;34m(\u001b[0m\u001b[0;34m'./data.text'\u001b[0m\u001b[0;34m)\u001b[0m\u001b[0;34m\u001b[0m\u001b[0m\n\u001b[0m\u001b[1;32m      4\u001b[0m \u001b[0;34m\u001b[0m\u001b[0m\n\u001b[1;32m      5\u001b[0m \u001b[0mhider\u001b[0m\u001b[0;34m(\u001b[0m\u001b[0;34m)\u001b[0m\u001b[0;34m\u001b[0m\u001b[0m\n",
      "\u001b[0;31mTypeError\u001b[0m: 'str' object is not callable"
     ]
    }
   ],
   "source": [
    "def hider():\n",
    "    open = 'spam'\n",
    "    open('./data.text')\n",
    "\n",
    "hider()"
   ]
  },
  {
   "cell_type": "code",
   "execution_count": 4,
   "metadata": {},
   "outputs": [],
   "source": [
    "# with open('data.txt', 'w') as file:\n",
    "#     file.write(\"hi\")"
   ]
  },
  {
   "cell_type": "code",
   "execution_count": 5,
   "metadata": {},
   "outputs": [],
   "source": [
    "f = open('data.txt')    # 내장 범위의 open 함수를 불러옴\n",
    "f.close()"
   ]
  },
  {
   "cell_type": "code",
   "execution_count": 6,
   "metadata": {},
   "outputs": [],
   "source": [
    "def hider():\n",
    "    global open\n",
    "    open = 'spam'\n",
    "    del open              # 재정의된 이름을 삭제하면 내장 범위의 이름을 검색할 수 있다.\n",
    "    open('data.txt')    # 내장 범위의 open 함수를 불러옴\n",
    "hider()"
   ]
  },
  {
   "cell_type": "markdown",
   "metadata": {},
   "source": [
    "#### global\n",
    "\n",
    "- 전역 이름은 모듈 파일의 최상위 레벨에 할당된 변수다.\n",
    "- 전역 이름은 함수 내에서 할당될 때에만 선언되어야 한다.\n",
    "- 전역 이름은 선언되지 않더라도 함수 내에서 참조될 수 있다."
   ]
  },
  {
   "cell_type": "code",
   "execution_count": 7,
   "metadata": {},
   "outputs": [
    {
     "name": "stdout",
     "output_type": "stream",
     "text": [
      "99\n"
     ]
    }
   ],
   "source": [
    "X = 88\n",
    "\n",
    "def func():\n",
    "    global X\n",
    "    X = 99\n",
    "\n",
    "func()\n",
    "print(X)"
   ]
  },
  {
   "cell_type": "code",
   "execution_count": 9,
   "metadata": {},
   "outputs": [
    {
     "name": "stdout",
     "output_type": "stream",
     "text": [
      "3\n"
     ]
    }
   ],
   "source": [
    "y, z = 1, 2\n",
    "def all_global():\n",
    "    global x\n",
    "    x = y + z    # 1) 존재하지 않았던 전역 변수 선언이 가능하다.\n",
    "    print(x)     # 2) y,z를 선언하지 않았지만 함수 내에서 참조가 가능하다.\n",
    "\n",
    "all_global()"
   ]
  },
  {
   "cell_type": "code",
   "execution_count": 13,
   "metadata": {},
   "outputs": [],
   "source": [
    "# 전역 변수에 접근하는 다른 방법들\n",
    "# thismod.py\n",
    "\n",
    "var = 99\n",
    "\n",
    "def local():\n",
    "    var = 0\n",
    "\n",
    "def glob1():\n",
    "    global var\n",
    "    var += 1\n",
    "\n",
    "def glob2():\n",
    "    var = 0\n",
    "    import thismod        # 자기자신을 임포트\n",
    "    thismod.var += 1      # 전역변수는 그 모듈의 속성이다.\n",
    "\n",
    "def glob3():\n",
    "    var = 0\n",
    "    import sys\n",
    "    glob = sys.modules['thismod']\n",
    "    glob.var += 1\n",
    "\n",
    "def test():\n",
    "    print(var)\n",
    "    local()    # 전역변수에 영향 없음\n",
    "    glob1()    # +1\n",
    "    glob2()    # +1\n",
    "    glob3()    # +1\n",
    "    print(var)"
   ]
  },
  {
   "cell_type": "code",
   "execution_count": 15,
   "metadata": {},
   "outputs": [],
   "source": [
    "# import thismod\n",
    "\n",
    "# thismod.test()\n",
    "\n",
    "# 99\n",
    "# 102"
   ]
  },
  {
   "cell_type": "markdown",
   "metadata": {},
   "source": [
    "프로그램을 설계할 때 [전역변수, 파일 간 변경]은 최소화하는 것이 바람직하다."
   ]
  },
  {
   "cell_type": "markdown",
   "metadata": {},
   "source": [
    "```python\n",
    "# first.py\n",
    "# 이 코드는 second.py를 모름\n",
    "X = 99\n",
    "\n",
    "def set_X(new):    # 접근자는 인터페이스 지점으로 기능하여 외부 접근을 명시적으로 만들며,\n",
    "    global X         # 한 곳에서 접근을 관리할 수 있음.\n",
    "    X = new\n",
    "    \n",
    "# second.py\n",
    "import first\n",
    "\n",
    "first.X = 88       # 암묵적이고 미묘함 -> 예외가 발생할 수 있다.\n",
    "\n",
    "first.set_X(88)    # 접근자 함수를 사용. 이렇게 쓰자.\n",
    "```"
   ]
  },
  {
   "cell_type": "code",
   "execution_count": null,
   "metadata": {},
   "outputs": [],
   "source": []
  },
  {
   "cell_type": "code",
   "execution_count": null,
   "metadata": {},
   "outputs": [],
   "source": []
  },
  {
   "cell_type": "code",
   "execution_count": null,
   "metadata": {},
   "outputs": [],
   "source": []
  },
  {
   "cell_type": "code",
   "execution_count": null,
   "metadata": {},
   "outputs": [],
   "source": []
  },
  {
   "cell_type": "code",
   "execution_count": null,
   "metadata": {},
   "outputs": [],
   "source": []
  },
  {
   "cell_type": "code",
   "execution_count": null,
   "metadata": {},
   "outputs": [],
   "source": []
  },
  {
   "cell_type": "code",
   "execution_count": null,
   "metadata": {},
   "outputs": [],
   "source": []
  },
  {
   "cell_type": "code",
   "execution_count": null,
   "metadata": {},
   "outputs": [],
   "source": []
  }
 ],
 "metadata": {
  "kernelspec": {
   "display_name": "Python 3",
   "language": "python",
   "name": "python3"
  },
  "language_info": {
   "codemirror_mode": {
    "name": "ipython",
    "version": 3
   },
   "file_extension": ".py",
   "mimetype": "text/x-python",
   "name": "python",
   "nbconvert_exporter": "python",
   "pygments_lexer": "ipython3",
   "version": "3.6.6"
  }
 },
 "nbformat": 4,
 "nbformat_minor": 2
}
