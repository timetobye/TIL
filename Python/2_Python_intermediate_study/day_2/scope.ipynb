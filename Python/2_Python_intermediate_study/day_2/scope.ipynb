{
 "cells": [
  {
   "cell_type": "markdown",
   "metadata": {},
   "source": [
    "# Python intermediate Stduy group\n",
    "\n",
    "## Reference : https://github.com/KaggleBreak/interpy-kr\n",
    "\n",
    "- 위 내용을 참고하여 재학습하였습니다.\n",
    "\n",
    "### 범위(Scope)"
   ]
  },
  {
   "cell_type": "markdown",
   "metadata": {},
   "source": [
    "#### 범위의 모든 것\n",
    "\n",
    "![alt text](https://nbviewer.jupyter.org/github/KaggleBreak/interpy-kr/blob/master/day2/8_scope/img/scope_diagram.jpg)"
   ]
  },
  {
   "cell_type": "code",
   "execution_count": 1,
   "metadata": {},
   "outputs": [],
   "source": [
    "from IPython.display import Image\n",
    "import sys\n",
    "import os"
   ]
  },
  {
   "cell_type": "markdown",
   "metadata": {},
   "source": [
    "#### 기본 개념\n",
    "\n",
    "범위란 변수가 정의되고 검색될 수 있는 장소를 의미\n",
    "- 범위는 모듈 파일처럼 프로그램 코드 내에서 이름 충돌을 방지하도록 도움\n",
    "- 프로그램에서 이름을 사용할 때, 파이썬은 이름이 거주하는 장소인 네임스페이스에 이름을 생성, 변경, 검색 함\n",
    "- 이름의 값을 찾고자 할 때?\n",
    "  - 범위 = 네임스페이스\n",
    "- 특정 장소에서 이름을 할당 -> 이름이 소속될 네임스페이스 결정 -> 이름의 적용 범위 결정\n",
    "  - 이름을 할당한 장소가 이름의 적용 범위 결정\n",
    "- 할당된 이름이 소속된 네임스페이스가 서로 다르다면, 이름이 같아도 충돌하지 않음\n",
    "  - 함수에서의 원칙\n",
    "  \n",
    "  \n",
    "함수에서의 원칙\n",
    "- def 내에 할당된 이름들은 오직 그 def 내의 코드에 의해서만 보인다. 그 함수 외부에서는 그런 이름이 있는지 확인조차 할 수 없다.\n",
    "- def 내에 할당된 이름들은 비록 동일한 이름이 다른 곳에서 사용되고 있더라도 def 바깥의 변수들과 충돌하지 않는다.\n",
    "  - 주어진 def 문 밖에서 할당된(즉, 다른 def 문 또는 모듈 파일의 최상위 레벨에서 할당된) 이름 X는 def 문 안에 할당된 이름 X와 전혀 다르다.\n",
    "  \n",
    "변수가 사용될 수 있는 범위\n",
    "- 변수가 def 문 안에 할당되면 해당 함수에 대하여 지역(local) 범위를 갖는다.\n",
    "- 변수가 바깥쪽 def 안에서 할당되면 이는 중첩된 함수에 대한 비지역(nonlocal) 변수다.\n",
    "- 변수가 모든 def 의 바깥에서 할당되면 이는 전체 파일에 대한 전역(global) 변수다."
   ]
  },
  {
   "cell_type": "markdown",
   "metadata": {},
   "source": [
    "#### 범위의 세부 사항\n",
    "\n",
    "모듈은 전역 범위(global scope)\n",
    "- 모듈 파일의 최상위 레벨에서 생성되는 변수가 거주하는 네임스페이스 = 전역 범위\n",
    "- 전역 변수는 모듈 파일 자체 내에서는 단순 변수로 사용될 수 있음\n",
    "  - 그 모듈이 임포트 된 경우 외부 세계에 대하여 모듈 객체의 속성(attribute)이 된다.\n",
    "  \n",
    "전역 범위는 단일 파일에만 해당된다.\n",
    "- 파이썬에는 단일의 모든 것을 총망라하는 전역 파일 기반의 범위에 대한 개념은 없다.\n",
    "- 이름은 모듈에 따라 나누어지며, 만약 그 파일에서 정의한 이름을 사용하기를 원한다면 해당 모듈을 항상 명시적으로 임포트해야 함\n",
    "- 따라서 파이썬에서 '전역' = '모듈'"
   ]
  },
  {
   "cell_type": "code",
   "execution_count": null,
   "metadata": {},
   "outputs": [],
   "source": []
  },
  {
   "cell_type": "code",
   "execution_count": null,
   "metadata": {},
   "outputs": [],
   "source": []
  },
  {
   "cell_type": "code",
   "execution_count": null,
   "metadata": {},
   "outputs": [],
   "source": []
  },
  {
   "cell_type": "code",
   "execution_count": null,
   "metadata": {},
   "outputs": [],
   "source": []
  },
  {
   "cell_type": "code",
   "execution_count": null,
   "metadata": {},
   "outputs": [],
   "source": []
  },
  {
   "cell_type": "code",
   "execution_count": null,
   "metadata": {},
   "outputs": [],
   "source": []
  },
  {
   "cell_type": "code",
   "execution_count": null,
   "metadata": {},
   "outputs": [],
   "source": []
  }
 ],
 "metadata": {
  "kernelspec": {
   "display_name": "Python 3",
   "language": "python",
   "name": "python3"
  },
  "language_info": {
   "codemirror_mode": {
    "name": "ipython",
    "version": 3
   },
   "file_extension": ".py",
   "mimetype": "text/x-python",
   "name": "python",
   "nbconvert_exporter": "python",
   "pygments_lexer": "ipython3",
   "version": "3.6.6"
  }
 },
 "nbformat": 4,
 "nbformat_minor": 2
}
