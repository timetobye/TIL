{
 "cells": [
  {
   "cell_type": "markdown",
   "metadata": {},
   "source": [
    "# Python intermediate Stduy group\n",
    "\n",
    "## Reference : https://github.com/KaggleBreak/interpy-kr\n",
    "\n",
    "- 위 내용을 참고하여 재학습하였습니다.\n",
    "\n",
    "### 1. Set 함수\n",
    "\n",
    "- 데이터 안에서 중복된 값을 필터링 하는데 쓰는 함수\n",
    "- 중복제거 하고자 하는 데이터 앞에 set을 넣어서 사용"
   ]
  },
  {
   "cell_type": "code",
   "execution_count": 1,
   "metadata": {},
   "outputs": [
    {
     "name": "stdout",
     "output_type": "stream",
     "text": [
      "<class 'set'>\n",
      "<class 'set'>\n"
     ]
    }
   ],
   "source": [
    "data = [1, 2, 3, 4, 5]\n",
    "\n",
    "# 방법 1 : set(data)\n",
    "\n",
    "data_set = set(data)\n",
    "print(type(data_set))\n",
    "\n",
    "# 방법 2 : {}\n",
    "\n",
    "data_set_2 = {1, 2, 3, 4, 5}\n",
    "print(type(data_set_2))"
   ]
  },
  {
   "cell_type": "code",
   "execution_count": 2,
   "metadata": {},
   "outputs": [
    {
     "name": "stdout",
     "output_type": "stream",
     "text": [
      "set전 : [1, 2, 3, 4, 5, 5, 5]\n",
      "set후 : {1, 2, 3, 4, 5}\n"
     ]
    }
   ],
   "source": [
    "temp_list = [1,2,3,4,5,5,5]\n",
    "print(f'set전 : {temp_list}')\n",
    "\n",
    "temp_set = set(temp_list)\n",
    "print(f'set후 : {temp_set}')"
   ]
  },
  {
   "cell_type": "markdown",
   "metadata": {},
   "source": [
    "### 중복된 값만 추출하고 싶을 경우"
   ]
  },
  {
   "cell_type": "code",
   "execution_count": 3,
   "metadata": {},
   "outputs": [
    {
     "name": "stdout",
     "output_type": "stream",
     "text": [
      "{'a', 'c'}\n"
     ]
    }
   ],
   "source": [
    "temp_list = ['a','c','d','e','a','f','c']\n",
    "duplicated = set([x for x in temp_list if temp_list.count(x) > 1])\n",
    "print(duplicated)"
   ]
  },
  {
   "cell_type": "markdown",
   "metadata": {},
   "source": [
    "### 교집합, 합집합, 차집합"
   ]
  },
  {
   "cell_type": "code",
   "execution_count": 4,
   "metadata": {},
   "outputs": [
    {
     "name": "stdout",
     "output_type": "stream",
     "text": [
      "{'red'}\n"
     ]
    }
   ],
   "source": [
    "# 교집합 : intersection\n",
    "\n",
    "set_1 = set(['yellow', 'red', 'blue', 'green', 'black']) #기준\n",
    "set_2 = set(['red', 'brown'])\n",
    "print(set_1.intersection(set_2))"
   ]
  },
  {
   "cell_type": "code",
   "execution_count": 5,
   "metadata": {},
   "outputs": [
    {
     "name": "stdout",
     "output_type": "stream",
     "text": [
      "{'brown', 'black', 'blue', 'red', 'yellow', 'green'}\n"
     ]
    }
   ],
   "source": [
    "# 합집합 : union\n",
    "\n",
    "set_1 = set(['yellow', 'red', 'blue', 'green', 'black']) #기준\n",
    "set_2 = set(['red', 'brown'])\n",
    "print(set_1.union(set_2))"
   ]
  },
  {
   "cell_type": "code",
   "execution_count": 6,
   "metadata": {},
   "outputs": [
    {
     "name": "stdout",
     "output_type": "stream",
     "text": [
      "set_1이 기준: {'blue', 'yellow', 'black', 'green'}\n",
      "set_2가 기준: {'brown'}\n"
     ]
    }
   ],
   "source": [
    "# 차집합 : difference(기준이 되는 값에 따라 다름)\n",
    "\n",
    "set_1 = set(['yellow', 'red', 'blue', 'green', 'black']) \n",
    "set_2 = set(['red', 'brown'])\n",
    "print(\"set_1이 기준:\", set_1.difference(set_2)) #set_1가 기준\n",
    "print(\"set_2가 기준:\", set_2.difference(set_1)) #set_2가 기준"
   ]
  },
  {
   "cell_type": "markdown",
   "metadata": {},
   "source": [
    "### set의 특징\n",
    "- list(indexing, slicing모두 가능), dictionary(indexing만 가능)와는 달리, indexing과 slicing 모두 안됨"
   ]
  },
  {
   "cell_type": "code",
   "execution_count": 7,
   "metadata": {},
   "outputs": [],
   "source": [
    "temp_list = [1,2,3,4,5]\n",
    "temp_dict = {'a':1, 'b':2, 'c':3, 'd':4, 'e':5}\n",
    "temp_set = {1,2,3,4,5}"
   ]
  },
  {
   "cell_type": "code",
   "execution_count": 8,
   "metadata": {},
   "outputs": [
    {
     "name": "stdout",
     "output_type": "stream",
     "text": [
      "2\n",
      "[1, 2, 3]\n"
     ]
    }
   ],
   "source": [
    "print(temp_list[1])\n",
    "print(temp_list[:3])"
   ]
  },
  {
   "cell_type": "code",
   "execution_count": 9,
   "metadata": {},
   "outputs": [
    {
     "name": "stdout",
     "output_type": "stream",
     "text": [
      "1\n"
     ]
    }
   ],
   "source": [
    "print(temp_dict['a'])\n",
    "# print(temp_dict['a':'c'])"
   ]
  },
  {
   "cell_type": "code",
   "execution_count": 10,
   "metadata": {},
   "outputs": [
    {
     "ename": "TypeError",
     "evalue": "'set' object does not support indexing",
     "output_type": "error",
     "traceback": [
      "\u001b[0;31m---------------------------------------------------------------------------\u001b[0m",
      "\u001b[0;31mTypeError\u001b[0m                                 Traceback (most recent call last)",
      "\u001b[0;32m<ipython-input-10-b560d2186670>\u001b[0m in \u001b[0;36m<module>\u001b[0;34m\u001b[0m\n\u001b[0;32m----> 1\u001b[0;31m \u001b[0mprint\u001b[0m\u001b[0;34m(\u001b[0m\u001b[0mtemp_set\u001b[0m\u001b[0;34m[\u001b[0m\u001b[0;36m0\u001b[0m\u001b[0;34m]\u001b[0m\u001b[0;34m)\u001b[0m\u001b[0;34m\u001b[0m\u001b[0m\n\u001b[0m\u001b[1;32m      2\u001b[0m \u001b[0mprint\u001b[0m\u001b[0;34m(\u001b[0m\u001b[0mtemp_set\u001b[0m\u001b[0;34m[\u001b[0m\u001b[0;34m:\u001b[0m\u001b[0;36m3\u001b[0m\u001b[0;34m]\u001b[0m\u001b[0;34m)\u001b[0m\u001b[0;34m\u001b[0m\u001b[0m\n",
      "\u001b[0;31mTypeError\u001b[0m: 'set' object does not support indexing"
     ]
    }
   ],
   "source": [
    "print(temp_set[0])\n",
    "print(temp_set[:3])"
   ]
  },
  {
   "cell_type": "markdown",
   "metadata": {},
   "source": [
    "### 속도 비교"
   ]
  },
  {
   "cell_type": "code",
   "execution_count": 17,
   "metadata": {},
   "outputs": [
    {
     "name": "stdout",
     "output_type": "stream",
     "text": [
      "7.561524804000328\n",
      "10.404805707999913\n",
      "0.00012489600067056017\n",
      "0.0002219909993073088\n"
     ]
    }
   ],
   "source": [
    "figure_iteration_list = [num for num in range(1000001)]\n",
    "keys = [key for key in range(100,1000101)]\n",
    "values = [value for value in range(1000001)]\n",
    "\n",
    "from timeit import timeit\n",
    "\n",
    "def test_iter(data):\n",
    "    for i in data:\n",
    "        pass\n",
    "\n",
    "def test_iter_dict(data):\n",
    "    for key, value in data.items():\n",
    "        pass\n",
    "    \n",
    "iter_numbers=1000\n",
    "\n",
    "#list\n",
    "print(timeit('test_iter(data)', number=iter_numbers, \n",
    "             setup=\"from __main__ import test_iter; \\\n",
    "             data=list(num for num in range(1000001))\"))\n",
    "#set\n",
    "print(timeit('test_iter(data)', number=iter_numbers, \n",
    "             setup=\"from __main__ import test_iter; \\\n",
    "             data=set(num for num in range(1000001))\"))\n",
    "#dict (key)\n",
    "print(timeit('test_iter(data)', number=iter_numbers, \n",
    "             setup=\"from __main__ import test_iter; \\\n",
    "             data=dict(key=[key for key in range(100,1010001)], value=[value for value in range(1000001)])\"))\n",
    "#dict (key, value)\n",
    "print(timeit('test_iter_dict(data)', number=iter_numbers, \n",
    "             setup=\"from __main__ import test_iter_dict; \\\n",
    "             data=dict(key=[key for key in range(100,1010001)], value=[value for value in range(1000001)])\"))"
   ]
  },
  {
   "cell_type": "code",
   "execution_count": 18,
   "metadata": {},
   "outputs": [
    {
     "name": "stdout",
     "output_type": "stream",
     "text": [
      "5.85 ms ± 21.2 µs per loop (mean ± std. dev. of 7 runs, 100 loops each)\n",
      "7.55 ms ± 119 µs per loop (mean ± std. dev. of 7 runs, 100 loops each)\n"
     ]
    }
   ],
   "source": [
    "figure_iteration_list = [num for num in range(100001)]\n",
    "keys = [key for key in range(100,100101)]\n",
    "values = [value for value in range(100001)]\n",
    "figure_iteration_dict = dict(zip(keys, values))\n",
    "\n",
    "def test_list(data):\n",
    "    list_blank = []\n",
    "    for i in data:\n",
    "        list_blank.append(i)\n",
    "    return list_blank\n",
    "\n",
    "def test_dict(data):\n",
    "    dict_blank = {}\n",
    "    for key_n, value_n in data.items():\n",
    "        dict_blank[key_n] = value_n\n",
    "    return dict_blank\n",
    "\n",
    "# list_blank = test_list(figure_iteration_list)\n",
    "# dict_blank = test_dict(figure_iteration_dict)\n",
    "\n",
    "%timeit test_list(figure_iteration_list)\n",
    "%timeit test_dict(figure_iteration_dict)"
   ]
  },
  {
   "cell_type": "markdown",
   "metadata": {},
   "source": [
    "### Python list 성능구조 분석"
   ]
  },
  {
   "cell_type": "code",
   "execution_count": 23,
   "metadata": {},
   "outputs": [
    {
     "name": "stdout",
     "output_type": "stream",
     "text": [
      "걸린시간 : 8.92e-02\n"
     ]
    }
   ],
   "source": [
    "def makeListUsingAppend(N):\n",
    "    result = []\n",
    "    for i in range(N):\n",
    "        result.append(i)\n",
    "    return result\n",
    "\n",
    "from time import time\n",
    "t0 = time()\n",
    "makeListUsingAppend(1000000)\n",
    "print (\"걸린시간 : %.2e\" % (time()-t0))"
   ]
  },
  {
   "cell_type": "code",
   "execution_count": 24,
   "metadata": {},
   "outputs": [
    {
     "name": "stdout",
     "output_type": "stream",
     "text": [
      "걸린시간 : 6.25e-02\n"
     ]
    }
   ],
   "source": [
    "def makeListUsingBulkAlloc(N):\n",
    "    result = [0]*N #한번에 N개의 공간을 0으로 채우는 방법입니다.\n",
    "    for i in range(N):\n",
    "        result[i] = i\n",
    "    return result\n",
    "\n",
    "t0 = time()\n",
    "makeListUsingBulkAlloc(1000000)\n",
    "print (\"걸린시간 : %.2e\" % (time()-t0))"
   ]
  },
  {
   "cell_type": "code",
   "execution_count": null,
   "metadata": {},
   "outputs": [],
   "source": []
  }
 ],
 "metadata": {
  "kernelspec": {
   "display_name": "Python 3",
   "language": "python",
   "name": "python3"
  },
  "language_info": {
   "codemirror_mode": {
    "name": "ipython",
    "version": 3
   },
   "file_extension": ".py",
   "mimetype": "text/x-python",
   "name": "python",
   "nbconvert_exporter": "python",
   "pygments_lexer": "ipython3",
   "version": "3.6.6"
  }
 },
 "nbformat": 4,
 "nbformat_minor": 2
}
