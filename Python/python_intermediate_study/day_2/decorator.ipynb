{
 "cells": [
  {
   "cell_type": "markdown",
   "metadata": {},
   "source": [
    "### Python intermediate Stduy group\n",
    "\n",
    "## Reference : https://github.com/KaggleBreak/interpy-kr\n",
    "\n",
    "- 위 내용을 참고하여 재학습하였습니다.\n",
    "\n",
    "# Decorator\n",
    "\n",
    "## 1. function 레벨에서 데코레이터 사용하기: parameter가 없는 경우\n",
    "\n",
    "### decorator란?\n",
    "- decorator란?: 데코레이터를 적용한 함수를 wrapping 하고, 이 wrapping 된 함수의 앞뒤에 추가적으로 꾸며질 구문 들을 정의해서 손쉽게 재사용 가능하게 해주는 것\n",
    "- 아래 샘플 코드에서 함수 정의부 위에 '@'로 시작하는 부분이 decorator\n",
    "- 기본적인 function에 부가적인 장식이라는 의미에서 'decorator'라고 지칭함"
   ]
  },
  {
   "cell_type": "code",
   "execution_count": 1,
   "metadata": {},
   "outputs": [
    {
     "ename": "NameError",
     "evalue": "name 'sample_decorator' is not defined",
     "output_type": "error",
     "traceback": [
      "\u001b[0;31m---------------------------------------------------------------------------\u001b[0m",
      "\u001b[0;31mNameError\u001b[0m                                 Traceback (most recent call last)",
      "\u001b[0;32m<ipython-input-1-3008f09fbceb>\u001b[0m in \u001b[0;36m<module>\u001b[0;34m\u001b[0m\n\u001b[0;32m----> 1\u001b[0;31m \u001b[0;34m@\u001b[0m\u001b[0msample_decorator\u001b[0m\u001b[0;34m\u001b[0m\u001b[0;34m\u001b[0m\u001b[0m\n\u001b[0m\u001b[1;32m      2\u001b[0m \u001b[0;32mdef\u001b[0m \u001b[0mmy_function\u001b[0m\u001b[0;34m(\u001b[0m\u001b[0;34m)\u001b[0m\u001b[0;34m:\u001b[0m\u001b[0;34m\u001b[0m\u001b[0;34m\u001b[0m\u001b[0m\n\u001b[1;32m      3\u001b[0m     \u001b[0mprint\u001b[0m\u001b[0;34m(\u001b[0m\u001b[0;34m\"hi!\"\u001b[0m\u001b[0;34m)\u001b[0m\u001b[0;34m\u001b[0m\u001b[0;34m\u001b[0m\u001b[0m\n\u001b[1;32m      4\u001b[0m \u001b[0;34m\u001b[0m\u001b[0m\n\u001b[1;32m      5\u001b[0m \u001b[0;31m# sample_decorator가 아직 정의되지 않았기 때문에 위 코드를 실행하면 에러가 납니다\u001b[0m\u001b[0;34m\u001b[0m\u001b[0;34m\u001b[0m\u001b[0;34m\u001b[0m\u001b[0m\n",
      "\u001b[0;31mNameError\u001b[0m: name 'sample_decorator' is not defined"
     ]
    }
   ],
   "source": [
    "@sample_decorator\n",
    "def my_function():\n",
    "    print(\"hi!\")\n",
    "\n",
    "# sample_decorator가 아직 정의되지 않았기 때문에 위 코드를 실행하면 에러가 납니다"
   ]
  },
  {
   "cell_type": "markdown",
   "metadata": {},
   "source": [
    "### decorator는 언제 사용할까?\n",
    "- 예를 들어 아래 `print_hello`라는 함수처럼 인사말을 프린트해주는 간단한 함수가 있을 때 '안녕하세요!'의 바로 뒤에 현재 시간을 함께 프린트해주고 싶다면 어떻게 해야 할까?"
   ]
  },
  {
   "cell_type": "code",
   "execution_count": 2,
   "metadata": {},
   "outputs": [],
   "source": [
    "def print_hello():\n",
    "    print(\"안녕하세요!\")"
   ]
  },
  {
   "cell_type": "code",
   "execution_count": 3,
   "metadata": {},
   "outputs": [],
   "source": [
    "from datetime import datetime\n",
    "\n",
    "def print_hello():\n",
    "    print(\"안녕하세요!\")\n",
    "    print(datetime.now())"
   ]
  },
  {
   "cell_type": "markdown",
   "metadata": {},
   "source": [
    "- 하지만 이런 함수가 100개쯤 있다면...? 이들 모두에 동일한 라인을 추가하는 것은 귀찮고 효율적이지 못한 방법\n",
    "- 이 경우 아래와 같이 decorator를 사용할 수 있음\n",
    "- 아래 예제에서 `print_datetime`이라는 함수를 선언하고 파라미터로 function을 받음(지난 시간에 다루었던 first class 함수)\n",
    "- 내부에 `decorated`라는 nested 함수를 선언하고 input으로 받은 함수의 앞뒤에 장식적인 라인을 추가해 줌\n",
    "- 아래와 같은 원리로 동작하므로 입력받은 함수의 중간에 끼어들 수는 없음(입력받은 함수는 통으로 실행되고 그 앞이나 뒤에 라인을 추가해 주는 것)"
   ]
  },
  {
   "cell_type": "code",
   "execution_count": 6,
   "metadata": {},
   "outputs": [
    {
     "name": "stdout",
     "output_type": "stream",
     "text": [
      "yahoo\n",
      "This is A\n",
      "2019-05-08 02:28:46.899330\n",
      "--------------\n",
      "yahoo\n",
      "This is B\n",
      "2019-05-08 02:28:46.899450\n",
      "--------------\n",
      "yahoo\n",
      "This is C\n",
      "2019-05-08 02:28:46.899721\n",
      "--------------\n"
     ]
    }
   ],
   "source": [
    "def print_datetime(func):\n",
    "    \n",
    "    def decorated():\n",
    "        print('yahoo')\n",
    "        func()\n",
    "        print(datetime.now())\n",
    "        print('--------------')\n",
    "        \n",
    "    return decorated\n",
    "\n",
    "@print_datetime\n",
    "def print_a():\n",
    "    print(\"This is A\")\n",
    "    \n",
    "@print_datetime\n",
    "def print_b():\n",
    "    print(\"This is B\")\n",
    "    \n",
    "@print_datetime\n",
    "def print_c():\n",
    "    print(\"This is C\")\n",
    "    \n",
    "print_a()\n",
    "print_b()\n",
    "print_c()"
   ]
  },
  {
   "cell_type": "markdown",
   "metadata": {},
   "source": [
    "### @ 심볼이 없는 경우\n",
    "- 사실 데코레이터는 아래와 같이 동작하는 것을 `@` 심볼을 사용해 간편하게 만든 것\n",
    "- first-class function의 특징을 이용해 함수를 parameter로 주고받음\n",
    "- 아래 예시에서 nested method인 `decorated`에서는 `func`를 입력으로 받지 않았는데도 실행이 가능(closure 함수)"
   ]
  },
  {
   "cell_type": "code",
   "execution_count": 7,
   "metadata": {},
   "outputs": [
    {
     "name": "stdout",
     "output_type": "stream",
     "text": [
      "This is A\n"
     ]
    }
   ],
   "source": [
    "# @ 심볼을 사용하지 않은 데코레이터\n",
    "def print_datetime(func):\n",
    "    def decorated():\n",
    "        return func()\n",
    "    return decorated\n",
    "\n",
    "def print_a():\n",
    "    print(\"This is A\")\n",
    "\n",
    "decorated_print_a = print_datetime(print_a)\n",
    "decorated_print_a()"
   ]
  },
  {
   "cell_type": "markdown",
   "metadata": {},
   "source": [
    "## 2) function 레벨에서 데코레이터 사용하기: parameter가 있는 경우\n",
    "- input으로 들어오는 함수의 parameter가 몇 개인지 알 수 없기 때문에 지난 시간에 다루었던 `*args`와 `*kwargs`가 사용됨"
   ]
  },
  {
   "cell_type": "code",
   "execution_count": 8,
   "metadata": {},
   "outputs": [
    {
     "name": "stdout",
     "output_type": "stream",
     "text": [
      "This is A: A\n",
      "2019-05-08 02:34:39.406275\n",
      "This is B: B\n",
      "2019-05-08 02:34:39.406366\n",
      "This is C: C\n",
      "2019-05-08 02:34:39.406451\n"
     ]
    }
   ],
   "source": [
    "def print_datetime(func):\n",
    "    def decorated(*args, **kwargs):\n",
    "        func(*args, **kwargs)\n",
    "        print(datetime.now())\n",
    "    return decorated\n",
    "\n",
    "@print_datetime\n",
    "def print_a(alphabet):\n",
    "    print(\"This is A: {}\".format(alphabet))\n",
    "    \n",
    "@print_datetime\n",
    "def print_b(alphabet):\n",
    "    print(\"This is B: {}\".format(alphabet))\n",
    "    \n",
    "@print_datetime\n",
    "def print_c(alphabet):\n",
    "    print(\"This is C: {}\".format(alphabet))\n",
    "    \n",
    "print_a(\"A\")\n",
    "print_b(\"B\")\n",
    "print_c(\"C\")"
   ]
  },
  {
   "cell_type": "code",
   "execution_count": 12,
   "metadata": {},
   "outputs": [
    {
     "name": "stdout",
     "output_type": "stream",
     "text": [
      "This is alphabet list: ('A', 'B', 'C')\n",
      "2019-05-08 02:38:22.950228\n"
     ]
    }
   ],
   "source": [
    "def print_datetime(func):\n",
    "    def decorated(*args, **kwargs):\n",
    "        func(*args, **kwargs)\n",
    "        print(datetime.now())\n",
    "    return decorated\n",
    "\n",
    "@print_datetime\n",
    "def print_a(*alphabet):\n",
    "    print(\"This is alphabet list: {}\".format(alphabet))\n",
    "    \n",
    "print_a(\"A\", \"B\", \"C\")"
   ]
  },
  {
   "cell_type": "markdown",
   "metadata": {},
   "source": [
    "## 3) function 레벨에서 데코레이터 사용하기: 리턴값이 있는 경우"
   ]
  },
  {
   "cell_type": "code",
   "execution_count": 13,
   "metadata": {},
   "outputs": [
    {
     "name": "stdout",
     "output_type": "stream",
     "text": [
      "This is A: A\n",
      "2019-05-08 02:41:03.169637\n",
      "This is B: B\n",
      "2019-05-08 02:41:03.169751\n",
      "This is C: C\n",
      "2019-05-08 02:41:03.169799\n",
      "A B C\n"
     ]
    }
   ],
   "source": [
    "def print_datetime(func):\n",
    "    def decorated(*args, **kwargs):\n",
    "        input_alphabet = func(*args, **kwargs)   # return값을 저장한 후\n",
    "        print(datetime.now())\n",
    "        return input_alphabet  # 리턴해주는 부분을 추가\n",
    "    return decorated\n",
    "\n",
    "@print_datetime\n",
    "def print_a(alphabet):\n",
    "    print(\"This is A: {}\".format(alphabet))\n",
    "    return alphabet\n",
    "    \n",
    "@print_datetime\n",
    "def print_b(alphabet):\n",
    "    print(\"This is B: {}\".format(alphabet))\n",
    "    return alphabet\n",
    "    \n",
    "@print_datetime\n",
    "def print_c(alphabet):\n",
    "    print(\"This is C: {}\".format(alphabet))\n",
    "    return alphabet\n",
    "    \n",
    "val_a = print_a(\"A\")\n",
    "val_b = print_b(\"B\")\n",
    "val_c = print_c(\"C\")\n",
    "print(val_a, val_b, val_c)"
   ]
  },
  {
   "cell_type": "markdown",
   "metadata": {},
   "source": [
    "## 4) class 레벨에서 데코레이터 사용하기\n",
    "- class 형태로 decorator를 사용하고자 한다면 아래 `DatetimeDecorator` 예시처럼 `__call__` 함수로 정의해주면 됨\n",
    "- 위 function 레벨과 거의 유사하지만 조금 더 명시적임"
   ]
  },
  {
   "cell_type": "code",
   "execution_count": 14,
   "metadata": {},
   "outputs": [
    {
     "name": "stdout",
     "output_type": "stream",
     "text": [
      "This is A: wow\n",
      "2019-05-08 02:43:26.497707\n",
      "This is B: good\n",
      "2019-05-08 02:43:26.497902\n",
      "This is C: fantastic!\n",
      "2019-05-08 02:43:26.498024\n"
     ]
    }
   ],
   "source": [
    "class DatetimeDecorator:\n",
    "\n",
    "    def __init__(self, f):\n",
    "        self.func = f\n",
    "\n",
    "    def __call__(self, *args, **kwargs):\n",
    "        self.func(*args, **kwargs)\n",
    "        print(datetime.now())\n",
    "\n",
    "        \n",
    "class MainClass:\n",
    "    @DatetimeDecorator\n",
    "    def print_a(alphabet):\n",
    "        print(\"This is A: {}\".format(alphabet))\n",
    "\n",
    "    @DatetimeDecorator\n",
    "    def print_b(alphabet):\n",
    "        print(\"This is B: {}\".format(alphabet))\n",
    "\n",
    "    @DatetimeDecorator\n",
    "    def print_c(alphabet):\n",
    "        print(\"This is C: {}\".format(alphabet))\n",
    "\n",
    "        \n",
    "my = MainClass()\n",
    "my.print_a(\"wow\")\n",
    "my.print_b(\"good\")\n",
    "my.print_c(\"fantastic!\")"
   ]
  },
  {
   "cell_type": "code",
   "execution_count": null,
   "metadata": {},
   "outputs": [],
   "source": []
  },
  {
   "cell_type": "code",
   "execution_count": null,
   "metadata": {},
   "outputs": [],
   "source": []
  },
  {
   "cell_type": "code",
   "execution_count": null,
   "metadata": {},
   "outputs": [],
   "source": []
  },
  {
   "cell_type": "code",
   "execution_count": null,
   "metadata": {},
   "outputs": [],
   "source": []
  },
  {
   "cell_type": "code",
   "execution_count": null,
   "metadata": {},
   "outputs": [],
   "source": []
  },
  {
   "cell_type": "code",
   "execution_count": null,
   "metadata": {},
   "outputs": [],
   "source": []
  },
  {
   "cell_type": "code",
   "execution_count": null,
   "metadata": {},
   "outputs": [],
   "source": []
  },
  {
   "cell_type": "code",
   "execution_count": null,
   "metadata": {},
   "outputs": [],
   "source": []
  },
  {
   "cell_type": "code",
   "execution_count": null,
   "metadata": {},
   "outputs": [],
   "source": []
  },
  {
   "cell_type": "code",
   "execution_count": null,
   "metadata": {},
   "outputs": [],
   "source": []
  },
  {
   "cell_type": "code",
   "execution_count": null,
   "metadata": {},
   "outputs": [],
   "source": []
  },
  {
   "cell_type": "code",
   "execution_count": null,
   "metadata": {},
   "outputs": [],
   "source": []
  },
  {
   "cell_type": "code",
   "execution_count": null,
   "metadata": {},
   "outputs": [],
   "source": []
  },
  {
   "cell_type": "code",
   "execution_count": null,
   "metadata": {},
   "outputs": [],
   "source": []
  },
  {
   "cell_type": "code",
   "execution_count": null,
   "metadata": {},
   "outputs": [],
   "source": []
  },
  {
   "cell_type": "code",
   "execution_count": null,
   "metadata": {},
   "outputs": [],
   "source": []
  },
  {
   "cell_type": "code",
   "execution_count": null,
   "metadata": {},
   "outputs": [],
   "source": []
  },
  {
   "cell_type": "code",
   "execution_count": null,
   "metadata": {},
   "outputs": [],
   "source": []
  },
  {
   "cell_type": "code",
   "execution_count": null,
   "metadata": {},
   "outputs": [],
   "source": []
  },
  {
   "cell_type": "code",
   "execution_count": null,
   "metadata": {},
   "outputs": [],
   "source": []
  },
  {
   "cell_type": "code",
   "execution_count": null,
   "metadata": {},
   "outputs": [],
   "source": []
  },
  {
   "cell_type": "code",
   "execution_count": null,
   "metadata": {},
   "outputs": [],
   "source": []
  }
 ],
 "metadata": {
  "kernelspec": {
   "display_name": "Python 3",
   "language": "python",
   "name": "python3"
  },
  "language_info": {
   "codemirror_mode": {
    "name": "ipython",
    "version": 3
   },
   "file_extension": ".py",
   "mimetype": "text/x-python",
   "name": "python",
   "nbconvert_exporter": "python",
   "pygments_lexer": "ipython3",
   "version": "3.6.7"
  }
 },
 "nbformat": 4,
 "nbformat_minor": 2
}
