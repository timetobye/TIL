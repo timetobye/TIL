{
 "cells": [
  {
   "cell_type": "markdown",
   "metadata": {},
   "source": [
    "### 디렉토리 내 존재하는 모든 CSV 파일 합치기"
   ]
  },
  {
   "cell_type": "code",
   "execution_count": 1,
   "metadata": {},
   "outputs": [],
   "source": [
    "import pandas as pd\n",
    "import numpy as np\n",
    "import glob\n",
    "import os\n",
    "\n",
    "\n",
    "def make_big_table():\n",
    "    all_files = glob.glob(os.path.join('*.csv'))\n",
    "    all_data_frames = []\n",
    "    for file in all_files:\n",
    "        data_frame = pd.read_csv(file)\n",
    "        all_data_frames.append(data_frame)\n",
    "    data_frame_concat = pd.concat(all_data_frames)\n",
    "    data_frame_concat.reset_index(inplace = True, drop=True)\n",
    "    \n",
    "    return data_frame_concat"
   ]
  },
  {
   "cell_type": "markdown",
   "metadata": {},
   "source": [
    "csv로 저장하는 것까지 완료!"
   ]
  },
  {
   "cell_type": "code",
   "execution_count": null,
   "metadata": {},
   "outputs": [],
   "source": [
    "result = make_big_table()\n",
    "result.to_csv('stock_result.csv', index=False)"
   ]
  },
  {
   "cell_type": "markdown",
   "metadata": {},
   "source": [
    "excel로도 가능하다. 약간의 변형만 하면 됨!"
   ]
  }
 ],
 "metadata": {
  "kernelspec": {
   "display_name": "Python 3",
   "language": "python",
   "name": "python3"
  },
  "language_info": {
   "codemirror_mode": {
    "name": "ipython",
    "version": 3
   },
   "file_extension": ".py",
   "mimetype": "text/x-python",
   "name": "python",
   "nbconvert_exporter": "python",
   "pygments_lexer": "ipython3",
   "version": "3.6.6"
  }
 },
 "nbformat": 4,
 "nbformat_minor": 2
}
