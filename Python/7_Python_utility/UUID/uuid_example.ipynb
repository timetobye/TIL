{
 "cells": [
  {
   "cell_type": "markdown",
   "metadata": {},
   "source": [
    "UUID\n",
    "----------\n",
    "\n",
    "--------------\n",
    "\n",
    "### 문서 목적\n",
    "UUID에 대해서 알아보고, Python에서 사용할 수 있는 방법에 대해 학습한다.\n",
    "\n",
    "\n",
    "### UUID 정의\n",
    "범용 고유 식별자(汎用固有識別子, 영어: universally unique identifier, UUID)\n",
    "- A universally unique identifier (UUID) is a 128-bit number used to identify information in computer systems.\n",
    "\n",
    "### 사용 목적\n",
    "네트워크 상에서 서로 모르는 개체들을 식별하고 구별하기 위해서는 각각의 고유한 이름이 필요하다. 이 이름은 고유성(유일성)이 매우 중요하다. 같은 이름을 갖는 개체가 존재한다면 구별이 불가능해 지기 때문이다. 고유성을 완벽하게 보장하려면 중앙관리시스템이 있어서 일련번호를 부여해 주면 간단하지만 동시다발적이고 독립적으로 개발되고 있는 시스템들의 경우 중앙관리시스템은 불가능하다. 개발주체가 스스로 이름을 짓도록 하되 고유성을 충족할 수 있는 방법이 필요하다. 이를 위하여 탄생한 것이 범용고유식별자(UUID)이며 국제기구에서 표준으로 정하고 있다.\n",
    "\n",
    "UUID 표준에 따라 이름을 부여하면 고유성을 완벽하게 보장할 수는 없지만 실제 사용상에서 중복될 가능성이 거의 없다고 인정되기 때문에 많이 사용되고 있다\n",
    "\n",
    "\n",
    "\n",
    "#### 참고 페이지\n",
    "\n",
    "wiki page\n",
    "- 국문 : https://ko.wikipedia.org/wiki/%EB%B2%94%EC%9A%A9_%EA%B3%A0%EC%9C%A0_%EC%8B%9D%EB%B3%84%EC%9E%90\n",
    "- 영문 : https://en.wikipedia.org/wiki/Universally_unique_identifier\n",
    "\n",
    "Python - UUID 공식 문서\n",
    "- https://docs.python.org/ko/3/library/uuid.html\n",
    "\n",
    "\n",
    "Python Code\n",
    "--------------\n",
    "\n",
    "-----------"
   ]
  },
  {
   "cell_type": "code",
   "execution_count": 1,
   "metadata": {},
   "outputs": [],
   "source": [
    "import uuid"
   ]
  },
  {
   "cell_type": "code",
   "execution_count": 2,
   "metadata": {},
   "outputs": [
    {
     "data": {
      "text/plain": [
       "\u001b[0;31mType:\u001b[0m        module\n",
       "\u001b[0;31mString form:\u001b[0m <module 'uuid' from '/Users/wontaek/anaconda3/lib/python3.6/uuid.py'>\n",
       "\u001b[0;31mFile:\u001b[0m        ~/anaconda3/lib/python3.6/uuid.py\n",
       "\u001b[0;31mDocstring:\u001b[0m  \n",
       "UUID objects (universally unique identifiers) according to RFC 4122.\n",
       "\n",
       "This module provides immutable UUID objects (class UUID) and the functions\n",
       "uuid1(), uuid3(), uuid4(), uuid5() for generating version 1, 3, 4, and 5\n",
       "UUIDs as specified in RFC 4122.\n",
       "\n",
       "If all you want is a unique ID, you should probably call uuid1() or uuid4().\n",
       "Note that uuid1() may compromise privacy since it creates a UUID containing\n",
       "the computer's network address.  uuid4() creates a random UUID.\n",
       "\n",
       "Typical usage:\n",
       "\n",
       "    >>> import uuid\n",
       "\n",
       "    # make a UUID based on the host ID and current time\n",
       "    >>> uuid.uuid1()    # doctest: +SKIP\n",
       "    UUID('a8098c1a-f86e-11da-bd1a-00112444be1e')\n",
       "\n",
       "    # make a UUID using an MD5 hash of a namespace UUID and a name\n",
       "    >>> uuid.uuid3(uuid.NAMESPACE_DNS, 'python.org')\n",
       "    UUID('6fa459ea-ee8a-3ca4-894e-db77e160355e')\n",
       "\n",
       "    # make a random UUID\n",
       "    >>> uuid.uuid4()    # doctest: +SKIP\n",
       "    UUID('16fd2706-8baf-433b-82eb-8c7fada847da')\n",
       "\n",
       "    # make a UUID using a SHA-1 hash of a namespace UUID and a name\n",
       "    >>> uuid.uuid5(uuid.NAMESPACE_DNS, 'python.org')\n",
       "    UUID('886313e1-3b8a-5372-9b90-0c9aee199e5d')\n",
       "\n",
       "    # make a UUID from a string of hex digits (braces and hyphens ignored)\n",
       "    >>> x = uuid.UUID('{00010203-0405-0607-0809-0a0b0c0d0e0f}')\n",
       "\n",
       "    # convert a UUID to a string of hex digits in standard form\n",
       "    >>> str(x)\n",
       "    '00010203-0405-0607-0809-0a0b0c0d0e0f'\n",
       "\n",
       "    # get the raw 16 bytes of the UUID\n",
       "    >>> x.bytes\n",
       "    b'\\x00\\x01\\x02\\x03\\x04\\x05\\x06\\x07\\x08\\t\\n\\x0b\\x0c\\r\\x0e\\x0f'\n",
       "\n",
       "    # make a UUID from a 16-byte string\n",
       "    >>> uuid.UUID(bytes=x.bytes)\n",
       "    UUID('00010203-0405-0607-0809-0a0b0c0d0e0f')\n"
      ]
     },
     "metadata": {},
     "output_type": "display_data"
    }
   ],
   "source": [
    "uuid?"
   ]
  },
  {
   "cell_type": "markdown",
   "metadata": {},
   "source": [
    "대표적으로 uuid1(), uuid3(), uuid4(), uuid5() 를 제공한다.\n",
    "\n",
    "**uuid.uuid1(node=None, clock_seq=None)**\n",
    "- 호스트 ID, 시퀀스 번호 및 현재 시각으로 UUID 생성. node가 주어지지 않으면, getnode()를 사용하여 하드웨어 주소를 얻습니다. clock_seq가 주어지면 시퀀스 번호로 사용합니다. 그렇지 않을 경우, 무작위 14bit 시퀀스 번호를 사용합니다.\n",
    "\n",
    "**uuid.uuid3(namespace, name)**\n",
    "- 이름 공간 식별자(UUID) 및 이름(문자열)의 MD5 해시를 기반으로 UUID 생성.\n",
    "\n",
    "**uuid.uuid4()**\n",
    "- 무작위 UUID 생성.\n",
    "\n",
    "**uuid.uuid5(namespace, name)**\n",
    "- 이름 공간 식별자(UUID) 및 이름(문자열)의 SHA-1 해시를 기반으로 UUID 생성."
   ]
  },
  {
   "cell_type": "code",
   "execution_count": 4,
   "metadata": {},
   "outputs": [
    {
     "data": {
      "text/plain": [
       "UUID('9b2f1fd8-9296-11ea-9f51-68fef708cd21')"
      ]
     },
     "execution_count": 4,
     "metadata": {},
     "output_type": "execute_result"
    }
   ],
   "source": [
    "uuid.uuid1()"
   ]
  },
  {
   "cell_type": "code",
   "execution_count": 5,
   "metadata": {},
   "outputs": [
    {
     "data": {
      "text/plain": [
       "UUID('a0a6648a-9296-11ea-9048-68fef708cd21')"
      ]
     },
     "execution_count": 5,
     "metadata": {},
     "output_type": "execute_result"
    }
   ],
   "source": [
    "uuid.uuid1()"
   ]
  },
  {
   "cell_type": "code",
   "execution_count": 6,
   "metadata": {},
   "outputs": [
    {
     "data": {
      "text/plain": [
       "UUID('a32bda5a-9296-11ea-8939-68fef708cd21')"
      ]
     },
     "execution_count": 6,
     "metadata": {},
     "output_type": "execute_result"
    }
   ],
   "source": [
    "uuid.uuid1()"
   ]
  },
  {
   "cell_type": "code",
   "execution_count": null,
   "metadata": {},
   "outputs": [],
   "source": []
  },
  {
   "cell_type": "code",
   "execution_count": 8,
   "metadata": {},
   "outputs": [
    {
     "data": {
      "text/plain": [
       "UUID('b5bc2dc6-01c6-449d-b10b-d2c7d62b15a9')"
      ]
     },
     "execution_count": 8,
     "metadata": {},
     "output_type": "execute_result"
    }
   ],
   "source": [
    "uuid.uuid4()"
   ]
  },
  {
   "cell_type": "code",
   "execution_count": 9,
   "metadata": {},
   "outputs": [
    {
     "data": {
      "text/plain": [
       "UUID('2739622d-e3e3-4799-9c39-e07ded2db2e5')"
      ]
     },
     "execution_count": 9,
     "metadata": {},
     "output_type": "execute_result"
    }
   ],
   "source": [
    "uuid.uuid4()"
   ]
  },
  {
   "cell_type": "code",
   "execution_count": 10,
   "metadata": {},
   "outputs": [
    {
     "name": "stdout",
     "output_type": "stream",
     "text": [
      "f6251ae7-d89e-417a-9351-ac79c9b732d9\n",
      "5639f33b-3630-437a-acb2-e6a0da384339\n",
      "2078b0f7-4395-4d4f-88c0-c058cbe4aa7f\n",
      "5f2e92df-fed9-4c5b-9e36-cdd281d4d758\n",
      "0bc3e1b8-a465-4598-aa6a-69b5138870b4\n"
     ]
    }
   ],
   "source": [
    "for i in range(5):\n",
    "    print(uuid.uuid4())"
   ]
  },
  {
   "cell_type": "markdown",
   "metadata": {},
   "source": [
    "----------\n",
    "\n",
    "example"
   ]
  },
  {
   "cell_type": "code",
   "execution_count": 12,
   "metadata": {},
   "outputs": [
    {
     "data": {
      "text/plain": [
       "UUID('ca99db3a-9296-11ea-81c1-68fef708cd21')"
      ]
     },
     "execution_count": 12,
     "metadata": {},
     "output_type": "execute_result"
    }
   ],
   "source": [
    "# make a UUID based on the host ID and current time\n",
    "uuid.uuid1()"
   ]
  },
  {
   "cell_type": "code",
   "execution_count": 14,
   "metadata": {},
   "outputs": [
    {
     "data": {
      "text/plain": [
       "UUID('6fa459ea-ee8a-3ca4-894e-db77e160355e')"
      ]
     },
     "execution_count": 14,
     "metadata": {},
     "output_type": "execute_result"
    }
   ],
   "source": [
    "# make a UUID using an MD5 hash of a namespace UUID and a name\n",
    "uuid.uuid3(uuid.NAMESPACE_DNS, 'python.org')"
   ]
  },
  {
   "cell_type": "code",
   "execution_count": 15,
   "metadata": {},
   "outputs": [
    {
     "data": {
      "text/plain": [
       "UUID('a48de23f-7cac-487c-b8b1-02d005166c36')"
      ]
     },
     "execution_count": 15,
     "metadata": {},
     "output_type": "execute_result"
    }
   ],
   "source": [
    "# make a random UUID\n",
    "uuid.uuid4()"
   ]
  },
  {
   "cell_type": "code",
   "execution_count": 16,
   "metadata": {},
   "outputs": [
    {
     "data": {
      "text/plain": [
       "UUID('886313e1-3b8a-5372-9b90-0c9aee199e5d')"
      ]
     },
     "execution_count": 16,
     "metadata": {},
     "output_type": "execute_result"
    }
   ],
   "source": [
    "# make a UUID using a SHA-1 hash of a namespace UUID and a name\n",
    "uuid.uuid5(uuid.NAMESPACE_DNS, 'python.org')"
   ]
  },
  {
   "cell_type": "code",
   "execution_count": 17,
   "metadata": {},
   "outputs": [
    {
     "data": {
      "text/plain": [
       "b'\\x00\\x01\\x02\\x03\\x04\\x05\\x06\\x07\\x08\\t\\n\\x0b\\x0c\\r\\x0e\\x0f'"
      ]
     },
     "execution_count": 17,
     "metadata": {},
     "output_type": "execute_result"
    }
   ],
   "source": [
    "# make a UUID from a string of hex digits (braces and hyphens ignored)\n",
    "x = uuid.UUID('{00010203-0405-0607-0809-0a0b0c0d0e0f}')\n",
    "\n",
    "# convert a UUID to a string of hex digits in standard form\n",
    "str(x)\n",
    "\n",
    "\n",
    "# get the raw 16 bytes of the UUID\n",
    "x.bytes"
   ]
  },
  {
   "cell_type": "code",
   "execution_count": 19,
   "metadata": {},
   "outputs": [
    {
     "data": {
      "text/plain": [
       "UUID('00010203-0405-0607-0809-0a0b0c0d0e0f')"
      ]
     },
     "execution_count": 19,
     "metadata": {},
     "output_type": "execute_result"
    }
   ],
   "source": [
    "# make a UUID from a 16-byte string\n",
    "uuid.UUID(bytes=x.bytes)"
   ]
  },
  {
   "cell_type": "code",
   "execution_count": null,
   "metadata": {},
   "outputs": [],
   "source": []
  }
 ],
 "metadata": {
  "kernelspec": {
   "display_name": "Python 3",
   "language": "python",
   "name": "python3"
  },
  "language_info": {
   "codemirror_mode": {
    "name": "ipython",
    "version": 3
   },
   "file_extension": ".py",
   "mimetype": "text/x-python",
   "name": "python",
   "nbconvert_exporter": "python",
   "pygments_lexer": "ipython3",
   "version": "3.6.6"
  }
 },
 "nbformat": 4,
 "nbformat_minor": 2
}
