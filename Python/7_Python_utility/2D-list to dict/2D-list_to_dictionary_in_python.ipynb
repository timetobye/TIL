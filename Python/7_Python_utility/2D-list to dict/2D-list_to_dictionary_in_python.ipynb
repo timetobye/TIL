{
 "cells": [
  {
   "cell_type": "markdown",
   "metadata": {},
   "source": [
    "## Efficiency: 2D-list to dictionary in python\n",
    "\n",
    "코드를 작성하다가 2D-list를 dict로 바로 넣을 수 있는 기능이 있어서 정리하였음"
   ]
  },
  {
   "cell_type": "code",
   "execution_count": 1,
   "metadata": {},
   "outputs": [],
   "source": [
    "# base 2d-list\n",
    "\n",
    "two_dimension_list = [[i, i+5] for i in range(20)]"
   ]
  },
  {
   "cell_type": "code",
   "execution_count": 2,
   "metadata": {},
   "outputs": [
    {
     "data": {
      "text/plain": [
       "[[0, 5],\n",
       " [1, 6],\n",
       " [2, 7],\n",
       " [3, 8],\n",
       " [4, 9],\n",
       " [5, 10],\n",
       " [6, 11],\n",
       " [7, 12],\n",
       " [8, 13],\n",
       " [9, 14],\n",
       " [10, 15],\n",
       " [11, 16],\n",
       " [12, 17],\n",
       " [13, 18],\n",
       " [14, 19],\n",
       " [15, 20],\n",
       " [16, 21],\n",
       " [17, 22],\n",
       " [18, 23],\n",
       " [19, 24]]"
      ]
     },
     "execution_count": 2,
     "metadata": {},
     "output_type": "execute_result"
    }
   ],
   "source": [
    "two_dimension_list"
   ]
  },
  {
   "cell_type": "code",
   "execution_count": 3,
   "metadata": {},
   "outputs": [
    {
     "data": {
      "text/plain": [
       "{0: 5,\n",
       " 1: 6,\n",
       " 2: 7,\n",
       " 3: 8,\n",
       " 4: 9,\n",
       " 5: 10,\n",
       " 6: 11,\n",
       " 7: 12,\n",
       " 8: 13,\n",
       " 9: 14,\n",
       " 10: 15,\n",
       " 11: 16,\n",
       " 12: 17,\n",
       " 13: 18,\n",
       " 14: 19,\n",
       " 15: 20,\n",
       " 16: 21,\n",
       " 17: 22,\n",
       " 18: 23,\n",
       " 19: 24}"
      ]
     },
     "execution_count": 3,
     "metadata": {},
     "output_type": "execute_result"
    }
   ],
   "source": [
    "# 바로 key-value 구조로 넣을 수 있다.\n",
    "\n",
    "dict(two_dimension_list)"
   ]
  },
  {
   "cell_type": "code",
   "execution_count": 9,
   "metadata": {},
   "outputs": [],
   "source": [
    "# 그렇다면 key가 중복되는 경우는 어떻게 할까?\n",
    "\n",
    "import random\n",
    "\n",
    "two_dimension_random_component_list = [[random.randint(1, 10), random.randint(1, 10)+5] for i in range(20)]"
   ]
  },
  {
   "cell_type": "code",
   "execution_count": 10,
   "metadata": {},
   "outputs": [
    {
     "data": {
      "text/plain": [
       "[[2, 10],\n",
       " [6, 9],\n",
       " [5, 9],\n",
       " [5, 10],\n",
       " [10, 8],\n",
       " [2, 11],\n",
       " [2, 12],\n",
       " [3, 15],\n",
       " [10, 12],\n",
       " [3, 8],\n",
       " [6, 13],\n",
       " [7, 11],\n",
       " [2, 9],\n",
       " [1, 9],\n",
       " [7, 9],\n",
       " [9, 6],\n",
       " [1, 12],\n",
       " [3, 8],\n",
       " [1, 14],\n",
       " [1, 15]]"
      ]
     },
     "execution_count": 10,
     "metadata": {},
     "output_type": "execute_result"
    }
   ],
   "source": [
    "two_dimension_random_component_list"
   ]
  },
  {
   "cell_type": "code",
   "execution_count": 11,
   "metadata": {},
   "outputs": [
    {
     "data": {
      "text/plain": [
       "{2: 9, 6: 13, 5: 10, 10: 12, 3: 8, 7: 9, 1: 15, 9: 6}"
      ]
     },
     "execution_count": 11,
     "metadata": {},
     "output_type": "execute_result"
    }
   ],
   "source": [
    "# 안된다...-_-;;\n",
    "dict(two_dimension_random_component_list)"
   ]
  },
  {
   "cell_type": "markdown",
   "metadata": {},
   "source": [
    "```\n",
    "setdefault(key[, default])\n",
    "If key is in the dictionary, return its value. If not, insert key with a value of default and return default. default defaults to None.\n",
    "```\n",
    "\n",
    "- https://docs.python.org/3/library/stdtypes.html\n",
    "- key가 존재하면 "
   ]
  },
  {
   "cell_type": "code",
   "execution_count": 12,
   "metadata": {},
   "outputs": [
    {
     "name": "stdout",
     "output_type": "stream",
     "text": [
      "{2: [10, 11, 12, 9], 6: [9, 13], 5: [9, 10], 10: [8, 12], 3: [15, 8, 8], 7: [11, 9], 1: [9, 12, 14, 15], 9: [6]}\n"
     ]
    }
   ],
   "source": [
    "dictionary = {}\n",
    "for k, v in two_dimension_random_component_list:\n",
    "    dictionary.setdefault(k, []).append(v)\n",
    "\n",
    "print(dictionary)"
   ]
  },
  {
   "cell_type": "markdown",
   "metadata": {},
   "source": [
    "```python\n",
    "dict_ = {}\n",
    "for k, v in two_dimension_random_component_list:\n",
    "    if k not in dict_:\n",
    "        dict_[k] = [v]\n",
    "    else:\n",
    "        dict_[k].append(v)\n",
    "```\n",
    "\n",
    "위의 식을 한 줄로 줄일 수 있다."
   ]
  }
 ],
 "metadata": {
  "kernelspec": {
   "display_name": "Python 3",
   "language": "python",
   "name": "python3"
  },
  "language_info": {
   "codemirror_mode": {
    "name": "ipython",
    "version": 3
   },
   "file_extension": ".py",
   "mimetype": "text/x-python",
   "name": "python",
   "nbconvert_exporter": "python",
   "pygments_lexer": "ipython3",
   "version": "3.6.6"
  }
 },
 "nbformat": 4,
 "nbformat_minor": 2
}
