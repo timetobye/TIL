{
 "cells": [
  {
   "cell_type": "markdown",
   "metadata": {},
   "source": [
    "datetime - 기본 날짜와 시간\n",
    "----\n",
    "\n",
    "# 학습 목표\n",
    "Python에서 제공하는 datetime 모듈을 이용하여 날짜, 시간 기능에 대해 학습한다.\n",
    "- 모든 것을 다 학습하기 보다는 필요한 항목이라고 판단하는 것 위주로 학습한다.\n",
    "- 해당 항목에 주석을 달아서 나중에 빠르게 스캔할 수 있도록 한다.\n",
    "\n",
    "# 학습 자료 및 버전\n",
    "- 학습 자료 : https://docs.python.org/ko/3.8/library/datetime.html#module-datetime\n",
    "- Python version : 3.8\n",
    "- 학습 날짜 : 2020-05-04\n",
    "\n",
    "# datetime 개요\n",
    "- datetime 모듈은 날짜와 시간을 조작하는 클래스 제공\n",
    "- 날짜와 시간 산술 지원\n",
    "- 구현의 초점은 출력 포매팅과 조작을 위한 효율적인 attribute extraction"
   ]
  },
  {
   "cell_type": "markdown",
   "metadata": {},
   "source": [
    "## Aware and Naive Objects\n",
    "Date and time objects may be categorized as “aware” or “naive.”\n",
    "\n",
    "> With sufficient knowledge of applicable algorithmic and political time adjustments, such as time zone and daylight saving time information, an aware object can locate itself relative to other aware objects. An aware object represents a specific moment in time that is not open to interpretation. 1\n",
    "\n",
    "> A naive object does not contain enough information to unambiguously locate itself relative to other date/time objects. Whether a naive object represents Coordinated Universal Time (UTC), local time, or time in some other timezone is purely up to the program, just like it is up to the program whether a particular number represents metres, miles, or mass. Naive objects are easy to understand and to work with, at the cost of ignoring some aspects of reality.\n",
    "\n",
    "> For applications requiring aware objects, datetime and time objects have an optional time zone information attribute, tzinfo, that can be set to an instance of a subclass of the abstract tzinfo class. These tzinfo objects capture information about the offset from UTC time, the time zone name, and whether daylight saving time is in effect.\n",
    "\n",
    "> Only one concrete tzinfo class, the timezone class, is supplied by the datetime module. The timezone class can represent simple timezones with fixed offsets from UTC, such as UTC itself or North American EST and EDT timezones. Supporting timezones at deeper levels of detail is up to the application. The rules for time adjustment across the world are more political than rational, change frequently, and there is no standard suitable for every application aside from UTC."
   ]
  },
  {
   "cell_type": "code",
   "execution_count": 1,
   "metadata": {},
   "outputs": [],
   "source": [
    "import datetime"
   ]
  },
  {
   "cell_type": "code",
   "execution_count": 21,
   "metadata": {},
   "outputs": [
    {
     "data": {
      "text/plain": [
       "(1, 9999)"
      ]
     },
     "execution_count": 21,
     "metadata": {},
     "output_type": "execute_result"
    }
   ],
   "source": [
    "# 상수\n",
    "# date나 datetime 객체에서 허용되는 가장 작은 연도 번호. MINYEAR는 1입니다.\n",
    "# date나 datetime 객체에서 허용되는 가장 큰 연도 번호. MAXYEAR는 9999입니다.\n",
    "\n",
    "datetime.MINYEAR, datetime.MAXYEAR"
   ]
  },
  {
   "cell_type": "markdown",
   "metadata": {},
   "source": [
    "datetime은 아래와 같은 구조를 지닌다.\n",
    "\n",
    "```bash\n",
    "object\n",
    "    timedelta\n",
    "    tzinfo\n",
    "        timezone\n",
    "    time\n",
    "    date\n",
    "        datetime\n",
    "```\n",
    "\n",
    "**사용 가능한 형**\n",
    "```python\n",
    "class datetime.date\n",
    "- 현재의 그레고리력이 언제나 적용되어왔고, 앞으로도 그럴 것이라는 가정하에 이상적인 나이브 날짜. 어트리뷰트: year, month 및 day.\n",
    "\n",
    "class datetime.time\n",
    "- 특정 날짜와 관계없이, 하루가 정확히 24*60*60초를 갖는다는 가정하에 이상적인 시간. (여기에는 《윤초》라는 개념이 없습니다.) 어트리뷰트: hour, minute, second, microsecond 및 tzinfo.\n",
    "\n",
    "class datetime.datetime\n",
    "- 날짜와 시간의 조합. 어트리뷰트: year, month, day, hour, minute, second, microsecond 및 tzinfo.\n",
    "\n",
    "class datetime.timedelta\n",
    "- 두 date, time 또는 datetime 인스턴스 간의 차이를 마이크로초 해상도로 나타내는 기간.\n",
    "\n",
    "class datetime.tzinfo\n",
    "- 시간대 정보 객체의 추상 베이스 클래스. 이것들은 datetime과 time 클래스에서 사용자 정의할 수 있는 시간 조정 개념(예를 들어, 시간대와/나 일광 절약 시간을 다루는 것)을 제공하기 위해 사용됩니다.\n",
    "\n",
    "class datetime.timezone\n",
    "- tzinfo 추상 베이스 클래스를 구현하는 클래스로, UTC로부터의 고정 오프셋을 나타냅니다.\n",
    "```\n",
    "\n",
    "**공통 속성**\n",
    "date, datetime, time 및 timezone 형은 다음과 같은 공통 기능을 공유합니다:\n",
    "- 이러한 형의 객체는 불변입니다.\n",
    "- 이러한 형의 객체는 해시 가능합니다. 딕셔너리 키로 사용할 수 있다는 뜻입니다.\n",
    "- 이러한 형의 객체는 pickle 모듈을 통한 효율적인 피클링을 지원합니다."
   ]
  },
  {
   "cell_type": "markdown",
   "metadata": {},
   "source": [
    "## timedelta 객체\n",
    "[timedelta](https://docs.python.org/ko/3.8/library/datetime.html#datetime.timedelta) 객체는 두 날짜나 시간의 차이인 기간을 나타냅니다.\n",
    "\n",
    "```python\n",
    "class datetime.timedelta(days=0, seconds=0, microseconds=0, milliseconds=0, minutes=0, hours=0, weeks=0)\n",
    "```\n",
    "\n",
    "days, seconds 및 microseconds만 내부적으로 저장됩니다. 인자는 이 단위로 변환됩니다:\n",
    "- 밀리 초는 1000마이크로초로 변환됩니다.\n",
    "- 분은 60초로 변환됩니다.\n",
    "- 시간은 3600초로 변환됩니다.\n",
    "- 주는 7일로 변환됩니다.\n",
    "\n",
    "그런 다음 days, seconds 및 microseconds를 다음처럼 정규화하여 표현이 고유하도록 만듭니다\n",
    "- `0 <= microseconds < 1000000`\n",
    "- `0 <= seconds < 3600*24 (하루 내의 초 수)`\n",
    "- `-999999999 <= days <= 999999999`"
   ]
  },
  {
   "cell_type": "code",
   "execution_count": 25,
   "metadata": {},
   "outputs": [
    {
     "data": {
      "text/plain": [
       "datetime.timedelta(64, 29156, 10)"
      ]
     },
     "execution_count": 25,
     "metadata": {},
     "output_type": "execute_result"
    }
   ],
   "source": [
    "from datetime import timedelta\n",
    "\n",
    "# 인자가 float이고 부분 마이크로초가 있으면, 모든 인자의 남은 부분 마이크로초가 합쳐지고, 그 합은 동률일 때 짝수로 반올림하는 방식으로 가장 가까운 마이크로초로 반올림됩니다. float 인자가 없으면, 변환과 정규화 프로세스는 정확합니다 (정보가 손실되지 않습니다).\n",
    "# 정규화된 days 값이 표시된 범위를 벗어나면, OverflowError가 발생합니다.\n",
    "\n",
    "delta = timedelta(\n",
    "    days=50,\n",
    "    seconds=27,\n",
    "    microseconds=10,\n",
    "    milliseconds=29000,\n",
    "    minutes=5,\n",
    "    hours=8,\n",
    "    weeks=2\n",
    ")\n",
    "\n",
    "# Only days, seconds, and microseconds remain\n",
    "delta"
   ]
  },
  {
   "cell_type": "code",
   "execution_count": 27,
   "metadata": {},
   "outputs": [
    {
     "data": {
      "text/plain": [
       "(-1, 86399, 999999)"
      ]
     },
     "execution_count": 27,
     "metadata": {},
     "output_type": "execute_result"
    }
   ],
   "source": [
    "# 음수 값의 정규화\n",
    "\n",
    "d = timedelta(microseconds=-1)\n",
    "(d.days, d.seconds, d.microseconds)"
   ]
  },
  {
   "cell_type": "markdown",
   "metadata": {},
   "source": [
    "### 지원되는 연산\n",
    "timedelta 공식 문서 부분을 참고한다.\n",
    "- 기본적으로는 사칙연산 모두 계산 가능하다.\n",
    "\n",
    "### 사용 예 : timedelta"
   ]
  },
  {
   "cell_type": "code",
   "execution_count": 28,
   "metadata": {},
   "outputs": [
    {
     "data": {
      "text/plain": [
       "True"
      ]
     },
     "execution_count": 28,
     "metadata": {},
     "output_type": "execute_result"
    }
   ],
   "source": [
    "# 정규화 예\n",
    "\n",
    "from datetime import timedelta\n",
    "\n",
    "year = timedelta(days=365)\n",
    "another_year = timedelta(weeks=40, days=84, hours=23, minutes=50, seconds=600)\n",
    "\n",
    "year == another_year"
   ]
  },
  {
   "cell_type": "code",
   "execution_count": 29,
   "metadata": {},
   "outputs": [
    {
     "data": {
      "text/plain": [
       "31536000.0"
      ]
     },
     "execution_count": 29,
     "metadata": {},
     "output_type": "execute_result"
    }
   ],
   "source": [
    "year.total_seconds()"
   ]
  },
  {
   "cell_type": "code",
   "execution_count": 32,
   "metadata": {},
   "outputs": [
    {
     "name": "stdout",
     "output_type": "stream",
     "text": [
      "3650 days, 0:00:00\n"
     ]
    }
   ],
   "source": [
    "# timedelta 산술 예\n",
    "\n",
    "from datetime import timedelta\n",
    "year = timedelta(days=365)\n",
    "ten_years = 10 * year\n",
    "print(ten_years)"
   ]
  },
  {
   "cell_type": "code",
   "execution_count": 33,
   "metadata": {},
   "outputs": [
    {
     "data": {
      "text/plain": [
       "datetime.timedelta(10)"
      ]
     },
     "execution_count": 33,
     "metadata": {},
     "output_type": "execute_result"
    }
   ],
   "source": [
    "ten_years // 365"
   ]
  },
  {
   "cell_type": "code",
   "execution_count": 34,
   "metadata": {},
   "outputs": [
    {
     "data": {
      "text/plain": [
       "datetime.timedelta(3285)"
      ]
     },
     "execution_count": 34,
     "metadata": {},
     "output_type": "execute_result"
    }
   ],
   "source": [
    "nine_years = ten_years - year\n",
    "nine_years"
   ]
  },
  {
   "cell_type": "code",
   "execution_count": 35,
   "metadata": {},
   "outputs": [
    {
     "data": {
      "text/plain": [
       "(datetime.timedelta(1095), 3)"
      ]
     },
     "execution_count": 35,
     "metadata": {},
     "output_type": "execute_result"
    }
   ],
   "source": [
    "three_years = nine_years // 3\n",
    "three_years, three_years.days // 365"
   ]
  },
  {
   "cell_type": "code",
   "execution_count": null,
   "metadata": {},
   "outputs": [],
   "source": []
  },
  {
   "cell_type": "code",
   "execution_count": null,
   "metadata": {},
   "outputs": [],
   "source": []
  }
 ],
 "metadata": {
  "kernelspec": {
   "display_name": "Python 3",
   "language": "python",
   "name": "python3"
  },
  "language_info": {
   "codemirror_mode": {
    "name": "ipython",
    "version": 3
   },
   "file_extension": ".py",
   "mimetype": "text/x-python",
   "name": "python",
   "nbconvert_exporter": "python",
   "pygments_lexer": "ipython3",
   "version": "3.6.7"
  }
 },
 "nbformat": 4,
 "nbformat_minor": 2
}
