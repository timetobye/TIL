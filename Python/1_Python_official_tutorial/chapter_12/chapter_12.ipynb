{
 "cells": [
  {
   "cell_type": "markdown",
   "metadata": {},
   "source": [
    "12.가상 환경 및 패키지\n",
    "-------"
   ]
  },
  {
   "cell_type": "markdown",
   "metadata": {},
   "source": [
    "#### 12.1 소개\n",
    "\n",
    "가상 환경을 만들자!!"
   ]
  },
  {
   "cell_type": "markdown",
   "metadata": {},
   "source": [
    "#### 12.2 가상 환경 만들기\n",
    "\n",
    "가상 환경을 만들고 관리하는 데 사용되는 모듈은 venv 라고 합니다. venv 는 보통 여러분이 사용할 수 있는 최신 버전의 파이썬을 설치합니다. 시스템에 여러 버전의 파이썬이 있는 경우, python3 또는 원하는 버전을 실행하여 특정 파이썬 버전을 선택할 수 있습니다.\n",
    "\n",
    "가상 환경을 만들려면, 원하는 디렉터리를 결정하고, venv 모듈을 스크립트로 실행하는데 디렉터리 경로를 명령행 인자로 전달합니다\n",
    "\n",
    "```bash\n",
    "python3 -m venv tutorial-env\n",
    "```"
   ]
  },
  {
   "cell_type": "markdown",
   "metadata": {},
   "source": [
    "존재하지 않는다면 tutorial-env 디렉터리를 만들고, 그 안에 파이썬 인터프리터의 사본, 표준 라이브러리 및 다양한 지원 파일이 들어있는 디렉터리들을 만듭니다.\n",
    "\n",
    "가상 환경의 일반적인 디렉터리 위치는 .venv입니다. 이 이름은 디렉터리가 보통 셸에서 숨겨져 있도록 하므로, 디렉터리가 존재하는 이유를 설명하는 이름을 제공하면서도 방해받지 않습니다. 또한 일부 툴링(tooling)이 지원하는 .env 환경 변수 정의 파일과의 충돌을 방지합니다."
   ]
  },
  {
   "cell_type": "markdown",
   "metadata": {},
   "source": [
    "window\n",
    "\n",
    "```bash\n",
    "tutorial-env\\Scripts\\activate.bat\n",
    "```\n",
    "\n",
    "Unix 또는 MacOS\n",
    "\n",
    "```bash\n",
    "source tutorial-env/bin/activate\n",
    "```"
   ]
  },
  {
   "cell_type": "markdown",
   "metadata": {},
   "source": [
    "#### 12.3. pip로 패키지 관리하기\n",
    "\n",
    "pip 라는 프로그램을 사용하여 패키지를 설치, 업그레이드 및 제거할 수 있습니다. 기본적으로 pip 는 파이썬 패키지 색인(Python Package Index), <https://pypi.org>, 에서 패키지를 설치합니다. 웹 브라우저에서 파이썬 패키지 색인을 살펴보거나, pip 의 제한된 검색 기능을 사용할 수 있습니다\n",
    "\n",
    "- [python module install 하는 법](https://docs.python.org/ko/3/installing/index.html#installing-index)\n",
    "\n",
    "명령어 모음\n",
    "- pip search : 검색\n",
    "- pip install : 설치\n",
    "  - pip install requests==2.6.0 : 특정 라이브러리의 버전 지정하여 설치\n",
    "  - pip install --upgrade requests : 업그레이드\n",
    "- pip uninstall : 삭제\n",
    "- pip show : 특정 패키지에 대한 정보를 표시\n",
    "- pip list : 가상 환겨에 설치된 모든 패키지를 표시\n",
    "- pip freeze : 설치된 패키지의 비슷한 목록을 만들지만 pip install 형식을 만듬, 일반적으로는 requirements.txt 파일에 넣는 것!\n",
    "  - pip freeze > requirements.txt\n",
    "  - cat requirements.txt\n",
    "  \n",
    "requirements.txt 는 버전 제어에 커밋되어 응용 프로그램 일부로 제공될 수 있습니다. 사용자는 install -r 로 모든 필요한 패키지를 설치할 수 있습니다\n",
    "- pip install -r requirements.txt"
   ]
  }
 ],
 "metadata": {
  "kernelspec": {
   "display_name": "Python 3",
   "language": "python",
   "name": "python3"
  },
  "language_info": {
   "codemirror_mode": {
    "name": "ipython",
    "version": 3
   },
   "file_extension": ".py",
   "mimetype": "text/x-python",
   "name": "python",
   "nbconvert_exporter": "python",
   "pygments_lexer": "ipython3",
   "version": "3.6.6"
  }
 },
 "nbformat": 4,
 "nbformat_minor": 2
}
