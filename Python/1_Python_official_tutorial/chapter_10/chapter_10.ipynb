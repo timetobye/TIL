{
 "cells": [
  {
   "cell_type": "markdown",
   "metadata": {},
   "source": [
    "10.표준 라이브러리 둘러보기\n",
    "------"
   ]
  },
  {
   "cell_type": "markdown",
   "metadata": {},
   "source": [
    "### 10.1 운영 체제 인터페이스\n",
    "\n",
    "OS 모듈은 운영 체제와 상호 작용하기 위한 수십 가지 함수 제공\n",
    "- OS : https://docs.python.org/ko/3/library/os.html#module-os\n",
    "- 개인정보 보호 차원에서 파일경로를 나타내는 함수들은 출력하지 않음"
   ]
  },
  {
   "cell_type": "code",
   "execution_count": 1,
   "metadata": {},
   "outputs": [],
   "source": [
    "import os"
   ]
  },
  {
   "cell_type": "code",
   "execution_count": 5,
   "metadata": {},
   "outputs": [],
   "source": [
    "# 현재 디렉토리 경로를 string 방식으로 전달\n",
    "\n",
    "# os.getcwd()"
   ]
  },
  {
   "cell_type": "code",
   "execution_count": null,
   "metadata": {},
   "outputs": [],
   "source": [
    "# Change current working directory\n",
    "\n",
    "# os.chdir('/server/accesslogs')   "
   ]
  },
  {
   "cell_type": "code",
   "execution_count": 7,
   "metadata": {},
   "outputs": [],
   "source": [
    "# Run the command mkdir in the system shell\n",
    "# 이걸 이용하면 macOS 기준 terminal에서 사용하는 명령어를 실행할 수 있다.\n",
    "\n",
    "# os.system('mkdir today')\n",
    "# os.system('touch test.py')"
   ]
  },
  {
   "cell_type": "markdown",
   "metadata": {},
   "source": [
    "> from os import * 대신에 import os 스타일을 사용해야 합니다. 그래야 os.open() 이 내장 open() 을 가리는 것을 피할 수 있는데, 두 함수는 아주 다르게 동작합니다."
   ]
  },
  {
   "cell_type": "markdown",
   "metadata": {},
   "source": [
    "> os 와 같은 큰 모듈과 작업할 때, 내장 dir() 과 help() 함수는 대화형 도우미로 쓸모가 있습니다.\n",
    "\n"
   ]
  },
  {
   "cell_type": "code",
   "execution_count": 10,
   "metadata": {},
   "outputs": [
    {
     "data": {
      "text/plain": [
       "['CLD_CONTINUED',\n",
       " 'CLD_DUMPED',\n",
       " 'CLD_EXITED',\n",
       " 'CLD_TRAPPED',\n",
       " 'DirEntry',\n",
       " 'EX_CANTCREAT',\n",
       " 'EX_CONFIG',\n",
       " 'EX_DATAERR',\n",
       " 'EX_IOERR',\n",
       " 'EX_NOHOST']"
      ]
     },
     "execution_count": 10,
     "metadata": {},
     "output_type": "execute_result"
    }
   ],
   "source": [
    "# <returns a list of all module functions>\n",
    "\n",
    "dir(os)[0:10]"
   ]
  },
  {
   "cell_type": "code",
   "execution_count": 12,
   "metadata": {},
   "outputs": [],
   "source": [
    "# <returns an extensive manual page created from the module's docstrings>\n",
    "\n",
    "# help(os)"
   ]
  },
  {
   "cell_type": "markdown",
   "metadata": {},
   "source": [
    "> 일상적인 파일과 디렉터리 관리 작업을 위해, shutil 모듈은 사용하기 쉬운 더 고수준의 인터페이스를 제공합니다:"
   ]
  },
  {
   "cell_type": "code",
   "execution_count": 13,
   "metadata": {},
   "outputs": [],
   "source": [
    "import shutil"
   ]
  },
  {
   "cell_type": "code",
   "execution_count": 19,
   "metadata": {},
   "outputs": [],
   "source": [
    "# https://wikidocs.net/26#with\n",
    "\n",
    "with open('data.txt', 'w') as file:\n",
    "    for i in range(10):\n",
    "        file.write(str(i) + '\\n')"
   ]
  },
  {
   "cell_type": "code",
   "execution_count": 20,
   "metadata": {},
   "outputs": [
    {
     "data": {
      "text/plain": [
       "'archive.txt'"
      ]
     },
     "execution_count": 20,
     "metadata": {},
     "output_type": "execute_result"
    }
   ],
   "source": [
    "# shutil.copyfile을 이용하면 파일을 복사할 수 있다.\n",
    "\n",
    "shutil.copyfile('data.txt', 'archive.txt')"
   ]
  },
  {
   "cell_type": "markdown",
   "metadata": {},
   "source": [
    "### 10.2 파일 와일드카드"
   ]
  },
  {
   "cell_type": "markdown",
   "metadata": {},
   "source": [
    "> glob 모듈은 디렉터리 와일드카드 검색으로 파일 목록을 만드는 함수를 제공합니다:\n",
    "\n",
    "- glob : https://docs.python.org/ko/3/library/glob.html#module-glob"
   ]
  },
  {
   "cell_type": "code",
   "execution_count": 21,
   "metadata": {},
   "outputs": [
    {
     "data": {
      "text/plain": [
       "['archive.txt', 'data.txt']"
      ]
     },
     "execution_count": 21,
     "metadata": {},
     "output_type": "execute_result"
    }
   ],
   "source": [
    "import glob\n",
    "\n",
    "glob.glob('*.txt')"
   ]
  },
  {
   "cell_type": "markdown",
   "metadata": {},
   "source": [
    "### 10.3 명령행 인자"
   ]
  },
  {
   "cell_type": "markdown",
   "metadata": {},
   "source": [
    "일반적인 유틸리티 스크립트는 종종 명령행 인자를 처리해야 할 필요가 있습니다. 이 인자들은 sys 모듈의 argv 어트리뷰트에 리스트로 저장됩니다. \n",
    "\n",
    "예를 들어, 명령행에서 python demo.py one two three 를 실행하면 다음과 같은 결과가 출력됩니다"
   ]
  },
  {
   "cell_type": "code",
   "execution_count": 22,
   "metadata": {},
   "outputs": [],
   "source": [
    "import sys"
   ]
  },
  {
   "cell_type": "code",
   "execution_count": 24,
   "metadata": {},
   "outputs": [],
   "source": [
    "# print(sys.argv)"
   ]
  },
  {
   "cell_type": "markdown",
   "metadata": {},
   "source": [
    "Example code\n",
    "\n",
    "```python\n",
    "import sys\n",
    "print(sys.argv)\n",
    "\n",
    "['demo.py', 'one', 'two', 'three']\n",
    "```"
   ]
  },
  {
   "cell_type": "markdown",
   "metadata": {},
   "source": [
    "argparse 모듈은 명령 줄 인자를 처리하는 더 정교한 메커니즘을 제공합니다. 다음 스크립트는 하나 이상의 파일명과 선택적으로 표시할 줄 수를 추출합니다\n",
    "- argparse : https://docs.python.org/ko/3/library/argparse.html#module-argparse"
   ]
  },
  {
   "cell_type": "markdown",
   "metadata": {},
   "source": [
    "```python\n",
    "import argparse\n",
    "\n",
    "parser = argparse.ArgumentParser(prog = 'top',\n",
    "    description = 'Show top lines from each file')\n",
    "parser.add_argument('filenames', nargs='+')\n",
    "parser.add_argument('-l', '--lines', type=int, default=10)\n",
    "args = parser.parse_args()\n",
    "print(args)\n",
    "```\n",
    "\n",
    "예전에 작업하던 코드 부분 발췌\n",
    "\n",
    "```python\n",
    "def run(argument_parser):\n",
    "    args = argument_parser.parse_args()\n",
    "    file_name = args.file_name\n",
    "\n",
    "    string_list = read_csv(file_name)\n",
    "    contents_data = extract_contents_info(string_list)\n",
    "\n",
    "    csv_file_name = get_sample_file_name()\n",
    "    save_sample_video_info(contents_data, csv_file_name)\n",
    "\n",
    "\n",
    "if __name__ == \"__main__\":\n",
    "    argument_parser = argparse.ArgumentParser()\n",
    "    argument_parser.add_argument(\n",
    "        '-file',\n",
    "        '--file_name',\n",
    "        type=str,\n",
    "        default=None,\n",
    "        help=\"-----------\"\n",
    "    )\n",
    "\n",
    "    run(argument_parser)\n",
    "```"
   ]
  },
  {
   "cell_type": "markdown",
   "metadata": {},
   "source": [
    "### 10.4. 에러 출력 리디렉션과 프로그램 종료\n",
    "sys 모듈은 stdin, stdout, stderr 어트리뷰트도 갖고 있습니다. 가장 마지막 것은 stdout 이 리디렉트 되었을 때도 볼 수 있는 경고와 에러 메시지들을 출력하는데 쓸모가 있습니다:\n",
    "\n",
    "\n",
    "```python\n",
    "sys.stderr.write('Warning, log file not found starting a new one\\n')\n",
    "Warning, log file not found starting a new one\n",
    "```\n",
    "\n",
    "스크립트를 종료하는 가장 직접적인 방법은 sys.exit() 를 쓰는 것입니다."
   ]
  },
  {
   "cell_type": "code",
   "execution_count": 26,
   "metadata": {},
   "outputs": [],
   "source": [
    "# sys.exit()"
   ]
  },
  {
   "cell_type": "markdown",
   "metadata": {},
   "source": [
    "### 10.5 문자열 패턴 매칭\n",
    "\n",
    "re 모듈은 고급 문자열 처리를 위한 정규식 도구들을 제공합니다. 복잡한 매칭과 조작을 위해, 정규식은 간결하고 최적화된 솔루션을 제공합니다\n",
    "- re : https://docs.python.org/ko/3/library/re.html#module-re"
   ]
  },
  {
   "cell_type": "code",
   "execution_count": 27,
   "metadata": {},
   "outputs": [],
   "source": [
    "import re"
   ]
  },
  {
   "cell_type": "code",
   "execution_count": 28,
   "metadata": {},
   "outputs": [
    {
     "data": {
      "text/plain": [
       "['foot', 'fell', 'fastest']"
      ]
     },
     "execution_count": 28,
     "metadata": {},
     "output_type": "execute_result"
    }
   ],
   "source": [
    "re.findall(r'\\bf[a-z]*', 'which foot or hand fell fastest')"
   ]
  },
  {
   "cell_type": "code",
   "execution_count": 29,
   "metadata": {},
   "outputs": [
    {
     "data": {
      "text/plain": [
       "'cat in the hat'"
      ]
     },
     "execution_count": 29,
     "metadata": {},
     "output_type": "execute_result"
    }
   ],
   "source": [
    "re.sub(r'(\\b[a-z]+) \\1', r'\\1', 'cat in the the hat')"
   ]
  },
  {
   "cell_type": "code",
   "execution_count": null,
   "metadata": {},
   "outputs": [],
   "source": []
  },
  {
   "cell_type": "code",
   "execution_count": null,
   "metadata": {},
   "outputs": [],
   "source": []
  },
  {
   "cell_type": "code",
   "execution_count": null,
   "metadata": {},
   "outputs": [],
   "source": []
  }
 ],
 "metadata": {
  "kernelspec": {
   "display_name": "Python 3",
   "language": "python",
   "name": "python3"
  },
  "language_info": {
   "codemirror_mode": {
    "name": "ipython",
    "version": 3
   },
   "file_extension": ".py",
   "mimetype": "text/x-python",
   "name": "python",
   "nbconvert_exporter": "python",
   "pygments_lexer": "ipython3",
   "version": "3.6.7"
  }
 },
 "nbformat": 4,
 "nbformat_minor": 2
}
