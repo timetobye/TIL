{
 "cells": [
  {
   "cell_type": "markdown",
   "id": "1f8e445d-10ef-472c-bb12-3e355840cd5d",
   "metadata": {},
   "source": [
    "python 3.8 이상에서 실행 가능 - 왈러스 연산자 때문"
   ]
  },
  {
   "cell_type": "markdown",
   "id": "ff021143-d3fe-4a71-ba4d-b3dd3a29c92d",
   "metadata": {},
   "source": [
    "### f-string의 이중 중괄호"
   ]
  },
  {
   "cell_type": "code",
   "execution_count": 2,
   "id": "a218f1e3-63b1-4dfa-977a-6677ee00c8a3",
   "metadata": {},
   "outputs": [
    {
     "data": {
      "text/plain": [
       "'        10'"
      ]
     },
     "execution_count": 2,
     "metadata": {},
     "output_type": "execute_result"
    }
   ],
   "source": [
    "number = 10\n",
    "digit = 10\n",
    "\n",
    "f'{number:>{digit}}'"
   ]
  },
  {
   "cell_type": "code",
   "execution_count": 3,
   "id": "ef1b97c7-0297-43f2-bd5e-fdfb0cd15757",
   "metadata": {},
   "outputs": [
    {
     "data": {
      "text/plain": [
       "'0000000010'"
      ]
     },
     "execution_count": 3,
     "metadata": {},
     "output_type": "execute_result"
    }
   ],
   "source": [
    "f'{number:0{digit}}'"
   ]
  },
  {
   "cell_type": "code",
   "execution_count": 4,
   "id": "ed4230ab-0cdd-4cc1-b303-61dd982c0a75",
   "metadata": {},
   "outputs": [
    {
     "data": {
      "text/plain": [
       "'3.142'"
      ]
     },
     "execution_count": 4,
     "metadata": {},
     "output_type": "execute_result"
    }
   ],
   "source": [
    "a = 3.141592\n",
    "b = 3\n",
    "f'{a:.{b}f}'"
   ]
  },
  {
   "cell_type": "markdown",
   "id": "638c37cb-e4ca-47dd-b429-82ba296c289c",
   "metadata": {},
   "source": [
    "### 왈러스 연산자"
   ]
  },
  {
   "cell_type": "code",
   "execution_count": 6,
   "id": "5fb4d095-815c-4dbb-b7dc-9176eba657af",
   "metadata": {},
   "outputs": [
    {
     "data": {
      "text/plain": [
       "11"
      ]
     },
     "execution_count": 6,
     "metadata": {},
     "output_type": "execute_result"
    }
   ],
   "source": [
    "value = 10\n",
    "(value := value +1) # 왈러스"
   ]
  },
  {
   "cell_type": "code",
   "execution_count": 7,
   "id": "b57c3ee2-64fd-4501-8104-0206cda42c0c",
   "metadata": {},
   "outputs": [
    {
     "data": {
      "text/plain": [
       "12"
      ]
     },
     "execution_count": 7,
     "metadata": {},
     "output_type": "execute_result"
    }
   ],
   "source": [
    "(value := value +1)"
   ]
  },
  {
   "cell_type": "code",
   "execution_count": 11,
   "id": "c8384b6e-9db7-422a-b8eb-260bcf0dd032",
   "metadata": {},
   "outputs": [
    {
     "name": "stdout",
     "output_type": "stream",
     "text": [
      "5050\n",
      "6050\n"
     ]
    }
   ],
   "source": [
    "def sigma(n):\n",
    "    count = 0\n",
    "    result = 0\n",
    "\n",
    "    # 더한 후 값을 비교 할 수 있게 함\n",
    "    while (count := count + 1) < n + 1:\n",
    "        result += count\n",
    "    \n",
    "    return result\n",
    "\n",
    "if (summation := sigma(100)) == 5050:\n",
    "    print(\"5050\")\n",
    "else:\n",
    "    print('hihi')\n",
    "    \n",
    "print(summation + 1000)"
   ]
  },
  {
   "cell_type": "markdown",
   "id": "75d47ac8-fb65-40d3-a227-c40b1960b15b",
   "metadata": {},
   "source": [
    "### Dictionary keyError 처리"
   ]
  },
  {
   "cell_type": "code",
   "execution_count": 12,
   "id": "c2c70ad0-1763-4e71-b223-2b024cce2477",
   "metadata": {},
   "outputs": [],
   "source": [
    "def use_get_method(day_name):\n",
    "    days = {\n",
    "        1 : 'Sun',\n",
    "        2 : 'Mon',\n",
    "        3 : 'Thu',\n",
    "        4 : 'Wed',\n",
    "        5 : 'Thu',\n",
    "        6 : 'Fri',\n",
    "        7 : 'Sat',\n",
    "    }\n",
    "    \n",
    "    return days.get(day_name, \"NO_DAY\")"
   ]
  },
  {
   "cell_type": "code",
   "execution_count": 13,
   "id": "4badd0f5-b904-4144-822d-07bb3c08325e",
   "metadata": {},
   "outputs": [
    {
     "data": {
      "text/plain": [
       "'Thu'"
      ]
     },
     "execution_count": 13,
     "metadata": {},
     "output_type": "execute_result"
    }
   ],
   "source": [
    "use_get_method(3)"
   ]
  },
  {
   "cell_type": "code",
   "execution_count": 14,
   "id": "a6540d5d-441e-40f8-9de0-4a078e2fc645",
   "metadata": {},
   "outputs": [
    {
     "data": {
      "text/plain": [
       "'NO_DAY'"
      ]
     },
     "execution_count": 14,
     "metadata": {},
     "output_type": "execute_result"
    }
   ],
   "source": [
    "use_get_method(10)"
   ]
  },
  {
   "cell_type": "markdown",
   "id": "63fb46b2-db9f-4fa0-ac80-0150b93eb1f9",
   "metadata": {},
   "source": [
    "### 리스트 append 와 리스트 comprehension\n",
    "\n",
    "append 를 하는 시간 만큼 속도를 잡아 먹음"
   ]
  },
  {
   "cell_type": "markdown",
   "id": "b040a45f-af84-4f75-ac0f-a45bf59ed587",
   "metadata": {},
   "source": [
    "### sorted의 key 응용"
   ]
  },
  {
   "cell_type": "code",
   "execution_count": 15,
   "id": "50f5a02b-a639-42f7-a458-8be0deca8b07",
   "metadata": {},
   "outputs": [
    {
     "data": {
      "text/plain": [
       "[1, 2, 3, 4, 5]"
      ]
     },
     "execution_count": 15,
     "metadata": {},
     "output_type": "execute_result"
    }
   ],
   "source": [
    "sorted({1:'D', 2:'B', 3:'B', 4:'E', 5:'A'})"
   ]
  },
  {
   "cell_type": "code",
   "execution_count": 18,
   "id": "8d0a5923-c280-409c-902b-886139b0de57",
   "metadata": {},
   "outputs": [
    {
     "data": {
      "text/plain": [
       "['a', 'from', 'is', 'string', 'test', 'This', 'wonny']"
      ]
     },
     "execution_count": 18,
     "metadata": {},
     "output_type": "execute_result"
    }
   ],
   "source": [
    "sorted(\"This is a test string from wonny\".split(), key=str.lower)"
   ]
  },
  {
   "cell_type": "code",
   "execution_count": 19,
   "id": "362e944e-d642-4db2-82cb-369c60b80b3d",
   "metadata": {},
   "outputs": [],
   "source": [
    "student_tuples = [\n",
    "    ('jahn', 'A', 15),\n",
    "    ('jane', 'B', 12),\n",
    "    ('dave', 'B', 10)\n",
    "]"
   ]
  },
  {
   "cell_type": "code",
   "execution_count": 20,
   "id": "0cf23347-bb6e-4a7a-93e6-0232616a94e3",
   "metadata": {},
   "outputs": [
    {
     "data": {
      "text/plain": [
       "[('dave', 'B', 10), ('jane', 'B', 12), ('jahn', 'A', 15)]"
      ]
     },
     "execution_count": 20,
     "metadata": {},
     "output_type": "execute_result"
    }
   ],
   "source": [
    "sorted(student_tuples, key=lambda student:student[2])"
   ]
  },
  {
   "cell_type": "code",
   "execution_count": 21,
   "id": "12d819c2-2d8a-4571-93b6-775ab92d868a",
   "metadata": {},
   "outputs": [
    {
     "data": {
      "text/plain": [
       "[('jahn', 'A', 15), ('jane', 'B', 12), ('dave', 'B', 10)]"
      ]
     },
     "execution_count": 21,
     "metadata": {},
     "output_type": "execute_result"
    }
   ],
   "source": [
    "sorted(student_tuples, key=lambda student:student[2], reverse=True)"
   ]
  },
  {
   "cell_type": "code",
   "execution_count": 22,
   "id": "9e89b124-ce5d-45b5-8575-c7eec5940772",
   "metadata": {},
   "outputs": [
    {
     "data": {
      "text/plain": [
       "[('dave', 'B', 10), ('jane', 'B', 12), ('jahn', 'A', 15)]"
      ]
     },
     "execution_count": 22,
     "metadata": {},
     "output_type": "execute_result"
    }
   ],
   "source": [
    "from operator import itemgetter, attrgetter\n",
    "\n",
    "sorted(student_tuples, key=itemgetter(2))"
   ]
  },
  {
   "cell_type": "code",
   "execution_count": 23,
   "id": "efa307b5-674d-4fa9-a846-c22d45aefc69",
   "metadata": {},
   "outputs": [
    {
     "data": {
      "text/plain": [
       "[('jahn', 'A', 15), ('jane', 'B', 12), ('dave', 'B', 10)]"
      ]
     },
     "execution_count": 23,
     "metadata": {},
     "output_type": "execute_result"
    }
   ],
   "source": [
    "sorted(student_tuples, key=itemgetter(2), reverse=True)"
   ]
  },
  {
   "cell_type": "code",
   "execution_count": 30,
   "id": "d8ed9dc5-650d-4e82-9036-f4318e94073a",
   "metadata": {},
   "outputs": [],
   "source": [
    "test = ['a', 'aaa', 'bb', 'cccc']"
   ]
  },
  {
   "cell_type": "code",
   "execution_count": 31,
   "id": "33c4219e-52b1-4282-8d6b-140ace4f3b94",
   "metadata": {},
   "outputs": [
    {
     "data": {
      "text/plain": [
       "['a', 'bb', 'aaa', 'cccc']"
      ]
     },
     "execution_count": 31,
     "metadata": {},
     "output_type": "execute_result"
    }
   ],
   "source": [
    "sorted(test, key=len)"
   ]
  },
  {
   "cell_type": "code",
   "execution_count": 33,
   "id": "ee79e08c-5a6a-4e66-b41f-a3124c73ad1e",
   "metadata": {},
   "outputs": [
    {
     "data": {
      "text/plain": [
       "[(10, 20, 10), (10, 100, 90), (30, 20, 10), (50, 20, 30), (90, 90, 90)]"
      ]
     },
     "execution_count": 33,
     "metadata": {},
     "output_type": "execute_result"
    }
   ],
   "source": [
    "test = [\n",
    "    (30, 20, 10),\n",
    "    (10, 100, 90),\n",
    "    (90, 90, 90), \n",
    "    (50, 20, 30), \n",
    "    (10, 20, 10)\n",
    "]\n",
    "\n",
    "sorted(test)"
   ]
  },
  {
   "cell_type": "code",
   "execution_count": 34,
   "id": "d46dd19b-de20-4b75-b1a8-2b2433f4b33f",
   "metadata": {},
   "outputs": [
    {
     "data": {
      "text/plain": [
       "[(10, 100, 90), (10, 20, 10), (30, 20, 10), (50, 20, 30), (90, 90, 90)]"
      ]
     },
     "execution_count": 34,
     "metadata": {},
     "output_type": "execute_result"
    }
   ],
   "source": [
    "sorted(test, key=lambda x : x[0])"
   ]
  },
  {
   "cell_type": "code",
   "execution_count": 35,
   "id": "18a985ef-a7ea-47a5-84b2-2dbcf4e95e93",
   "metadata": {},
   "outputs": [
    {
     "data": {
      "text/plain": [
       "[(10, 20, 10), (30, 20, 10), (50, 20, 30), (10, 100, 90), (90, 90, 90)]"
      ]
     },
     "execution_count": 35,
     "metadata": {},
     "output_type": "execute_result"
    }
   ],
   "source": [
    "sorted(test, key=lambda x : sum(x))"
   ]
  },
  {
   "cell_type": "code",
   "execution_count": 37,
   "id": "4032dd21-8579-4cbe-9d88-fdfb9ade0152",
   "metadata": {},
   "outputs": [
    {
     "data": {
      "text/plain": [
       "[0, 1, 11, 2, 2, 3, 3, 5, 5, 5, 6, 9, 9, 10, 22]"
      ]
     },
     "execution_count": 37,
     "metadata": {},
     "output_type": "execute_result"
    }
   ],
   "source": [
    "test = [10, 2, 1, 2, 9, 3, 0, 5, 5, 5, 6, 9, 3, 11, 22]\n",
    "priority = [0, 1, 11, 111]\n",
    "\n",
    "def judge_priority(value):\n",
    "    if value in priority:\n",
    "        return (False, value)\n",
    "    return (True, value)\n",
    "\n",
    "sorted(test, key=judge_priority)\n",
    "sorted(test, key=lambda x: False if x in priority else True)\n",
    "sorted(test, key=lambda x: (False, x) if x in priority else (True, x))"
   ]
  },
  {
   "cell_type": "markdown",
   "id": "cb79ef7a-7798-4496-bf4d-a2cd6ef77c85",
   "metadata": {},
   "source": [
    "### type annotation\n",
    "형태만 명시하는 것이지 실제로 적용되는 것은 아님"
   ]
  },
  {
   "cell_type": "code",
   "execution_count": 38,
   "id": "0b3bf74f-9b89-49c3-aad8-2a9ff32b51d6",
   "metadata": {},
   "outputs": [],
   "source": [
    "import typing\n",
    "\n",
    "arr : typing.List[int] = [1, 2, 3]\n",
    "alpha : typing.Tuple[str, str, str] = ('a', 'b', 'c')\n",
    "student : typing.Dict[str, int] = {'홍길동' : 1, '춘향' : 2}"
   ]
  },
  {
   "cell_type": "markdown",
   "id": "ed8f0ccf-30e6-4c10-ad61-950ec17bae8b",
   "metadata": {},
   "source": [
    "### sum을 활용한 개별 요소 합치기"
   ]
  },
  {
   "cell_type": "code",
   "execution_count": 40,
   "id": "36bfe8ca-c271-4193-b587-01ae1a75c66c",
   "metadata": {},
   "outputs": [
    {
     "data": {
      "text/plain": [
       "['a', 'b', 'c', 1, 2, 3, 'x', 'y', 'z']"
      ]
     },
     "execution_count": 40,
     "metadata": {},
     "output_type": "execute_result"
    }
   ],
   "source": [
    "li = [['a', 'b', 'c'], [1, 2, 3], ['x', 'y', 'z']]\n",
    "sum(li, [])"
   ]
  },
  {
   "cell_type": "code",
   "execution_count": 43,
   "id": "547f5360-d0a7-4258-95b2-6b818155ae34",
   "metadata": {},
   "outputs": [
    {
     "data": {
      "text/plain": [
       "['!!', 'a', 'b', 'c', 1, 2, 3, 'x', 'y', 'z']"
      ]
     },
     "execution_count": 43,
     "metadata": {},
     "output_type": "execute_result"
    }
   ],
   "source": [
    "li = [['a', 'b', 'c'], [1, 2, 3], ['x', 'y', 'z']]\n",
    "sum(li, ['!!'])"
   ]
  },
  {
   "cell_type": "code",
   "execution_count": 44,
   "id": "cadad13c-593f-4067-9018-4ecd1ddf10a5",
   "metadata": {},
   "outputs": [
    {
     "data": {
      "text/plain": [
       "('a', 'b', 'c', 1, 2, 3, 'x', 'y', 'z')"
      ]
     },
     "execution_count": 44,
     "metadata": {},
     "output_type": "execute_result"
    }
   ],
   "source": [
    "li = (('a', 'b', 'c'), (1, 2, 3), ('x', 'y', 'z'))\n",
    "sum(li, ())"
   ]
  },
  {
   "cell_type": "code",
   "execution_count": 45,
   "id": "8f46d2a0-12e5-426f-85b5-e70013966513",
   "metadata": {},
   "outputs": [
    {
     "ename": "TypeError",
     "evalue": "sum() can't sum strings [use ''.join(seq) instead]",
     "output_type": "error",
     "traceback": [
      "\u001b[0;31m\u001b[0m",
      "\u001b[0;31mTypeError\u001b[0mTraceback (most recent call last)",
      "\u001b[0;32m<ipython-input-45-51d4bfbcb44d>\u001b[0m in \u001b[0;36m<module>\u001b[0;34m\u001b[0m\n\u001b[1;32m      1\u001b[0m \u001b[0mli\u001b[0m \u001b[0;34m=\u001b[0m \u001b[0;34m(\u001b[0m\u001b[0;34m(\u001b[0m\u001b[0;34m'a'\u001b[0m\u001b[0;34m,\u001b[0m \u001b[0;34m'b'\u001b[0m\u001b[0;34m,\u001b[0m \u001b[0;34m'c'\u001b[0m\u001b[0;34m)\u001b[0m\u001b[0;34m,\u001b[0m \u001b[0;34m(\u001b[0m\u001b[0;36m1\u001b[0m\u001b[0;34m,\u001b[0m \u001b[0;36m2\u001b[0m\u001b[0;34m,\u001b[0m \u001b[0;36m3\u001b[0m\u001b[0;34m)\u001b[0m\u001b[0;34m,\u001b[0m \u001b[0;34m(\u001b[0m\u001b[0;34m'x'\u001b[0m\u001b[0;34m,\u001b[0m \u001b[0;34m'y'\u001b[0m\u001b[0;34m,\u001b[0m \u001b[0;34m'z'\u001b[0m\u001b[0;34m)\u001b[0m\u001b[0;34m)\u001b[0m\u001b[0;34m\u001b[0m\u001b[0;34m\u001b[0m\u001b[0m\n\u001b[0;32m----> 2\u001b[0;31m \u001b[0msum\u001b[0m\u001b[0;34m(\u001b[0m\u001b[0mli\u001b[0m\u001b[0;34m,\u001b[0m \u001b[0;34m(\u001b[0m\u001b[0;34m'!!'\u001b[0m\u001b[0;34m)\u001b[0m\u001b[0;34m)\u001b[0m\u001b[0;34m\u001b[0m\u001b[0;34m\u001b[0m\u001b[0m\n\u001b[0m",
      "\u001b[0;31mTypeError\u001b[0m: sum() can't sum strings [use ''.join(seq) instead]"
     ]
    }
   ],
   "source": [
    "li = (('a', 'b', 'c'), (1, 2, 3), ('x', 'y', 'z'))\n",
    "sum(li, ('!!'))"
   ]
  },
  {
   "cell_type": "code",
   "execution_count": 47,
   "id": "39c8e22d-9299-4dc6-9ae2-5d7a6f24bf47",
   "metadata": {},
   "outputs": [
    {
     "data": {
      "text/plain": [
       "3"
      ]
     },
     "execution_count": 47,
     "metadata": {},
     "output_type": "execute_result"
    }
   ],
   "source": [
    "li = {1:'one', 2:'two'}\n",
    "sum(li, 0)"
   ]
  },
  {
   "cell_type": "code",
   "execution_count": 49,
   "id": "1a9ce24b-520f-47fc-a0a5-0da6d2e10b64",
   "metadata": {},
   "outputs": [
    {
     "data": {
      "text/plain": [
       "8"
      ]
     },
     "execution_count": 49,
     "metadata": {},
     "output_type": "execute_result"
    }
   ],
   "source": [
    "# 1+2 + 5\n",
    "sum(li, 5)"
   ]
  },
  {
   "cell_type": "code",
   "execution_count": 50,
   "id": "328237d5-f981-47a1-bafb-f216160c29e0",
   "metadata": {},
   "outputs": [],
   "source": [
    "data = [\n",
    "    [0, 1, 2], \n",
    "    [3, 4, 5], \n",
    "    [6, 7, 8]\n",
    "]"
   ]
  },
  {
   "cell_type": "code",
   "execution_count": 51,
   "id": "989c6bae-0bd9-40ec-94f8-5ada31b8b9ca",
   "metadata": {},
   "outputs": [
    {
     "data": {
      "text/plain": [
       "[0, 1, 2, 3, 4, 5, 6, 7, 8]"
      ]
     },
     "execution_count": 51,
     "metadata": {},
     "output_type": "execute_result"
    }
   ],
   "source": [
    "sum(data, [])"
   ]
  },
  {
   "cell_type": "code",
   "execution_count": 52,
   "id": "0ea91b87-cc51-49be-8119-e4de0588bba4",
   "metadata": {},
   "outputs": [
    {
     "data": {
      "text/plain": [
       "36"
      ]
     },
     "execution_count": 52,
     "metadata": {},
     "output_type": "execute_result"
    }
   ],
   "source": [
    "sum(sum(data, []))"
   ]
  },
  {
   "cell_type": "code",
   "execution_count": 53,
   "id": "98f75220-e35d-43d8-90c1-27e4a4d860b8",
   "metadata": {},
   "outputs": [],
   "source": [
    "import numpy as np"
   ]
  },
  {
   "cell_type": "code",
   "execution_count": 54,
   "id": "488a18d9-0412-41e6-b9f4-1ef78c25575b",
   "metadata": {},
   "outputs": [
    {
     "data": {
      "text/plain": [
       "36"
      ]
     },
     "execution_count": 54,
     "metadata": {},
     "output_type": "execute_result"
    }
   ],
   "source": [
    "np.sum(data)"
   ]
  },
  {
   "cell_type": "code",
   "execution_count": 55,
   "id": "ccb1ce26-ebbf-48c1-b011-f785caba4d5a",
   "metadata": {},
   "outputs": [
    {
     "data": {
      "text/plain": [
       "array([ 9, 12, 15])"
      ]
     },
     "execution_count": 55,
     "metadata": {},
     "output_type": "execute_result"
    }
   ],
   "source": [
    "np.sum(data, axis=0)"
   ]
  },
  {
   "cell_type": "code",
   "execution_count": 56,
   "id": "f3fb7fde-9709-4358-a77a-035b327d000f",
   "metadata": {},
   "outputs": [
    {
     "data": {
      "text/plain": [
       "array([ 3, 12, 21])"
      ]
     },
     "execution_count": 56,
     "metadata": {},
     "output_type": "execute_result"
    }
   ],
   "source": [
    "np.sum(data, axis=1)"
   ]
  },
  {
   "cell_type": "markdown",
   "id": "91c653b0-c774-41b0-8a0b-ecceda75562d",
   "metadata": {},
   "source": [
    "### 제너레이터를 활용한 특정 값 무한 반복자 만들기"
   ]
  },
  {
   "cell_type": "code",
   "execution_count": 57,
   "id": "200889bb-4419-4f91-8696-25b40da5a784",
   "metadata": {},
   "outputs": [],
   "source": [
    "def range_1_to_4():\n",
    "    yield 1\n",
    "    yield 2\n",
    "    yield 3"
   ]
  },
  {
   "cell_type": "code",
   "execution_count": 58,
   "id": "c7eded14-d45b-4315-9863-0fb9dfd39aaa",
   "metadata": {},
   "outputs": [
    {
     "name": "stdout",
     "output_type": "stream",
     "text": [
      "1\n",
      "2\n",
      "3\n"
     ]
    }
   ],
   "source": [
    "for i in range_1_to_4():\n",
    "    print(i)"
   ]
  },
  {
   "cell_type": "code",
   "execution_count": 59,
   "id": "69af8d30-918a-4deb-b0e7-55b615f0c569",
   "metadata": {},
   "outputs": [
    {
     "data": {
      "text/plain": [
       "<generator object range_1_to_4 at 0x7f8f9c1373c0>"
      ]
     },
     "execution_count": 59,
     "metadata": {},
     "output_type": "execute_result"
    }
   ],
   "source": [
    "range_1_to_4()"
   ]
  },
  {
   "cell_type": "code",
   "execution_count": 60,
   "id": "b330932d-8da8-463f-83c8-4ce1f9814987",
   "metadata": {},
   "outputs": [],
   "source": [
    "g = range_1_to_4()"
   ]
  },
  {
   "cell_type": "code",
   "execution_count": 61,
   "id": "01531bff-a9ba-4e44-a2f5-339ad7c67996",
   "metadata": {},
   "outputs": [
    {
     "data": {
      "text/plain": [
       "1"
      ]
     },
     "execution_count": 61,
     "metadata": {},
     "output_type": "execute_result"
    }
   ],
   "source": [
    "next(g)"
   ]
  },
  {
   "cell_type": "code",
   "execution_count": 62,
   "id": "465e57e6-0ddb-43d2-83c3-77a5cc46d155",
   "metadata": {},
   "outputs": [
    {
     "data": {
      "text/plain": [
       "2"
      ]
     },
     "execution_count": 62,
     "metadata": {},
     "output_type": "execute_result"
    }
   ],
   "source": [
    "next(g)"
   ]
  },
  {
   "cell_type": "code",
   "execution_count": 63,
   "id": "c9348c5a-1d7a-4c1f-83ea-e291edc5d9f3",
   "metadata": {},
   "outputs": [
    {
     "data": {
      "text/plain": [
       "3"
      ]
     },
     "execution_count": 63,
     "metadata": {},
     "output_type": "execute_result"
    }
   ],
   "source": [
    "next(g)"
   ]
  },
  {
   "cell_type": "code",
   "execution_count": 64,
   "id": "59ca3321-e94b-448e-9774-77f01dd4d839",
   "metadata": {},
   "outputs": [
    {
     "ename": "StopIteration",
     "evalue": "",
     "output_type": "error",
     "traceback": [
      "\u001b[0;31m\u001b[0m",
      "\u001b[0;31mStopIteration\u001b[0mTraceback (most recent call last)",
      "\u001b[0;32m<ipython-input-64-e734f8aca5ac>\u001b[0m in \u001b[0;36m<module>\u001b[0;34m\u001b[0m\n\u001b[0;32m----> 1\u001b[0;31m \u001b[0mnext\u001b[0m\u001b[0;34m(\u001b[0m\u001b[0mg\u001b[0m\u001b[0;34m)\u001b[0m\u001b[0;34m\u001b[0m\u001b[0;34m\u001b[0m\u001b[0m\n\u001b[0m",
      "\u001b[0;31mStopIteration\u001b[0m: "
     ]
    }
   ],
   "source": [
    "next(g)"
   ]
  },
  {
   "cell_type": "code",
   "execution_count": 65,
   "id": "96709170-d73c-4e1c-a06d-37f51645f723",
   "metadata": {},
   "outputs": [
    {
     "data": {
      "text/plain": [
       "<generator object <genexpr> at 0x7f8f9c137970>"
      ]
     },
     "execution_count": 65,
     "metadata": {},
     "output_type": "execute_result"
    }
   ],
   "source": [
    "g = (i for i in range(1, 4))\n",
    "g"
   ]
  },
  {
   "cell_type": "code",
   "execution_count": 66,
   "id": "13011fcd-3575-4fe5-bce7-bd721171cbad",
   "metadata": {},
   "outputs": [
    {
     "name": "stdout",
     "output_type": "stream",
     "text": [
      "1\n",
      "2\n",
      "3\n"
     ]
    }
   ],
   "source": [
    "for i in g:\n",
    "    print(i)"
   ]
  },
  {
   "cell_type": "code",
   "execution_count": 67,
   "id": "5090673c-228d-48e8-ae66-766298b9619f",
   "metadata": {},
   "outputs": [],
   "source": [
    "def repeat(value):\n",
    "    if value:\n",
    "        while True:\n",
    "            for element in value:\n",
    "                yield element"
   ]
  },
  {
   "cell_type": "code",
   "execution_count": 70,
   "id": "d3668b30-83e4-45e6-8ad9-c7788151093d",
   "metadata": {},
   "outputs": [
    {
     "data": {
      "text/plain": [
       "[(0, 'a'),\n",
       " (1, 'b'),\n",
       " (2, 'c'),\n",
       " (3, 'a'),\n",
       " (4, 'b'),\n",
       " (5, 'c'),\n",
       " (6, 'a'),\n",
       " (7, 'b'),\n",
       " (8, 'c'),\n",
       " (9, 'a')]"
      ]
     },
     "execution_count": 70,
     "metadata": {},
     "output_type": "execute_result"
    }
   ],
   "source": [
    "list(zip(range(10), repeat('abc')))"
   ]
  },
  {
   "cell_type": "markdown",
   "id": "94636975-1072-493e-b7c4-30e55be4fd58",
   "metadata": {},
   "source": [
    "### dictionary unpacking"
   ]
  },
  {
   "cell_type": "code",
   "execution_count": 72,
   "id": "f6e8bb1c-9eaf-422a-aca6-0919060664b7",
   "metadata": {},
   "outputs": [],
   "source": [
    "test = {'one' : 100, 'two' : 200}"
   ]
  },
  {
   "cell_type": "code",
   "execution_count": 73,
   "id": "be7b121a-5387-44b6-9be8-b97a2401bab4",
   "metadata": {},
   "outputs": [
    {
     "data": {
      "text/plain": [
       "('one', 'two')"
      ]
     },
     "execution_count": 73,
     "metadata": {},
     "output_type": "execute_result"
    }
   ],
   "source": [
    "a, b = test\n",
    "a, b"
   ]
  },
  {
   "cell_type": "code",
   "execution_count": 76,
   "id": "37975c07-a6e8-4574-835b-3633d1ddbfbc",
   "metadata": {},
   "outputs": [
    {
     "data": {
      "text/plain": [
       "(100, 200)"
      ]
     },
     "execution_count": 76,
     "metadata": {},
     "output_type": "execute_result"
    }
   ],
   "source": [
    "def un_pack(a, b):\n",
    "    return a, b\n",
    "\n",
    "test = {'a' : 100, 'b' : 200}\n",
    "\n",
    "un_pack(**test)"
   ]
  },
  {
   "cell_type": "markdown",
   "id": "12ca9788-fd2b-4a88-bd31-3c6ea7c282bb",
   "metadata": {},
   "source": [
    "### PEP8"
   ]
  },
  {
   "cell_type": "code",
   "execution_count": 77,
   "id": "1aa1d8c9-71fe-496b-b920-f62341c08a45",
   "metadata": {},
   "outputs": [
    {
     "name": "stdout",
     "output_type": "stream",
     "text": [
      "The Zen of Python, by Tim Peters\n",
      "\n",
      "Beautiful is better than ugly.\n",
      "Explicit is better than implicit.\n",
      "Simple is better than complex.\n",
      "Complex is better than complicated.\n",
      "Flat is better than nested.\n",
      "Sparse is better than dense.\n",
      "Readability counts.\n",
      "Special cases aren't special enough to break the rules.\n",
      "Although practicality beats purity.\n",
      "Errors should never pass silently.\n",
      "Unless explicitly silenced.\n",
      "In the face of ambiguity, refuse the temptation to guess.\n",
      "There should be one-- and preferably only one --obvious way to do it.\n",
      "Although that way may not be obvious at first unless you're Dutch.\n",
      "Now is better than never.\n",
      "Although never is often better than *right* now.\n",
      "If the implementation is hard to explain, it's a bad idea.\n",
      "If the implementation is easy to explain, it may be a good idea.\n",
      "Namespaces are one honking great idea -- let's do more of those!\n"
     ]
    }
   ],
   "source": [
    "import this"
   ]
  },
  {
   "cell_type": "markdown",
   "id": "10a35c74-24d4-45a1-8a91-c97fc5949097",
   "metadata": {},
   "source": [
    "### 부동소수점 정확도 문제 해결"
   ]
  },
  {
   "cell_type": "code",
   "execution_count": 78,
   "id": "65e5dedc-afd2-4f98-88a1-d318caec052b",
   "metadata": {},
   "outputs": [
    {
     "data": {
      "text/plain": [
       "0.30000000000000004"
      ]
     },
     "execution_count": 78,
     "metadata": {},
     "output_type": "execute_result"
    }
   ],
   "source": [
    "0.1 + 0.2"
   ]
  },
  {
   "cell_type": "code",
   "execution_count": 79,
   "id": "419ab9d1-150e-4907-8c2d-d092cc8dc3cb",
   "metadata": {},
   "outputs": [
    {
     "data": {
      "text/plain": [
       "0.30000000000000004"
      ]
     },
     "execution_count": 79,
     "metadata": {},
     "output_type": "execute_result"
    }
   ],
   "source": [
    "0.1 * 3"
   ]
  },
  {
   "cell_type": "code",
   "execution_count": 80,
   "id": "cdb958f5-6fbe-4b9d-98a5-ab6655ed4cbc",
   "metadata": {},
   "outputs": [
    {
     "data": {
      "text/plain": [
       "Decimal('0.1000000000000000055511151231257827021181583404541015625')"
      ]
     },
     "execution_count": 80,
     "metadata": {},
     "output_type": "execute_result"
    }
   ],
   "source": [
    "import decimal\n",
    "\n",
    "decimal.Decimal(0.1)"
   ]
  },
  {
   "cell_type": "code",
   "execution_count": 83,
   "id": "a84d81c0-1431-406e-859c-0da0e6adac04",
   "metadata": {},
   "outputs": [
    {
     "data": {
      "text/plain": [
       "Decimal('0.3')"
      ]
     },
     "execution_count": 83,
     "metadata": {},
     "output_type": "execute_result"
    }
   ],
   "source": [
    "decimal.Decimal('0.1') * 3"
   ]
  },
  {
   "cell_type": "code",
   "execution_count": 84,
   "id": "2462c93e-e731-4c75-8651-313c71fc5adc",
   "metadata": {},
   "outputs": [
    {
     "data": {
      "text/plain": [
       "False"
      ]
     },
     "execution_count": 84,
     "metadata": {},
     "output_type": "execute_result"
    }
   ],
   "source": [
    "decimal.Decimal('0.1') * 3 == 0.3"
   ]
  },
  {
   "cell_type": "code",
   "execution_count": 86,
   "id": "121912b6-15d0-4a9a-a70b-2104e47e770d",
   "metadata": {},
   "outputs": [
    {
     "data": {
      "text/plain": [
       "True"
      ]
     },
     "execution_count": 86,
     "metadata": {},
     "output_type": "execute_result"
    }
   ],
   "source": [
    "import math\n",
    "\n",
    "math.isclose(0.1 + 0.2, 0.3)"
   ]
  },
  {
   "cell_type": "markdown",
   "id": "d4ac24b7-7b30-4197-994b-120a93b779ff",
   "metadata": {},
   "source": [
    "### 배열 이진 분할 알고리즘으로 검색 속도 개선하기\n",
    "중요한 것 !!\n",
    "- 정렬된 상태의 리스트를 사용해야 함"
   ]
  },
  {
   "cell_type": "code",
   "execution_count": 87,
   "id": "3131cbef-51f2-4701-ab41-4f7bd075d13d",
   "metadata": {},
   "outputs": [],
   "source": [
    "data = list(range(100000000))"
   ]
  },
  {
   "cell_type": "code",
   "execution_count": 88,
   "id": "57a7b58f-47de-4af2-8a68-c774e31cbd65",
   "metadata": {},
   "outputs": [],
   "source": [
    "from bisect import bisect_left"
   ]
  },
  {
   "cell_type": "markdown",
   "id": "f1e527a8-d067-4ad1-ad85-4cea43bdc266",
   "metadata": {},
   "source": [
    "```python\n",
    "from bisect import bisect_left\n",
    "\n",
    "bisect.bisect_left(data, 10) # 첫번째 만나는 10\n",
    "bisect.bisect_right(data, 10) # 우리가 원하는 요소의 다음 값\n",
    "bisect.bisect(data, 10) # 우리가 원하는 요소의 다음 값\n",
    "bisect.insort_left(data, 10) \n",
    "bisect.insort_right(data, 10)\n",
    "```\n"
   ]
  },
  {
   "cell_type": "code",
   "execution_count": 91,
   "id": "39c87897-e556-4700-ad7e-068be55e44e6",
   "metadata": {},
   "outputs": [
    {
     "name": "stdout",
     "output_type": "stream",
     "text": [
      "1.19 s ± 7.14 ms per loop (mean ± std. dev. of 7 runs, 1 loop each)\n"
     ]
    }
   ],
   "source": [
    "%%timeit\n",
    "\n",
    "data.index(99999999)"
   ]
  },
  {
   "cell_type": "code",
   "execution_count": 92,
   "id": "e00fa188-732a-40bc-8b83-04172a8b413c",
   "metadata": {},
   "outputs": [
    {
     "name": "stdout",
     "output_type": "stream",
     "text": [
      "992 ns ± 31.1 ns per loop (mean ± std. dev. of 7 runs, 1000000 loops each)\n"
     ]
    }
   ],
   "source": [
    "%%timeit\n",
    "\n",
    "from bisect import bisect_left\n",
    "\n",
    "bisect_left(data, 99999999)"
   ]
  },
  {
   "cell_type": "code",
   "execution_count": 93,
   "id": "f75d871d-fd9f-49da-8b16-1e5cbd89aaa6",
   "metadata": {},
   "outputs": [
    {
     "data": {
      "text/plain": [
       "0"
      ]
     },
     "execution_count": 93,
     "metadata": {},
     "output_type": "execute_result"
    }
   ],
   "source": [
    "bisect_left(data, -100)"
   ]
  },
  {
   "cell_type": "markdown",
   "id": "0b3cd00a-4424-4b22-81a4-490c477ca6d3",
   "metadata": {},
   "source": [
    "### 클로저를 활용한 환율 변환기로 알아보는 free variable"
   ]
  },
  {
   "cell_type": "code",
   "execution_count": 94,
   "id": "c00e6d47-cb33-437e-988b-55c44f1aa0c4",
   "metadata": {},
   "outputs": [],
   "source": [
    "def a(x):\n",
    "    def b(y):\n",
    "        return y ** x\n",
    "    \n",
    "    return b"
   ]
  },
  {
   "cell_type": "code",
   "execution_count": 95,
   "id": "664da25d-a471-4a6b-a3b0-30f4b45832ef",
   "metadata": {},
   "outputs": [
    {
     "data": {
      "text/plain": [
       "100"
      ]
     },
     "execution_count": 95,
     "metadata": {},
     "output_type": "execute_result"
    }
   ],
   "source": [
    "test = a(2)\n",
    "test(10)"
   ]
  },
  {
   "cell_type": "code",
   "execution_count": 96,
   "id": "a36d032d-3b44-4ec7-927d-bb018bdbd76b",
   "metadata": {},
   "outputs": [
    {
     "data": {
      "text/plain": [
       "1000"
      ]
     },
     "execution_count": 96,
     "metadata": {},
     "output_type": "execute_result"
    }
   ],
   "source": [
    "test = a(3)\n",
    "test(10)"
   ]
  },
  {
   "cell_type": "code",
   "execution_count": 97,
   "id": "4fc5698a-b2dd-4f02-882c-4a72f1be4211",
   "metadata": {},
   "outputs": [],
   "source": [
    "def a(x):\n",
    "    return lambda y:y**x"
   ]
  },
  {
   "cell_type": "code",
   "execution_count": 101,
   "id": "c5c6a579-5613-4184-b4c5-43e70f37325e",
   "metadata": {},
   "outputs": [],
   "source": [
    "# 재사용성\n",
    "# 연산 속도 상승(like memoization)\n",
    "\n",
    "def convert_currency(nation, currency):\n",
    "    converted_result = [] # free variable(지역 범위가 사라져서 범위가 바인딩 안 됨)\n",
    "    \n",
    "    def calc(unit):\n",
    "        converted_result.append(nation)\n",
    "        \n",
    "        return f'입력값 : {nation}, convert : {format(currency * unit, \",\")}원, {converted_result}'\n",
    "    \n",
    "    return calc"
   ]
  },
  {
   "cell_type": "code",
   "execution_count": 102,
   "id": "88115298-d449-4bcb-acee-ce324c9520e2",
   "metadata": {},
   "outputs": [
    {
     "data": {
      "text/plain": [
       "\"입력값 : USA, convert : 100,000원, ['USA']\""
      ]
     },
     "execution_count": 102,
     "metadata": {},
     "output_type": "execute_result"
    }
   ],
   "source": [
    "dollor = convert_currency('USA', 1000)\n",
    "dollor(100)"
   ]
  },
  {
   "cell_type": "code",
   "execution_count": 104,
   "id": "82dabb69-0a9c-440d-9e08-f42dc3536ff1",
   "metadata": {},
   "outputs": [
    {
     "data": {
      "text/plain": [
       "\"입력값 : JAPAN, convert : 1,000원, ['JAPAN']\""
      ]
     },
     "execution_count": 104,
     "metadata": {},
     "output_type": "execute_result"
    }
   ],
   "source": [
    "jpy = convert_currency('JAPAN', 10)\n",
    "jpy(100)"
   ]
  },
  {
   "cell_type": "code",
   "execution_count": 105,
   "id": "0e35ceb1-a9c6-4b92-97eb-c93d98f871da",
   "metadata": {},
   "outputs": [
    {
     "data": {
      "text/plain": [
       "['__annotations__',\n",
       " '__call__',\n",
       " '__class__',\n",
       " '__closure__',\n",
       " '__code__',\n",
       " '__defaults__',\n",
       " '__delattr__',\n",
       " '__dict__',\n",
       " '__dir__',\n",
       " '__doc__',\n",
       " '__eq__',\n",
       " '__format__',\n",
       " '__ge__',\n",
       " '__get__',\n",
       " '__getattribute__',\n",
       " '__globals__',\n",
       " '__gt__',\n",
       " '__hash__',\n",
       " '__init__',\n",
       " '__init_subclass__',\n",
       " '__kwdefaults__',\n",
       " '__le__',\n",
       " '__lt__',\n",
       " '__module__',\n",
       " '__name__',\n",
       " '__ne__',\n",
       " '__new__',\n",
       " '__qualname__',\n",
       " '__reduce__',\n",
       " '__reduce_ex__',\n",
       " '__repr__',\n",
       " '__setattr__',\n",
       " '__sizeof__',\n",
       " '__str__',\n",
       " '__subclasshook__']"
      ]
     },
     "execution_count": 105,
     "metadata": {},
     "output_type": "execute_result"
    }
   ],
   "source": [
    "dir(jpy)"
   ]
  },
  {
   "cell_type": "code",
   "execution_count": 106,
   "id": "1bd5e68e-8d95-4c8e-90df-54f75548a0d3",
   "metadata": {},
   "outputs": [
    {
     "data": {
      "text/plain": [
       "('unit',)"
      ]
     },
     "execution_count": 106,
     "metadata": {},
     "output_type": "execute_result"
    }
   ],
   "source": [
    "jpy.__code__.co_varnames"
   ]
  },
  {
   "cell_type": "code",
   "execution_count": 107,
   "id": "66cec249-28e4-419a-8a13-c87cfe43b0b4",
   "metadata": {},
   "outputs": [
    {
     "data": {
      "text/plain": [
       "('converted_result', 'currency', 'nation')"
      ]
     },
     "execution_count": 107,
     "metadata": {},
     "output_type": "execute_result"
    }
   ],
   "source": [
    "jpy.__code__.co_freevars"
   ]
  },
  {
   "cell_type": "markdown",
   "id": "6ea7a389-3a99-4390-8451-01d95769ebdc",
   "metadata": {},
   "source": [
    "### heapq 는 얼마나 빠른가?\n",
    "\n",
    "- 원소의 추가 : heapq.heappush(heap, 추가할 값)\n",
    "- 원소의 삭제 : heapq.heappop\n",
    "\n",
    "**이거는 별도 알고리즘 공부해서 할 것\n",
    "\n",
    "이후 내용은 별도 환경에서 진행 하였음"
   ]
  },
  {
   "cell_type": "markdown",
   "id": "6925d7fe-de68-4b76-ab98-302aa6e86192",
   "metadata": {},
   "source": [
    "### 비동기 프로그래밍"
   ]
  },
  {
   "cell_type": "code",
   "execution_count": 109,
   "id": "34b03d04-7b35-4479-9ca2-ab4569f1440c",
   "metadata": {},
   "outputs": [
    {
     "name": "stdout",
     "output_type": "stream",
     "text": [
      "1\n",
      "3\n",
      "6\n",
      "10\n",
      "15\n",
      "21\n",
      "28\n",
      "36\n",
      "45\n",
      "1\n",
      "3\n",
      "6\n",
      "10\n",
      "15\n",
      "21\n",
      "28\n",
      "36\n",
      "45\n",
      "걸린 시간 : 18.039\n"
     ]
    }
   ],
   "source": [
    "import time\n",
    "\n",
    "def foo():\n",
    "    res = 0\n",
    "    \n",
    "    for i in range(1, 10):\n",
    "        res += i\n",
    "        print(res)\n",
    "        time.sleep(1)\n",
    "        \n",
    "    return res\n",
    "\n",
    "start = time.time()\n",
    "\n",
    "foo()\n",
    "foo()\n",
    "\n",
    "end = time.time()\n",
    "\n",
    "over_time = round(end - start, 3)\n",
    "print(f'걸린 시간 : {over_time}')"
   ]
  },
  {
   "cell_type": "code",
   "execution_count": 113,
   "id": "888dd88a-4ca2-4176-886d-5cf7b3a21aff",
   "metadata": {},
   "outputs": [],
   "source": [
    "# import time\n",
    "# import asyncio\n",
    "\n",
    "# async def foo():\n",
    "#     res = 0\n",
    "        \n",
    "#     for i in range(1, 10):\n",
    "#         res += i\n",
    "#         print(res)\n",
    "#         await asyncio.sleep(1)\n",
    "        \n",
    "#     return res\n",
    "\n",
    "# start = time.time()\n",
    "\n",
    "# # python 3.7 이상\n",
    "# asyncio.run(asyncio.wait([foo(), foo()]))\n",
    "\n",
    "# end = time.time()\n",
    "\n",
    "# over_time = round(end - start, 3)\n",
    "# print(f'걸린 시간 : {over_time}')"
   ]
  },
  {
   "cell_type": "markdown",
   "id": "f4bd511c-89c8-44db-9da5-34c7da65ba41",
   "metadata": {},
   "source": [
    "```python\n",
    "import time\n",
    "import asyncio\n",
    "\n",
    "async def foo():\n",
    "    res = 0\n",
    "        \n",
    "    for i in range(1, 10):\n",
    "        res += i\n",
    "        print(res)\n",
    "        await asyncio.sleep(1)\n",
    "        \n",
    "    return res\n",
    "\n",
    "start = time.time()\n",
    "\n",
    "# python 3.7 이상\n",
    "asyncio.run(asyncio.wait([foo(), foo()]))\n",
    "\n",
    "end = time.time()\n",
    "\n",
    "over_time = round(end - start, 3)\n",
    "print(f'걸린 시간 : {over_time}')\n",
    "\n",
    "```"
   ]
  }
 ],
 "metadata": {
  "kernelspec": {
   "display_name": "Python 3",
   "language": "python",
   "name": "python3"
  },
  "language_info": {
   "codemirror_mode": {
    "name": "ipython",
    "version": 3
   },
   "file_extension": ".py",
   "mimetype": "text/x-python",
   "name": "python",
   "nbconvert_exporter": "python",
   "pygments_lexer": "ipython3",
   "version": "3.9.2"
  }
 },
 "nbformat": 4,
 "nbformat_minor": 5
}
