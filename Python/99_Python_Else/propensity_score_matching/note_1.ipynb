{
 "cells": [
  {
   "cell_type": "code",
   "execution_count": 54,
   "metadata": {},
   "outputs": [],
   "source": [
    "import pandas as pd\n",
    "import numpy as np\n",
    "import statsmodels.formula.api as smf\n",
    "import seaborn as sns\n",
    "import matplotlib.pyplot as plt\n",
    "\n",
    "%matplotlib inline"
   ]
  },
  {
   "cell_type": "code",
   "execution_count": 9,
   "metadata": {},
   "outputs": [],
   "source": [
    "df = pd.read_csv(r'rhc.csv')"
   ]
  },
  {
   "cell_type": "code",
   "execution_count": 11,
   "metadata": {},
   "outputs": [
    {
     "data": {
      "text/html": [
       "<div>\n",
       "<style scoped>\n",
       "    .dataframe tbody tr th:only-of-type {\n",
       "        vertical-align: middle;\n",
       "    }\n",
       "\n",
       "    .dataframe tbody tr th {\n",
       "        vertical-align: top;\n",
       "    }\n",
       "\n",
       "    .dataframe thead th {\n",
       "        text-align: right;\n",
       "    }\n",
       "</style>\n",
       "<table border=\"1\" class=\"dataframe\">\n",
       "  <thead>\n",
       "    <tr style=\"text-align: right;\">\n",
       "      <th></th>\n",
       "      <th>Unnamed: 0</th>\n",
       "      <th>cat1</th>\n",
       "      <th>cat2</th>\n",
       "      <th>ca</th>\n",
       "      <th>sadmdte</th>\n",
       "      <th>dschdte</th>\n",
       "      <th>dthdte</th>\n",
       "      <th>lstctdte</th>\n",
       "      <th>death</th>\n",
       "      <th>cardiohx</th>\n",
       "      <th>chfhx</th>\n",
       "      <th>dementhx</th>\n",
       "      <th>psychhx</th>\n",
       "      <th>chrpulhx</th>\n",
       "      <th>renalhx</th>\n",
       "      <th>liverhx</th>\n",
       "      <th>gibledhx</th>\n",
       "      <th>malighx</th>\n",
       "      <th>immunhx</th>\n",
       "      <th>transhx</th>\n",
       "      <th>amihx</th>\n",
       "      <th>age</th>\n",
       "      <th>sex</th>\n",
       "      <th>edu</th>\n",
       "      <th>surv2md1</th>\n",
       "      <th>das2d3pc</th>\n",
       "      <th>t3d30</th>\n",
       "      <th>dth30</th>\n",
       "      <th>aps1</th>\n",
       "      <th>scoma1</th>\n",
       "      <th>meanbp1</th>\n",
       "      <th>wblc1</th>\n",
       "      <th>hrt1</th>\n",
       "      <th>resp1</th>\n",
       "      <th>temp1</th>\n",
       "      <th>pafi1</th>\n",
       "      <th>alb1</th>\n",
       "      <th>hema1</th>\n",
       "      <th>bili1</th>\n",
       "      <th>crea1</th>\n",
       "      <th>sod1</th>\n",
       "      <th>pot1</th>\n",
       "      <th>paco21</th>\n",
       "      <th>ph1</th>\n",
       "      <th>swang1</th>\n",
       "      <th>wtkilo1</th>\n",
       "      <th>dnr1</th>\n",
       "      <th>ninsclas</th>\n",
       "      <th>resp</th>\n",
       "      <th>card</th>\n",
       "      <th>neuro</th>\n",
       "      <th>gastr</th>\n",
       "      <th>renal</th>\n",
       "      <th>meta</th>\n",
       "      <th>hema</th>\n",
       "      <th>seps</th>\n",
       "      <th>trauma</th>\n",
       "      <th>ortho</th>\n",
       "      <th>adld3p</th>\n",
       "      <th>urin1</th>\n",
       "      <th>race</th>\n",
       "      <th>income</th>\n",
       "      <th>ptid</th>\n",
       "    </tr>\n",
       "  </thead>\n",
       "  <tbody>\n",
       "    <tr>\n",
       "      <th>0</th>\n",
       "      <td>1</td>\n",
       "      <td>COPD</td>\n",
       "      <td>NaN</td>\n",
       "      <td>Yes</td>\n",
       "      <td>11142</td>\n",
       "      <td>11151.0</td>\n",
       "      <td>NaN</td>\n",
       "      <td>11382</td>\n",
       "      <td>No</td>\n",
       "      <td>0</td>\n",
       "      <td>0</td>\n",
       "      <td>0</td>\n",
       "      <td>0</td>\n",
       "      <td>1</td>\n",
       "      <td>0</td>\n",
       "      <td>0</td>\n",
       "      <td>0</td>\n",
       "      <td>1</td>\n",
       "      <td>0</td>\n",
       "      <td>0</td>\n",
       "      <td>0</td>\n",
       "      <td>70.25098</td>\n",
       "      <td>Male</td>\n",
       "      <td>12.000000</td>\n",
       "      <td>0.640991</td>\n",
       "      <td>23.50000</td>\n",
       "      <td>30</td>\n",
       "      <td>No</td>\n",
       "      <td>46</td>\n",
       "      <td>0</td>\n",
       "      <td>41.0</td>\n",
       "      <td>22.097656</td>\n",
       "      <td>124</td>\n",
       "      <td>10.0</td>\n",
       "      <td>38.69531</td>\n",
       "      <td>68.00000</td>\n",
       "      <td>3.500000</td>\n",
       "      <td>58.000000</td>\n",
       "      <td>1.009766</td>\n",
       "      <td>1.199951</td>\n",
       "      <td>145</td>\n",
       "      <td>4.000000</td>\n",
       "      <td>40.0</td>\n",
       "      <td>7.359375</td>\n",
       "      <td>No RHC</td>\n",
       "      <td>64.69995</td>\n",
       "      <td>No</td>\n",
       "      <td>Medicare</td>\n",
       "      <td>Yes</td>\n",
       "      <td>Yes</td>\n",
       "      <td>No</td>\n",
       "      <td>No</td>\n",
       "      <td>No</td>\n",
       "      <td>No</td>\n",
       "      <td>No</td>\n",
       "      <td>No</td>\n",
       "      <td>No</td>\n",
       "      <td>No</td>\n",
       "      <td>0.0</td>\n",
       "      <td>NaN</td>\n",
       "      <td>white</td>\n",
       "      <td>Under $11k</td>\n",
       "      <td>5</td>\n",
       "    </tr>\n",
       "    <tr>\n",
       "      <th>1</th>\n",
       "      <td>2</td>\n",
       "      <td>MOSF w/Sepsis</td>\n",
       "      <td>NaN</td>\n",
       "      <td>No</td>\n",
       "      <td>11799</td>\n",
       "      <td>11844.0</td>\n",
       "      <td>11844.0</td>\n",
       "      <td>11844</td>\n",
       "      <td>Yes</td>\n",
       "      <td>1</td>\n",
       "      <td>1</td>\n",
       "      <td>0</td>\n",
       "      <td>0</td>\n",
       "      <td>0</td>\n",
       "      <td>0</td>\n",
       "      <td>0</td>\n",
       "      <td>0</td>\n",
       "      <td>0</td>\n",
       "      <td>1</td>\n",
       "      <td>1</td>\n",
       "      <td>0</td>\n",
       "      <td>78.17896</td>\n",
       "      <td>Female</td>\n",
       "      <td>12.000000</td>\n",
       "      <td>0.755000</td>\n",
       "      <td>14.75195</td>\n",
       "      <td>30</td>\n",
       "      <td>No</td>\n",
       "      <td>50</td>\n",
       "      <td>0</td>\n",
       "      <td>63.0</td>\n",
       "      <td>28.898438</td>\n",
       "      <td>137</td>\n",
       "      <td>38.0</td>\n",
       "      <td>38.89844</td>\n",
       "      <td>218.31250</td>\n",
       "      <td>2.599609</td>\n",
       "      <td>32.500000</td>\n",
       "      <td>0.699951</td>\n",
       "      <td>0.599976</td>\n",
       "      <td>137</td>\n",
       "      <td>3.299805</td>\n",
       "      <td>34.0</td>\n",
       "      <td>7.329102</td>\n",
       "      <td>RHC</td>\n",
       "      <td>45.69998</td>\n",
       "      <td>No</td>\n",
       "      <td>Private &amp; Medicare</td>\n",
       "      <td>No</td>\n",
       "      <td>No</td>\n",
       "      <td>No</td>\n",
       "      <td>No</td>\n",
       "      <td>No</td>\n",
       "      <td>No</td>\n",
       "      <td>No</td>\n",
       "      <td>Yes</td>\n",
       "      <td>No</td>\n",
       "      <td>No</td>\n",
       "      <td>NaN</td>\n",
       "      <td>1437.0</td>\n",
       "      <td>white</td>\n",
       "      <td>Under $11k</td>\n",
       "      <td>7</td>\n",
       "    </tr>\n",
       "    <tr>\n",
       "      <th>2</th>\n",
       "      <td>3</td>\n",
       "      <td>MOSF w/Malignancy</td>\n",
       "      <td>MOSF w/Sepsis</td>\n",
       "      <td>Yes</td>\n",
       "      <td>12083</td>\n",
       "      <td>12143.0</td>\n",
       "      <td>NaN</td>\n",
       "      <td>12400</td>\n",
       "      <td>No</td>\n",
       "      <td>0</td>\n",
       "      <td>0</td>\n",
       "      <td>0</td>\n",
       "      <td>0</td>\n",
       "      <td>0</td>\n",
       "      <td>0</td>\n",
       "      <td>0</td>\n",
       "      <td>0</td>\n",
       "      <td>1</td>\n",
       "      <td>1</td>\n",
       "      <td>0</td>\n",
       "      <td>0</td>\n",
       "      <td>46.09198</td>\n",
       "      <td>Female</td>\n",
       "      <td>14.069916</td>\n",
       "      <td>0.317000</td>\n",
       "      <td>18.13672</td>\n",
       "      <td>30</td>\n",
       "      <td>No</td>\n",
       "      <td>82</td>\n",
       "      <td>0</td>\n",
       "      <td>57.0</td>\n",
       "      <td>0.049995</td>\n",
       "      <td>130</td>\n",
       "      <td>40.0</td>\n",
       "      <td>36.39844</td>\n",
       "      <td>275.50000</td>\n",
       "      <td>3.500000</td>\n",
       "      <td>21.097656</td>\n",
       "      <td>1.009766</td>\n",
       "      <td>2.599609</td>\n",
       "      <td>146</td>\n",
       "      <td>2.899902</td>\n",
       "      <td>16.0</td>\n",
       "      <td>7.359375</td>\n",
       "      <td>RHC</td>\n",
       "      <td>0.00000</td>\n",
       "      <td>No</td>\n",
       "      <td>Private</td>\n",
       "      <td>No</td>\n",
       "      <td>Yes</td>\n",
       "      <td>No</td>\n",
       "      <td>No</td>\n",
       "      <td>No</td>\n",
       "      <td>No</td>\n",
       "      <td>No</td>\n",
       "      <td>No</td>\n",
       "      <td>No</td>\n",
       "      <td>No</td>\n",
       "      <td>NaN</td>\n",
       "      <td>599.0</td>\n",
       "      <td>white</td>\n",
       "      <td>$25-$50k</td>\n",
       "      <td>9</td>\n",
       "    </tr>\n",
       "    <tr>\n",
       "      <th>3</th>\n",
       "      <td>4</td>\n",
       "      <td>ARF</td>\n",
       "      <td>NaN</td>\n",
       "      <td>No</td>\n",
       "      <td>11146</td>\n",
       "      <td>11183.0</td>\n",
       "      <td>11183.0</td>\n",
       "      <td>11182</td>\n",
       "      <td>Yes</td>\n",
       "      <td>0</td>\n",
       "      <td>0</td>\n",
       "      <td>0</td>\n",
       "      <td>0</td>\n",
       "      <td>0</td>\n",
       "      <td>0</td>\n",
       "      <td>0</td>\n",
       "      <td>0</td>\n",
       "      <td>0</td>\n",
       "      <td>1</td>\n",
       "      <td>0</td>\n",
       "      <td>0</td>\n",
       "      <td>75.33197</td>\n",
       "      <td>Female</td>\n",
       "      <td>9.000000</td>\n",
       "      <td>0.440979</td>\n",
       "      <td>22.92969</td>\n",
       "      <td>30</td>\n",
       "      <td>No</td>\n",
       "      <td>48</td>\n",
       "      <td>0</td>\n",
       "      <td>55.0</td>\n",
       "      <td>23.296875</td>\n",
       "      <td>58</td>\n",
       "      <td>26.0</td>\n",
       "      <td>35.79688</td>\n",
       "      <td>156.65625</td>\n",
       "      <td>3.500000</td>\n",
       "      <td>26.296875</td>\n",
       "      <td>0.399963</td>\n",
       "      <td>1.699951</td>\n",
       "      <td>117</td>\n",
       "      <td>5.799805</td>\n",
       "      <td>30.0</td>\n",
       "      <td>7.459961</td>\n",
       "      <td>No RHC</td>\n",
       "      <td>54.59998</td>\n",
       "      <td>No</td>\n",
       "      <td>Private &amp; Medicare</td>\n",
       "      <td>Yes</td>\n",
       "      <td>No</td>\n",
       "      <td>No</td>\n",
       "      <td>No</td>\n",
       "      <td>No</td>\n",
       "      <td>No</td>\n",
       "      <td>No</td>\n",
       "      <td>No</td>\n",
       "      <td>No</td>\n",
       "      <td>No</td>\n",
       "      <td>NaN</td>\n",
       "      <td>NaN</td>\n",
       "      <td>white</td>\n",
       "      <td>$11-$25k</td>\n",
       "      <td>10</td>\n",
       "    </tr>\n",
       "    <tr>\n",
       "      <th>4</th>\n",
       "      <td>5</td>\n",
       "      <td>MOSF w/Sepsis</td>\n",
       "      <td>NaN</td>\n",
       "      <td>No</td>\n",
       "      <td>12035</td>\n",
       "      <td>12037.0</td>\n",
       "      <td>12037.0</td>\n",
       "      <td>12036</td>\n",
       "      <td>Yes</td>\n",
       "      <td>0</td>\n",
       "      <td>0</td>\n",
       "      <td>0</td>\n",
       "      <td>0</td>\n",
       "      <td>0</td>\n",
       "      <td>0</td>\n",
       "      <td>0</td>\n",
       "      <td>0</td>\n",
       "      <td>0</td>\n",
       "      <td>0</td>\n",
       "      <td>0</td>\n",
       "      <td>0</td>\n",
       "      <td>67.90997</td>\n",
       "      <td>Male</td>\n",
       "      <td>9.945259</td>\n",
       "      <td>0.437000</td>\n",
       "      <td>21.05078</td>\n",
       "      <td>2</td>\n",
       "      <td>Yes</td>\n",
       "      <td>72</td>\n",
       "      <td>41</td>\n",
       "      <td>65.0</td>\n",
       "      <td>29.699219</td>\n",
       "      <td>125</td>\n",
       "      <td>27.0</td>\n",
       "      <td>34.79688</td>\n",
       "      <td>478.00000</td>\n",
       "      <td>3.500000</td>\n",
       "      <td>24.000000</td>\n",
       "      <td>1.009766</td>\n",
       "      <td>3.599609</td>\n",
       "      <td>126</td>\n",
       "      <td>5.799805</td>\n",
       "      <td>17.0</td>\n",
       "      <td>7.229492</td>\n",
       "      <td>RHC</td>\n",
       "      <td>78.39996</td>\n",
       "      <td>Yes</td>\n",
       "      <td>Medicare</td>\n",
       "      <td>No</td>\n",
       "      <td>Yes</td>\n",
       "      <td>No</td>\n",
       "      <td>No</td>\n",
       "      <td>No</td>\n",
       "      <td>No</td>\n",
       "      <td>No</td>\n",
       "      <td>No</td>\n",
       "      <td>No</td>\n",
       "      <td>No</td>\n",
       "      <td>NaN</td>\n",
       "      <td>64.0</td>\n",
       "      <td>white</td>\n",
       "      <td>Under $11k</td>\n",
       "      <td>11</td>\n",
       "    </tr>\n",
       "  </tbody>\n",
       "</table>\n",
       "</div>"
      ],
      "text/plain": [
       "   Unnamed: 0               cat1           cat2  ...   race      income  ptid\n",
       "0           1               COPD            NaN  ...  white  Under $11k     5\n",
       "1           2      MOSF w/Sepsis            NaN  ...  white  Under $11k     7\n",
       "2           3  MOSF w/Malignancy  MOSF w/Sepsis  ...  white    $25-$50k     9\n",
       "3           4                ARF            NaN  ...  white    $11-$25k    10\n",
       "4           5      MOSF w/Sepsis            NaN  ...  white  Under $11k    11\n",
       "\n",
       "[5 rows x 63 columns]"
      ]
     },
     "execution_count": 11,
     "metadata": {},
     "output_type": "execute_result"
    }
   ],
   "source": [
    "df.head()"
   ]
  },
  {
   "cell_type": "code",
   "execution_count": 12,
   "metadata": {},
   "outputs": [],
   "source": [
    "df = df.replace(to_replace=\"Yes\", value=1)\n",
    "df = df.replace(to_replace=\"No\", value=0)"
   ]
  },
  {
   "cell_type": "code",
   "execution_count": 14,
   "metadata": {},
   "outputs": [
    {
     "data": {
      "text/plain": [
       "No RHC    0.61918\n",
       "RHC       0.38082\n",
       "Name: swang1, dtype: float64"
      ]
     },
     "execution_count": 14,
     "metadata": {},
     "output_type": "execute_result"
    }
   ],
   "source": [
    "df.swang1.value_counts(normalize=True)"
   ]
  },
  {
   "cell_type": "code",
   "execution_count": 15,
   "metadata": {},
   "outputs": [],
   "source": [
    "df['treated'] = 0"
   ]
  },
  {
   "cell_type": "code",
   "execution_count": 16,
   "metadata": {},
   "outputs": [],
   "source": [
    "df['treated'] = df['treated'].where(df.swang1==\"No RHC\", 1)"
   ]
  },
  {
   "cell_type": "code",
   "execution_count": 22,
   "metadata": {},
   "outputs": [],
   "source": [
    "df['treated'] = np.where(df.swang1 == 'RHC', 1, 0)"
   ]
  },
  {
   "cell_type": "code",
   "execution_count": 23,
   "metadata": {},
   "outputs": [
    {
     "data": {
      "text/plain": [
       "treated\n",
       "0    0.629682\n",
       "1    0.680403\n",
       "Name: death, dtype: float64"
      ]
     },
     "execution_count": 23,
     "metadata": {},
     "output_type": "execute_result"
    }
   ],
   "source": [
    "df.groupby(by='treated')['death'].mean()"
   ]
  },
  {
   "cell_type": "code",
   "execution_count": 33,
   "metadata": {},
   "outputs": [
    {
     "data": {
      "image/png": "[encoded data removed]",
      "text/plain": [
       "<Figure size 432x288 with 1 Axes>"
      ]
     },
     "metadata": {
      "needs_background": "light"
     },
     "output_type": "display_data"
    }
   ],
   "source": [
    "df.age.hist();"
   ]
  },
  {
   "cell_type": "code",
   "execution_count": 34,
   "metadata": {},
   "outputs": [
    {
     "data": {
      "text/plain": [
       "0    (68.326, 85.087]\n",
       "1    (68.326, 85.087]\n",
       "2    (34.803, 51.564]\n",
       "3    (68.326, 85.087]\n",
       "4    (51.564, 68.326]\n",
       "Name: age, dtype: category\n",
       "Categories (5, interval[float64]): [(17.958, 34.803] < (34.803, 51.564] < (51.564, 68.326] < (68.326, 85.087] < (85.087, 101.848]]"
      ]
     },
     "execution_count": 34,
     "metadata": {},
     "output_type": "execute_result"
    }
   ],
   "source": [
    "pd.cut(df.age, 5).head(5)"
   ]
  },
  {
   "cell_type": "code",
   "execution_count": 35,
   "metadata": {},
   "outputs": [],
   "source": [
    "df['agegrp'] = pd.qcut(df.age,10)"
   ]
  },
  {
   "cell_type": "code",
   "execution_count": 37,
   "metadata": {},
   "outputs": [
    {
     "data": {
      "text/plain": [
       "agegrp\n",
       "(18.041, 36.972]     574\n",
       "(36.972, 46.196]     573\n",
       "(46.196, 53.386]     574\n",
       "(53.386, 59.545]     573\n",
       "(59.545, 64.047]     574\n",
       "(64.047, 68.068]     573\n",
       "(68.068, 71.899]     573\n",
       "(71.899, 76.025]     574\n",
       "(76.025, 80.883]     573\n",
       "(80.883, 101.848]    574\n",
       "dtype: int64"
      ]
     },
     "execution_count": 37,
     "metadata": {},
     "output_type": "execute_result"
    }
   ],
   "source": [
    "df.groupby('agegrp').size()"
   ]
  },
  {
   "cell_type": "markdown",
   "metadata": {},
   "source": [
    "### Logit regression (to compare the results with Propensity matching method)"
   ]
  },
  {
   "cell_type": "code",
   "execution_count": 39,
   "metadata": {},
   "outputs": [
    {
     "name": "stdout",
     "output_type": "stream",
     "text": [
      "Optimization terminated successfully.\n",
      "         Current function value: 0.622953\n",
      "         Iterations 5\n"
     ]
    },
    {
     "data": {
      "text/html": [
       "<table class=\"simpletable\">\n",
       "<caption>Logit Regression Results</caption>\n",
       "<tr>\n",
       "  <th>Dep. Variable:</th>         <td>death</td>      <th>  No. Observations:  </th>  <td>  5735</td>  \n",
       "</tr>\n",
       "<tr>\n",
       "  <th>Model:</th>                 <td>Logit</td>      <th>  Df Residuals:      </th>  <td>  5730</td>  \n",
       "</tr>\n",
       "<tr>\n",
       "  <th>Method:</th>                 <td>MLE</td>       <th>  Df Model:          </th>  <td>     4</td>  \n",
       "</tr>\n",
       "<tr>\n",
       "  <th>Date:</th>            <td>Fri, 12 Feb 2021</td> <th>  Pseudo R-squ.:     </th>  <td>0.03875</td> \n",
       "</tr>\n",
       "<tr>\n",
       "  <th>Time:</th>                <td>23:28:46</td>     <th>  Log-Likelihood:    </th> <td> -3572.6</td> \n",
       "</tr>\n",
       "<tr>\n",
       "  <th>converged:</th>             <td>True</td>       <th>  LL-Null:           </th> <td> -3716.7</td> \n",
       "</tr>\n",
       "<tr>\n",
       "  <th>Covariance Type:</th>     <td>nonrobust</td>    <th>  LLR p-value:       </th> <td>4.112e-61</td>\n",
       "</tr>\n",
       "</table>\n",
       "<table class=\"simpletable\">\n",
       "<tr>\n",
       "       <td></td>          <th>coef</th>     <th>std err</th>      <th>z</th>      <th>P>|z|</th>  <th>[0.025</th>    <th>0.975]</th>  \n",
       "</tr>\n",
       "<tr>\n",
       "  <th>Intercept</th>   <td>   -1.2474</td> <td>    0.168</td> <td>   -7.406</td> <td> 0.000</td> <td>   -1.577</td> <td>   -0.917</td>\n",
       "</tr>\n",
       "<tr>\n",
       "  <th>sex[T.Male]</th> <td>    0.1074</td> <td>    0.057</td> <td>    1.878</td> <td> 0.060</td> <td>   -0.005</td> <td>    0.219</td>\n",
       "</tr>\n",
       "<tr>\n",
       "  <th>age</th>         <td>    0.0277</td> <td>    0.002</td> <td>   15.970</td> <td> 0.000</td> <td>    0.024</td> <td>    0.031</td>\n",
       "</tr>\n",
       "<tr>\n",
       "  <th>edu</th>         <td>    0.0030</td> <td>    0.009</td> <td>    0.327</td> <td> 0.743</td> <td>   -0.015</td> <td>    0.021</td>\n",
       "</tr>\n",
       "<tr>\n",
       "  <th>treated</th>     <td>    0.2526</td> <td>    0.059</td> <td>    4.278</td> <td> 0.000</td> <td>    0.137</td> <td>    0.368</td>\n",
       "</tr>\n",
       "</table>"
      ],
      "text/plain": [
       "<class 'statsmodels.iolib.summary.Summary'>\n",
       "\"\"\"\n",
       "                           Logit Regression Results                           \n",
       "==============================================================================\n",
       "Dep. Variable:                  death   No. Observations:                 5735\n",
       "Model:                          Logit   Df Residuals:                     5730\n",
       "Method:                           MLE   Df Model:                            4\n",
       "Date:                Fri, 12 Feb 2021   Pseudo R-squ.:                 0.03875\n",
       "Time:                        23:28:46   Log-Likelihood:                -3572.6\n",
       "converged:                       True   LL-Null:                       -3716.7\n",
       "Covariance Type:            nonrobust   LLR p-value:                 4.112e-61\n",
       "===============================================================================\n",
       "                  coef    std err          z      P>|z|      [0.025      0.975]\n",
       "-------------------------------------------------------------------------------\n",
       "Intercept      -1.2474      0.168     -7.406      0.000      -1.577      -0.917\n",
       "sex[T.Male]     0.1074      0.057      1.878      0.060      -0.005       0.219\n",
       "age             0.0277      0.002     15.970      0.000       0.024       0.031\n",
       "edu             0.0030      0.009      0.327      0.743      -0.015       0.021\n",
       "treated         0.2526      0.059      4.278      0.000       0.137       0.368\n",
       "===============================================================================\n",
       "\"\"\""
      ]
     },
     "execution_count": 39,
     "metadata": {},
     "output_type": "execute_result"
    }
   ],
   "source": [
    "model = 'death ~ age + sex + edu + treated'\n",
    "\n",
    "reg_results = smf.logit(formula=model, data=df).fit()\n",
    "reg_results.summary()"
   ]
  },
  {
   "cell_type": "code",
   "execution_count": 42,
   "metadata": {},
   "outputs": [
    {
     "data": {
      "text/plain": [
       "Intercept     -1.247385\n",
       "sex[T.Male]    0.107357\n",
       "age            0.027699\n",
       "edu            0.003028\n",
       "treated        0.252627\n",
       "dtype: float64"
      ]
     },
     "execution_count": 42,
     "metadata": {},
     "output_type": "execute_result"
    }
   ],
   "source": [
    "reg_results.params"
   ]
  },
  {
   "cell_type": "code",
   "execution_count": 40,
   "metadata": {},
   "outputs": [
    {
     "data": {
      "text/plain": [
       "Intercept      0.287255\n",
       "sex[T.Male]    1.113332\n",
       "age            1.028086\n",
       "edu            1.003032\n",
       "treated        1.287403\n",
       "dtype: float64"
      ]
     },
     "execution_count": 40,
     "metadata": {},
     "output_type": "execute_result"
    }
   ],
   "source": [
    "np.exp(reg_results.params)"
   ]
  },
  {
   "cell_type": "code",
   "execution_count": 43,
   "metadata": {},
   "outputs": [],
   "source": [
    "# np.exp?"
   ]
  },
  {
   "cell_type": "code",
   "execution_count": 44,
   "metadata": {},
   "outputs": [
    {
     "data": {
      "text/plain": [
       "count    5735.000000\n",
       "mean       11.678461\n",
       "std         3.145831\n",
       "min         0.000000\n",
       "25%        10.000000\n",
       "50%        12.000000\n",
       "75%        13.000000\n",
       "max        30.000000\n",
       "Name: edu, dtype: float64"
      ]
     },
     "execution_count": 44,
     "metadata": {},
     "output_type": "execute_result"
    }
   ],
   "source": [
    "df.edu.describe()"
   ]
  },
  {
   "cell_type": "markdown",
   "metadata": {},
   "source": [
    "### Estimate propensity score"
   ]
  },
  {
   "cell_type": "code",
   "execution_count": 45,
   "metadata": {},
   "outputs": [],
   "source": [
    "df.sex = df.sex.replace('Male', 0)\n",
    "df.sex = df.sex.replace('Female', 1)"
   ]
  },
  {
   "cell_type": "code",
   "execution_count": 46,
   "metadata": {},
   "outputs": [],
   "source": [
    "df['male'] = np.where(df.sex == 0, 1, 0)"
   ]
  },
  {
   "cell_type": "code",
   "execution_count": 47,
   "metadata": {},
   "outputs": [
    {
     "name": "stdout",
     "output_type": "stream",
     "text": [
      "Optimization terminated successfully.\n",
      "         Current function value: 0.662209\n",
      "         Iterations 4\n"
     ]
    },
    {
     "data": {
      "text/html": [
       "<table class=\"simpletable\">\n",
       "<caption>Logit Regression Results</caption>\n",
       "<tr>\n",
       "  <th>Dep. Variable:</th>        <td>treated</td>     <th>  No. Observations:  </th>  <td>  5735</td>  \n",
       "</tr>\n",
       "<tr>\n",
       "  <th>Model:</th>                 <td>Logit</td>      <th>  Df Residuals:      </th>  <td>  5731</td>  \n",
       "</tr>\n",
       "<tr>\n",
       "  <th>Method:</th>                 <td>MLE</td>       <th>  Df Model:          </th>  <td>     3</td>  \n",
       "</tr>\n",
       "<tr>\n",
       "  <th>Date:</th>            <td>Fri, 12 Feb 2021</td> <th>  Pseudo R-squ.:     </th> <td>0.003394</td> \n",
       "</tr>\n",
       "<tr>\n",
       "  <th>Time:</th>                <td>23:52:31</td>     <th>  Log-Likelihood:    </th> <td> -3797.8</td> \n",
       "</tr>\n",
       "<tr>\n",
       "  <th>converged:</th>             <td>True</td>       <th>  LL-Null:           </th> <td> -3810.7</td> \n",
       "</tr>\n",
       "<tr>\n",
       "  <th>Covariance Type:</th>     <td>nonrobust</td>    <th>  LLR p-value:       </th> <td>1.017e-05</td>\n",
       "</tr>\n",
       "</table>\n",
       "<table class=\"simpletable\">\n",
       "<tr>\n",
       "      <td></td>         <th>coef</th>     <th>std err</th>      <th>z</th>      <th>P>|z|</th>  <th>[0.025</th>    <th>0.975]</th>  \n",
       "</tr>\n",
       "<tr>\n",
       "  <th>Intercept</th> <td>   -0.7441</td> <td>    0.160</td> <td>   -4.645</td> <td> 0.000</td> <td>   -1.058</td> <td>   -0.430</td>\n",
       "</tr>\n",
       "<tr>\n",
       "  <th>age</th>       <td>   -0.0027</td> <td>    0.002</td> <td>   -1.648</td> <td> 0.099</td> <td>   -0.006</td> <td>    0.001</td>\n",
       "</tr>\n",
       "<tr>\n",
       "  <th>male</th>      <td>    0.1858</td> <td>    0.055</td> <td>    3.374</td> <td> 0.001</td> <td>    0.078</td> <td>    0.294</td>\n",
       "</tr>\n",
       "<tr>\n",
       "  <th>edu</th>       <td>    0.0273</td> <td>    0.009</td> <td>    3.111</td> <td> 0.002</td> <td>    0.010</td> <td>    0.045</td>\n",
       "</tr>\n",
       "</table>"
      ],
      "text/plain": [
       "<class 'statsmodels.iolib.summary.Summary'>\n",
       "\"\"\"\n",
       "                           Logit Regression Results                           \n",
       "==============================================================================\n",
       "Dep. Variable:                treated   No. Observations:                 5735\n",
       "Model:                          Logit   Df Residuals:                     5731\n",
       "Method:                           MLE   Df Model:                            3\n",
       "Date:                Fri, 12 Feb 2021   Pseudo R-squ.:                0.003394\n",
       "Time:                        23:52:31   Log-Likelihood:                -3797.8\n",
       "converged:                       True   LL-Null:                       -3810.7\n",
       "Covariance Type:            nonrobust   LLR p-value:                 1.017e-05\n",
       "==============================================================================\n",
       "                 coef    std err          z      P>|z|      [0.025      0.975]\n",
       "------------------------------------------------------------------------------\n",
       "Intercept     -0.7441      0.160     -4.645      0.000      -1.058      -0.430\n",
       "age           -0.0027      0.002     -1.648      0.099      -0.006       0.001\n",
       "male           0.1858      0.055      3.374      0.001       0.078       0.294\n",
       "edu            0.0273      0.009      3.111      0.002       0.010       0.045\n",
       "==============================================================================\n",
       "\"\"\""
      ]
     },
     "execution_count": 47,
     "metadata": {},
     "output_type": "execute_result"
    }
   ],
   "source": [
    "model = 'treated ~ age + male +edu'\n",
    "propensity = smf.logit(formula=model, data = df).fit()\n",
    "propensity.summary()"
   ]
  },
  {
   "cell_type": "markdown",
   "metadata": {},
   "source": [
    "### Check overlap"
   ]
  },
  {
   "cell_type": "code",
   "execution_count": 48,
   "metadata": {},
   "outputs": [
    {
     "data": {
      "text/plain": [
       "treated\n",
       "0    3551\n",
       "1    2184\n",
       "dtype: int64"
      ]
     },
     "execution_count": 48,
     "metadata": {},
     "output_type": "execute_result"
    }
   ],
   "source": [
    "df.groupby('treated').size()"
   ]
  },
  {
   "cell_type": "code",
   "execution_count": 49,
   "metadata": {},
   "outputs": [
    {
     "data": {
      "text/plain": [
       "treated\n",
       "0    0.539003\n",
       "1    0.585165\n",
       "Name: male, dtype: float64"
      ]
     },
     "execution_count": 49,
     "metadata": {},
     "output_type": "execute_result"
    }
   ],
   "source": [
    "df.groupby('treated').male.mean()"
   ]
  },
  {
   "cell_type": "code",
   "execution_count": 50,
   "metadata": {},
   "outputs": [],
   "source": [
    "df['propensity'] = propensity.predict()"
   ]
  },
  {
   "cell_type": "code",
   "execution_count": 52,
   "metadata": {},
   "outputs": [
    {
     "data": {
      "text/plain": [
       "0    0.396208\n",
       "1    0.347837\n",
       "2    0.381078\n",
       "3    0.331200\n",
       "4    0.384368\n",
       "5    0.318814\n",
       "6    0.419408\n",
       "7    0.413605\n",
       "8    0.391037\n",
       "9    0.360308\n",
       "Name: propensity, dtype: float64"
      ]
     },
     "execution_count": 52,
     "metadata": {},
     "output_type": "execute_result"
    }
   ],
   "source": [
    "df['propensity'][0:10]"
   ]
  },
  {
   "cell_type": "code",
   "execution_count": 55,
   "metadata": {},
   "outputs": [
    {
     "data": {
      "text/plain": [
       "<matplotlib.legend.Legend at 0x129472780>"
      ]
     },
     "execution_count": 55,
     "metadata": {},
     "output_type": "execute_result"
    },
    {
     "data": {
      "image/png": "[encoded data removed]",
      "text/plain": [
       "<Figure size 432x288 with 1 Axes>"
      ]
     },
     "metadata": {
      "needs_background": "light"
     },
     "output_type": "display_data"
    }
   ],
   "source": [
    "df.groupby('treated')['propensity'].hist(alpha=0.8) \n",
    "plt.legend(['No RHC','RHC'])"
   ]
  },
  {
   "cell_type": "code",
   "execution_count": 56,
   "metadata": {},
   "outputs": [
    {
     "data": {
      "text/plain": [
       "treated\n",
       "0    0.379108\n",
       "1    0.383603\n",
       "Name: propensity, dtype: float64"
      ]
     },
     "execution_count": 56,
     "metadata": {},
     "output_type": "execute_result"
    }
   ],
   "source": [
    "df.groupby('treated')['propensity'].mean()"
   ]
  },
  {
   "cell_type": "code",
   "execution_count": 57,
   "metadata": {},
   "outputs": [
    {
     "data": {
      "text/html": [
       "<div>\n",
       "<style scoped>\n",
       "    .dataframe tbody tr th:only-of-type {\n",
       "        vertical-align: middle;\n",
       "    }\n",
       "\n",
       "    .dataframe tbody tr th {\n",
       "        vertical-align: top;\n",
       "    }\n",
       "\n",
       "    .dataframe thead th {\n",
       "        text-align: right;\n",
       "    }\n",
       "</style>\n",
       "<table border=\"1\" class=\"dataframe\">\n",
       "  <thead>\n",
       "    <tr style=\"text-align: right;\">\n",
       "      <th></th>\n",
       "      <th>age</th>\n",
       "      <th>male</th>\n",
       "      <th>edu</th>\n",
       "    </tr>\n",
       "    <tr>\n",
       "      <th>treated</th>\n",
       "      <th></th>\n",
       "      <th></th>\n",
       "      <th></th>\n",
       "    </tr>\n",
       "  </thead>\n",
       "  <tbody>\n",
       "    <tr>\n",
       "      <th>0</th>\n",
       "      <td>61.760926</td>\n",
       "      <td>0.539003</td>\n",
       "      <td>11.569005</td>\n",
       "    </tr>\n",
       "    <tr>\n",
       "      <th>1</th>\n",
       "      <td>60.749836</td>\n",
       "      <td>0.585165</td>\n",
       "      <td>11.856428</td>\n",
       "    </tr>\n",
       "  </tbody>\n",
       "</table>\n",
       "</div>"
      ],
      "text/plain": [
       "               age      male        edu\n",
       "treated                                \n",
       "0        61.760926  0.539003  11.569005\n",
       "1        60.749836  0.585165  11.856428"
      ]
     },
     "execution_count": 57,
     "metadata": {},
     "output_type": "execute_result"
    }
   ],
   "source": [
    " # Are the treated different in terms of age, sex and edu?\n",
    "\n",
    "    df.groupby('treated')['age', 'male', 'edu'].mean()"
   ]
  },
  {
   "cell_type": "code",
   "execution_count": null,
   "metadata": {},
   "outputs": [],
   "source": []
  }
 ],
 "metadata": {
  "kernelspec": {
   "display_name": "Python 3",
   "language": "python",
   "name": "python3"
  },
  "language_info": {
   "codemirror_mode": {
    "name": "ipython",
    "version": 3
   },
   "file_extension": ".py",
   "mimetype": "text/x-python",
   "name": "python",
   "nbconvert_exporter": "python",
   "pygments_lexer": "ipython3",
   "version": "3.6.6"
  }
 },
 "nbformat": 4,
 "nbformat_minor": 2
}
