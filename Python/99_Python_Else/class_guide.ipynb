{
 "cells": [
  {
   "cell_type": "markdown",
   "metadata": {},
   "source": [
    "### notice\n",
    "\n",
    "내일 오후에 자리로 오시면 안내해드릴게요!\n",
    "- 일단 한 번 보시고 오세요~\n",
    "- tips : 작동 원리가 잘 이해가 안 갈 때는 코드 사이 사이에 print를 넣어서 눈으로 확인해주는 법도 좋습니다."
   ]
  },
  {
   "cell_type": "code",
   "execution_count": 7,
   "metadata": {},
   "outputs": [],
   "source": [
    "class Calculator:\n",
    "    def __init__(self):\n",
    "        self.value = 0\n",
    "\n",
    "    def add(self, val):\n",
    "        self.value += val"
   ]
  },
  {
   "cell_type": "code",
   "execution_count": 2,
   "metadata": {},
   "outputs": [],
   "source": [
    "# class MaxLimitCalculator(Calculator):\n",
    "#     def add(self, val):\n",
    "#         self.value += val\n",
    "#         if self.value > 100:\n",
    "#             self.value = 100"
   ]
  },
  {
   "cell_type": "code",
   "execution_count": 8,
   "metadata": {},
   "outputs": [],
   "source": [
    "# 작성하신 것에 print문을 넣어보았습니다.\n",
    "\n",
    "class MaxLimitCalculator(Calculator):\n",
    "    def add(self, val):\n",
    "        print(f'입력 된 값은 : {val}')\n",
    "        if self.value >= 100:\n",
    "            print('100이 넘어서 이쪽이 출력 되고 있습니다.')\n",
    "            return 100\n",
    "        else:\n",
    "            print('else 쪽이 출력 되고 있습니다.')\n",
    "            print(f'self.value 값은 : {self.value}')\n",
    "            return self.value"
   ]
  },
  {
   "cell_type": "code",
   "execution_count": 9,
   "metadata": {},
   "outputs": [
    {
     "name": "stdout",
     "output_type": "stream",
     "text": [
      "입력 된 값은 : 50\n",
      "else 쪽이 출력 되고 있습니다.\n",
      "self.value 값은 : 0\n",
      "입력 된 값은 : 60\n",
      "else 쪽이 출력 되고 있습니다.\n",
      "self.value 값은 : 0\n",
      "0\n"
     ]
    }
   ],
   "source": [
    "cal = MaxLimitCalculator()\n",
    "cal.add(50)  # 50 더하기\n",
    "cal.add(60)  # 60 더하기\n",
    "\n",
    "print(cal.value)  # 100 출력 "
   ]
  },
  {
   "cell_type": "markdown",
   "metadata": {},
   "source": [
    "작성하신 코드를 살펴보겠습니다.\n",
    "- cal = MaxLimitCalculator()를 생성합니다.\n",
    "- cal.add(50) 실행\n",
    "  - 코드 내에서 메소드 오버라이딩 때문에 self.value=0인 상태입니다.\n",
    "  - add 메소드가 재정의 되었기 때문에 MaxLimitCalculator() 내에 있는 메소드를 사용합니다.\n",
    "  - val = 50이 들어갑니다.\n",
    "  - self.value는 여전히 0이기 때문에 else 구문으로 이동합니다.\n",
    "  - self.value에 더해지는 값이 없기 때문에 계속 0이 됩니다.\n",
    "  - 빠뜨린 부분은 self.value += val이겠습니다.\n",
    "  - 물론 이렇게 한다고 문제에서 요구하는 것이 다 반영된 건 아닙니다.\n",
    "  \n",
    "- cal.add(60) 실행\n",
    "  - 마찬가지 결과로 self.value에는 더해지는 값이 없기 때문에 0입니다.\n",
    "\n",
    "- print(cal.value)\n",
    "  - 최종적으로 아무것도 더해진 게 없으므로 cal.value는 0 입니다."
   ]
  },
  {
   "cell_type": "code",
   "execution_count": 10,
   "metadata": {},
   "outputs": [],
   "source": [
    "class MaxLimitCalculator(Calculator):\n",
    "    def add(self, val):\n",
    "        print(f'입력 된 값은 : {val}')\n",
    "        self.value += val\n",
    "        print(f'현재 self.value 값은 : {self.value}')\n",
    "        \n",
    "        if self.value >= 100:\n",
    "            print('100이 넘어서 이쪽이 출력 되고 있습니다.')\n",
    "            self.value = 100\n",
    "        else:\n",
    "            print('else 쪽이 출력 되고 있습니다.')\n",
    "            print(f'self.value : {self.value}')"
   ]
  },
  {
   "cell_type": "code",
   "execution_count": 11,
   "metadata": {},
   "outputs": [
    {
     "name": "stdout",
     "output_type": "stream",
     "text": [
      "입력 된 값은 : 50\n",
      "현재 self.value 값은 : 50\n",
      "else 쪽이 출력 되고 있습니다.\n",
      "self.value : 50\n",
      "입력 된 값은 : 60\n",
      "현재 self.value 값은 : 110\n",
      "100이 넘어서 이쪽이 출력 되고 있습니다.\n",
      "100\n"
     ]
    }
   ],
   "source": [
    "cal = MaxLimitCalculator()\n",
    "cal.add(50)  # 50 더하기\n",
    "cal.add(60)  # 60 더하기\n",
    "\n",
    "print(cal.value)  # 100 출력 "
   ]
  },
  {
   "cell_type": "markdown",
   "metadata": {},
   "source": [
    "위와 다른 점은 인스턴스가 생성될 때 만들어지는 값인 self.value에 val 값을 우선 더하는 것 입니다.\n",
    "- 코드는 순차적으로 실행 되기 때문에 먼저 값을 정해주고 가야 합니다.\n",
    "\n",
    "\n",
    "입력 된 값이 50\n",
    "- 현재 self.value 값은 50\n",
    "\n",
    "입력 된 값이 60\n",
    "- self.value += val이 있기 때문에 두 개의 합은 110이 됩니다.\n",
    "- 그리고 if문에서 self.value를 판단하고 값을 100으로 넘겨줍니다.\n",
    "- 그래서 마지막에 100이 나오게 됩니다.\n",
    "- 문제의 해답과 같은 원리입니다."
   ]
  },
  {
   "cell_type": "code",
   "execution_count": null,
   "metadata": {},
   "outputs": [],
   "source": []
  }
 ],
 "metadata": {
  "kernelspec": {
   "display_name": "Python 3",
   "language": "python",
   "name": "python3"
  },
  "language_info": {
   "codemirror_mode": {
    "name": "ipython",
    "version": 3
   },
   "file_extension": ".py",
   "mimetype": "text/x-python",
   "name": "python",
   "nbconvert_exporter": "python",
   "pygments_lexer": "ipython3",
   "version": "3.6.6"
  }
 },
 "nbformat": 4,
 "nbformat_minor": 2
}
