{
 "cells": [
  {
   "cell_type": "markdown",
   "id": "e19f1e93-c2b1-4b26-8eab-782875a27fa1",
   "metadata": {},
   "source": [
    "## 인덱스를 사용하는 대신 대입을 사용해 데이터를 언팩킹"
   ]
  },
  {
   "cell_type": "code",
   "execution_count": 1,
   "id": "fdce9fe7-317e-4e7f-bebc-fe0c914aa193",
   "metadata": {},
   "outputs": [
    {
     "name": "stdout",
     "output_type": "stream",
     "text": [
      "(('감자칩', 140), ('팝콘', 80), ('땅콩', 190))\n"
     ]
    }
   ],
   "source": [
    "snack_calories = {\n",
    "    '감자칩' : 140,\n",
    "    '팝콘' : 80,\n",
    "    '땅콩' : 190\n",
    "}\n",
    "\n",
    "items = tuple(snack_calories.items())\n",
    "print(items)"
   ]
  },
  {
   "cell_type": "markdown",
   "id": "cb71b1d0-a16b-42d3-8055-1aeca0376c98",
   "metadata": {},
   "source": [
    "파이썬에는 언패킹(unpacking) 구문이 있다.\n",
    "> 언패킹 구문을 사용하면 한 문장 안에서 여러 값을 대입할 수 있다."
   ]
  },
  {
   "cell_type": "code",
   "execution_count": 2,
   "id": "8f41215a-80f3-42ca-b455-068876a46632",
   "metadata": {},
   "outputs": [
    {
     "name": "stdout",
     "output_type": "stream",
     "text": [
      "호박엿 식혜\n"
     ]
    }
   ],
   "source": [
    "item = ('호박엿', '식혜')\n",
    "first, second = item\n",
    "print(first, second)"
   ]
  },
  {
   "cell_type": "code",
   "execution_count": 3,
   "id": "7d2f7146-c759-468d-a00d-a9ae46fe2756",
   "metadata": {},
   "outputs": [
    {
     "name": "stdout",
     "output_type": "stream",
     "text": [
      "['당근', '베이컨', '쑥갓', '프레즐']\n"
     ]
    }
   ],
   "source": [
    "def bubble_sort(a):\n",
    "    for _ in range(len(a)):\n",
    "        for i in range(1, len(a)):\n",
    "            if a[i] < a[i-1]:\n",
    "                temp = a[i]\n",
    "                a[i] = a[i-1]\n",
    "                a[i-1] = temp\n",
    "                \n",
    "names = ['프레즐', '당근', '쑥갓', '베이컨']\n",
    "bubble_sort(names)\n",
    "print(names)"
   ]
  },
  {
   "cell_type": "code",
   "execution_count": 7,
   "id": "a6545b87-dbb1-4721-a3de-9dfae2429135",
   "metadata": {},
   "outputs": [
    {
     "data": {
      "text/plain": [
       "True"
      ]
     },
     "execution_count": 7,
     "metadata": {},
     "output_type": "execute_result"
    }
   ],
   "source": [
    "# https://www.asciitable.com/ 에서 문자열의 값에 따라 크기가 정해진다.\n",
    "\n",
    "names[0] < names[1]"
   ]
  },
  {
   "cell_type": "code",
   "execution_count": 8,
   "id": "7140fa31-5cb2-4f9f-9280-fa9be2259f16",
   "metadata": {},
   "outputs": [],
   "source": [
    "# 이렇게 바꿀 수 있다.\n",
    "\n",
    "def bubble_sort(a):\n",
    "    for _ in range(len(a)):\n",
    "        for i in range(1, len(a)):\n",
    "            if a[i] < a[i-1]:\n",
    "                a[i-1], a[i] = a[i], a[i-1]"
   ]
  },
  {
   "cell_type": "markdown",
   "id": "11dedc7c-0fec-4b67-8215-c51261e33dbe",
   "metadata": {},
   "source": [
    "언패킹의 용례 중에서 for 루프 또는 그와 비슷한 다른 요소(comprehension or generator)의 대상인 리스트의 원소를 언패킹하는 것이 있다."
   ]
  },
  {
   "cell_type": "code",
   "execution_count": 9,
   "id": "91ea91a3-45fd-46a5-abe3-e06b9c0baaef",
   "metadata": {},
   "outputs": [
    {
     "name": "stdout",
     "output_type": "stream",
     "text": [
      "('베이컨', 50) 베이컨 50\n",
      "('도넛', 240) 도넛 240\n",
      "('머핀', 190) 머핀 190\n"
     ]
    }
   ],
   "source": [
    "snacks = [('베이컨', 50), ('도넛', 240), ('머핀', 190)]\n",
    "\n",
    "for i in range(len(snacks)):\n",
    "    item = snacks[i]\n",
    "    name = item[0]\n",
    "    calories = item[1]\n",
    "    print(item, name, calories)"
   ]
  },
  {
   "cell_type": "code",
   "execution_count": 10,
   "id": "19cc3048-2078-4359-b667-0fef4e966c76",
   "metadata": {},
   "outputs": [
    {
     "name": "stdout",
     "output_type": "stream",
     "text": [
      "#1: 베이컨 은 50 칼로리 입니다.\n",
      "#2: 도넛 은 240 칼로리 입니다.\n",
      "#3: 머핀 은 190 칼로리 입니다.\n"
     ]
    }
   ],
   "source": [
    "# 위의 코드를 다음과 같이 변경\n",
    "\n",
    "\n",
    "for rank, (name, calories) in enumerate(snacks, 1):\n",
    "    print(f'#{rank}: {name} 은 {calories} 칼로리 입니다.')"
   ]
  },
  {
   "cell_type": "code",
   "execution_count": null,
   "id": "ac5ce3d7-2215-434c-83b6-d0f47ebdfb50",
   "metadata": {},
   "outputs": [],
   "source": []
  }
 ],
 "metadata": {
  "kernelspec": {
   "display_name": "Python 3",
   "language": "python",
   "name": "python3"
  },
  "language_info": {
   "codemirror_mode": {
    "name": "ipython",
    "version": 3
   },
   "file_extension": ".py",
   "mimetype": "text/x-python",
   "name": "python",
   "nbconvert_exporter": "python",
   "pygments_lexer": "ipython3",
   "version": "3.8.8"
  }
 },
 "nbformat": 4,
 "nbformat_minor": 5
}
