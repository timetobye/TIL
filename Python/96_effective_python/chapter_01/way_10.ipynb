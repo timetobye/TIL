{
 "cells": [
  {
   "cell_type": "markdown",
   "id": "49b59389-cab0-4842-894e-b5f00f0f6ea9",
   "metadata": {},
   "source": [
    "## 대입식을 사용해 반복을 피하라"
   ]
  },
  {
   "cell_type": "markdown",
   "id": "3f3ef3f5-cf49-4cb4-8967-56b4a8a7f8aa",
   "metadata": {},
   "source": [
    "대입식은 영어로 assignment expression 이며 왈러스 연산자(walrus operator) 라고도 부른다.\n",
    "- 파이썬 언어에서 고질적인 코드 중복 문제를 해결하고자 3.8에서 도입된 구문\n",
    "- 일반 대입문은 `a=b` 라고 쓰며 `a equal b` 라고 읽지만...\n",
    "- 왈러스 연산자는 `a:=b` 라고 쓰며, `a 왈러스 b` 라고 읽는다.\n",
    "\n",
    "대입식은 대입문이 쓰일 수 없는 위치에서 변수에 값을 대입할 수 있으므로 유용하다.\n",
    "- 예를 들어 if 문의 조건식 안에서 대입식을 쓸 수 있다. 대입식의 값은 왈러스 연산자 왼쪽에 있는 식별자에 대입된 값으로 평가된다."
   ]
  },
  {
   "cell_type": "code",
   "execution_count": 1,
   "id": "3ddf76f3-61d2-4674-b02e-3e95035db443",
   "metadata": {},
   "outputs": [],
   "source": [
    "fresh_fruit = {\n",
    "    '사과': 10,\n",
    "    '바나나': 8,\n",
    "    '레몬': 5\n",
    "}\n",
    "\n",
    "\n",
    "# 고객이 레몬네이드를 주문했다면, 과즙을 낼 레몬이 과일 바구니에 최소 하나는 있어야 한다.\n",
    "# 다음은 레몬의 개수를 읽어와서 그 값이 0이 아닌지 검사하는 코드\n",
    "\n",
    "def make_lemonade(count):\n",
    "    ...\n",
    "    \n",
    "def out_of_stock():\n",
    "    ...\n",
    "    \n",
    "\n",
    "count = fresh_fruit.get('레몬', 0)\n",
    "if count:\n",
    "    make_lemonade(count)\n",
    "else:\n",
    "    out_of_stock()"
   ]
  },
  {
   "cell_type": "markdown",
   "id": "de27c041-e8b3-4ac8-8487-23bb0fca2a60",
   "metadata": {},
   "source": [
    "필요 이상으로 잡음이 많은 코드이다.\n",
    "- 파이썬에서는 값을 가져와서 그 값이 0이 아닌지 검사한 후 사용하는 패턴이 자주 발생\n",
    "- count가 여러 번 쓰이는 경우를 해결하기 위해 많은...꼼수...가독성 최악..\n",
    "\n",
    "\n",
    "왈러스 연산자를 이용해보면"
   ]
  },
  {
   "cell_type": "code",
   "execution_count": 2,
   "id": "28c14d8e-733f-4409-8506-2a3fe84c6977",
   "metadata": {},
   "outputs": [],
   "source": [
    "# 이렇게 하면 깔끔하게 처리가 된 것 처럼 보인다.\n",
    "\n",
    "if count := fresh_fruit.get('레몬', 0):\n",
    "    make_lemonade(count)\n",
    "else:\n",
    "    out_of_stock()"
   ]
  },
  {
   "cell_type": "markdown",
   "id": "9938e2ff-d267-4d69-bf59-7e2663cd7b41",
   "metadata": {},
   "source": [
    "사과의 경우 최소 네 개가 필요하다. 이럴 경우 ...."
   ]
  },
  {
   "cell_type": "code",
   "execution_count": 3,
   "id": "95419534-4e4c-4a8f-bd91-3a573c9f5169",
   "metadata": {},
   "outputs": [],
   "source": [
    "def make_cider(count):\n",
    "    ...\n",
    "\n",
    "if (count := fresh_fruit.get('사과', 0)) >= 4:\n",
    "    make_lemonade(count)\n",
    "else:\n",
    "    out_of_stock()"
   ]
  },
  {
   "cell_type": "markdown",
   "id": "21baf65d-d0a7-471b-bfbb-4f3a28af5969",
   "metadata": {},
   "source": [
    "위의 코드에 대하여\n",
    "- if 문에서 대입 결과와 4를 비교하기 위해 대입식을 괄호로 둘러싸야 한다는 점이 중요\n",
    "- 레모네이트 예제에서는 대입식이 다른 큰 식의 하위 식이 아니라, if 문의 조건에서 대입식 자체가 0이 아닌지 비교하는 데 쓰였으므로 괄호가 필요하지 않았다.\n",
    "- 다른 식과 마찬가지로 가능하면 대입식 주변에 괄호를 쓰는 일을 피해야 한다."
   ]
  },
  {
   "cell_type": "markdown",
   "id": "c4731b7d-b8ed-4a34-87a6-298c801e8e36",
   "metadata": {},
   "source": [
    "조건에 따라 현재 위치를 둘러싸는 영역에 있는 변수에 값을 대입하고 그 변수를 바로 함수 호출에 사용하는 경우도 있다.\n",
    "- 예를 들어 고객이 바나나 스무디를 주문했다고 하자.\n",
    "- 스무디를 만들려면 바나나 슬라이스가 최소 두 개는 필요하고, 슬라이스가 부족하면 OutofBananas 예외를 발생시켜야 한다."
   ]
  },
  {
   "cell_type": "code",
   "execution_count": 4,
   "id": "429b4e2f-022f-47c4-af60-993cad489f53",
   "metadata": {},
   "outputs": [],
   "source": [
    "def slice_bananas(count):\n",
    "    ...\n",
    "    \n",
    "class OutOfBananas(Exception):\n",
    "    pass\n",
    "\n",
    "def make_smoothies(count):\n",
    "    ...\n",
    "    \n",
    "pieces = 0\n",
    "count = fresh_fruit.get('바나나', 0)\n",
    "if count >= 2:\n",
    "    pieces = slice_bananas(count)\n",
    "\n",
    "try:\n",
    "    smoothies = make_smoothies(pieces)\n",
    "except OutOfBananas:\n",
    "    out_of_stock()"
   ]
  },
  {
   "cell_type": "code",
   "execution_count": null,
   "id": "276e795e-1e79-4c8c-b937-bfdba7f1c932",
   "metadata": {},
   "outputs": [],
   "source": [
    "# ver 2\n",
    "\n",
    "count = fresh_fruit.get('바나나', 0)\n",
    "if count >= 2:\n",
    "    pieces = slice_bananas(count)\n",
    "else:\n",
    "    pieces = 0 # 좋은 방법은 아니다. 먼저 대입하는 방식을 선호한다.\n",
    "\n",
    "try:\n",
    "    smoothies = make_smoothies(pieces)\n",
    "except OutOfBananas:\n",
    "    out_of_stock()"
   ]
  },
  {
   "cell_type": "code",
   "execution_count": null,
   "id": "f74ef2f6-d54c-40b7-bbf7-dc02a10fb200",
   "metadata": {},
   "outputs": [],
   "source": [
    "# 위의 코드를 한 줄로 줄인다면...\n",
    "\n",
    "if (count := fresh_fruit.get('바나나', 0)) >= 2:\n",
    "    pieces = slice_bananas(count)"
   ]
  },
  {
   "cell_type": "markdown",
   "id": "492353c9-e88d-48d8-9d61-242b50fa9d61",
   "metadata": {},
   "source": [
    "여러 주스를 만든다고 한다고 할 때..."
   ]
  },
  {
   "cell_type": "code",
   "execution_count": 5,
   "id": "114984da-4e87-412a-80e2-aeab2499b186",
   "metadata": {},
   "outputs": [],
   "source": [
    "# 지저분한 코드\n",
    "\n",
    "count = fresh_fruit.get('바나나', 0)\n",
    "\n",
    "if count >= 2:\n",
    "    pieces = slice_bananas(count)\n",
    "    to_enjoy = make_smoothies(pieces)\n",
    "else:\n",
    "    count = fresh_fruit.get('사과', 0)\n",
    "    if count >= 4:\n",
    "        to_enjoy = make_cider(count)\n",
    "    else:\n",
    "        count = fresh_fruit.get('레몬', 0)\n",
    "        if count:\n",
    "            to_enjoy = make_lemonade(count)\n",
    "        else:\n",
    "            to_enjoy = \"아무것도 없음\""
   ]
  },
  {
   "cell_type": "code",
   "execution_count": 6,
   "id": "b09fbceb-5899-41c0-b22e-6a7cea2da783",
   "metadata": {},
   "outputs": [],
   "source": [
    "# 이렇게 바꿀 수 있다.\n",
    "\n",
    "if (count := fresh_fruit.get('바나나', 0)) >= 2:\n",
    "    pieces = slice_bananas(count)\n",
    "    to_enjoy = make_smoothies(pieces)\n",
    "elif (count := fresh_fruit.get('사과', 0)) >= 4:\n",
    "    pieces = slice_bananas(count)\n",
    "elif (count := fresh_fruit.get('레몬', 0)):\n",
    "    to_enjoy = make_smoothies(pieces)\n",
    "else:\n",
    "    to_enjoy = \"아무것도 없음\""
   ]
  },
  {
   "cell_type": "markdown",
   "id": "4be1ccbc-7a04-405e-90c8-41bf832877a0",
   "metadata": {},
   "source": [
    "do/while 에 대한 접근"
   ]
  },
  {
   "cell_type": "code",
   "execution_count": null,
   "id": "a3e98157-9bfb-498b-8686-46b1f4badba8",
   "metadata": {},
   "outputs": [],
   "source": [
    "# 코드가 반복적으로 호출 되고 있다. \n",
    "\n",
    "def pick_fruit():\n",
    "    ...\n",
    "    \n",
    "def make_juice(fruit, count):\n",
    "    ...\n",
    "    \n",
    "    \n",
    "bottles = []\n",
    "fresh_fruit = pick_fruit()\n",
    "\n",
    "while fresh_fruit:\n",
    "    for fruit, count in fresh_fruit.items():\n",
    "        batch = make_juice(fruit, count)\n",
    "        bottles.extend(batch)\n",
    "    fresh_fruit = pick_fruit()"
   ]
  },
  {
   "cell_type": "markdown",
   "id": "cc337ad9-f8b4-42f1-8e82-cf3e21fdbbc4",
   "metadata": {},
   "source": [
    "어떻게 해결해야 할까?\n",
    "- 무한 루프 - 중간에서 끝내기 관용어를 사용하는 것"
   ]
  },
  {
   "cell_type": "code",
   "execution_count": 8,
   "id": "27da6b3b-925d-4c33-8087-0832bf485f8a",
   "metadata": {},
   "outputs": [],
   "source": [
    "bottles = []\n",
    "\n",
    "while True: # 무한 루프\n",
    "    fresh_fruit = pick_fruit()\n",
    "    if not fresh_fruit: # 중간에서 끝내기\n",
    "        break\n",
    "    \n",
    "    for fruit, count in fresh_fruit.items():\n",
    "        batch = make_juice(fruit, count)\n",
    "        bottles.extend(batch)"
   ]
  },
  {
   "cell_type": "markdown",
   "id": "aa6e0b19-ac57-4f3b-8f1f-3beaaf6784ac",
   "metadata": {},
   "source": [
    "왈러스 연산자를 사용하면 무한 루프 - 중간에서 끝내기 관용어의 필요성이 줄어든다."
   ]
  },
  {
   "cell_type": "code",
   "execution_count": null,
   "id": "d8d10574-73a9-4be6-905b-79a6e60b4bff",
   "metadata": {},
   "outputs": [],
   "source": [
    "bottles = []\n",
    "\n",
    "while fresh_fruit := pick_fruit():\n",
    "    for fruit, count in fresh_fruit.items():\n",
    "        batch = make_juice(fruit, count)\n",
    "        bottles.extend(batch)"
   ]
  },
  {
   "cell_type": "markdown",
   "id": "878eb597-eab1-40bc-9add-797122632de3",
   "metadata": {},
   "source": [
    "대입식을 사용해 중복을 줄일 수 있는 다른 상황도 많다.\n",
    "- 대입식에서는 왈러스 연산자를 사용해 하나의 식 안에서 변수 이름에 값을 대입하면서 이 값을 평가할 수 있고, 중복을 줄일 수 있다.\n",
    "- 대입식이 더 큰 식의 일부분으로 쓰일 때는 괄호로 둘러싸야 한다.\n",
    "- 파이썬에서는 switch/case 문이나 do/while 루프를 쓸 수 없지만, 대입식을 사용하면 이런 기능을 더 깔끔하게 흉내 낼 수 있다."
   ]
  }
 ],
 "metadata": {
  "kernelspec": {
   "display_name": "Python 3",
   "language": "python",
   "name": "python3"
  },
  "language_info": {
   "codemirror_mode": {
    "name": "ipython",
    "version": 3
   },
   "file_extension": ".py",
   "mimetype": "text/x-python",
   "name": "python",
   "nbconvert_exporter": "python",
   "pygments_lexer": "ipython3",
   "version": "3.8.8"
  }
 },
 "nbformat": 4,
 "nbformat_minor": 5
}
