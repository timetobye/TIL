{
 "cells": [
  {
   "cell_type": "markdown",
   "id": "0fd8e689-7532-458d-ad03-5bce7a30caeb",
   "metadata": {},
   "source": [
    "## 사용 중인 파이썬의 버전을 알아두라."
   ]
  },
  {
   "cell_type": "code",
   "execution_count": 2,
   "id": "8d9ceca0-6d69-40a9-a48f-a48d0b5a3ef7",
   "metadata": {},
   "outputs": [
    {
     "name": "stdout",
     "output_type": "stream",
     "text": [
      "sys.version_info(major=3, minor=8, micro=8, releaselevel='final', serial=0)\n",
      "3.8.8 (default, Apr 13 2021, 12:59:45) \n",
      "[Clang 10.0.0 ]\n"
     ]
    }
   ],
   "source": [
    "import sys\n",
    "\n",
    "print(sys.version_info)\n",
    "print(sys.version_info)"
   ]
  },
  {
   "cell_type": "markdown",
   "id": "864114a8-2d13-412c-bce8-23076c6779fb",
   "metadata": {},
   "source": [
    "파이썬 3을 쓰자!"
   ]
  }
 ],
 "metadata": {
  "kernelspec": {
   "display_name": "Python 3",
   "language": "python",
   "name": "python3"
  },
  "language_info": {
   "codemirror_mode": {
    "name": "ipython",
    "version": 3
   },
   "file_extension": ".py",
   "mimetype": "text/x-python",
   "name": "python",
   "nbconvert_exporter": "python",
   "pygments_lexer": "ipython3",
   "version": "3.8.8"
  }
 },
 "nbformat": 4,
 "nbformat_minor": 5
}
