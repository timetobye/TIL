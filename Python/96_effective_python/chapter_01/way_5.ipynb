{
 "cells": [
  {
   "cell_type": "markdown",
   "id": "f67cf6ef-fda6-4226-ab54-ee38cbe084f9",
   "metadata": {},
   "source": [
    "## 복잡한 식을 쓰는 대신 도우미 함수를 작성하라"
   ]
  },
  {
   "cell_type": "markdown",
   "id": "9ea6e121-56e3-4224-9d9f-0a99c8843497",
   "metadata": {},
   "source": [
    "파이썬은 문법이 간결하므로 상당한 로직이 들어가는 식도 한 줄로 매우 쉽게 작성할 수 있다.\n",
    "- 예를 들어 URL의 질의 문자열을 구문 분석 하고 싶다고 할 때"
   ]
  },
  {
   "cell_type": "code",
   "execution_count": 1,
   "id": "9357892c-1c09-4c2a-bc1b-3dc5075f7c57",
   "metadata": {},
   "outputs": [
    {
     "name": "stdout",
     "output_type": "stream",
     "text": [
      "{'빨강': ['5'], '파랑': ['0'], '초록': ['']}\n"
     ]
    }
   ],
   "source": [
    "from urllib.parse import parse_qs\n",
    "\n",
    "my_values = parse_qs('빨강=5&파랑=0&초록=', keep_blank_values=True)\n",
    "print(repr(my_values))"
   ]
  },
  {
   "cell_type": "markdown",
   "id": "f688fb81-4fa6-4c3b-b4d9-adb85a600f12",
   "metadata": {},
   "source": [
    "일부 질의 문자열 파라미터는 여러 값이 들어 있고, 일부는 하나만, 일부는 이름은 있지만 값이 비어 있고, 일부 파라미터는 아예 없을 수도 있다.\n",
    "- 결과 dict 에 get 메서드를 사용해보자."
   ]
  },
  {
   "cell_type": "code",
   "execution_count": 2,
   "id": "ae60dc40-6ea3-482b-9f9f-9fe53842f53c",
   "metadata": {},
   "outputs": [
    {
     "data": {
      "text/plain": [
       "['5']"
      ]
     },
     "execution_count": 2,
     "metadata": {},
     "output_type": "execute_result"
    }
   ],
   "source": [
    "my_values.get(\"빨강\")"
   ]
  },
  {
   "cell_type": "code",
   "execution_count": 3,
   "id": "20435b33-8917-4a3d-b318-8d3754218266",
   "metadata": {},
   "outputs": [
    {
     "data": {
      "text/plain": [
       "['']"
      ]
     },
     "execution_count": 3,
     "metadata": {},
     "output_type": "execute_result"
    }
   ],
   "source": [
    "my_values.get(\"초록\")"
   ]
  },
  {
   "cell_type": "code",
   "execution_count": 4,
   "id": "8188111e-2d9c-423a-a80d-4956be77d725",
   "metadata": {},
   "outputs": [],
   "source": [
    "# return : None\n",
    "my_values.get(\"투명도\")"
   ]
  },
  {
   "cell_type": "markdown",
   "id": "f963591c-19dd-41c6-acf6-3b78fdb22b3b",
   "metadata": {},
   "source": [
    "파라미터가 없거나 비어 있을 경우 0이 디폴트 값으로 대입되면 좋을 것이다.\n",
    "- 완전한 if 문(statement)을 쓰거나 도우미 함수를 작성하는 것은 매력이 없다.\n",
    "- if 식(expression)을 사용해보자."
   ]
  },
  {
   "cell_type": "code",
   "execution_count": 5,
   "id": "519d637f-edf5-485d-8c3f-3bdf30f9698b",
   "metadata": {},
   "outputs": [
    {
     "name": "stdout",
     "output_type": "stream",
     "text": [
      "5 0 0\n"
     ]
    }
   ],
   "source": [
    "red = my_values.get('빨강', [''])[0] or 0\n",
    "green = my_values.get('초록', [''])[0] or 0\n",
    "opacity = my_values.get('투명도', [''])[0] or 0\n",
    "\n",
    "print(red, green, opacity)"
   ]
  },
  {
   "cell_type": "markdown",
   "id": "e5e1148c-f4de-4126-b664-8b86681df48e",
   "metadata": {},
   "source": [
    "식은 어렵고 읽기 어려운데다 원하는 기능을 모두 제공하지 않는 상태이다.\n",
    "\n",
    "어떻게 고치면 좋을까?"
   ]
  },
  {
   "cell_type": "code",
   "execution_count": 6,
   "id": "45f66bb4-6af3-4cc6-804d-c79c8336edd3",
   "metadata": {},
   "outputs": [
    {
     "name": "stdout",
     "output_type": "stream",
     "text": [
      "5\n"
     ]
    }
   ],
   "source": [
    "# 삼항 조건식을 쓴다면...?\n",
    "\n",
    "red_str = my_values.get('빨강', [''])\n",
    "red = int(red_str[0]) if red_str[0] else 0\n",
    "print(red)"
   ]
  },
  {
   "cell_type": "code",
   "execution_count": 7,
   "id": "56d4d4c1-91e3-4d78-93d0-04a40aba557a",
   "metadata": {},
   "outputs": [],
   "source": [
    "# 차라리 도우미 함수를 작성하자.\n",
    "\n",
    "def get_first_int(values, key, default=0):\n",
    "    found = values.get(key, [''])\n",
    "    if found[0]:\n",
    "        return int(found[0])\n",
    "    \n",
    "    return default"
   ]
  },
  {
   "cell_type": "code",
   "execution_count": 8,
   "id": "ecf3baa2-4436-4ba5-8477-4a5295778e11",
   "metadata": {},
   "outputs": [
    {
     "name": "stdout",
     "output_type": "stream",
     "text": [
      "0\n"
     ]
    }
   ],
   "source": [
    "green = get_first_int(my_values, '초록')\n",
    "print(green)"
   ]
  },
  {
   "cell_type": "markdown",
   "id": "2b514fdd-8f09-4687-bc7b-01c458529d40",
   "metadata": {},
   "source": [
    "지저분한 코드를 만들어 내지 말자."
   ]
  }
 ],
 "metadata": {
  "kernelspec": {
   "display_name": "Python 3",
   "language": "python",
   "name": "python3"
  },
  "language_info": {
   "codemirror_mode": {
    "name": "ipython",
    "version": 3
   },
   "file_extension": ".py",
   "mimetype": "text/x-python",
   "name": "python",
   "nbconvert_exporter": "python",
   "pygments_lexer": "ipython3",
   "version": "3.8.8"
  }
 },
 "nbformat": 4,
 "nbformat_minor": 5
}
