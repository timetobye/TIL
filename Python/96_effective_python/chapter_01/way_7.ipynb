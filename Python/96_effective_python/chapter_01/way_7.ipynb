{
 "cells": [
  {
   "cell_type": "markdown",
   "id": "b256f2bd-3ce2-47b6-bf9b-639ea09955e0",
   "metadata": {},
   "source": [
    "## range 보다는 enumerate를 사용하라."
   ]
  },
  {
   "cell_type": "markdown",
   "id": "f9a96173-e6e3-4f11-b2bf-90ae6a232559",
   "metadata": {},
   "source": [
    "range 내장 함수는 어떤 정수 집합을 이터레이션하는 루프가 필요할 때 유용하다."
   ]
  },
  {
   "cell_type": "code",
   "execution_count": 2,
   "id": "c77f3021-a9b5-4a78-97d4-c04528a329c5",
   "metadata": {},
   "outputs": [
    {
     "name": "stdout",
     "output_type": "stream",
     "text": [
      "0b0\n"
     ]
    }
   ],
   "source": [
    "from random import randint\n",
    "\n",
    "random_bits = 0\n",
    "for i in range(32):\n",
    "    if randint(0, 1):\n",
    "        random_bits != 1 << i\n",
    "\n",
    "print(bin(random_bits))"
   ]
  },
  {
   "cell_type": "code",
   "execution_count": 3,
   "id": "71efc1b1-7545-4ac2-a393-eb2d620be049",
   "metadata": {},
   "outputs": [
    {
     "name": "stdout",
     "output_type": "stream",
     "text": [
      "(0, '바닐라')\n",
      "(1, '초콜릿')\n"
     ]
    }
   ],
   "source": [
    "flavor_list = ['바닐라', '초콜릿', '피칸', '딸기']\n",
    "\n",
    "it = enumerate(flavor_list)\n",
    "print(next(it))\n",
    "print(next(it))"
   ]
  },
  {
   "cell_type": "code",
   "execution_count": 4,
   "id": "4281bd0d-3f9c-467b-a6a7-c517c7e87250",
   "metadata": {},
   "outputs": [
    {
     "name": "stdout",
     "output_type": "stream",
     "text": [
      "1: 바닐라\n",
      "2: 초콜릿\n",
      "3: 피칸\n",
      "4: 딸기\n"
     ]
    }
   ],
   "source": [
    "for i, flavor in enumerate(flavor_list):\n",
    "    print(f'{i + 1}: {flavor}')"
   ]
  },
  {
   "cell_type": "code",
   "execution_count": 5,
   "id": "ed024ff0-e19c-4c97-9f81-bac6374aaf72",
   "metadata": {},
   "outputs": [
    {
     "name": "stdout",
     "output_type": "stream",
     "text": [
      "2: 바닐라\n",
      "3: 초콜릿\n",
      "4: 피칸\n",
      "5: 딸기\n"
     ]
    }
   ],
   "source": [
    "# 어디부터 수를 세기 시작할지 지정할 수 있다. 디폴트 = 0\n",
    "\n",
    "for i, flavor in enumerate(flavor_list, 1):\n",
    "    print(f'{i + 1}: {flavor}')"
   ]
  },
  {
   "cell_type": "code",
   "execution_count": null,
   "id": "8e523755-eade-48d2-a823-b01c6e3565d1",
   "metadata": {},
   "outputs": [],
   "source": []
  }
 ],
 "metadata": {
  "kernelspec": {
   "display_name": "Python 3",
   "language": "python",
   "name": "python3"
  },
  "language_info": {
   "codemirror_mode": {
    "name": "ipython",
    "version": 3
   },
   "file_extension": ".py",
   "mimetype": "text/x-python",
   "name": "python",
   "nbconvert_exporter": "python",
   "pygments_lexer": "ipython3",
   "version": "3.8.8"
  }
 },
 "nbformat": 4,
 "nbformat_minor": 5
}
