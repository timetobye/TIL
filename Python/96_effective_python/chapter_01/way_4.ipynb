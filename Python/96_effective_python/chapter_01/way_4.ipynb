{
 "cells": [
  {
   "cell_type": "markdown",
   "id": "53c823e4-55c7-45da-a8d9-cb324ca8762e",
   "metadata": {},
   "source": [
    "## f-문자열을 통한 인터폴레이션 사용"
   ]
  },
  {
   "cell_type": "code",
   "execution_count": 2,
   "id": "3e8618bf-8388-4535-ade0-cae69de1268e",
   "metadata": {},
   "outputs": [
    {
     "name": "stdout",
     "output_type": "stream",
     "text": [
      "my_var     = 1.23\n"
     ]
    }
   ],
   "source": [
    "key = 'my_var'\n",
    "value = 1.234\n",
    "formatted = '%-10s = %.2f' %(key, value)\n",
    "print(formatted)"
   ]
  },
  {
   "cell_type": "code",
   "execution_count": 3,
   "id": "fd98d96c-c2a3-4241-8c66-7464ef376110",
   "metadata": {},
   "outputs": [
    {
     "ename": "TypeError",
     "evalue": "must be real number, not str",
     "output_type": "error",
     "traceback": [
      "\u001b[0;31m---------------------------------------------------------------------------\u001b[0m",
      "\u001b[0;31mTypeError\u001b[0m                                 Traceback (most recent call last)",
      "\u001b[0;32m<ipython-input-3-9612c736ee1e>\u001b[0m in \u001b[0;36m<module>\u001b[0;34m\u001b[0m\n\u001b[1;32m      1\u001b[0m \u001b[0;31m# key, value 위치 변경 시 에러가 발생\u001b[0m\u001b[0;34m\u001b[0m\u001b[0;34m\u001b[0m\u001b[0;34m\u001b[0m\u001b[0m\n\u001b[1;32m      2\u001b[0m \u001b[0;34m\u001b[0m\u001b[0m\n\u001b[0;32m----> 3\u001b[0;31m \u001b[0mformatted\u001b[0m \u001b[0;34m=\u001b[0m \u001b[0;34m'%-10s = %.2f'\u001b[0m \u001b[0;34m%\u001b[0m\u001b[0;34m(\u001b[0m\u001b[0mvalue\u001b[0m\u001b[0;34m,\u001b[0m \u001b[0mkey\u001b[0m\u001b[0;34m)\u001b[0m\u001b[0;34m\u001b[0m\u001b[0;34m\u001b[0m\u001b[0m\n\u001b[0m\u001b[1;32m      4\u001b[0m \u001b[0mprint\u001b[0m\u001b[0;34m(\u001b[0m\u001b[0mformatted\u001b[0m\u001b[0;34m)\u001b[0m\u001b[0;34m\u001b[0m\u001b[0;34m\u001b[0m\u001b[0m\n",
      "\u001b[0;31mTypeError\u001b[0m: must be real number, not str"
     ]
    }
   ],
   "source": [
    "# key, value 위치 변경 시 에러가 발생\n",
    "\n",
    "formatted = '%-10s = %.2f' %(value, key)\n",
    "print(formatted)"
   ]
  },
  {
   "cell_type": "code",
   "execution_count": 4,
   "id": "bac307be-2dfd-4434-8c74-cdc56b219770",
   "metadata": {},
   "outputs": [
    {
     "name": "stdout",
     "output_type": "stream",
     "text": [
      "#0: 아보카도       = 1.25\n",
      "#1: 바나나        = 2.50\n",
      "#2: 체리         = 15.00\n"
     ]
    }
   ],
   "source": [
    "pantry = [\n",
    "    ('아보카도', 1.25),\n",
    "    ('바나나', 2.5),\n",
    "    ('체리', 15)\n",
    "]\n",
    "\n",
    "for i, (item, count) in enumerate(pantry):\n",
    "    print('#%d: %-10s = %.2f' % (i, item, count))"
   ]
  },
  {
   "cell_type": "markdown",
   "id": "9bb1ee60-aa42-4c43-91af-d0cf21a01d85",
   "metadata": {},
   "source": [
    "딕셔러니를 이용해서 처리할수도 있지만, 역시 문제가 있음 -> 코드가 가독성이 떨어지게 됨\n",
    ">.format도 사용가능하나 결국 f-string 을 쓰게 된다. 이런 것을 인터폴레이션을 통한 형식 문자열이라고 한다."
   ]
  },
  {
   "cell_type": "code",
   "execution_count": 5,
   "id": "a1c2fd39-35ab-47c0-a3bc-045aee5de828",
   "metadata": {},
   "outputs": [
    {
     "name": "stdout",
     "output_type": "stream",
     "text": [
      "my_var = 1.234\n"
     ]
    }
   ],
   "source": [
    "key = 'my_var'\n",
    "value = 1.234\n",
    "\n",
    "formatted = f'{key} = {value}'\n",
    "print(formatted)"
   ]
  },
  {
   "cell_type": "code",
   "execution_count": 6,
   "id": "c2d9bee9-46de-4fa4-a62c-ad01a22c2d37",
   "metadata": {},
   "outputs": [
    {
     "name": "stdout",
     "output_type": "stream",
     "text": [
      "'my_var'   =  1.23\n"
     ]
    }
   ],
   "source": [
    "# 값을 유니코드나 repr 문자열로 변환하는 기능 역시 사용 가능\n",
    "formatted = f'{key!r:<10} = {value: .2f}'\n",
    "print(formatted)"
   ]
  },
  {
   "cell_type": "code",
   "execution_count": 7,
   "id": "cc30ff08-1a12-48e4-91c1-fa742eb9eedb",
   "metadata": {},
   "outputs": [
    {
     "name": "stdout",
     "output_type": "stream",
     "text": [
      "my_var     =  1.23\n"
     ]
    }
   ],
   "source": [
    "formatted = f'{key:<10} = {value: .2f}'\n",
    "print(formatted)"
   ]
  },
  {
   "cell_type": "code",
   "execution_count": 8,
   "id": "24bf26c4-a5d1-4647-8bb9-774cd9d00fdf",
   "metadata": {},
   "outputs": [
    {
     "name": "stdout",
     "output_type": "stream",
     "text": [
      "#1: 아보카도       = 1\n",
      "#2: 바나나        = 2\n",
      "#3: 체리         = 15\n"
     ]
    }
   ],
   "source": [
    "for i, (item, count) in enumerate(pantry):\n",
    "    print(f'#{i+1}: '\n",
    "          f'{item.title():<10s} = '\n",
    "          f'{round(count)}')"
   ]
  },
  {
   "cell_type": "markdown",
   "id": "589be786-51b1-44ba-bab9-895c64043b02",
   "metadata": {},
   "source": [
    "파이썬 식을 형식 지정자 옵션에 넣을 수도 있다.\n"
   ]
  },
  {
   "cell_type": "code",
   "execution_count": 10,
   "id": "c7ca93f3-a259-4c85-af20-48c48226458a",
   "metadata": {},
   "outputs": [
    {
     "name": "stdout",
     "output_type": "stream",
     "text": [
      "내가 고른 숫자는 원래는 1.23456 이지만  1.235 로 표기할 수 있다.\n"
     ]
    }
   ],
   "source": [
    "places = 3\n",
    "number = 1.23456\n",
    "\n",
    "print(f'내가 고른 숫자는 원래는 {number} 이지만 {number: .{places}f} 로 표기할 수 있다.')"
   ]
  },
  {
   "cell_type": "markdown",
   "id": "d39440d2-f3ba-4967-bc5e-cc9411285f20",
   "metadata": {},
   "source": [
    "위의 내용은 출력할 숫자 개수를 하드코딩하는 대신 변수를 사용해 형식 문자열 안에 파라미터화 한 것을 의미한다.\n",
    "\n",
    "```python\n",
    "{number: .{places}f}\n",
    "```"
   ]
  }
 ],
 "metadata": {
  "kernelspec": {
   "display_name": "Python 3",
   "language": "python",
   "name": "python3"
  },
  "language_info": {
   "codemirror_mode": {
    "name": "ipython",
    "version": 3
   },
   "file_extension": ".py",
   "mimetype": "text/x-python",
   "name": "python",
   "nbconvert_exporter": "python",
   "pygments_lexer": "ipython3",
   "version": "3.8.8"
  }
 },
 "nbformat": 4,
 "nbformat_minor": 5
}
