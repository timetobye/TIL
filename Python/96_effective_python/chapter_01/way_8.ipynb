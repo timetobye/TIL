{
 "cells": [
  {
   "cell_type": "markdown",
   "id": "593a1b72-a8ac-41d9-bb7f-9fdc283cdaf8",
   "metadata": {},
   "source": [
    "## 여러 이터레이터에 대해 나란히 루프를 수행하려면 zip 을 사용하라"
   ]
  },
  {
   "cell_type": "markdown",
   "id": "1a6251fd-d504-4562-b89d-24784a0810bf",
   "metadata": {},
   "source": [
    "리스트 컴프리헨션을 사용하면 소스 list에서 새로운 list를 파생시키기 쉽다."
   ]
  },
  {
   "cell_type": "code",
   "execution_count": 1,
   "id": "082d4e42-a26c-48b8-ac42-16334e3ab618",
   "metadata": {},
   "outputs": [
    {
     "name": "stdout",
     "output_type": "stream",
     "text": [
      "[7, 4, 4]\n"
     ]
    }
   ],
   "source": [
    "names = ['Cecilia', '남궁민수', 'aadd']\n",
    "counts = [len(n) for n in names]\n",
    "print(counts)"
   ]
  },
  {
   "cell_type": "markdown",
   "id": "f4561cf7-b1c7-480b-b4a4-97f935aa72f6",
   "metadata": {},
   "source": [
    "두 개의 리스트를 동시에 이터레이션 해서 가장 긴 문자열을 찾는다면...?"
   ]
  },
  {
   "cell_type": "code",
   "execution_count": 2,
   "id": "c69690d6-0dcc-4718-80d7-63d297ea307d",
   "metadata": {},
   "outputs": [
    {
     "name": "stdout",
     "output_type": "stream",
     "text": [
      "Cecilia\n"
     ]
    }
   ],
   "source": [
    "longest_name = None\n",
    "max_count = 0\n",
    "\n",
    "for i in range(len(names)):\n",
    "    count = counts[i]\n",
    "    if count > max_count:\n",
    "        longest_name = names[i]\n",
    "        max_count = count\n",
    "        \n",
    "print(longest_name)"
   ]
  },
  {
   "cell_type": "code",
   "execution_count": 3,
   "id": "78aab996-6616-4d45-b5f1-66cb4d9baf31",
   "metadata": {},
   "outputs": [],
   "source": [
    "# 잡음이 많으 코드를 사용하는 것보다는...\n",
    "# zip 을 이용해보자."
   ]
  },
  {
   "cell_type": "code",
   "execution_count": 4,
   "id": "f3a2cb27-82df-438b-a5f1-ff2684cc7c32",
   "metadata": {},
   "outputs": [],
   "source": [
    "longest_name = None\n",
    "max_count = 0\n",
    "\n",
    "for name, count in zip(names, counts):\n",
    "    if count > max_count:\n",
    "        longest_name = name\n",
    "        max_count = count"
   ]
  },
  {
   "cell_type": "markdown",
   "id": "89252a18-1a27-4641-b17f-558be666b0b7",
   "metadata": {},
   "source": [
    "zip은 자신이 감싼 이터레이터 원소를 하나씩 소비. 따라서 메모리를 다 소모해서 프로그램이 중단되는 위험 없이 아주 긴 입력도 처리 가능\n",
    "\n",
    "입력 이터레이터의 길이가 서로 다를 때는 zip이 어떻게 동작할까?"
   ]
  },
  {
   "cell_type": "code",
   "execution_count": 5,
   "id": "bab69887-ad16-4478-9fcd-faa01b9de7d2",
   "metadata": {},
   "outputs": [
    {
     "name": "stdout",
     "output_type": "stream",
     "text": [
      "Cecilia\n",
      "남궁민수\n",
      "aadd\n"
     ]
    }
   ],
   "source": [
    "names.append('Rosalind')\n",
    "\n",
    "for name, count in zip(names, counts):\n",
    "    print(name)"
   ]
  },
  {
   "cell_type": "markdown",
   "id": "d84716f4-b41e-4bd2-b41d-8e7cafb9e880",
   "metadata": {},
   "source": [
    "Rosalind 가 없는 이유는 zip이 그렇게 동작하기 때문ㅇ\n",
    "- zip은 자신이 감싼 이터레이터 중 어느 하나가 끝날 때까지 튜플을 내놓는다.\n",
    "- 따라서 출력은 가장 짧은 입력의 길이와 같다.\n",
    "- 이걸 방지를 하려면 ....?"
   ]
  },
  {
   "cell_type": "code",
   "execution_count": 6,
   "id": "58bcd135-94ab-405f-b31a-9a51643e1526",
   "metadata": {},
   "outputs": [
    {
     "name": "stdout",
     "output_type": "stream",
     "text": [
      "Cecilia: 7\n",
      "남궁민수: 4\n",
      "aadd: 4\n",
      "Rosalind: None\n"
     ]
    }
   ],
   "source": [
    "import itertools\n",
    "\n",
    "for name, count in itertools.zip_longest(names, counts):\n",
    "    print(f'{name}: {count}')"
   ]
  },
  {
   "cell_type": "code",
   "execution_count": 7,
   "id": "99a1a2ba-f9c8-448d-a63e-5d478426f2fb",
   "metadata": {},
   "outputs": [
    {
     "data": {
      "text/plain": [
       "\u001b[0;31mInit signature:\u001b[0m \u001b[0mitertools\u001b[0m\u001b[0;34m.\u001b[0m\u001b[0mzip_longest\u001b[0m\u001b[0;34m(\u001b[0m\u001b[0mself\u001b[0m\u001b[0;34m,\u001b[0m \u001b[0;34m/\u001b[0m\u001b[0;34m,\u001b[0m \u001b[0;34m*\u001b[0m\u001b[0margs\u001b[0m\u001b[0;34m,\u001b[0m \u001b[0;34m**\u001b[0m\u001b[0mkwargs\u001b[0m\u001b[0;34m)\u001b[0m\u001b[0;34m\u001b[0m\u001b[0;34m\u001b[0m\u001b[0m\n",
       "\u001b[0;31mDocstring:\u001b[0m     \n",
       "zip_longest(iter1 [,iter2 [...]], [fillvalue=None]) --> zip_longest object\n",
       "\n",
       "Return a zip_longest object whose .__next__() method returns a tuple where\n",
       "the i-th element comes from the i-th iterable argument.  The .__next__()\n",
       "method continues until the longest iterable in the argument sequence\n",
       "is exhausted and then it raises StopIteration.  When the shorter iterables\n",
       "are exhausted, the fillvalue is substituted in their place.  The fillvalue\n",
       "defaults to None or can be specified by a keyword argument.\n",
       "\u001b[0;31mType:\u001b[0m           type\n",
       "\u001b[0;31mSubclasses:\u001b[0m     \n"
      ]
     },
     "metadata": {},
     "output_type": "display_data"
    }
   ],
   "source": [
    "itertools.zip_longest?"
   ]
  },
  {
   "cell_type": "code",
   "execution_count": 8,
   "id": "1a80e608-ccee-4063-a579-e5dd0e8399b7",
   "metadata": {},
   "outputs": [
    {
     "name": "stdout",
     "output_type": "stream",
     "text": [
      "Cecilia: 7\n",
      "남궁민수: 4\n",
      "aadd: 4\n",
      "Rosalind: 999\n"
     ]
    }
   ],
   "source": [
    "# fillvalue= 를 이용하면 값이 없는 경우에 대해서 대응이 가능하다.\n",
    "\n",
    "for name, count in itertools.zip_longest(names, counts, fillvalue=\"999\"):\n",
    "    print(f'{name}: {count}')"
   ]
  }
 ],
 "metadata": {
  "kernelspec": {
   "display_name": "Python 3",
   "language": "python",
   "name": "python3"
  },
  "language_info": {
   "codemirror_mode": {
    "name": "ipython",
    "version": 3
   },
   "file_extension": ".py",
   "mimetype": "text/x-python",
   "name": "python",
   "nbconvert_exporter": "python",
   "pygments_lexer": "ipython3",
   "version": "3.8.8"
  }
 },
 "nbformat": 4,
 "nbformat_minor": 5
}
