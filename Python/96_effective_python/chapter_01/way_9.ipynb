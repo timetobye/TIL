{
 "cells": [
  {
   "cell_type": "markdown",
   "id": "6046a47a-8a12-4470-9783-8b4857e9966c",
   "metadata": {},
   "source": [
    "## for 나 while 루프 뒤에 else 블록을 사용하지 말라"
   ]
  },
  {
   "cell_type": "code",
   "execution_count": 1,
   "id": "1226d250-7dff-4493-9de8-662a7a79d459",
   "metadata": {},
   "outputs": [
    {
     "name": "stdout",
     "output_type": "stream",
     "text": [
      "Loop 0\n",
      "Loop 1\n",
      "Loop 2\n",
      "Else block\n"
     ]
    }
   ],
   "source": [
    "# 다른 언어와 달리 이게 가능한데...\n",
    "\n",
    "\n",
    "for i in range(3):\n",
    "    print('Loop', i)\n",
    "else:\n",
    "    print('Else block')"
   ]
  },
  {
   "cell_type": "markdown",
   "id": "64c334db-ad62-46f2-a0b0-5ce96bf0150e",
   "metadata": {},
   "source": [
    "왜 'and' 가 아니고 'else' 인가?\n",
    "- if/else 문에서는 else 는 '이 블록 앞의 블록이 실행되지 않으면 이 블록을 실행하라'는 뜻\n",
    "- try/except 문에서 except 도 마찬가지로 '이 블록 앞의 블록을 시도하다가 예외가 발생하면 이 블록을 실행하라'는 뜻\n",
    "\n",
    "여기서 else 는 '처리할 예외가 없는 경우에 이 블록을 실행하라' 는 뜻\n",
    "\n",
    "그런데...for else 에서는?"
   ]
  },
  {
   "cell_type": "code",
   "execution_count": 2,
   "id": "ee2ef411-3f26-4309-83a4-fc879fb51de4",
   "metadata": {},
   "outputs": [
    {
     "name": "stdout",
     "output_type": "stream",
     "text": [
      "Loop 0\n",
      "Loop 1\n"
     ]
    }
   ],
   "source": [
    "for i in range(3):\n",
    "    print('Loop', i)\n",
    "    if i == 1:\n",
    "        break\n",
    "else:\n",
    "    print('Else block') # 실행 안 됨"
   ]
  },
  {
   "cell_type": "code",
   "execution_count": 3,
   "id": "1db44f42-c6f8-43ab-9826-63de728b456c",
   "metadata": {},
   "outputs": [
    {
     "name": "stdout",
     "output_type": "stream",
     "text": [
      "For Else Block\n"
     ]
    }
   ],
   "source": [
    "for x in []:\n",
    "    print('이 줄은 실행되지 않음')\n",
    "else:\n",
    "    print('For Else Block')"
   ]
  },
  {
   "cell_type": "markdown",
   "id": "027b21b7-bedd-463f-8d03-0adb80fdfd79",
   "metadata": {},
   "source": [
    "이런 식으로 동작하는 이유는 루프를 사용해 검색을 수행할 경우, 루프 바로 뒤에 있는 else 블록이 그와 같이 동작해야 유용하기 때문이다.\n",
    "- 예를 들어 서로소를 찾는 상황이라고 하면 for 를 돌면서 모든 경우를 확인하고, 비로서 서로소인 관계를 확인하기 위해 else 가 수행"
   ]
  },
  {
   "cell_type": "code",
   "execution_count": 4,
   "id": "60de78ef-c427-4f3d-9b11-0d7eb25802a5",
   "metadata": {},
   "outputs": [
    {
     "name": "stdout",
     "output_type": "stream",
     "text": [
      "검사 중 2\n",
      "검사 중 3\n",
      "검사 중 4\n",
      "서로소\n"
     ]
    }
   ],
   "source": [
    "a, b = 4, 9\n",
    "\n",
    "for i in range(2, min(a, b) + 1):\n",
    "    print('검사 중', i)\n",
    "    \n",
    "    if a % i == 0 and b % i == 0:\n",
    "        print('서로소 아님')\n",
    "        break\n",
    "else:\n",
    "    print('서로소')"
   ]
  },
  {
   "cell_type": "markdown",
   "id": "cb3e29cb-3b06-4d65-ad3e-f81cd8ed3a10",
   "metadata": {},
   "source": [
    "이런 코드는 작성하면 안 된다."
   ]
  },
  {
   "cell_type": "markdown",
   "id": "7921fa9a-65c4-4851-9dc7-30b15c29f650",
   "metadata": {},
   "source": [
    "두 가지 방법을 제안한다."
   ]
  },
  {
   "cell_type": "code",
   "execution_count": 6,
   "id": "e414ecd9-5551-4ff4-9a29-dcc370a26988",
   "metadata": {},
   "outputs": [],
   "source": [
    "# 원하는 조건을 찾자마자 빠르게 함수를 반환하는 방식\n",
    "# 루프를 빠져나가야 할 때 함수가 디폴트 출력을 반환한다.\n",
    "\n",
    "def coprime(a, b):\n",
    "    for i in range(2, min(a, b) + 1):\n",
    "        if a % i == 0 and b % i == 0:\n",
    "            return False\n",
    "    \n",
    "    return True\n",
    "\n",
    "assert coprime(4, 9)\n",
    "assert not coprime(3, 6)"
   ]
  },
  {
   "cell_type": "code",
   "execution_count": 7,
   "id": "9a2f8ae5-cd0d-475c-8aec-3704b3c52c9a",
   "metadata": {},
   "outputs": [],
   "source": [
    "def coprime_alternate(a, b):\n",
    "    is_coprime = True\n",
    "    \n",
    "    for i in range(2, min(a, b) + 1):\n",
    "        if a % i == 0 and b % i == 0:\n",
    "            is_coprime = False\n",
    "            break\n",
    "    \n",
    "    return is_coprime\n",
    "\n",
    "assert coprime_alternate(4, 9)\n",
    "assert not coprime_alternate(3, 6)"
   ]
  },
  {
   "cell_type": "markdown",
   "id": "860e85ec-9481-48dc-82d7-4996ec0f05af",
   "metadata": {},
   "source": [
    "파이썬에서 루프와 같은 간단한 구성요소는 그 자체로 의미가 명확해야 한다.\n",
    "\n",
    "따라서 절대로 루프 뒤에 else 블록을 사용하지 말아야 한다.\n",
    "\n",
    "~알고리즘 풀 때 유용한데...~"
   ]
  }
 ],
 "metadata": {
  "kernelspec": {
   "display_name": "Python 3",
   "language": "python",
   "name": "python3"
  },
  "language_info": {
   "codemirror_mode": {
    "name": "ipython",
    "version": 3
   },
   "file_extension": ".py",
   "mimetype": "text/x-python",
   "name": "python",
   "nbconvert_exporter": "python",
   "pygments_lexer": "ipython3",
   "version": "3.8.8"
  }
 },
 "nbformat": 4,
 "nbformat_minor": 5
}
