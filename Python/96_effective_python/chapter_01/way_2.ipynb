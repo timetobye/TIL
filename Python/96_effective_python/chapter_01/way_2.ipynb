{
 "cells": [
  {
   "cell_type": "markdown",
   "id": "a2ac7eca-aaa1-432e-9813-2b3f71157688",
   "metadata": {},
   "source": [
    "## PEP 8 스타일 가이드를 따르라"
   ]
  },
  {
   "cell_type": "markdown",
   "id": "4e752a5b-3f19-4c0d-8850-73b5e19a1261",
   "metadata": {},
   "source": [
    "### 공백\n",
    "\n",
    "파이썬의 공백은 코드의 의미를 명확히 하는 데 공백이 미치는 영향에 특히 민감\n",
    "- 공백 : 탭, 스페이스, 새줄(newline) 모두 합한 말\n",
    "- 탭 대신 스페이스를 사용해 들여쓰기하라.\n",
    "- 문법적으로 중요한 들여쓰기에는 4칸 스페이스를 사용하라.\n",
    "- 라인 길이는 79개 문자 이하여야 한다.\n",
    "- 긴 식을 다음 줄에 이어서 쓸 경우에는 일반적인 들여쓰기보다 4 스페이스를 더 들여써야 한다.\n",
    "- 파일 안에서 각 함수와 클래스 사이에는 빈 줄을 두 줄 넣어라.\n",
    "- Dictionary 에서 키와 콜론(:) 사이에는 공백을 넣지 않고, 한 줄 안에 키와 값을 같이 넣을 경우에는 콜론 다음에 스페이스를 하나 넣는다.\n",
    "- 변수 대입에서 = 전후에는 스페이스를 하나씩만 넣는다.\n",
    "- 타입 표기를 덧분이는 경우에는 변수 이름과 콜론 사이에 공백을 넣지 않도록 주의하고, 콜론과 타입 정보 사이에는 스페이스를 하나 넣어라."
   ]
  },
  {
   "cell_type": "markdown",
   "id": "e76ac895-8f45-496d-ab96-39c38478663a",
   "metadata": {},
   "source": [
    "### 명명 규약\n",
    "\n",
    "명명 규약은 다음과 같다.\n",
    "- 함수, 변수, 애트리뷰트는 lowercase_underscore 처럼 소문자와 밑줄을 사용한다. -> snake case\n",
    "- 보호돼야 하는 인스턴스 애트리뷰트는 일반적인 애트리뷰트 이름 규칙을 따르되, _leading_underscore 처럼 밑줄로 시작한다.\n",
    "- 비공개(private)(한 클래스 안에서만 쓰이고 다른 곳에서는 쓰면 안 되는 경우) 인스턴스 애트리뷰트는 일반적인 애트리뷰트 이름 규칙을 따르되, __ 밑줄 두 개로 시작한다.\n",
    "- 클래스는 CapitalizedWord 처럼 여러 단어를 이어 붙이되, 각 단어의 첫 글자를 대문자로 만든다.\n",
    "- 모듈 수준의 상수는 ALL_CAPS 처럼 모든 글자를 대문자로 하고 단어와 단어 사이를 밑줄로 연결한 형태로 사용한다.\n",
    "- 클래스에 들어 있는 인스턴스 메서드는 호출 대상 객체를 가리키는 첫 번째 인자의 이름으로 반드시 self 를 사용해야 한다.\n",
    "- 클래스 메서드는 클래스를 가리키는 첫 번째 인자의 이름으로 반드시 cls를 사용해야 한다.\n",
    "  - https://dojang.io/mod/page/view.php?id=2380"
   ]
  },
  {
   "cell_type": "code",
   "execution_count": 1,
   "id": "95190e62-7021-43ab-9d35-d8ec8e8d054a",
   "metadata": {},
   "outputs": [
    {
     "name": "stdout",
     "output_type": "stream",
     "text": [
      "2명 생성되었습니다.\n"
     ]
    }
   ],
   "source": [
    "class Person:\n",
    "    count = 0\n",
    "    \n",
    "    def __init__(self):\n",
    "        Person.count += 1 # 인스턴스가 만들어질 때, 클래스 속성 count에 1을 더함\n",
    "        \n",
    "    @classmethod\n",
    "    def print_count(cls):\n",
    "        print('{0}명 생성되었습니다.'.format(cls.count))    # cls로 클래스 속성에 접근\n",
    "        \n",
    "\n",
    "james = Person()\n",
    "maria = Person()\n",
    "\n",
    "Person.print_count()       "
   ]
  },
  {
   "cell_type": "markdown",
   "id": "9505b28d-312b-471d-a7df-5eab30c119a0",
   "metadata": {},
   "source": [
    "### 식과 문\n",
    "\n",
    "문제를 해결할 명백한 방법이 하나 있으며, 가급적이면 유일해야 한다.\n",
    "- 긍정적인 식을 부정하지 말고(if not a is b) 부정을 내부에 넣어라(if a is not b)\n",
    "- 빈 컨테이너나 시퀀스([]나 '' 등) 검사할 때는 길이를 0과 비교(if len(something) == 0) 하지 말라.\n",
    "  - 빈 컨테이너나 시원스 값이 암뭊거으로 False 로 취급된다는 사실을 활용해 `if not 컨테이너` 라는 조건을 써라.\n",
    "- 마찬가지로 비어 있지 않은 컨테이너나 시퀀스를 검사할 때도 길이가 0보다 큰지 비교하지 말라. 대신 if 컨테이너가 비어 있지 않은 경우 암묵적으로 True 로 평가된다는 사실 활용\n",
    "- 한 줄짜리 if 문이나 한 줄 짜리 for, while 루프 한 줄 짜리 except 복합문을 사용하지 말라.\n",
    "  - 명확성을 위해 각 부분을 여러 줄에 나눠 배치하라.\n",
    "- 식을 한 줄 안에 다 쓸 수 없는 경우, 식을 괄호로 둘러싸고 줄바꿈과 들여 쓰기를 추가해서 읽기 쉽게 만들어라.\n",
    "- 여러 줄에 걸쳐 식을 쓸 때는 줄이 계속된다는 표시를 하는 `\\` 문자보다는 괄호를 사용하라."
   ]
  },
  {
   "cell_type": "markdown",
   "id": "5d439057-83f7-48c5-aa5a-db1d09ff1c7f",
   "metadata": {},
   "source": [
    "### 임포트\n",
    "\n",
    "Import 는 어떻게 하는 것이 좋은가\n",
    "- import 문(from x import y)을 항상 파일 맨 앞에 위치시켜라.\n",
    "- 모듈을 임포트할 때는 절대적인 이름(absolute name)을 사용하고, 현 모듈의 경로에 상대적인 이름은 사용하지 말라.\n",
    "\n",
    "예를 들어 bar 패키지로부터 foo 모듈을 임포트한다면\n",
    "\n",
    "```python\n",
    "from bar import foo\n",
    "```\n",
    "\n",
    "- 반드시 상대적인 경로로 임포트해야 하는 경우에는 from . import foo 처럼 명시적인 구문을 사용하라.\n",
    "\n",
    "```python\n",
    "from . import foo\n",
    "```\n",
    "\n",
    "- 임포트를 적을 때는 표준 라이브러리 모듈, 서드 파티 모듈, 우리가 만든 모듈 순서로 섹션을 나눠라.\n",
    "- 각 섹션에서는 알파벳 순서로 모듈을 임포트 하라."
   ]
  },
  {
   "cell_type": "code",
   "execution_count": null,
   "id": "6de04c4f-5484-4488-87c5-a3b9ef7bb573",
   "metadata": {},
   "outputs": [],
   "source": []
  }
 ],
 "metadata": {
  "kernelspec": {
   "display_name": "Python 3",
   "language": "python",
   "name": "python3"
  },
  "language_info": {
   "codemirror_mode": {
    "name": "ipython",
    "version": 3
   },
   "file_extension": ".py",
   "mimetype": "text/x-python",
   "name": "python",
   "nbconvert_exporter": "python",
   "pygments_lexer": "ipython3",
   "version": "3.8.8"
  }
 },
 "nbformat": 4,
 "nbformat_minor": 5
}
