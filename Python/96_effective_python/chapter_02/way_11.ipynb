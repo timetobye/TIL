{
 "cells": [
  {
   "cell_type": "markdown",
   "id": "5fb3ad62-5dc8-4565-a93a-78fd70c2a4d9",
   "metadata": {},
   "source": [
    "## 시퀀스를 슬라이싱하는 방법을 익혀라"
   ]
  },
  {
   "cell_type": "markdown",
   "id": "648329c0-26ff-49d0-b81c-a7c5a36c8981",
   "metadata": {},
   "source": [
    "리스트를 자연스럽게 보완할 수 있는 타입이 딕셔너리\n",
    "- 검색에 사용할 키와 키에 연관된 값을 저장\n",
    "- 딕셔너리는 상수 시간에 원소를 삽입하고 찾을 수 있다.\n",
    "- 동적인 정보를 관리하는 데는 딕셔너리가 가장 이상적이다."
   ]
  },
  {
   "cell_type": "markdown",
   "id": "ac7119e5-51d2-43d3-8a33-4503fb5d3e87",
   "metadata": {},
   "source": [
    "파이썬에서는 시퀀스를 여러 조각(slice) 으로 나누는 슬라이싱 구문이 있다.\n",
    "- 이를 이용하면 최소한의 노력으로 시퀀스에 들어 있는 아이템의 부분집합에 쉽게 접근할 수 있다.\n",
    "- 어떤 파이썬 클래스에도 슬라이싱을 추가할 수 있다."
   ]
  },
  {
   "cell_type": "code",
   "execution_count": 1,
   "id": "2d4abb77-9200-4c21-8973-035ff6424a7d",
   "metadata": {},
   "outputs": [
    {
     "name": "stdout",
     "output_type": "stream",
     "text": [
      "['d', 'e']\n",
      "['b', 'c', 'd', 'e', 'f', 'g']\n"
     ]
    }
   ],
   "source": [
    "a = ['a', 'b', 'c', 'd', 'e', 'f', 'g', 'h']\n",
    "print(a[3:5])\n",
    "print(a[1:7])"
   ]
  },
  {
   "cell_type": "code",
   "execution_count": 2,
   "id": "6a6bb9e8-a4b7-4b85-81f3-17c861deae0c",
   "metadata": {},
   "outputs": [],
   "source": [
    "assert a[:5] == a[0:5]"
   ]
  },
  {
   "cell_type": "markdown",
   "id": "6ffa9bed-9ac2-4622-820c-61a751113bb5",
   "metadata": {},
   "source": [
    "슬라이싱할 때 리스트의 인덱스 범위를 넘어가는 시작과 끝 인덱스는 조용히 무시된다."
   ]
  },
  {
   "cell_type": "code",
   "execution_count": 3,
   "id": "66ca7570-8574-407a-b95b-af1587ad0d22",
   "metadata": {},
   "outputs": [],
   "source": [
    "first_twenty_items = a[:20]\n",
    "last_twenty_items = a[-20:]"
   ]
  },
  {
   "cell_type": "code",
   "execution_count": 4,
   "id": "5b430157-dc0b-4456-8c29-7b8f47c8919d",
   "metadata": {},
   "outputs": [
    {
     "name": "stdout",
     "output_type": "stream",
     "text": [
      "['a', 'b', 'c', 'd', 'e', 'f', 'g', 'h']\n",
      "['a', 'b', 99, 22, 14, 'h']\n"
     ]
    }
   ],
   "source": [
    "# before & after\n",
    "# 지정한 슬라이스 길이보다 대입되는 배열의 길이가 더 짧기 때문에 리스트가 줄어든다.\n",
    "\n",
    "print(a)\n",
    "a[2:7] = [99, 22, 14]\n",
    "print(a)"
   ]
  },
  {
   "cell_type": "code",
   "execution_count": 5,
   "id": "b0e2a8c6-eb29-4be0-a679-1a8755401de9",
   "metadata": {},
   "outputs": [
    {
     "name": "stdout",
     "output_type": "stream",
     "text": [
      "['a', 'b', 99, 22, 14, 'h']\n",
      "['a', 'b', 47, 11, 22, 14, 'h']\n"
     ]
    }
   ],
   "source": [
    "# 리스트에 지정한 슬라이스 길이보다 대입되는 배열의 길이가 더 길기 때문에 리스트가 늘어난다.\n",
    "\n",
    "print(a)\n",
    "a[2:3] = [47, 11]\n",
    "print(a)"
   ]
  },
  {
   "cell_type": "code",
   "execution_count": 6,
   "id": "c02f06c9-a33a-4b50-985e-f790d08e8688",
   "metadata": {},
   "outputs": [],
   "source": [
    "# 슬라이싱에서 시작과 끝 인덱스를 모두 생략하면 원래 리스트를 복사한 새 리스트를 얻는다.\n",
    "\n",
    "b = a[:]\n",
    "assert b == a and b is not a"
   ]
  },
  {
   "cell_type": "code",
   "execution_count": 7,
   "id": "141ef30b-fb8b-4c7f-a23e-db9232ca3adb",
   "metadata": {},
   "outputs": [
    {
     "name": "stdout",
     "output_type": "stream",
     "text": [
      "140639381105408 140638852293312\n"
     ]
    }
   ],
   "source": [
    "print(id(a), id(b))"
   ]
  },
  {
   "cell_type": "markdown",
   "id": "2e42be86-5e7d-4493-a2b2-30ee184e5c96",
   "metadata": {},
   "source": [
    "시작과 끝 인덱스가 없는 슬라이스에 대입하면 슬라이스가 참조하는 리스트의 내용을 대입하는 리스트의 복사본으로 덮어 쓴다.\n",
    "- 이거는 id 값만 봐도 이해할 수 있기 때문에 생략"
   ]
  },
  {
   "cell_type": "markdown",
   "id": "28f9674b-d9a4-427d-bc2a-8c82c807a7b5",
   "metadata": {},
   "source": [
    "요약\n",
    "- 슬라이싱을 할 때는 간결하게 하라. 시작 인덱스에 0을 넣거나, 끝 인덱스에 시퀀스 길이를 넣지 말라.\n",
    "- 슬라이싱은 범위를 넘어가는 시작 인덱스나 끝 인덱스도 허용한다. 따라서 시퀀스의 시작이나 끝에서 길이를 제한하는 슬라이스를 쉽게 표현할 수 있다.\n",
    "- 리스트 슬라이스에 대입하면 원래 시퀀스에서 슬라이스가 가리키는 부분을 대입 연산자 오른쪽에 있는 시퀀스로 대치한다. 이 때 슬라이스와 대치되는 시퀀스의 길이가 달라도 된다."
   ]
  }
 ],
 "metadata": {
  "kernelspec": {
   "display_name": "Python 3",
   "language": "python",
   "name": "python3"
  },
  "language_info": {
   "codemirror_mode": {
    "name": "ipython",
    "version": 3
   },
   "file_extension": ".py",
   "mimetype": "text/x-python",
   "name": "python",
   "nbconvert_exporter": "python",
   "pygments_lexer": "ipython3",
   "version": "3.8.8"
  }
 },
 "nbformat": 4,
 "nbformat_minor": 5
}
