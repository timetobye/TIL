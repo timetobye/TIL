{
 "cells": [
  {
   "cell_type": "markdown",
   "id": "6de5b9a9-65df-4617-8144-6631dc9bfff2",
   "metadata": {},
   "source": [
    "## __missing__ 을 사용해 키에 따라 다른 디폴트 값을 생성하는 방법을 알아두라"
   ]
  },
  {
   "cell_type": "markdown",
   "id": "2ff63844-26c5-43f7-b41f-29a0e5d2a449",
   "metadata": {},
   "source": [
    "예를 들어 파일 시스템에 있는 SNS 프로필 사진을 관리하는 프로그램을 작성한다고 가정하자.\n",
    "- 필요할 때 파일을 읽고 쓰기 위해 프로필 사진의 경로와 열린 파일 핸들을 연관시켜주는 딕셔너리가 필요하다."
   ]
  },
  {
   "cell_type": "code",
   "execution_count": 1,
   "id": "fa2e8236-c121-4bdd-80aa-483b83f16043",
   "metadata": {},
   "outputs": [],
   "source": [
    "pictures = {}\n",
    "path = 'profile_1234.png'\n",
    "\n",
    "if (handle := pictures.get(path)) is None:\n",
    "    try:\n",
    "        handle = open(path, 'a+b')\n",
    "    except OSError:\n",
    "        print(f\"경로를 열 수 없습니다.: {path}\")\n",
    "        raise\n",
    "    else:\n",
    "        pictures[path] = handle\n",
    "\n",
    "handle.seek(0)\n",
    "image_data = handle.read()"
   ]
  },
  {
   "cell_type": "code",
   "execution_count": null,
   "id": "9c8498bd-68d5-4782-9a00-50658c47f740",
   "metadata": {},
   "outputs": [],
   "source": [
    "# 문제가 많은 코드...\n",
    "# 내장 함수인 open이 딕셔너리에 경로가 있는지 여부와 관계없이 항상 호출된다.\n",
    "# 같은 프로그램상에 존재하던 열린 파일 핸들과 혼동될 수 있는 새로운 파일 핸들이 생길 수도 있다.\n",
    "# open이 예외를 던질 수 있으므로 이 예외를 처리해야 한다. 하지만 이 예외를 같은 줄에 있는 setdefault 가 던지는 예외와 구분하지 못할 수도 있다.\n",
    "\n",
    "try:\n",
    "    handle = pictures.setdefault(path, open(path, 'a+b'))\n",
    "except OSError:\n",
    "    print(f\"경로를 열 수 없습니다.: {path}\")\n",
    "    raise\n",
    "else:\n",
    "    handle.seek(0)\n",
    "    image_data = handle.read()"
   ]
  },
  {
   "cell_type": "code",
   "execution_count": 4,
   "id": "b137ebca-a346-4ebc-a63e-0dbd0cf8b92e",
   "metadata": {},
   "outputs": [
    {
     "ename": "TypeError",
     "evalue": "open_pictures() missing 1 required positional argument: 'profile_path'",
     "output_type": "error",
     "traceback": [
      "\u001b[0;31m---------------------------------------------------------------------------\u001b[0m",
      "\u001b[0;31mTypeError\u001b[0m                                 Traceback (most recent call last)",
      "\u001b[0;32m<ipython-input-4-90b5bd68e407>\u001b[0m in \u001b[0;36m<module>\u001b[0;34m\u001b[0m\n\u001b[1;32m      9\u001b[0m \u001b[0;34m\u001b[0m\u001b[0m\n\u001b[1;32m     10\u001b[0m \u001b[0mpictures\u001b[0m \u001b[0;34m=\u001b[0m \u001b[0mdefaultdict\u001b[0m\u001b[0;34m(\u001b[0m\u001b[0mopen_pictures\u001b[0m\u001b[0;34m)\u001b[0m\u001b[0;34m\u001b[0m\u001b[0;34m\u001b[0m\u001b[0m\n\u001b[0;32m---> 11\u001b[0;31m \u001b[0mhandle\u001b[0m \u001b[0;34m=\u001b[0m \u001b[0mpictures\u001b[0m\u001b[0;34m[\u001b[0m\u001b[0mpath\u001b[0m\u001b[0;34m]\u001b[0m\u001b[0;34m\u001b[0m\u001b[0;34m\u001b[0m\u001b[0m\n\u001b[0m\u001b[1;32m     12\u001b[0m \u001b[0mhandle\u001b[0m\u001b[0;34m.\u001b[0m\u001b[0mseek\u001b[0m\u001b[0;34m(\u001b[0m\u001b[0;36m0\u001b[0m\u001b[0;34m)\u001b[0m\u001b[0;34m\u001b[0m\u001b[0;34m\u001b[0m\u001b[0m\n\u001b[1;32m     13\u001b[0m \u001b[0mimage_data\u001b[0m \u001b[0;34m=\u001b[0m \u001b[0mhandle\u001b[0m\u001b[0;34m.\u001b[0m\u001b[0mread\u001b[0m\u001b[0;34m(\u001b[0m\u001b[0;34m)\u001b[0m\u001b[0;34m\u001b[0m\u001b[0;34m\u001b[0m\u001b[0m\n",
      "\u001b[0;31mTypeError\u001b[0m: open_pictures() missing 1 required positional argument: 'profile_path'"
     ]
    }
   ],
   "source": [
    "# 이것의 문제는 생성자에 전달한 함수는 인자를 받을 수 없다는 데 있다.\n",
    "# defaultdict 가 호출하는 도우미 함수가 처리 중인 키를 알 수 없다는 뜻이다.\n",
    "# 이로 인해 파일 경로를 사용해 open 을 호출할 방법이 없다.\n",
    "\n",
    "\n",
    "from collections import defaultdict\n",
    "\n",
    "def open_pictures(profile_path):\n",
    "    try:\n",
    "        return open(profile_path, 'a+b')\n",
    "    except OSError:\n",
    "        print(f\"경로를 열 수 없습니다.: {path}\")\n",
    "        raise\n",
    "\n",
    "pictures = defaultdict(open_pictures)\n",
    "handle = pictures[path]\n",
    "handle.seek(0)\n",
    "image_data = handle.read()"
   ]
  },
  {
   "cell_type": "markdown",
   "id": "b34f84a0-89e7-4477-9cf3-b07529542872",
   "metadata": {},
   "source": [
    "`__missing__` 을 써서 키가 없는 경우를 처리하는 로직을 커스텀화할 수 있다."
   ]
  },
  {
   "cell_type": "code",
   "execution_count": 5,
   "id": "e705d205-99fd-452c-9c35-60e401f40193",
   "metadata": {},
   "outputs": [],
   "source": [
    "class Pictures(dict):\n",
    "    def __missing__(self, key):\n",
    "        value = open_pictures(key)\n",
    "        self[key] = value\n",
    "        \n",
    "        return value\n",
    "    \n",
    "pictures = Pictures()\n",
    "handle = pictures[path]\n",
    "handle.seek(0)\n",
    "image_data = handle.read()"
   ]
  },
  {
   "cell_type": "code",
   "execution_count": null,
   "id": "d784281e-f768-41e4-ba0f-257b0c53317c",
   "metadata": {},
   "outputs": [],
   "source": []
  }
 ],
 "metadata": {
  "kernelspec": {
   "display_name": "Python 3",
   "language": "python",
   "name": "python3"
  },
  "language_info": {
   "codemirror_mode": {
    "name": "ipython",
    "version": 3
   },
   "file_extension": ".py",
   "mimetype": "text/x-python",
   "name": "python",
   "nbconvert_exporter": "python",
   "pygments_lexer": "ipython3",
   "version": "3.8.8"
  }
 },
 "nbformat": 4,
 "nbformat_minor": 5
}
