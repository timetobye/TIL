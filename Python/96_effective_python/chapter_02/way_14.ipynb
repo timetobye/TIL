{
 "cells": [
  {
   "cell_type": "markdown",
   "id": "cbb0b361-9c0e-4560-8aa9-d144f0ecf23e",
   "metadata": {},
   "source": [
    "## 복잡한 기준을 사용해 정렬할 때는 key 파라미터를 사용하라"
   ]
  },
  {
   "cell_type": "markdown",
   "id": "aebac890-9913-410c-a64f-c8f500771470",
   "metadata": {},
   "source": [
    "기본적으로 정렬을 할 때는 sort 를 이용한다."
   ]
  },
  {
   "cell_type": "code",
   "execution_count": 2,
   "id": "966d5dfb-211c-4e9d-b99b-5e9e46c791c7",
   "metadata": {},
   "outputs": [
    {
     "data": {
      "text/plain": [
       "[11, 86, 93]"
      ]
     },
     "execution_count": 2,
     "metadata": {},
     "output_type": "execute_result"
    }
   ],
   "source": [
    "numbers = [93, 86, 11]\n",
    "numbers.sort()\n",
    "numbers"
   ]
  },
  {
   "cell_type": "code",
   "execution_count": 3,
   "id": "bad0272f-63ca-4c4d-a56e-3985eeaed5ba",
   "metadata": {},
   "outputs": [],
   "source": [
    "class Tool:\n",
    "    def __init__(self, name, weight):\n",
    "        self.name = name\n",
    "        self.weight = weight\n",
    "        \n",
    "    def __repr__(self):\n",
    "        return f'Tool({self.name!r}, {self.weight})'\n",
    "\n",
    "tools = [\n",
    "    Tool('수준계', 3.5), \n",
    "    Tool('해머', 1.25), \n",
    "    Tool('스크류드라이버', 0.5), \n",
    "    Tool('끌', 0.25), \n",
    "]"
   ]
  },
  {
   "cell_type": "code",
   "execution_count": 4,
   "id": "f62b1073-f4c4-4630-9ecd-d399f874d48f",
   "metadata": {},
   "outputs": [
    {
     "ename": "TypeError",
     "evalue": "'<' not supported between instances of 'Tool' and 'Tool'",
     "output_type": "error",
     "traceback": [
      "\u001b[0;31m---------------------------------------------------------------------------\u001b[0m",
      "\u001b[0;31mTypeError\u001b[0m                                 Traceback (most recent call last)",
      "\u001b[0;32m<ipython-input-4-934c749d7824>\u001b[0m in \u001b[0;36m<module>\u001b[0;34m\u001b[0m\n\u001b[0;32m----> 1\u001b[0;31m \u001b[0mtools\u001b[0m\u001b[0;34m.\u001b[0m\u001b[0msort\u001b[0m\u001b[0;34m(\u001b[0m\u001b[0;34m)\u001b[0m\u001b[0;34m\u001b[0m\u001b[0;34m\u001b[0m\u001b[0m\n\u001b[0m",
      "\u001b[0;31mTypeError\u001b[0m: '<' not supported between instances of 'Tool' and 'Tool'"
     ]
    }
   ],
   "source": [
    "tools.sort()"
   ]
  },
  {
   "cell_type": "markdown",
   "id": "46631aa7-69ac-45f8-a2b0-21f995426ec3",
   "metadata": {},
   "source": [
    "sort 내 key 를 이용하여 정렬을 하면 된다. key 에는 함수를 전달한다."
   ]
  },
  {
   "cell_type": "code",
   "execution_count": 5,
   "id": "79ff326c-ee12-48b0-bcae-8d5212f73451",
   "metadata": {},
   "outputs": [
    {
     "name": "stdout",
     "output_type": "stream",
     "text": [
      "미정렬 [Tool('수준계', 3.5), Tool('해머', 1.25), Tool('스크류드라이버', 0.5), Tool('끌', 0.25)]\n",
      "정렬 [Tool('끌', 0.25), Tool('수준계', 3.5), Tool('스크류드라이버', 0.5), Tool('해머', 1.25)]\n"
     ]
    }
   ],
   "source": [
    "print('미정렬', repr(tools))\n",
    "tools.sort(key=lambda x: x.name)\n",
    "print('정렬', tools)"
   ]
  },
  {
   "cell_type": "markdown",
   "id": "1056296f-5406-4b2f-9dd3-c25ec7f43a99",
   "metadata": {},
   "source": [
    "단일 기준이 아니라 여러 기준으로 정렬해야 할 경우 어떻게 해야 할까?\n",
    "- 가장 쉬운 해법은 tuple 타입을 쓰는 것이다.\n",
    "- 튜플은 순차적으로 동일 위치의 값을 비교하고 있다. 이를 응용하면...."
   ]
  },
  {
   "cell_type": "code",
   "execution_count": 8,
   "id": "68d45f64-dc54-40f8-86cf-56f1d28befc7",
   "metadata": {},
   "outputs": [
    {
     "data": {
      "text/plain": [
       "[Tool('드릴', 4), Tool('연막기', 4), Tool('원형 톱', 5), Tool('착암기', 40)]"
      ]
     },
     "execution_count": 8,
     "metadata": {},
     "output_type": "execute_result"
    }
   ],
   "source": [
    "power_tools = [\n",
    "    Tool('드릴', 4), \n",
    "    Tool('원형 톱', 5), \n",
    "    Tool('착암기', 40), \n",
    "    Tool('연막기', 4), \n",
    "]\n",
    "\n",
    "power_tools.sort(key=lambda x: (x.name, x.weight))\n",
    "power_tools"
   ]
  },
  {
   "cell_type": "code",
   "execution_count": 9,
   "id": "00a42e88-05c6-4d05-94d3-752abeb4e8be",
   "metadata": {},
   "outputs": [
    {
     "data": {
      "text/plain": [
       "[Tool('착암기', 40), Tool('원형 톱', 5), Tool('연막기', 4), Tool('드릴', 4)]"
      ]
     },
     "execution_count": 9,
     "metadata": {},
     "output_type": "execute_result"
    }
   ],
   "source": [
    "power_tools.sort(key=lambda x: (x.name, x.weight), reverse=True)\n",
    "power_tools"
   ]
  },
  {
   "cell_type": "markdown",
   "id": "1db444be-1dc2-43cf-a6d7-4753e6406c91",
   "metadata": {},
   "source": [
    "숫자에 마이너스 기호를 넣어서도 표현이 가능하다."
   ]
  },
  {
   "cell_type": "code",
   "execution_count": 11,
   "id": "c1f7cba2-30bc-485c-ae99-0b50fb088278",
   "metadata": {},
   "outputs": [
    {
     "data": {
      "text/plain": [
       "[Tool('착암기', 40), Tool('원형 톱', 5), Tool('드릴', 4), Tool('연막기', 4)]"
      ]
     },
     "execution_count": 11,
     "metadata": {},
     "output_type": "execute_result"
    }
   ],
   "source": [
    "power_tools.sort(key=lambda x: (-x.weight, x.name))\n",
    "power_tools"
   ]
  },
  {
   "cell_type": "code",
   "execution_count": null,
   "id": "0a846cc4-8686-4b27-af25-f17689b904c4",
   "metadata": {},
   "outputs": [],
   "source": []
  }
 ],
 "metadata": {
  "kernelspec": {
   "display_name": "Python 3",
   "language": "python",
   "name": "python3"
  },
  "language_info": {
   "codemirror_mode": {
    "name": "ipython",
    "version": 3
   },
   "file_extension": ".py",
   "mimetype": "text/x-python",
   "name": "python",
   "nbconvert_exporter": "python",
   "pygments_lexer": "ipython3",
   "version": "3.8.8"
  }
 },
 "nbformat": 4,
 "nbformat_minor": 5
}
