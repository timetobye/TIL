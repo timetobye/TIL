{
 "cells": [
  {
   "cell_type": "markdown",
   "id": "87e41007-91d4-4393-a44c-4062f4eda114",
   "metadata": {},
   "source": [
    "## Dictionary 삽입 순서에 의존할 때는 조심하라"
   ]
  },
  {
   "cell_type": "markdown",
   "id": "01efa3fd-76db-4e41-bd78-84955bb2c9b1",
   "metadata": {},
   "source": [
    "파이썬 3.5에서는 딕셔너리에 대해 이터레이션을 수행하면 키를 임의의 순서로 돌렸음\n",
    "- 이렇게 됐던 이유는 내장 hash 함수와 파이썬 인터프리터가 시작할 때 초기화되는 seed 을 사용하는 해시 테이블 알고리즘으로 만들어졌기 때문이다.\n",
    "- 그래서 매번 다름\n",
    "\n",
    "3.6 부터는 dict 가 삽입 순서를 보존하도록 동작이 개선되었고, 3.7 부터는 언어 명세에 이 내용이 포함되었다."
   ]
  },
  {
   "cell_type": "code",
   "execution_count": 2,
   "id": "241b7b5f-a10f-42d5-8e3d-ee6abd19dcc1",
   "metadata": {},
   "outputs": [
    {
     "name": "stdout",
     "output_type": "stream",
     "text": [
      "{'cat': 'kitten', 'dog': 'puppy'}\n"
     ]
    }
   ],
   "source": [
    "baby_names = {\n",
    "    'cat': 'kitten',\n",
    "    'dog': 'puppy'\n",
    "}\n",
    "\n",
    "print(baby_names)"
   ]
  },
  {
   "cell_type": "markdown",
   "id": "5d1e7855-8bac-4515-b2e2-498ae8e609e5",
   "metadata": {},
   "source": [
    "이로 인해 예전에는 키워드 인자(`**kwargs`)의 경우에는 순서가 뒤죽박죽인 것처럼 보였음 -> 이제는 그렇지 아니함"
   ]
  },
  {
   "cell_type": "code",
   "execution_count": 3,
   "id": "f69242c3-5f71-4922-9a2e-aebd65c7fbbf",
   "metadata": {},
   "outputs": [
    {
     "name": "stdout",
     "output_type": "stream",
     "text": [
      "goose = gosling\n",
      "kangaroo = joey\n"
     ]
    }
   ],
   "source": [
    "def my_func(**kwargs):\n",
    "    for key, value in kwargs.items():\n",
    "        print(f'{key} = {value}')\n",
    "\n",
    "my_func(goose='gosling', kangaroo='joey')"
   ]
  },
  {
   "cell_type": "markdown",
   "id": "e224d13f-aed4-414a-8fab-72bf668cf9cd",
   "metadata": {},
   "source": [
    "삽입 순서 관련 동작이 항상 성립한다고 가정해서는 안 된다.\n",
    "- 파이썬에서는 프로그래머가 리스트, 딕셔너리 등의 표준 프로토콜을 흉내 내는 커스텀 컨테이너 타입을 쉽게 정의할 수 있기 때문이다.\n",
    "- 파이썬은 정적 타입 지정 언어가 아니기 때문에 대부분의 경우 코드는 엄격한 클래스 계층보다는 객체의 동작이 객체의 실질적인 타입을 결정하는 덕 타이핑에 의존하며, 이로 인해 가끔 어려운 함정에 빠질 수 있다.\n",
    "\n",
    "덕 타이핑?\n",
    "- \"어떤 존재가 오리처럼 꽥꽥 소리를 내고, 오리처럼 보인다면 그것은 오리다\"\n",
    "- 라는 말로 흔히 설명되는 duck typing\n",
    "- 동적 타입 지정의 일종으로, 객체가 실행 시점에 어떻게 행동하는지를 기준으로 객체의 타입을 판단하는 타입 지정 방식이다.\n",
    "- 하지만 실제 행동을 모두 검증하기는 어려우므로 실제로는 객체가 제공하는 외부 인터페이스인 메서드와 애트리뷰트가 동일한지에 따라 타입이 같은지 결정한다.\n",
    "- 실질적으로 이 말은 아무런 타이핑을 하지 않고 런타임에 객체가 제공하는 애트리뷰트와 메서드가 없는 경우에는 그냥 오류를 내겠다는 말과 같다."
   ]
  },
  {
   "cell_type": "code",
   "execution_count": 5,
   "id": "021bcf18-9641-4c5f-be03-48103d108254",
   "metadata": {},
   "outputs": [],
   "source": [
    "votes = {\n",
    "    'otter': 1281,\n",
    "    'polar baer': 585,\n",
    "    'fox': 863\n",
    "}"
   ]
  },
  {
   "cell_type": "code",
   "execution_count": 10,
   "id": "77c53ec0-e3e9-4a59-8c03-41686eec5ecd",
   "metadata": {},
   "outputs": [],
   "source": [
    "def populate_ranks(votes, ranks):\n",
    "    names = list(votes.keys())\n",
    "    names.sort(key=votes.get, reverse=True)\n",
    "    \n",
    "    for i, name in enumerate(names, 1):\n",
    "        ranks[name] = i"
   ]
  },
  {
   "cell_type": "code",
   "execution_count": 11,
   "id": "63dbefec-ce39-4419-a5a7-ba1a84594afe",
   "metadata": {},
   "outputs": [],
   "source": [
    "def get_winner(ranks):\n",
    "    return next(iter(ranks))"
   ]
  },
  {
   "cell_type": "code",
   "execution_count": 12,
   "id": "b39ab2f0-6e26-4105-bae7-95c548a24778",
   "metadata": {},
   "outputs": [
    {
     "name": "stdout",
     "output_type": "stream",
     "text": [
      "{'otter': 1, 'fox': 2, 'polar baer': 3}\n",
      "otter\n"
     ]
    }
   ],
   "source": [
    "ranks = {}\n",
    "populate_ranks(votes, ranks)\n",
    "print(ranks)\n",
    "\n",
    "winner = get_winner(ranks)\n",
    "print(winner)"
   ]
  },
  {
   "cell_type": "markdown",
   "id": "f3f1dac8-5251-4162-b7fc-b278ebabb2d0",
   "metadata": {},
   "source": [
    "이런 상황에서 프로그램의 요구 사항이 변경됐다고 하자. 결과를 보여줄 때 등수가 아니라 알파벳순으로 표시해야 한다.\n",
    "- 이 경우에는 collections.abc 모듈을 사용해 딕셔너리와 비슷하지만 내용을 알파벳 순서대로 이터레이션해주는 클래스를 새로 정의할 수 있다."
   ]
  },
  {
   "cell_type": "code",
   "execution_count": 17,
   "id": "89cd609e-79d3-4c8e-b02d-b2450cf75755",
   "metadata": {},
   "outputs": [],
   "source": [
    "from collections.abc import MutableMapping\n",
    "\n",
    "class SortedDict(MutableMapping):\n",
    "    def __init__(self):\n",
    "        self.data = {}\n",
    "        \n",
    "    def __getitem__(self, key):\n",
    "        return self.data[key]\n",
    "    \n",
    "    def __setitem__(self, key, value):\n",
    "        self.data[key] = value\n",
    "        \n",
    "    def __delitem__(self, key):\n",
    "        del self.data[key]\n",
    "    \n",
    "    def __iter__(self):\n",
    "        keys = list(self.data.keys())\n",
    "        keys.sort()\n",
    "        \n",
    "        for key in keys:\n",
    "            yield key\n",
    "    \n",
    "    def __len__(self):\n",
    "        return len(self.data)"
   ]
  },
  {
   "cell_type": "markdown",
   "id": "f512e11c-a73a-4ff5-93fd-ba3370cba488",
   "metadata": {},
   "source": [
    "SortedDict 는 표준 딕셔너리의 프로토콜을 지키므로, 앞에서 정의한 함수를 호출하면서 SortedDict 인스턴스를 표준 dict 위치에 사용해도 아무런 오류가 발생하지 않는다.\n",
    "- 하지만 실행 결과는 요구 사항에 맞지 않는다."
   ]
  },
  {
   "cell_type": "code",
   "execution_count": 18,
   "id": "8af99f94-36e2-4477-b91f-78f113e62657",
   "metadata": {},
   "outputs": [
    {
     "name": "stdout",
     "output_type": "stream",
     "text": [
      "{'otter': 1, 'fox': 2, 'polar baer': 3}\n",
      "fox\n"
     ]
    }
   ],
   "source": [
    "sorted_ranks = SortedDict()\n",
    "populate_ranks(votes, sorted_ranks)\n",
    "print(sorted_ranks.data)\n",
    "\n",
    "winner = get_winner(sorted_ranks)\n",
    "print(winner)"
   ]
  },
  {
   "cell_type": "markdown",
   "id": "52de58ec-fd78-4776-97c9-c80f18e77788",
   "metadata": {},
   "source": [
    "여기서 문제는 get_winner 구현이 populate_ranks 의 삽입 순서에 맞게 딕셔너리를 이터레이션한다고 가정했다는 데 있다.\n",
    "\n",
    "이 코드는 dict 대신 SortedDict 를 사용하므로 이 가정은 더 이상 성립하지 않는다.\n",
    "\n",
    "따라서 우승 동물로는 득표수가 1등인 동물이 아니라 알파벳 순서로 맨 앞에 오는 동물인 fox가 반환된다.\n",
    "\n",
    "해결 방법은 세 가지 있다.\n",
    "- 첫 번째 방법은 ranks 딕셔너리가 어떤 특정 순서로 이터레이션된다고 가정하지 않고 get_winner 함수를 구현하는 것\n",
    "- 두 번째 방법은 함수 맨 앞에 ranks의 타입이 우리가 원하는 타입인지 검사하는 코드를 추가하는 것\n",
    "- 세 번째 방법은 타입 애너테이션(annotation)을 사용해서 get_winner에 전달되는 값이 딕셔너리와 비슷한 동작을 하는 MutableMapping 인스턴스가 아니라 dict 인스턴스가 되도록 강제하는 것"
   ]
  },
  {
   "cell_type": "code",
   "execution_count": 19,
   "id": "e1750da5-f919-41f2-818a-6dda6afddd16",
   "metadata": {},
   "outputs": [
    {
     "name": "stdout",
     "output_type": "stream",
     "text": [
      "otter\n"
     ]
    }
   ],
   "source": [
    "def get_winner(ranks):\n",
    "    for name, rank in ranks.items():\n",
    "        if rank == 1:\n",
    "            return name\n",
    "\n",
    "winner = get_winner(sorted_ranks)\n",
    "print(winner)"
   ]
  },
  {
   "cell_type": "code",
   "execution_count": 20,
   "id": "a3c00f63-9f20-42ec-b3f1-0149bde08c29",
   "metadata": {},
   "outputs": [
    {
     "ename": "TypeError",
     "evalue": "dict 인스턴스가 필요합니다",
     "output_type": "error",
     "traceback": [
      "\u001b[0;31m---------------------------------------------------------------------------\u001b[0m",
      "\u001b[0;31mTypeError\u001b[0m                                 Traceback (most recent call last)",
      "\u001b[0;32m<ipython-input-20-06fa8f2999eb>\u001b[0m in \u001b[0;36m<module>\u001b[0;34m\u001b[0m\n\u001b[1;32m      3\u001b[0m         \u001b[0;32mraise\u001b[0m \u001b[0mTypeError\u001b[0m\u001b[0;34m(\u001b[0m\u001b[0;34m'dict 인스턴스가 필요합니다'\u001b[0m\u001b[0;34m)\u001b[0m\u001b[0;34m\u001b[0m\u001b[0;34m\u001b[0m\u001b[0m\n\u001b[1;32m      4\u001b[0m \u001b[0;34m\u001b[0m\u001b[0m\n\u001b[0;32m----> 5\u001b[0;31m \u001b[0mget_winner\u001b[0m\u001b[0;34m(\u001b[0m\u001b[0msorted_ranks\u001b[0m\u001b[0;34m)\u001b[0m\u001b[0;34m\u001b[0m\u001b[0;34m\u001b[0m\u001b[0m\n\u001b[0m",
      "\u001b[0;32m<ipython-input-20-06fa8f2999eb>\u001b[0m in \u001b[0;36mget_winner\u001b[0;34m(ranks)\u001b[0m\n\u001b[1;32m      1\u001b[0m \u001b[0;32mdef\u001b[0m \u001b[0mget_winner\u001b[0m\u001b[0;34m(\u001b[0m\u001b[0mranks\u001b[0m\u001b[0;34m)\u001b[0m\u001b[0;34m:\u001b[0m\u001b[0;34m\u001b[0m\u001b[0;34m\u001b[0m\u001b[0m\n\u001b[1;32m      2\u001b[0m     \u001b[0;32mif\u001b[0m \u001b[0;32mnot\u001b[0m \u001b[0misinstance\u001b[0m\u001b[0;34m(\u001b[0m\u001b[0mranks\u001b[0m\u001b[0;34m,\u001b[0m \u001b[0mdict\u001b[0m\u001b[0;34m)\u001b[0m\u001b[0;34m:\u001b[0m\u001b[0;34m\u001b[0m\u001b[0;34m\u001b[0m\u001b[0m\n\u001b[0;32m----> 3\u001b[0;31m         \u001b[0;32mraise\u001b[0m \u001b[0mTypeError\u001b[0m\u001b[0;34m(\u001b[0m\u001b[0;34m'dict 인스턴스가 필요합니다'\u001b[0m\u001b[0;34m)\u001b[0m\u001b[0;34m\u001b[0m\u001b[0;34m\u001b[0m\u001b[0m\n\u001b[0m\u001b[1;32m      4\u001b[0m \u001b[0;34m\u001b[0m\u001b[0m\n\u001b[1;32m      5\u001b[0m \u001b[0mget_winner\u001b[0m\u001b[0;34m(\u001b[0m\u001b[0msorted_ranks\u001b[0m\u001b[0;34m)\u001b[0m\u001b[0;34m\u001b[0m\u001b[0;34m\u001b[0m\u001b[0m\n",
      "\u001b[0;31mTypeError\u001b[0m: dict 인스턴스가 필요합니다"
     ]
    }
   ],
   "source": [
    "def get_winner(ranks):\n",
    "    if not isinstance(ranks, dict):\n",
    "        raise TypeError('dict 인스턴스가 필요합니다')\n",
    "\n",
    "get_winner(sorted_ranks)"
   ]
  },
  {
   "cell_type": "code",
   "execution_count": null,
   "id": "f75e9ac0-b821-4f7b-a5d4-9181526524ed",
   "metadata": {},
   "outputs": [],
   "source": [
    "from typing import Dict, MutableMapping\n",
    "\n",
    "def populate_ranks(votes: Dict[str, int],\n",
    "                   ranks: Dict[str, int]) -> None:\n",
    "    \n",
    "    names = list(votes.keys())\n",
    "    names.sort(key=votes.get, reverse=True)\n",
    "    \n",
    "    for i, rank in enumerate(ranks, 1):\n",
    "        ranks[name] = i\n",
    "        \n",
    "\n",
    "def get_winner(ranks: Dict[str, int]) -> str:\n",
    "    return next(iter(ranks))\n",
    "\n",
    "\n",
    "class SortedDict(MutableMapping[str, int]):\n",
    "    ...\n",
    "    \n",
    "# 이하 동일\n",
    "# 이 방법은 dict 와 MutableMapping 타입의 차이를 올바로 감지해서 적절한 타입의 객체를 사용하지 않았을 때 오류를 발생시킨다. 이 해법은 정적 타입 안정성과 런타임 성능을 가장 잘 조합해준다."
   ]
  },
  {
   "cell_type": "markdown",
   "id": "71d669e2-edba-4167-9acb-f34925c74e12",
   "metadata": {},
   "source": [
    "딕셔너리와 비슷한 클래스를 조심스럽게 다루는 방법으로는 dict 인스턴스의 삽입 순서 보존에 의존하지 않고 코드를 작성하는 방법, 실행 시점에 명시적으로 dict 타입을 검사하는 방법, 타입 애너테이션과 정적 분석을 사용해 dict 값을 요구하는 방법이 있다."
   ]
  }
 ],
 "metadata": {
  "kernelspec": {
   "display_name": "Python 3",
   "language": "python",
   "name": "python3"
  },
  "language_info": {
   "codemirror_mode": {
    "name": "ipython",
    "version": 3
   },
   "file_extension": ".py",
   "mimetype": "text/x-python",
   "name": "python",
   "nbconvert_exporter": "python",
   "pygments_lexer": "ipython3",
   "version": "3.8.8"
  }
 },
 "nbformat": 4,
 "nbformat_minor": 5
}
