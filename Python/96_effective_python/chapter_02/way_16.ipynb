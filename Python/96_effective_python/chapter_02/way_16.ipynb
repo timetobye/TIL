{
 "cells": [
  {
   "cell_type": "markdown",
   "id": "72dd72d3-d692-4b27-867d-e89f7712c814",
   "metadata": {},
   "source": [
    "## in 을 사용하고 딕셔너리 키가 없을 때 keyError를 처리하기보다는 get 을 사용하라"
   ]
  },
  {
   "cell_type": "markdown",
   "id": "5c1f7e81-8c9d-4435-8d1c-e9e3b379c0a3",
   "metadata": {},
   "source": [
    "딕셔너리에 상호작용하는 세 가지 기본 연산은 키나 키에 연관된 값에 접근하고, 대입하고, 삭제하는 것이다.\n",
    "- 동적이므로 어떤 키에 접근하거나 키를 삭제할 때 그 키가 딕셔너리에 없을 수도 있다."
   ]
  },
  {
   "cell_type": "code",
   "execution_count": 1,
   "id": "fdaf824f-0ba0-4b28-8987-6b934d07389d",
   "metadata": {},
   "outputs": [],
   "source": [
    "counters = {\n",
    "    '품퍼니켈': 2,\n",
    "    '사워도우': 1,\n",
    "}"
   ]
  },
  {
   "cell_type": "markdown",
   "id": "27ec4168-d143-45ad-8391-22548db4e6d3",
   "metadata": {},
   "source": [
    "보통은 이렇게 한다..."
   ]
  },
  {
   "cell_type": "code",
   "execution_count": 2,
   "id": "784ef6b3-bda6-4448-9ca8-c3fab00f2ff6",
   "metadata": {},
   "outputs": [],
   "source": [
    "key = '밀'\n",
    "\n",
    "if key in counters:\n",
    "    count = counters[key]\n",
    "else:\n",
    "    count = 0\n",
    "\n",
    "counters[key] = count + 1"
   ]
  },
  {
   "cell_type": "code",
   "execution_count": null,
   "id": "7deb0f93-9692-4314-a326-b29bcfaf3094",
   "metadata": {},
   "outputs": [],
   "source": [
    "조금 더 효율적으로 작성한다면..."
   ]
  },
  {
   "cell_type": "code",
   "execution_count": 3,
   "id": "d7562c69-6ea0-4667-96cf-c2899eabb71a",
   "metadata": {},
   "outputs": [],
   "source": [
    "try:\n",
    "    count = counters[key]\n",
    "except KeyError:\n",
    "    count = 0\n",
    "\n",
    "counters[key] = count + 1"
   ]
  },
  {
   "cell_type": "markdown",
   "id": "22df9268-86d9-4d80-b1b3-826ba4f62668",
   "metadata": {},
   "source": [
    "하지만 더 좋은 방법이 있다 `get` 을 이용하는 것이다."
   ]
  },
  {
   "cell_type": "code",
   "execution_count": 4,
   "id": "a4a7c8b0-5d52-4159-bda3-178a6dc40a53",
   "metadata": {},
   "outputs": [],
   "source": [
    "count = counters.get(key, 0)\n",
    "counters[key] = count + 1"
   ]
  },
  {
   "cell_type": "markdown",
   "id": "d8f1001e-45a2-49d9-9bb7-8f11bce35375",
   "metadata": {},
   "source": [
    "딕셔너리에 저장된 값이 리스트처럼 더 복잡한 값이라면?\n",
    "- 예를 들어 득표수만 세느 ㄴ것이 아니라 어떤 사람이 어떤 유형의 빵에 투표했는지도 알고 싶다면...?"
   ]
  },
  {
   "cell_type": "code",
   "execution_count": 5,
   "id": "0fdeead5-5de7-472c-a0e3-df62b8797df1",
   "metadata": {},
   "outputs": [],
   "source": [
    "votes = {\n",
    "    '바게트': ['철수', '순이'],\n",
    "    '치아바타': ['하니', '유리'],\n",
    "}\n",
    "\n",
    "key = '브리오슈'\n",
    "who = '단어'"
   ]
  },
  {
   "cell_type": "code",
   "execution_count": 6,
   "id": "c6acd443-0a9e-4c0b-ad41-bba722477512",
   "metadata": {},
   "outputs": [
    {
     "name": "stdout",
     "output_type": "stream",
     "text": [
      "{'바게트': ['철수', '순이'], '치아바타': ['하니', '유리'], '브리오슈': ['단어']}\n"
     ]
    }
   ],
   "source": [
    "# in 을 사용하면 키가 있는 경우는 키를 두 번 읽어야 하고, 키가 없는 경우에는 값을 한 번 대입해야 한다.\n",
    "\n",
    "if key in votes:\n",
    "    names = votes[key]\n",
    "else:\n",
    "    votes[key] = names = [] # 이중 대입문\n",
    "    \n",
    "names.append(who)\n",
    "print(votes)"
   ]
  },
  {
   "cell_type": "code",
   "execution_count": 8,
   "id": "ae5df7db-e4f5-4fa7-8542-cc3b94bcbb5f",
   "metadata": {},
   "outputs": [],
   "source": [
    "# 이 경우는 in 조건문을 사용하는 경우보다 더 효율적이다.\n",
    "\n",
    "try:\n",
    "    names = votes[key]\n",
    "except KeyError:\n",
    "    votes[key] = names = []\n",
    "\n",
    "names.append(who)"
   ]
  },
  {
   "cell_type": "code",
   "execution_count": 9,
   "id": "8edf441c-a1a8-4956-9e28-b2947ac6f8db",
   "metadata": {},
   "outputs": [],
   "source": [
    "# 키가 있을 때는 리스트 값을 가져오기 위해 get 메서드를 사용하고, 키가 없을 때는 키를 한 번 읽고 대입을 한 번 사용할 수도 있다.\n",
    "\n",
    "names = votes.get(key)\n",
    "if names is None:\n",
    "    votes[key] = names = []\n",
    "\n",
    "names.append(who)"
   ]
  },
  {
   "cell_type": "code",
   "execution_count": 10,
   "id": "ec9e5244-938f-465d-87a5-ea3f6600c004",
   "metadata": {},
   "outputs": [],
   "source": [
    "# 앞에서 배운 것을 응용하면 더 간결하게 작성할 수 있다.\n",
    "\n",
    "if (names := votes.get(key)) is None:\n",
    "    votes[key] = names = []\n",
    "\n",
    "names.append(who)"
   ]
  },
  {
   "cell_type": "markdown",
   "id": "716d66ae-51ed-49a4-8dee-fc872931180b",
   "metadata": {},
   "source": [
    "dict 타입은 이 패턴을 더 간단히 사용할 수 있게 해주는 setdefault 메서드를 제공\n",
    "- setdefault는 딕셔너리에서 키를 사용해 값을 가져오라고 시도한다.\n",
    "- 이 메서드는 키가 없으면 제공받은 디폴트 값을 키에 연관시켜 딕셔너리에 대입한 다음, 키에 연관된 값을 반환한다."
   ]
  },
  {
   "cell_type": "code",
   "execution_count": 11,
   "id": "cd408ff6-c537-408f-88a4-092e3d7f749c",
   "metadata": {},
   "outputs": [],
   "source": [
    "names = votes.setdefault(key, [])\n",
    "names.append(who)"
   ]
  },
  {
   "cell_type": "markdown",
   "id": "8409e7c4-cac7-44a1-a7c0-bbd79fa31394",
   "metadata": {},
   "source": [
    "좋은 코드는 아니라고 한다.\n",
    "- 가독성 측면에서 setdefault 는 get 이 아닌 set 이어서 이해하기 어려울 수 있다.\n",
    "- 키가 없으면 setdefault 에 전달된 디폴트 값이 별도로 복사되지 않고 딕셔너리에 직접 대입된다."
   ]
  },
  {
   "cell_type": "code",
   "execution_count": 12,
   "id": "275155c7-caf1-4bbb-afb8-f58ce55a5619",
   "metadata": {},
   "outputs": [
    {
     "name": "stdout",
     "output_type": "stream",
     "text": [
      "before: {'foo': []}\n",
      "after: {'foo': ['hello']}\n"
     ]
    }
   ],
   "source": [
    "data = {}\n",
    "key = 'foo'\n",
    "value = []\n",
    "\n",
    "data.setdefault(key, value)\n",
    "print(\"before:\", data)\n",
    "\n",
    "value.append('hello')\n",
    "print(\"after:\", data)"
   ]
  },
  {
   "cell_type": "markdown",
   "id": "43114f8a-5adc-42ff-bfa5-3ca9621ed4ed",
   "metadata": {},
   "source": [
    "무슨 말이냐면 해당하는 디폴트 값을 setdefault 에 전달할 때마다 그 값을 새로 만들어야 한다는 뜻이다.\n",
    "- 호출할 때마다 리스트를 만들어야 하므로 성능이 크게 저하될 수 있다."
   ]
  },
  {
   "cell_type": "markdown",
   "id": "199fae55-ad58-4ed6-a48b-396f822029d8",
   "metadata": {},
   "source": [
    "setdefault 는 언제 써야 할까?\n",
    "- 디폴트 값을 만들어내기 쉽거나\n",
    "- 디폴트 값이 변경 가능한 값이거나\n",
    "- 리스트 인스턴스처럼 값을 만들어낼 때 예외가 발생할 가능성이 없는 값인 경우 setdefault 를 사용할 수 있다.\n",
    "\n",
    "하지만 defaultdict 를 사용하는 것이 더 나을지도..."
   ]
  }
 ],
 "metadata": {
  "kernelspec": {
   "display_name": "Python 3",
   "language": "python",
   "name": "python3"
  },
  "language_info": {
   "codemirror_mode": {
    "name": "ipython",
    "version": 3
   },
   "file_extension": ".py",
   "mimetype": "text/x-python",
   "name": "python",
   "nbconvert_exporter": "python",
   "pygments_lexer": "ipython3",
   "version": "3.8.8"
  }
 },
 "nbformat": 4,
 "nbformat_minor": 5
}
