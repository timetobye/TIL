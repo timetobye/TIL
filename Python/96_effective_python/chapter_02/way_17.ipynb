{
 "cells": [
  {
   "cell_type": "markdown",
   "id": "33921747-bb6e-4974-aae4-7b09307f22e8",
   "metadata": {},
   "source": [
    "## 내부 상태에서 원소가 없는 경우를 처리할 때는 setdefault 보다 defaultdict 를 사용하라"
   ]
  },
  {
   "cell_type": "markdown",
   "id": "fdd0e98e-4242-4702-a910-059456309a37",
   "metadata": {},
   "source": [
    "직접 만들지 않은 딕셔너리를 다룰 때 키가 없는 경우를 처리하는 방법에는 여러가지가 존재\n",
    "\n",
    "예를 들어 방문했던 세계 각국의 도시 이름을 저장하고 싶다고 하자."
   ]
  },
  {
   "cell_type": "code",
   "execution_count": 1,
   "id": "e2a20c5d-ffcc-4b26-89e4-45ef45ce62f8",
   "metadata": {},
   "outputs": [],
   "source": [
    "visits = {\n",
    "    '미국': {'뉴욕', '로스앤젤레스'},\n",
    "    '일본': {'하코네'},\n",
    "}"
   ]
  },
  {
   "cell_type": "markdown",
   "id": "ccbbf765-2172-4cd1-89bd-70a0cfdd4143",
   "metadata": {},
   "source": [
    "setdefault을 사용해서 만들어 보면..."
   ]
  },
  {
   "cell_type": "code",
   "execution_count": 2,
   "id": "80452a63-363f-422c-8aa7-de42ba82c9c1",
   "metadata": {},
   "outputs": [],
   "source": [
    "visits.setdefault('프랑스', set()).add('칸')"
   ]
  },
  {
   "cell_type": "code",
   "execution_count": 3,
   "id": "582eb789-3215-4992-9d43-bafa8f3f8a06",
   "metadata": {},
   "outputs": [
    {
     "name": "stdout",
     "output_type": "stream",
     "text": [
      "{'미국': {'로스앤젤레스', '뉴욕'}, '일본': {'하코네', '교토'}, '프랑스': {'칸'}}\n"
     ]
    }
   ],
   "source": [
    "if (japan := visits.get('일본')) is None:\n",
    "    visits['일본'] = japan = set()\n",
    "japan.add('교토')\n",
    "\n",
    "print(visits)"
   ]
  },
  {
   "cell_type": "markdown",
   "id": "c40210ad-f8f2-4adc-a90a-89f670dc431d",
   "metadata": {},
   "source": [
    "직접 딕셔너리 생성을 제어할 수 있다면 어떨까?\n",
    "- 예를 들어 클래스 내부에서 상태를 유지하기 위해 딕셔너리 인스턴스를 사용할 때가 이런 경우에 해당한다."
   ]
  },
  {
   "cell_type": "code",
   "execution_count": 4,
   "id": "9d299d44-084e-4324-9e1e-d83201193993",
   "metadata": {},
   "outputs": [],
   "source": [
    "class Visits:\n",
    "    def __init__(self):\n",
    "        self.data = {}\n",
    "    \n",
    "    def add(self, country, city):\n",
    "        city_set = self.data.setdefault(country, set())\n",
    "        city_set.add(city)"
   ]
  },
  {
   "cell_type": "code",
   "execution_count": 6,
   "id": "07afaae5-e7de-4834-90f3-dd67d98bdd04",
   "metadata": {},
   "outputs": [
    {
     "name": "stdout",
     "output_type": "stream",
     "text": [
      "{'Russia': {'Ruck'}, 'dddd': {'wwww'}}\n"
     ]
    }
   ],
   "source": [
    "visits = Visits()\n",
    "visits.add('Russia', 'Ruck')\n",
    "visits.add('dddd', 'wwww')\n",
    "\n",
    "print(visits.data)"
   ]
  },
  {
   "cell_type": "markdown",
   "id": "0f3c2901-f4c9-4b90-b9ad-722b937b5ab9",
   "metadata": {},
   "source": [
    "효과적인 코드는 아니다.\n",
    "- 매번 set 을 만들어야 하고, setdefault 을 바로 이해하기도 어렵다.\n",
    "\n",
    "이런 경우를 위해 collections 의 defaultdict 가 있다."
   ]
  },
  {
   "cell_type": "code",
   "execution_count": 7,
   "id": "144d2534-82e1-4f4e-9962-404e7577a8ba",
   "metadata": {},
   "outputs": [],
   "source": [
    "from collections import defaultdict\n",
    "\n",
    "class Visits:\n",
    "    def __init__(self):\n",
    "        self.data = defaultdict(set)\n",
    "    \n",
    "    def add(self, country, city):\n",
    "        self.data[country].add(city)"
   ]
  },
  {
   "cell_type": "code",
   "execution_count": 8,
   "id": "ae5c67da-9bdd-4df7-849b-afbe853dcff8",
   "metadata": {},
   "outputs": [
    {
     "name": "stdout",
     "output_type": "stream",
     "text": [
      "defaultdict(<class 'set'>, {'Russia': {'Ruck'}, 'dddd': {'wwww'}})\n"
     ]
    }
   ],
   "source": [
    "visits = Visits()\n",
    "visits.add('Russia', 'Ruck')\n",
    "visits.add('dddd', 'wwww')\n",
    "\n",
    "print(visits.data)"
   ]
  },
  {
   "cell_type": "markdown",
   "id": "f47db540-4a58-4710-a8f4-74cf8d2fdede",
   "metadata": {},
   "source": [
    "키로 어떤 값이 들어올지 모르는 딕셔너리를 관리해야 하는데 collection 내장 모듈에 있는 defaultdict 인스턴스가 사용자의 필요에 맞아떨어진다면 defaultdict 사용하라.\n",
    "\n",
    "임의의 키가 들어 있는 dict 가 우리에게 전달됐고 그 딕셔너리가 어떻게 생성됐는지 모르는 경우, 딕셔너리의 원소에 접근하려면 우선 get 을 사용해야 한다.\n",
    "\n",
    "하지만 setdefault 가 더 짧은 코드를 만들어내는 몇 가지 경우에는 setdefault 사용도 고려해 볼 법하다."
   ]
  }
 ],
 "metadata": {
  "kernelspec": {
   "display_name": "Python 3",
   "language": "python",
   "name": "python3"
  },
  "language_info": {
   "codemirror_mode": {
    "name": "ipython",
    "version": 3
   },
   "file_extension": ".py",
   "mimetype": "text/x-python",
   "name": "python",
   "nbconvert_exporter": "python",
   "pygments_lexer": "ipython3",
   "version": "3.8.8"
  }
 },
 "nbformat": 4,
 "nbformat_minor": 5
}
