{
 "cells": [
  {
   "cell_type": "markdown",
   "id": "b6c373d4-a1b9-4bd9-ab2c-4b58e3f5f3d7",
   "metadata": {},
   "source": [
    "## 슬라이싱보다는 나머지를 모두 잡아내는 언패킹을 사용하라"
   ]
  },
  {
   "cell_type": "markdown",
   "id": "890010c8-cba6-4643-b850-1c96b9bac2db",
   "metadata": {},
   "source": [
    "대부분 파이썬을 처음 쓰면 이렇게 사용한다."
   ]
  },
  {
   "cell_type": "code",
   "execution_count": 6,
   "id": "0b7eb8c2-6a95-4e0a-b1d0-277ecc8974e0",
   "metadata": {},
   "outputs": [
    {
     "name": "stdout",
     "output_type": "stream",
     "text": [
      "20 19 [15, 9, 8, 7, 6, 4, 1, 0]\n"
     ]
    }
   ],
   "source": [
    "car_ages = [0, 9, 4, 8, 7, 20, 19, 1, 6, 15]\n",
    "car_ages_descending = sorted(car_ages, reverse=True)\n",
    "\n",
    "oldest = car_ages_descending[0]\n",
    "second_oldest = car_ages_descending[1]\n",
    "others = car_ages_descending[2:]\n",
    "\n",
    "print(oldest, second_oldest, others)\n",
    "\n",
    "# 시퀀스의 원소를 여러 하위 집합으로 나누면 1차이 나는 인덱스로 인한 오류(off-by-one error) 를 만들어내기 쉽다."
   ]
  },
  {
   "cell_type": "code",
   "execution_count": 7,
   "id": "bd869861-bb9d-4d47-b815-2bff7bcb9867",
   "metadata": {},
   "outputs": [],
   "source": [
    "oldest, second_oldest, *others = car_ages_descending"
   ]
  },
  {
   "cell_type": "code",
   "execution_count": 8,
   "id": "023a3d0f-9473-47a0-8641-88cbc204137d",
   "metadata": {},
   "outputs": [
    {
     "name": "stdout",
     "output_type": "stream",
     "text": [
      "20 19 [15, 9, 8, 7, 6, 4, 1, 0]\n"
     ]
    }
   ],
   "source": [
    "print(oldest, second_oldest, others)"
   ]
  },
  {
   "cell_type": "markdown",
   "id": "3b6f44e8-8b8b-4ee0-93a2-1e918623765d",
   "metadata": {},
   "source": [
    "별표 식을 다른 위치에 쓸 수도 있다. 따라서 꼭 언패킹해야만 하는 값 외에 여분의 슬라이스가 하나 필요한 경우, 나머지를 모두 잡아내는 이 기능의 이점을 살릴 수 있다."
   ]
  },
  {
   "cell_type": "code",
   "execution_count": 10,
   "id": "8bd5b691-724d-4e3f-ae88-c1df29a56089",
   "metadata": {},
   "outputs": [
    {
     "name": "stdout",
     "output_type": "stream",
     "text": [
      "20 [19, 15, 9, 8, 7, 6, 4, 1] 0\n"
     ]
    }
   ],
   "source": [
    "oldest, *others, second_oldest = car_ages_descending\n",
    "\n",
    "print(oldest, others, second_oldest)"
   ]
  },
  {
   "cell_type": "markdown",
   "id": "52d74e1f-be6b-4ebd-b7e4-fb061d081348",
   "metadata": {},
   "source": [
    "하지만 별표 식이 포함된 언패킹을 사용하려면 필수인 부분이 적어도 하나는 있어야 한다. 단독 사용은 불가능하다.\n",
    "\n",
    "또한, 한 수준의 언패킹 패턴에 별표 식을 두 개 이상 쓸 수도 없다."
   ]
  },
  {
   "cell_type": "code",
   "execution_count": 12,
   "id": "e8d1eac5-d85b-4843-96c8-9bf5a9556f1d",
   "metadata": {},
   "outputs": [
    {
     "ename": "SyntaxError",
     "evalue": "two starred expressions in assignment (<ipython-input-12-c5307794accb>, line 1)",
     "output_type": "error",
     "traceback": [
      "\u001b[0;36m  File \u001b[0;32m\"<ipython-input-12-c5307794accb>\"\u001b[0;36m, line \u001b[0;32m1\u001b[0m\n\u001b[0;31m    a, *b, *c, d = [1, 2, 3, 4]\u001b[0m\n\u001b[0m    ^\u001b[0m\n\u001b[0;31mSyntaxError\u001b[0m\u001b[0;31m:\u001b[0m two starred expressions in assignment\n"
     ]
    }
   ],
   "source": [
    "a, *b, *c, d = [1, 2, 3, 4]"
   ]
  },
  {
   "cell_type": "markdown",
   "id": "327ef4b9-2934-428a-8034-28370b9628bb",
   "metadata": {},
   "source": [
    "별표 식은 항상 list 인스턴스가 된다. 남은 원소가 없다면 별표 식 부분은 빈 리스트가 된다."
   ]
  },
  {
   "cell_type": "code",
   "execution_count": 13,
   "id": "d427404b-8a4e-49e7-ad9f-89ea4c918770",
   "metadata": {},
   "outputs": [
    {
     "name": "stdout",
     "output_type": "stream",
     "text": [
      "1 2 []\n"
     ]
    }
   ],
   "source": [
    "short_list = [1, 2]\n",
    "a, b, *c = short_list\n",
    "print(a, b, c)"
   ]
  },
  {
   "cell_type": "markdown",
   "id": "f149111a-0e35-42ca-8018-8cfd3d10e05b",
   "metadata": {},
   "source": [
    "언패킹 구문을 사용해 임의의 이터레이터를 가져올 수도 있지만 기본 다중 대입문보다 그다지 많이 쓸모 있지는 않다."
   ]
  },
  {
   "cell_type": "code",
   "execution_count": 15,
   "id": "56855ae1-7e3c-497d-afc6-b7e6b5526296",
   "metadata": {},
   "outputs": [
    {
     "name": "stdout",
     "output_type": "stream",
     "text": [
      "1 & 2\n"
     ]
    }
   ],
   "source": [
    "it = iter(range(1, 3))\n",
    "first, second = it\n",
    "print(f'{first} & {second}')"
   ]
  },
  {
   "cell_type": "markdown",
   "id": "b129e44a-5a34-4fe9-b552-b6219188663e",
   "metadata": {},
   "source": [
    "별표 식을 추가하면 언패킹할 이터레이터의 값을 가져올 수 있다."
   ]
  },
  {
   "cell_type": "code",
   "execution_count": 23,
   "id": "9b5c46f5-9cd0-4dce-a2bc-1ddea3742872",
   "metadata": {},
   "outputs": [],
   "source": [
    "def generate_csv():\n",
    "    yield ('날짜', '제조사', '모델', '연식', '가격')\n",
    "    yield ('날짜', '제조사', '모델', '연식', '가격')\n",
    "    ..."
   ]
  },
  {
   "cell_type": "code",
   "execution_count": 24,
   "id": "490b5109-d05d-4a1d-b5ee-8d13b8ae1bf3",
   "metadata": {},
   "outputs": [
    {
     "name": "stdout",
     "output_type": "stream",
     "text": [
      "csv 헤더: ('날짜', '제조사', '모델', '연식', '가격')\n",
      "행수: 1\n"
     ]
    }
   ],
   "source": [
    "# 여러 줄에 걸쳐서 처리를 할 수도 있지만...\n",
    "\n",
    "all_csv_rows = list(generate_csv())\n",
    "header = all_csv_rows[0]\n",
    "rows = all_csv_rows[1:]\n",
    "\n",
    "print('csv 헤더:', header)\n",
    "print('행수:', len(rows))"
   ]
  },
  {
   "cell_type": "code",
   "execution_count": 25,
   "id": "66362ef0-4997-4d98-91cf-82b681c27d4c",
   "metadata": {},
   "outputs": [
    {
     "name": "stdout",
     "output_type": "stream",
     "text": [
      "csv 헤더: ('날짜', '제조사', '모델', '연식', '가격')\n",
      "행수: 1\n"
     ]
    }
   ],
   "source": [
    "it = generate_csv()\n",
    "\n",
    "header, *rows = it\n",
    "print('csv 헤더:', header)\n",
    "print('행수:', len(rows))"
   ]
  },
  {
   "cell_type": "markdown",
   "id": "cc1aa0a7-a934-4f1b-a050-031dc32d0887",
   "metadata": {},
   "source": [
    "하지만 별표 식은 항상 리스트를 만들어내기 때문에 이터레이터를 별표 식으로 언패킹하면 컴퓨터 메모리를 모두 다 사용해서 프로그램이 멈출 수 있다.\n",
    "\n",
    "그러므로 결과가 모든 메모리에 다 들어갈 수 있다고 확신할 때만 나머지를 모두 잡아내는 언패킹을 사용해야 한다."
   ]
  }
 ],
 "metadata": {
  "kernelspec": {
   "display_name": "Python 3",
   "language": "python",
   "name": "python3"
  },
  "language_info": {
   "codemirror_mode": {
    "name": "ipython",
    "version": 3
   },
   "file_extension": ".py",
   "mimetype": "text/x-python",
   "name": "python",
   "nbconvert_exporter": "python",
   "pygments_lexer": "ipython3",
   "version": "3.8.8"
  }
 },
 "nbformat": 4,
 "nbformat_minor": 5
}
