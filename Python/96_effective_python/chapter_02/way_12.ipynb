{
 "cells": [
  {
   "cell_type": "markdown",
   "id": "8783e96a-25b9-4e6e-8b80-6da4093f4da7",
   "metadata": {},
   "source": [
    "## 스트라이드와 슬라이스를 한 식에 함께 사용하지 말라"
   ]
  },
  {
   "cell_type": "markdown",
   "id": "03c48d7a-4251-4a7a-9995-989b89cdfca4",
   "metadata": {},
   "source": [
    "기본 슬라이싱 외에, 파이썬은 리스트[시작:끝:증가값] 으로 일정한 간격으로 슬라이싱을 할 수 있는 특별한 구문을 제공\n",
    "- 이를 stride 라고 한다."
   ]
  },
  {
   "cell_type": "code",
   "execution_count": 2,
   "id": "696bcb2f-a465-4c4e-b30b-989545e7b336",
   "metadata": {},
   "outputs": [
    {
     "name": "stdout",
     "output_type": "stream",
     "text": [
      "['빨강', '노랑', '파랑']\n",
      "['주황', '초록', '자주']\n"
     ]
    }
   ],
   "source": [
    "x = ['빨강', '주황', '노랑', '초록', '파랑', '자주']\n",
    "\n",
    "odds = x[::2]\n",
    "evens = x[1::2]\n",
    "\n",
    "print(odds)\n",
    "print(evens)"
   ]
  },
  {
   "cell_type": "markdown",
   "id": "9d7e52b3-0e40-4708-8f11-802a99c6f198",
   "metadata": {},
   "source": [
    "스트라이드를 사용하는 구문은 종종 예기치 못한 동작이 일어나서 버그를 야기할 수 있다는 단점이 있다.\n",
    "- 유니코드 데이터를 UTF-8로 인코딩한 문자열에서는 이 코드가 작동하지 않는다. 코드 예시 생략"
   ]
  },
  {
   "cell_type": "code",
   "execution_count": 3,
   "id": "37f9729a-d799-40da-b797-dc904c6dcf78",
   "metadata": {},
   "outputs": [
    {
     "name": "stdout",
     "output_type": "stream",
     "text": [
      "['a', 'c', 'e', 'g']\n",
      "['h', 'f', 'd', 'b']\n"
     ]
    }
   ],
   "source": [
    "x = ['a', 'b', 'c', 'd', 'e', 'f', 'g', 'h']\n",
    "\n",
    "# 시작부터 매 두 번째 원소를 선택\n",
    "print(x[::2])\n",
    "\n",
    "# 끝에서 시작해 앞으로 가면서 매 두 번째 원소를 선택\n",
    "print(x[::-2])"
   ]
  },
  {
   "cell_type": "markdown",
   "id": "17888430-9413-4c3f-a603-084587605a7f",
   "metadata": {},
   "source": [
    "```python\n",
    "x[2::2]\n",
    "x[-2::-2]\n",
    "x[-2:2:-2]\n",
    "x[2:2:-2]\n",
    "```\n",
    "\n",
    "위와 같이 슬라이싱 + 스트라이드를 쓸 경우 혼란을 야기할 수 있다. 그래서 나눠서 쓰는 것을 권장한다."
   ]
  },
  {
   "cell_type": "code",
   "execution_count": 4,
   "id": "1cc671de-0d7a-4750-ae1e-fd3d52136911",
   "metadata": {},
   "outputs": [],
   "source": [
    "# 예를 들면...\n",
    "\n",
    "y = x[::2]\n",
    "z = y[1:-1]"
   ]
  },
  {
   "cell_type": "markdown",
   "id": "e9ccf589-d2b3-4eb7-b039-f70a7bce7dbe",
   "metadata": {},
   "source": [
    "첫 번째 연산은 결과 슬라이스의 크기를 가능한 한 줄일 수 있어야 한다.\n",
    "\n",
    "프로그램이 이 두 단계 연산에 필요한 시간과 메모리를 감당할 수 없다면 itertools 의 islice 를 고려"
   ]
  },
  {
   "cell_type": "code",
   "execution_count": 5,
   "id": "f620eed4-7715-4343-b588-65b27b0cd626",
   "metadata": {},
   "outputs": [
    {
     "data": {
      "text/plain": [
       "\u001b[0;31mInit signature:\u001b[0m \u001b[0mislice\u001b[0m\u001b[0;34m(\u001b[0m\u001b[0mself\u001b[0m\u001b[0;34m,\u001b[0m \u001b[0;34m/\u001b[0m\u001b[0;34m,\u001b[0m \u001b[0;34m*\u001b[0m\u001b[0margs\u001b[0m\u001b[0;34m,\u001b[0m \u001b[0;34m**\u001b[0m\u001b[0mkwargs\u001b[0m\u001b[0;34m)\u001b[0m\u001b[0;34m\u001b[0m\u001b[0;34m\u001b[0m\u001b[0m\n",
       "\u001b[0;31mDocstring:\u001b[0m     \n",
       "islice(iterable, stop) --> islice object\n",
       "islice(iterable, start, stop[, step]) --> islice object\n",
       "\n",
       "Return an iterator whose next() method returns selected values from an\n",
       "iterable.  If start is specified, will skip all preceding elements;\n",
       "otherwise, start defaults to zero.  Step defaults to one.  If\n",
       "specified as another value, step determines how many values are\n",
       "skipped between successive calls.  Works like a slice() on a list\n",
       "but returns an iterator.\n",
       "\u001b[0;31mType:\u001b[0m           type\n",
       "\u001b[0;31mSubclasses:\u001b[0m     \n"
      ]
     },
     "metadata": {},
     "output_type": "display_data"
    }
   ],
   "source": [
    "from itertools import islice\n",
    "\n",
    "islice?"
   ]
  },
  {
   "cell_type": "code",
   "execution_count": null,
   "id": "ddeb42d6-6bad-4a04-90cc-e30e1d95c124",
   "metadata": {},
   "outputs": [],
   "source": []
  }
 ],
 "metadata": {
  "kernelspec": {
   "display_name": "Python 3",
   "language": "python",
   "name": "python3"
  },
  "language_info": {
   "codemirror_mode": {
    "name": "ipython",
    "version": 3
   },
   "file_extension": ".py",
   "mimetype": "text/x-python",
   "name": "python",
   "nbconvert_exporter": "python",
   "pygments_lexer": "ipython3",
   "version": "3.8.8"
  }
 },
 "nbformat": 4,
 "nbformat_minor": 5
}
