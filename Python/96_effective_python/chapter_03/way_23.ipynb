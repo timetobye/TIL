{
 "cells": [
  {
   "cell_type": "markdown",
   "id": "d3d98bdb-0860-4fc0-9a0c-93e402b0c8ea",
   "metadata": {},
   "source": [
    "## 키워드 인자로 선택적인 기능을 제공하라\n",
    "\n",
    "다른 대부분의 프로그래밍 언어와 마찬가지로 파이썬에서도 함수를 호출할 때 위치에 따라 인자를 넘길 수 있다."
   ]
  },
  {
   "cell_type": "code",
   "execution_count": 1,
   "id": "066f025b-51b0-4bd0-9500-5c683c97a048",
   "metadata": {},
   "outputs": [],
   "source": [
    "def remainder(number, divisor):\n",
    "    return number % divisor\n",
    "\n",
    "assert remainder(20, 7) == 6"
   ]
  },
  {
   "cell_type": "markdown",
   "id": "d979db8a-c19f-4c84-bd77-0d52affd1b46",
   "metadata": {},
   "source": [
    "파이썬 함수에서는 모든 일반적인 인자를 키워드를 사용해 넘길 수 있다. \n",
    "\n",
    "키워드를 사용해 인자를 넘길 때는 함수 호출의 괄호 내부에서 파라미터 이름을 대입 연산에 사용한다.\n",
    "\n",
    "필요한 위치 기반 인자가 모두 제공되는 한, 키워드 인자를 넘기는 순서는 관계 없다. 키워드와 위치 인자를 필요에 따라 섞어 쓸 수도 있다."
   ]
  },
  {
   "cell_type": "code",
   "execution_count": 4,
   "id": "4929e189-0a91-4489-819b-f56f1e8609cc",
   "metadata": {},
   "outputs": [
    {
     "data": {
      "text/plain": [
       "6"
      ]
     },
     "execution_count": 4,
     "metadata": {},
     "output_type": "execute_result"
    }
   ],
   "source": [
    "# 모두 같은 결과를 얻는다.\n",
    "\n",
    "remainder(20, 7)\n",
    "remainder(20, divisor=7)\n",
    "remainder(number=20, divisor=7)\n",
    "remainder(divisor=7, number=20)"
   ]
  },
  {
   "cell_type": "markdown",
   "id": "2a2e20b5-e313-4acc-92a9-7bacdb042e8f",
   "metadata": {},
   "source": [
    "위치 기반 인자를 지정하려면 키워드 인자보다 앞에 지정해야 하는 것을 잊지 말자.. 각 인자는 단 한 번만 지정해야 한다."
   ]
  },
  {
   "cell_type": "markdown",
   "id": "0bd5207c-3f75-43f2-a938-e20929e78484",
   "metadata": {},
   "source": [
    "딕셔너리의 내용물을 사용해 remainder 와 같은 함수를 호출하고 싶다면 `**` 연산자를 사용할 수 있다.\n",
    "\n",
    "`**` 연산자는 파이썬이 딕셔너리에 들어 있는 값을 함수에 전달하되 각 값에 대응하는 키를 키워드로 사용하도록 명령한다."
   ]
  },
  {
   "cell_type": "code",
   "execution_count": 5,
   "id": "d4d4f710-cec7-43ad-9ce4-4de8fa8a7a59",
   "metadata": {},
   "outputs": [],
   "source": [
    "my_kwargs = {\n",
    "    'number': 20,\n",
    "    'divisor': 7,\n",
    "}\n",
    "\n",
    "assert remainder(**my_kwargs) == 6"
   ]
  },
  {
   "cell_type": "code",
   "execution_count": 6,
   "id": "296d3cdb-8324-43bd-9268-c002af1f77cc",
   "metadata": {},
   "outputs": [],
   "source": [
    "my_kwargs = {\n",
    "    'divisor': 7,\n",
    "}\n",
    "\n",
    "assert remainder(number=20, **my_kwargs) == 6"
   ]
  },
  {
   "cell_type": "code",
   "execution_count": 7,
   "id": "5285ef5b-487a-43b9-b4d5-79c809ab0a2f",
   "metadata": {},
   "outputs": [],
   "source": [
    "my_kwargs = {\n",
    "    'number': 20,\n",
    "}\n",
    "\n",
    "other_kwargs = {\n",
    "    'divisor': 7,\n",
    "}\n",
    "\n",
    "assert remainder(**my_kwargs, **other_kwargs) == 6"
   ]
  },
  {
   "cell_type": "markdown",
   "id": "c1d51904-c9ee-471e-8b53-8ce5b578e431",
   "metadata": {},
   "source": [
    "아무 키워드 인자나 받는 함수를 만들고 싶다면, 모든 키워드 인자를 dict에 모아주는 `**kwargs` 라는 파라미터를 사용한다.\n",
    "\n",
    "함수 본문에서는 이 dict를 사용해 필요한 처리를 할 수 있다."
   ]
  },
  {
   "cell_type": "code",
   "execution_count": 8,
   "id": "09533fa6-0763-408e-972e-8763f4d83014",
   "metadata": {},
   "outputs": [],
   "source": [
    "def print_parameter(**kwargs):\n",
    "    for key, value in kwargs.items():\n",
    "        print(key, value)"
   ]
  },
  {
   "cell_type": "markdown",
   "id": "39df879c-5b9d-4d00-8dfa-9c5f4ea02524",
   "metadata": {},
   "source": [
    "키워드 인자가 제공하는 유연성을 활용하면 세 가지 큰 이점이 있다.\n",
    "- 키워드 인자를 사용하면 코드를 처음 보는 사람들에게 함수 호출의 의미를 명확히 알려줄 수 있다.\n",
    "- 키워드 인자의 경우 함수 정의에서 디폴트 값을 지정할 수 있다. 따라서 필요할 때는 원하는 함수 인자를 설정할 수 있는 기능을 제공하지만,\n",
    "그렇지 않은 대부분의 경우에는 디폴트 동작을 그냥 받아들여도 된다. 이로 인해 코드 중복 잡음이 줄어든다.\n",
    "- 어떤 함수를 사용하던 기존 호출자에게는 하위 호환성을 제공하면서 함수 파라미터를 확장할 수 있는 방법을 제공한다는 것이다.\n",
    "이로 인해 기존 코드를 별도로 마이그레이션 하지 않아도 기능을 추가할 수 있다."
   ]
  },
  {
   "cell_type": "code",
   "execution_count": null,
   "id": "359aa776-9466-440e-8a3e-ec0b45b27037",
   "metadata": {},
   "outputs": [],
   "source": [
    "# 두 번째 내용은 아래의 의미이다.\n",
    "\n",
    "\n",
    "# before\n",
    "\n",
    "# def flow_rate(weight_diff, time_diff):\n",
    "#     return weight_diff / time_diff\n",
    "\n",
    "\n",
    "# after\n",
    "\n",
    "def flow_rate(weight_diff, time_diff, period=1):\n",
    "    return (weight_diff / time_diff) * period\n",
    "\n",
    "\n",
    "flow_per_second = flow_rate(weight_diff, time_diff)\n",
    "flow_per_hour = flow_rate(weight_diff, time_diff, period=3600)"
   ]
  },
  {
   "cell_type": "code",
   "execution_count": null,
   "id": "8fcd496e-2984-4070-ae8c-c445183a06a9",
   "metadata": {},
   "outputs": [],
   "source": [
    "# 세 번째는 내용은 아래의 의미이다.\n",
    "\n",
    "def flow_rate(weight_diff, time_diff, \n",
    "              period=1, units_per_kg=1):\n",
    "    return ((weight_diff * units_per_kg)/ time_diff) * period\n",
    "\n",
    "\n",
    "pound_per_second = flow_rate(weight_diff, time_diff, period=3600, units_per_kg=2.2)"
   ]
  },
  {
   "cell_type": "markdown",
   "id": "6e30ca0a-2599-4c7e-a5bb-4ffc0f59195e",
   "metadata": {},
   "source": [
    "주의 해야 할 점은\n",
    "\n",
    "```python\n",
    "pound_per_second = flow_rate(weight_diff, time_diff, 3600, 2.2)\n",
    "```\n",
    "\n",
    "선택적인 키워드 인자를 여전히 위치 인자로 지정할 수 있다는 것이다. 혼동을 야기할 수 있으므로 선택적인 인자를 지정하는 최선의 방법은\n",
    "항상 키워드 인자를 사용하고 위치 인자를 절대 사용하지 않는 것이다."
   ]
  }
 ],
 "metadata": {
  "kernelspec": {
   "display_name": "Python 3",
   "language": "python",
   "name": "python3"
  },
  "language_info": {
   "codemirror_mode": {
    "name": "ipython",
    "version": 3
   },
   "file_extension": ".py",
   "mimetype": "text/x-python",
   "name": "python",
   "nbconvert_exporter": "python",
   "pygments_lexer": "ipython3",
   "version": "3.8.8"
  }
 },
 "nbformat": 4,
 "nbformat_minor": 5
}
