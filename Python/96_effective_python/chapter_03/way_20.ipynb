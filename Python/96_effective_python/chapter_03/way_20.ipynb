{
 "cells": [
  {
   "cell_type": "markdown",
   "id": "8105e8a3-e1cd-42a5-b80b-410eaeeb7475",
   "metadata": {},
   "source": [
    "## None 을 반환하기보다는 예외를 발생시켜라"
   ]
  },
  {
   "cell_type": "code",
   "execution_count": 2,
   "id": "7a3f8f42-9d11-44e0-a3ca-617aeaa24b71",
   "metadata": {},
   "outputs": [
    {
     "name": "stdout",
     "output_type": "stream",
     "text": [
      "잘못된 입력\n"
     ]
    }
   ],
   "source": [
    "def careful_divide(a, b):\n",
    "    try:\n",
    "        return a / b\n",
    "    except ZeroDivisionError:\n",
    "        return None\n",
    "    \n",
    "    \n",
    "x, y = 1, 0\n",
    "result = careful_divide(x, y)\n",
    "\n",
    "if result is None:\n",
    "    print(\"잘못된 입력\")"
   ]
  },
  {
   "cell_type": "markdown",
   "id": "42798cd3-eec4-4bb8-9603-04b18ab9183a",
   "metadata": {},
   "source": [
    "제수가 0이 아닌 한 함수는 0을 반환한다. 그런데 함수가 반환한 결과를 if 문 등의 조건에서 평가할 때 0 값이 문제가 될 수 있다.\n",
    "\n",
    "None인지 검사하는 대신, 실수로 빈 값을 False로 취급하는 검사를 실행할 수 있다."
   ]
  },
  {
   "cell_type": "code",
   "execution_count": 3,
   "id": "15e4b59e-7f80-4423-a9b9-75903d8b726f",
   "metadata": {},
   "outputs": [
    {
     "name": "stdout",
     "output_type": "stream",
     "text": [
      "잘못된 입력\n"
     ]
    }
   ],
   "source": [
    "x, y = 0, 5\n",
    "result = careful_divide(x, y)\n",
    "\n",
    "if not result:\n",
    "    print(\"잘못된 입력\")"
   ]
  },
  {
   "cell_type": "markdown",
   "id": "d5d9ad52-9f2c-4f2c-84de-02b66045ef22",
   "metadata": {},
   "source": [
    "False와 동등한 반환 값을 잘못 해석하는 경우는 None이 특별한 의미를 가지는 파이썬 코드에서 흔히 저지르는 실수다. 그래서 careful_divide 와 같은 함수에서 None 을 반환하는 오류를 야기하기 쉽다.\n",
    "\n",
    "실수를 줄이는 방법은 두 가지이다.\n",
    "- 반환 값을 2-튜플로 분리하는 것이다. 이 튜플의 첫 번째 부분은 연산이 성공인지 실패인지를 표시한다. 두 번째 부분은 계산에 성공한 경우 실제 결괏값을 저장한다.\n"
   ]
  },
  {
   "cell_type": "code",
   "execution_count": null,
   "id": "8e8bfb42-b2b6-4b42-b203-07a3c3b23b8a",
   "metadata": {},
   "outputs": [],
   "source": [
    "def careful_divide(a, b):\n",
    "    try:\n",
    "        return a / b\n",
    "    except ZeroDivisionError:\n",
    "        return False, None\n",
    "    \n",
    "success, result = careful_divide(x, y)\n",
    "\n",
    "if not success:\n",
    "    print(\"잘못된 입력\")"
   ]
  },
  {
   "cell_type": "markdown",
   "id": "2db46d67-bcc0-4d3c-84e4-629b0df604b0",
   "metadata": {},
   "source": [
    "위 방법의 문제점은 호출하는 쪽에서 튜플의 첫 번째 부분(변수를 사용하지 않음을 밑줄로 표시하는 파이썬 표준 관례)을 쉽게 무시할 수 있다는 것이다. 이렇게 작성한 코드는 한눈에 보면 잘못됐는지 알아보기 어렵지만, None을 반환한 경우와 마찬가지로 실수할 가능성이 높아진다."
   ]
  },
  {
   "cell_type": "code",
   "execution_count": null,
   "id": "098fa1a3-983c-4493-aa72-d8bc4a701301",
   "metadata": {},
   "outputs": [],
   "source": [
    "_, result = careful_divide(x, y)\n",
    "\n",
    "if not success:\n",
    "    print(\"잘못된 입력\")"
   ]
  },
  {
   "cell_type": "markdown",
   "id": "ec1ed288-5f12-4e16-9ce3-645d642b007f",
   "metadata": {},
   "source": [
    "더 나은 방법은 특별한 경우에 결코 None 을 반환하지 않는 것이다. 대신 Exception을 호출한 쪽으로 발생시켜서 호출자가 이를 처리하게 한다.\n",
    "\n",
    "ZeroDivisionError -> ValueError 호출"
   ]
  },
  {
   "cell_type": "code",
   "execution_count": 6,
   "id": "888791cd-cb56-4556-bbd1-9cf9269fd416",
   "metadata": {},
   "outputs": [
    {
     "name": "stdout",
     "output_type": "stream",
     "text": [
      "결과는 2.5\n"
     ]
    }
   ],
   "source": [
    "def careful_divide(a, b):\n",
    "    try:\n",
    "        return a / b\n",
    "    except ZeroDivisionError:\n",
    "        return ValueError('잘못된 입력')\n",
    "    \n",
    "x, y = 5, 2\n",
    "\n",
    "try:\n",
    "    result = careful_divide(x, y)\n",
    "except ValueError:\n",
    "    print(\"잘못된 입력\")\n",
    "else:\n",
    "    print(f\"결과는 {result:>0.1f}\")"
   ]
  },
  {
   "cell_type": "markdown",
   "id": "bb56d8bc-8a44-4748-8565-b52456af3a35",
   "metadata": {},
   "source": [
    "호출자는 더 이상 반환 값에 대한 조건문을 사용하지 않아도 된다. 대신에 반환 값이 항상 올바르다고 가정하고, try 문의 else 블록에서 이 값을 즉시 사용할 수 있다.\n",
    "\n",
    "이 접근 방법을 확장해서 타입 애너테이션을 사용하는 코드에도 적용할 수 있다. 함수의 값이 항상 float이라고 지정할 수 있고, 그에 따라 None이 결코 반환되지 않음을 알릴 수 있다.\n",
    "\n",
    "하지만 파이썬의 점진적 타입 지정에서는 함수의 인터페이스에 예외가 포함되는지 표현하는 방법이 의도적으로 제외됐다.\n",
    "\n",
    "대신에 호출자가 어떤 Exception을 잡아내야 할지 결정할 때 문서를 참조할 것으로 예상하고, 발생시키는 예외를 문서에 명시해야 한다."
   ]
  },
  {
   "cell_type": "code",
   "execution_count": 8,
   "id": "22c80f36-b4e0-44d4-a562-84e947d9a00c",
   "metadata": {},
   "outputs": [],
   "source": [
    "def careful_divide(a: float, b: float) -> float:\n",
    "    \"\"\"a를 b로 나눈다.\n",
    "    \n",
    "    Raises:\n",
    "        ValueError: b가 0이어서 나눗셈을 할 수 없을 때\n",
    "    \"\"\"\n",
    "    \n",
    "    try:\n",
    "        return a / b\n",
    "    except ZeroDivisionError as e:\n",
    "        raise ValueError('잘못된 입력')"
   ]
  },
  {
   "cell_type": "markdown",
   "id": "0eb56167-699e-45fa-af08-853d5781328f",
   "metadata": {},
   "source": [
    "입력, 출력, 예외적인 동작이 모두 명확해졌고, 호출자가 이 함수를 잘못 처리할 가능성이 매우 낮아졌다."
   ]
  }
 ],
 "metadata": {
  "kernelspec": {
   "display_name": "Python 3",
   "language": "python",
   "name": "python3"
  },
  "language_info": {
   "codemirror_mode": {
    "name": "ipython",
    "version": 3
   },
   "file_extension": ".py",
   "mimetype": "text/x-python",
   "name": "python",
   "nbconvert_exporter": "python",
   "pygments_lexer": "ipython3",
   "version": "3.8.8"
  }
 },
 "nbformat": 4,
 "nbformat_minor": 5
}
