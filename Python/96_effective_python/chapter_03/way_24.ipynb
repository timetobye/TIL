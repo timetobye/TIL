{
 "cells": [
  {
   "cell_type": "markdown",
   "id": "952b56da-ac35-4bae-8ac9-6e335a8d2035",
   "metadata": {},
   "source": [
    "## None과 독스트링을 사용해 동적인 디폴트 인자를 지정하라"
   ]
  },
  {
   "cell_type": "markdown",
   "id": "56e755c1-99d5-4d68-a20f-a4a605dd3f86",
   "metadata": {},
   "source": [
    "종종 키워드 인자의 값으로 정적으로 정해지지 않는 타입의 값을 써야 할 때가 있다.\n",
    "\n",
    "예를 들어 로그 메시지와 시간을 함께 출력하고 싶다고 하자. 기본적으로 함수 호출 시간을 포함하길 원한다. 함수가 호출될 때마다 디폴트 인자가 재계산된다고 가정하면 다음과 같은 접근 방법이 있다."
   ]
  },
  {
   "cell_type": "code",
   "execution_count": 1,
   "id": "c3560777-0d56-48fd-8111-bbbc864b6114",
   "metadata": {},
   "outputs": [
    {
     "name": "stdout",
     "output_type": "stream",
     "text": [
      "2023-04-28 10:13:50.336861: 안녕\n",
      "2023-04-28 10:13:50.336861: 다시 안녕!\n"
     ]
    }
   ],
   "source": [
    "from time import sleep\n",
    "from datetime import datetime\n",
    "\n",
    "def log(message, when=datetime.now()):\n",
    "    print(f'{when}: {message}')\n",
    "    \n",
    "log('안녕')\n",
    "sleep(0.1)\n",
    "log('다시 안녕!')"
   ]
  },
  {
   "cell_type": "markdown",
   "id": "8eb0a936-cbf7-444b-826b-5fb41353aca0",
   "metadata": {},
   "source": [
    "하지만 디폴트 인자는 이런 식으로 작동하지 않는다. 함수가 정의되는 시점에 datetime.now 가 단 한번만 호출되기 때문에 타임스탬프가 항상 같다.\n",
    "\n",
    "디폴트 인자의 값은 모듈이 로드될 때 단 한 번만 평가되는데, 보통 프로그램이 시작할 때 모듈을 로드하는 경우가 많다.\n",
    "\n",
    "이런 경우 원하는 동작을 달성하는 파이썬의 일반적인 관례는 디폴트 값으로 None을 지정하고 실제 동작을 독스트링에 문서화하는 것이다."
   ]
  },
  {
   "cell_type": "code",
   "execution_count": 2,
   "id": "0e60ef0e-8762-4299-928b-6eb474321841",
   "metadata": {},
   "outputs": [
    {
     "name": "stdout",
     "output_type": "stream",
     "text": [
      "2023-04-28 10:16:55.574068: 안녕\n",
      "2023-04-28 10:16:55.675362: 다시 안녕!\n"
     ]
    }
   ],
   "source": [
    "def log(message, when=None):\n",
    "    \"\"\"메시지와 타임스탬프를 로그에 남긴다.\n",
    "    \n",
    "    Args:\n",
    "        meseage: 출력할 메시지,\n",
    "        when: 메시지가 발생한 시각(datetime),\n",
    "            디폴트 값은 현재 시간이다.\n",
    "    \n",
    "    \"\"\"\n",
    "    if when is None:\n",
    "        when = datetime.now()\n",
    "    print(f'{when}: {message}')\n",
    "    \n",
    "log('안녕')\n",
    "sleep(0.1)\n",
    "log('다시 안녕!')"
   ]
  },
  {
   "cell_type": "markdown",
   "id": "974fa317-8cbb-4141-803b-7629e6c2b22b",
   "metadata": {},
   "source": [
    "디폴트 인자 값으로 None을 사용하는 것은 인자가 가변적인 경우 특히 중요하다. 예를 들어 JSON 데이터로 인코딩된 값을 읽으려고 하는데, 데이터 디코딩에 실패하면 디폴트로 빈 딕셔너리를 반환하고 싶다."
   ]
  },
  {
   "cell_type": "code",
   "execution_count": 5,
   "id": "efaa32c3-981c-483e-96f3-3bb5d75c959e",
   "metadata": {},
   "outputs": [],
   "source": [
    "import json\n",
    "\n",
    "def decode(data, default={}):\n",
    "    try:\n",
    "        return json.loads(data)\n",
    "    except ValueError:\n",
    "        return default"
   ]
  },
  {
   "cell_type": "markdown",
   "id": "d5ac270d-8419-4a5c-ba08-a935b4053649",
   "metadata": {},
   "source": [
    "이 코드의 문제점은 앞에서 본 datetime.now의 경우와 같다. 디폴트 값이 단 한 번만 평가되기 때문에 dafault에 지정된 딕셔너리가 decode 호출에 모두 공유된다."
   ]
  },
  {
   "cell_type": "code",
   "execution_count": 6,
   "id": "c6581970-453e-4dbc-9eba-cd789f30eef2",
   "metadata": {},
   "outputs": [
    {
     "name": "stdout",
     "output_type": "stream",
     "text": [
      "{'stuff': 5, 'meep': 1}\n",
      "{'stuff': 5, 'meep': 1}\n"
     ]
    }
   ],
   "source": [
    "foo = decode('잘못된 데이터')\n",
    "foo['stuff'] = 5\n",
    "bar = decode('또 잘못된 데이터')\n",
    "bar['meep'] = 1\n",
    "\n",
    "print(foo)\n",
    "print(bar)"
   ]
  },
  {
   "cell_type": "markdown",
   "id": "d91a40ea-afd3-44e6-8d9d-2a362048b214",
   "metadata": {},
   "source": [
    "키와 값이 하나뿐인 서로 다른 딕셔너리가 두 개 출력될 것으로 예상한 독자도 있을 것이다. 하지만 한쪽 딕셔너리를 변경하면 다른 쪽 딕셔너리도 변경되는 것처럼 보인다.\n",
    "\n",
    "foo와 bar가 모두 default 파라미터와 같기 때문이다. 둘은 모두 동일한 딕셔너리 객체다."
   ]
  },
  {
   "cell_type": "code",
   "execution_count": 7,
   "id": "fe2bbb34-0558-4355-a3d0-9536f8d8cde1",
   "metadata": {},
   "outputs": [],
   "source": [
    "assert foo is bar"
   ]
  },
  {
   "cell_type": "markdown",
   "id": "33432e83-c1cf-4c7f-b9d0-caeb3f7b3821",
   "metadata": {},
   "source": [
    "이 문제의 해법은 이 함수에 있는 키워드 인자의 디폴트 값으로 None을 지정하고 함수의 독스트링에 동작 방식을 기술하는 것이다."
   ]
  },
  {
   "cell_type": "code",
   "execution_count": 12,
   "id": "dc27c73a-c284-48c7-929a-4b94222dc115",
   "metadata": {},
   "outputs": [],
   "source": [
    "import json\n",
    "\n",
    "def decode(data, default=None):\n",
    "    \"\"\"문자열로부터 JSON 데이터를 읽어온다.\n",
    "    \n",
    "    Args:\n",
    "        data: 디코딩할 JSON 데이터.\n",
    "        default: 디코딩 실패 시 반환할 값이다.\n",
    "            디폴트 값은 빈 딕셔너리이다.\n",
    "    \n",
    "    \"\"\"\n",
    "    \n",
    "    try:\n",
    "        return json.loads(data)\n",
    "    except ValueError:\n",
    "        if default is None:\n",
    "            default = {}\n",
    "        return default"
   ]
  },
  {
   "cell_type": "code",
   "execution_count": 14,
   "id": "7026a089-2dfe-4bd8-b85a-1fc32c9f7cac",
   "metadata": {},
   "outputs": [
    {
     "name": "stdout",
     "output_type": "stream",
     "text": [
      "{}\n",
      "{'stuff': 5}\n",
      "{'meep': 1}\n"
     ]
    }
   ],
   "source": [
    "foo = decode('잘못된 데이터')\n",
    "print(foo)\n",
    "foo['stuff'] = 5\n",
    "bar = decode('또 잘못된 데이터')\n",
    "bar['meep'] = 1\n",
    "\n",
    "print(foo)\n",
    "print(bar)"
   ]
  },
  {
   "cell_type": "markdown",
   "id": "6293b96a-2661-41ce-9196-332b04c9efb0",
   "metadata": {},
   "source": [
    "이 접근 방법은 타입 애너테이션을 사용해도 잘 작동한다."
   ]
  },
  {
   "cell_type": "code",
   "execution_count": 15,
   "id": "60e3fa92-5758-44d2-bf56-a44bc216a43c",
   "metadata": {},
   "outputs": [],
   "source": [
    "from typing import Optional\n",
    "\n",
    "def log_typed(message: str, \n",
    "             when: Optional[datetime]=None) -> None:\n",
    "    \"\"\"메시지와 타임스탬프를 로그에 남긴다.\n",
    "    \n",
    "    Args:\n",
    "        meseage: 출력할 메시지,\n",
    "        when: 메시지가 발생한 시각(datetime),\n",
    "            디폴트 값은 현재 시간이다.\n",
    "    \n",
    "    \"\"\"\n",
    "    if when is None:\n",
    "        when = datetime.now()\n",
    "    print(f'{when}: {message}')"
   ]
  },
  {
   "cell_type": "code",
   "execution_count": 16,
   "id": "358020d9-2e1e-4683-8fd8-181543cdf648",
   "metadata": {},
   "outputs": [
    {
     "name": "stdout",
     "output_type": "stream",
     "text": [
      "2023-04-28 10:31:41.610240: 안녕\n",
      "2023-04-28 10:31:41.711456: 다시 안녕!\n"
     ]
    }
   ],
   "source": [
    "log_typed('안녕')\n",
    "sleep(0.1)\n",
    "log_typed('다시 안녕!')"
   ]
  },
  {
   "cell_type": "code",
   "execution_count": 17,
   "id": "42f8721d-9c59-43a3-bea0-ae76cce66366",
   "metadata": {},
   "outputs": [
    {
     "data": {
      "text/plain": [
       "\u001b[0;31mSignature:\u001b[0m   \u001b[0mOptional\u001b[0m\u001b[0;34m(\u001b[0m\u001b[0;34m*\u001b[0m\u001b[0margs\u001b[0m\u001b[0;34m,\u001b[0m \u001b[0;34m**\u001b[0m\u001b[0mkwds\u001b[0m\u001b[0;34m)\u001b[0m\u001b[0;34m\u001b[0m\u001b[0;34m\u001b[0m\u001b[0m\n",
       "\u001b[0;31mType:\u001b[0m        _SpecialForm\n",
       "\u001b[0;31mString form:\u001b[0m typing.Optional\n",
       "\u001b[0;31mFile:\u001b[0m        ~/opt/anaconda3/lib/python3.8/typing.py\n",
       "\u001b[0;31mDocstring:\u001b[0m  \n",
       "Internal indicator of special typing constructs.\n",
       "See _doc instance attribute for specific docs.\n"
      ]
     },
     "metadata": {},
     "output_type": "display_data"
    }
   ],
   "source": [
    "Optional?"
   ]
  },
  {
   "cell_type": "code",
   "execution_count": null,
   "id": "ce9a4cf5-e50e-40c6-9d2c-8c035a8427b2",
   "metadata": {},
   "outputs": [],
   "source": []
  }
 ],
 "metadata": {
  "kernelspec": {
   "display_name": "Python 3",
   "language": "python",
   "name": "python3"
  },
  "language_info": {
   "codemirror_mode": {
    "name": "ipython",
    "version": 3
   },
   "file_extension": ".py",
   "mimetype": "text/x-python",
   "name": "python",
   "nbconvert_exporter": "python",
   "pygments_lexer": "ipython3",
   "version": "3.8.8"
  }
 },
 "nbformat": 4,
 "nbformat_minor": 5
}
