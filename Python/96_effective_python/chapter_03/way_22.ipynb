{
 "cells": [
  {
   "cell_type": "markdown",
   "id": "45056a0c-2ce2-4d13-b0f2-692f115599b0",
   "metadata": {},
   "source": [
    "## 변수 위치 인자를 사용해 시각적인 잡음을 줄여라"
   ]
  },
  {
   "cell_type": "markdown",
   "id": "e1ca808e-3d16-4d05-8c37-afb9df80fc8d",
   "metadata": {},
   "source": [
    "위치 인자(positional argument)를 가변적으로 받을 수 있으면 함수 호출이 더 깔끔해지고 시각적 잡음도 줄어든다.\n",
    "\n",
    "예를 들어 디버깅 정보를 로그에 남기고 싶다고 하자. 인자 수가 고정돼 있으면 메시지와 값의 List를 받는 함수가 필요하다."
   ]
  },
  {
   "cell_type": "code",
   "execution_count": 3,
   "id": "690cfd93-555b-4696-8b34-23f66b63d1f0",
   "metadata": {},
   "outputs": [
    {
     "name": "stdout",
     "output_type": "stream",
     "text": [
      "내 숫자는: 1, 2\n",
      "안녕\n"
     ]
    }
   ],
   "source": [
    "def log(message, values):\n",
    "    if not values:\n",
    "        print(message)\n",
    "    else:\n",
    "        value_str = ', '.join(str(x) for x in values)\n",
    "        print(f'{message}: {value_str}')\n",
    "\n",
    "log('내 숫자는', [1, 2])\n",
    "log('안녕', [])"
   ]
  },
  {
   "cell_type": "markdown",
   "id": "cf4ca3d7-7c12-43e6-ae02-0920fe1941a3",
   "metadata": {},
   "source": [
    "로그에 남길 값이 없을 때도 빈 리스트를 넘겨야 한다면 코드 잡음이 존재한다. 이럴 때 두 번째 인자를 완전히 생략하면 좋다.\n",
    "\n",
    "파이썬에서는 마지막 위치 인자 이름 앞에 `*`를 붙이면 된다. 로그 메시지의 첫 번째 파라미터는 반드시 필요하지만, 그 이후의 모든 위치 인자는 선택 사항이다.\n",
    "\n",
    "가변 인자를 써도 함수 본문은 바뀌지 않는다. 단지 호출하는 코드만 바뀐다."
   ]
  },
  {
   "cell_type": "code",
   "execution_count": 4,
   "id": "40a73b17-bc1c-4e07-8848-4117e3b3878d",
   "metadata": {},
   "outputs": [
    {
     "name": "stdout",
     "output_type": "stream",
     "text": [
      "내 숫자는: [1, 2]\n",
      "안녕\n"
     ]
    }
   ],
   "source": [
    "def log(message, *values):\n",
    "    if not values:\n",
    "        print(message)\n",
    "    else:\n",
    "        value_str = ', '.join(str(x) for x in values)\n",
    "        print(f'{message}: {value_str}')\n",
    "\n",
    "log('내 숫자는', [1, 2])\n",
    "log('안녕')"
   ]
  },
  {
   "cell_type": "markdown",
   "id": "17ca1f75-6ea6-4eeb-b9c7-2cfe5cdf5e3e",
   "metadata": {},
   "source": [
    "이미 시퀀스가 있는데 log와 같은 가변 인자 함수에 시퀀스를 사용하고 싶다면 `*` 연산자를 사용하면 된다.\n",
    "\n",
    "`*` 연산자는 파이썬이 시퀀스의 원소들을 함수의 위치 인자로 넘길 것을 명령한다."
   ]
  },
  {
   "cell_type": "code",
   "execution_count": 5,
   "id": "0d81b86d-5d54-4ec6-92bc-4e7d07287b5b",
   "metadata": {},
   "outputs": [
    {
     "name": "stdout",
     "output_type": "stream",
     "text": [
      "좋아하는 숫자는: 7, 33, 99\n"
     ]
    }
   ],
   "source": [
    "favorites = [7, 33, 99]\n",
    "\n",
    "log('좋아하는 숫자는', *favorites)"
   ]
  },
  {
   "cell_type": "markdown",
   "id": "d2b34d3b-7ff8-46b5-bafc-aa08b478d950",
   "metadata": {},
   "source": [
    "가변적인 위치 인자를 받는 데는 두 가지 문제점이 있다.\n",
    "\n",
    "첫 번째 문제점은 이런 선택적인 위치 인자가 함수에 전달되기 전에 항상 튜플로 변환된다는 것이다. 이는 함수를 호출하는 쪽에서 제너레이터 앞에 `*` 연산자를 사용하면\n",
    "제너레이터의 모든 원소를 얻기 위해 반복한다는 뜻이다.\n",
    "\n",
    "이렇게 만들어지는 튜플은 제너레이터가 만들어낸 모든 값을 포함하며, 이로 인해 메모리를 아주 많이 소비하거나 프로그램이 중단돼버릴 수 있다."
   ]
  },
  {
   "cell_type": "code",
   "execution_count": 13,
   "id": "90106765-51fc-4d70-a64f-a85e961ed266",
   "metadata": {},
   "outputs": [
    {
     "name": "stdout",
     "output_type": "stream",
     "text": [
      "(0, 1, 2, 3, 4, 5, 6, 7, 8, 9)\n"
     ]
    }
   ],
   "source": [
    "def my_generator():\n",
    "    for i in range(10):\n",
    "        yield i\n",
    "        \n",
    "def my_func(*args):\n",
    "    print(args)\n",
    "    \n",
    "it = my_generator()\n",
    "my_func(*it)"
   ]
  },
  {
   "cell_type": "markdown",
   "id": "fcc6ab3d-4620-4854-818e-1fdf8a245667",
   "metadata": {},
   "source": [
    "`*args` 를 받는 함수는 인자 목록에서 가변적인 부분에 들어가는 인자의 개수가 처리하기 좋을 정도로 충분히 작다는 사실을 이미 알고 있는 경우에 가장 적합하다.\n",
    "- `*args` 는 여러 리터럴이나 변수 이름을 함께 전달하는 함수 호출에 이상적이다.\n",
    "- `*args` 는 주로 프로그래머의 편의와 코드 가독성을 위한 기능이다."
   ]
  },
  {
   "cell_type": "markdown",
   "id": "c44fd413-7502-4c27-bd84-61ef435ec1f4",
   "metadata": {},
   "source": [
    "`*args` 의 두 번째 문제점은 함수에 새로운 위치 인자를 추가하면 해당 함수를 호출하는 모든 코드를 변경해야 한다는 것이다.\n",
    "- 가변 인자가 존재하는 함수 인자 목록의 앞부분에 위치 인자를 추가하려고 시도하면, 기존 호출 코드를 변경하지 않는 경우 호출하는 코드가 미묘하게 깨질 수 있다."
   ]
  },
  {
   "cell_type": "code",
   "execution_count": 14,
   "id": "9f2ddc8b-3ffb-485e-b591-2f886f73a675",
   "metadata": {},
   "outputs": [
    {
     "name": "stdout",
     "output_type": "stream",
     "text": [
      "1 - 좋아하는 숫자는: 7, 33\n",
      "1 - 안녕\n",
      "좋아하는 숫자는 - 7: 33\n"
     ]
    }
   ],
   "source": [
    "def log(sequence, message, *values):\n",
    "    if not values:\n",
    "        print(f'{sequence} - {message}')\n",
    "    else:\n",
    "        value_str = ', '.join(str(x) for x in values)\n",
    "        print(f'{sequence} - {message}: {value_str}')\n",
    "#         print(f'{message}: {value_str}')\n",
    "\n",
    "log(1, '좋아하는 숫자는', 7, 33)\n",
    "log(1, '안녕')\n",
    "log('좋아하는 숫자는', 7, 33)"
   ]
  },
  {
   "cell_type": "markdown",
   "id": "7599e1b7-5627-4a60-9ce2-2394572917fb",
   "metadata": {},
   "source": [
    "세 번째 log 호출에서는 sequence가 주어지지 않았기 때문에 7일 message 파라미터로 사용한다는 점이 문제가 된다.\n",
    "\n",
    "예외가 발생하지 않고 코드가 작동할 수도 있기 때문에 이런 버그는 추적하기가 어렵다.\n",
    "\n",
    "이런 가능성을 완전히 없애려면 `*args` 를 받아들이는 함수를 확장할 때는 키워드 기반의 인자만 사용해야 한다.\n",
    "\n",
    "더 방어적으로 프로그래밍하려면 타입 애너테이션을 사용해도 된다."
   ]
  },
  {
   "cell_type": "code",
   "execution_count": null,
   "id": "9223c25d-c1c0-43c3-861f-f2843380aa12",
   "metadata": {},
   "outputs": [],
   "source": []
  }
 ],
 "metadata": {
  "kernelspec": {
   "display_name": "Python 3",
   "language": "python",
   "name": "python3"
  },
  "language_info": {
   "codemirror_mode": {
    "name": "ipython",
    "version": 3
   },
   "file_extension": ".py",
   "mimetype": "text/x-python",
   "name": "python",
   "nbconvert_exporter": "python",
   "pygments_lexer": "ipython3",
   "version": "3.8.8"
  }
 },
 "nbformat": 4,
 "nbformat_minor": 5
}
