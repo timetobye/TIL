{
 "cells": [
  {
   "cell_type": "markdown",
   "id": "c2ce0b65-01cd-4fe1-bbaa-25f6e5da0b12",
   "metadata": {},
   "source": [
    "## 함수가 여러 값을 반환하는 경우 절대로 네 값 이상을 언패킹하지 말라"
   ]
  },
  {
   "cell_type": "code",
   "execution_count": 1,
   "id": "67d40a02-39fc-4af0-9b3b-a25ad188e167",
   "metadata": {},
   "outputs": [],
   "source": [
    "def get_stats(numbers):\n",
    "    minimum = min(numbers)\n",
    "    maximum = max(numbers)\n",
    "    \n",
    "    return minimum, maximum"
   ]
  },
  {
   "cell_type": "code",
   "execution_count": 3,
   "id": "005aac89-310a-4a37-be3f-96ab24c1f4de",
   "metadata": {},
   "outputs": [
    {
     "name": "stdout",
     "output_type": "stream",
     "text": [
      "60 73\n"
     ]
    }
   ],
   "source": [
    "lengths = [63, 73, 72, 60, 66, 71, 61, 72, 70]\n",
    "\n",
    "mini, maxi = get_stats(lengths)\n",
    "print(mini, maxi)"
   ]
  },
  {
   "cell_type": "code",
   "execution_count": 4,
   "id": "ad49fb51-cfa7-49e6-bae6-9e7f0c9ec20b",
   "metadata": {},
   "outputs": [
    {
     "name": "stdout",
     "output_type": "stream",
     "text": [
      "1 2\n"
     ]
    }
   ],
   "source": [
    "def my_function():\n",
    "    return 1, 2\n",
    "\n",
    "first, second = my_function()\n",
    "print(first, second)"
   ]
  },
  {
   "cell_type": "markdown",
   "id": "61d03ff3-6bdb-4690-98bb-70fe911d9788",
   "metadata": {},
   "source": [
    "여러 값을 한꺼번에 처리하는 별표 식을 사용해 여러 값을 반환받을 수도 있다. 예를 들어 각 악어 개체의 몸 길이가 전체 개체군의 몸 길이 평균에 비해 얼마나 크지 계산하는 다른 함수가 필요하다고 하자."
   ]
  },
  {
   "cell_type": "code",
   "execution_count": 5,
   "id": "8cae9a17-fd31-4cb5-960f-7c5c96221fd5",
   "metadata": {},
   "outputs": [],
   "source": [
    "def get_avg_ratio(numbers):\n",
    "    average = sum(numbers) / len(numbers)\n",
    "    scaled = [x / average for x in numbers]\n",
    "    scaled.sort(reverse=True)\n",
    "    \n",
    "    return scaled"
   ]
  },
  {
   "cell_type": "code",
   "execution_count": 8,
   "id": "dd62d7c1-57f5-4330-b064-ab89373d49f1",
   "metadata": {},
   "outputs": [
    {
     "name": "stdout",
     "output_type": "stream",
     "text": [
      "최대 길이 : 108%\n",
      "최소 길이 :  89%\n"
     ]
    }
   ],
   "source": [
    "longest, *middle, shortest = get_avg_ratio(lengths)\n",
    "print(f'최대 길이 : {longest:>4.0%}')\n",
    "print(f'최소 길이 : {shortest:>4.0%}')"
   ]
  },
  {
   "cell_type": "markdown",
   "id": "730b45ab-d18b-475f-9bd0-64f44b245727",
   "metadata": {},
   "source": [
    "조금 더 확장해서....평균, 중앙값, 악어 개체군의 개체 수까지 요구하는 것으로 바뀌었다고 하자"
   ]
  },
  {
   "cell_type": "code",
   "execution_count": 9,
   "id": "b2b374b4-36f9-4183-96d6-b9cc309dafef",
   "metadata": {},
   "outputs": [],
   "source": [
    "def get_stats(numbers):\n",
    "    minimum = min(numbers)\n",
    "    maximum = max(numbers)\n",
    "    count = len(numbers)\n",
    "    average = sum(numbers) / count\n",
    "    \n",
    "    sorted_numbers = sorted(numbers)\n",
    "    middle = count // 2\n",
    "    \n",
    "    if count % 2 == 0:\n",
    "        lower = sorted_numbers[middle - 1]\n",
    "        upper = sorted_numbers[middle]\n",
    "        median = (lower + upper) / 2\n",
    "    else:\n",
    "        median = sorted_numbers[middle]\n",
    "    \n",
    "    return minimum, maximum, average, median, count"
   ]
  },
  {
   "cell_type": "code",
   "execution_count": 10,
   "id": "df7d82b1-de5f-4b51-871c-de8e572c40ab",
   "metadata": {},
   "outputs": [
    {
     "name": "stdout",
     "output_type": "stream",
     "text": [
      "60 73 67.55555555555556 70 9\n"
     ]
    }
   ],
   "source": [
    "minimum, maximum, average, median, count = get_stats(lengths)\n",
    "print(minimum, maximum, average, median, count)"
   ]
  },
  {
   "cell_type": "markdown",
   "id": "7d95d074-0dde-404f-ba10-745666dff862",
   "metadata": {},
   "source": []
  }
 ],
 "metadata": {
  "kernelspec": {
   "display_name": "Python 3",
   "language": "python",
   "name": "python3"
  },
  "language_info": {
   "codemirror_mode": {
    "name": "ipython",
    "version": 3
   },
   "file_extension": ".py",
   "mimetype": "text/x-python",
   "name": "python",
   "nbconvert_exporter": "python",
   "pygments_lexer": "ipython3",
   "version": "3.8.8"
  }
 },
 "nbformat": 4,
 "nbformat_minor": 5
}
