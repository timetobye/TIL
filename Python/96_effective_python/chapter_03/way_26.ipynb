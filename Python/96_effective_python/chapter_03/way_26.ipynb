{
 "cells": [
  {
   "cell_type": "markdown",
   "id": "659223ac-8da8-4633-902d-6bf249fcf237",
   "metadata": {},
   "source": [
    "## functools.wrap 을 사용해 함수 데코레이터를 정의하라"
   ]
  },
  {
   "cell_type": "markdown",
   "id": "d306118c-5998-4d01-9c49-778ea864bc91",
   "metadata": {},
   "source": [
    "파이썬은 함수에 적용할 수 있는 데코레이터(decorator)를 정의하는 특별한 구문을 제공한다.\n",
    "- 데코레이터는 자신이 감싸고 있는 함수가 호출되기 전과 후의 코드를 추가로 실행해준다.\n",
    "- 이는 데코레이터가 자신이 감싸고 있는 함수의 입력 인자, 반환 값, 함수에서 발생한 오류에 접근할 수 있다는 뜻이다.\n",
    "- 함수의 의미를 강화하거나 디버깅을 하거나 함수를 등록하는 등의 일에 이런 기능을 유용하게 쓸 수 있다.\n",
    "\n",
    "예를 들어 함수가 호출될 때마다 인자 값과 반환 값을 출력하고 싶다고 하자.\n",
    "- 이런 기능은 재귀적 함수에서 함수 호출이 재귀적으로 내포되는 경우를 디버깅할 때 특히 유용하다.\n",
    "- 여기서서는 `*args` 와 `**kwargs` 를 사용해 감싸진 함수의 모든 파라미터를 전달받았다."
   ]
  },
  {
   "cell_type": "code",
   "execution_count": 10,
   "id": "a51b5432-7bf9-46a6-bc0f-04eef49cd782",
   "metadata": {},
   "outputs": [],
   "source": [
    "def trace(func):\n",
    "    def wrapper(*args, **kwargs):\n",
    "        result = func(*args, **kwargs)\n",
    "        print(f'{func.__name__}({args!r}, {kwargs!r}) -> {result!r}')\n",
    "        \n",
    "        return result\n",
    "    return wrapper"
   ]
  },
  {
   "cell_type": "markdown",
   "id": "67832fb7-2078-45c7-aef9-d2b61abaa7a2",
   "metadata": {},
   "source": [
    "이 데코레이터를 함수에 적용할 때는 @ 기호를 사용한다."
   ]
  },
  {
   "cell_type": "code",
   "execution_count": 11,
   "id": "71150716-93bc-4566-8730-09c8d91153ac",
   "metadata": {},
   "outputs": [],
   "source": [
    "@trace\n",
    "def fibonacci(n):\n",
    "    \"\"\"n번째 피보나치 수를 반환한다.\"\"\"\n",
    "    \n",
    "    if n in (0, 1):\n",
    "        return n\n",
    "    return (fibonacci(n-2) + fibonacci(n-1))"
   ]
  },
  {
   "cell_type": "markdown",
   "id": "2d053d57-9211-4674-9e16-6a9aaf0a70d0",
   "metadata": {},
   "source": [
    "`@` 기호를 사용하는 것은 이 함수에 대해 데코레이터를 호출한 후, 데코레이터가 반환한 결과(데코레이터는 함수를 반환하므로 원래 함수 대신 데코레이터가 반환한 함수를 써도 된다.)를\n",
    "원래 함수가 속해야 하는 영역에 원래 함수와 같은 이름으로 등록하는 것과 같다.\n",
    "\n",
    "```python\n",
    "fibonacci = trace(fibonacci)\n",
    "```"
   ]
  },
  {
   "cell_type": "code",
   "execution_count": 12,
   "id": "d043e366-9745-40e7-baa7-8f2fdc39ba09",
   "metadata": {},
   "outputs": [],
   "source": [
    "fibonacci = trace(fibonacci)"
   ]
  },
  {
   "cell_type": "markdown",
   "id": "275512bb-1af6-44e9-af90-d6e9d5586513",
   "metadata": {},
   "source": [
    "이렇게 꾸며진 함수(fibonacci)는 wrapper 코드를 원래의 fibonacci 함수가 실행되기 전과 후에 실행한다.\n",
    "\n",
    "따라서 wrapper 는 재귀 스택의 매 단계마다 함수의 인자와 반환 값을 출력한다."
   ]
  },
  {
   "cell_type": "code",
   "execution_count": 13,
   "id": "adbc8ef8-b920-4aac-9a61-d7be18fa29ad",
   "metadata": {},
   "outputs": [
    {
     "name": "stdout",
     "output_type": "stream",
     "text": [
      "fibonacci((0,), {}) -> 0\n",
      "wrapper((0,), {}) -> 0\n",
      "fibonacci((1,), {}) -> 1\n",
      "wrapper((1,), {}) -> 1\n",
      "fibonacci((2,), {}) -> 1\n",
      "wrapper((2,), {}) -> 1\n",
      "fibonacci((1,), {}) -> 1\n",
      "wrapper((1,), {}) -> 1\n",
      "fibonacci((0,), {}) -> 0\n",
      "wrapper((0,), {}) -> 0\n",
      "fibonacci((1,), {}) -> 1\n",
      "wrapper((1,), {}) -> 1\n",
      "fibonacci((2,), {}) -> 1\n",
      "wrapper((2,), {}) -> 1\n",
      "fibonacci((3,), {}) -> 2\n",
      "wrapper((3,), {}) -> 2\n",
      "fibonacci((4,), {}) -> 3\n",
      "wrapper((4,), {}) -> 3\n"
     ]
    },
    {
     "data": {
      "text/plain": [
       "3"
      ]
     },
     "execution_count": 13,
     "metadata": {},
     "output_type": "execute_result"
    }
   ],
   "source": [
    "fibonacci(4)"
   ]
  },
  {
   "cell_type": "markdown",
   "id": "c73af0dc-e957-4732-813e-5a130d501421",
   "metadata": {},
   "source": [
    "이 코드는 잘 작동하지만, 의도하지 않은 부작용이 있다. 데코레이터가 반환하는 함수(앞에서 호출한 감싸진 fibonacci 함수)의 이름이 fibonacci 가 아니게 된다."
   ]
  },
  {
   "cell_type": "code",
   "execution_count": 14,
   "id": "adcb0d6a-ea5d-400a-abfc-5cb0a014966c",
   "metadata": {},
   "outputs": [
    {
     "name": "stdout",
     "output_type": "stream",
     "text": [
      "<function trace.<locals>.wrapper at 0x7ffa41044d30>\n"
     ]
    }
   ],
   "source": [
    "print(fibonacci)"
   ]
  },
  {
   "cell_type": "markdown",
   "id": "a341756d-18a6-4653-8b8a-87230e51b2f3",
   "metadata": {},
   "source": [
    "이런 결과가 나타난 이유\n",
    "- trace 함수는 자신의 본문에 정의된 wrapper 함수를 반환한다.\n",
    "- 데코레이터로 인해 이 wrapper 함수가 모듈에 fibonacci라는 이름으로 등록된다.\n",
    "- 이런 동작은 디버거와 같이 인트로스펙션(실행 시점에 프로그램이 어떻게 실행되는지 관찰하는 것)을 하는 도구에서 문제가 된다.\n",
    "\n",
    "예를 들어 꾸며진 fibonacci 함수에 help 내장 함수를 호출하면 쓸모가 없다.\n",
    "\n",
    "다음과 같이 호출하면 fibonacci 함수의 맨 앞부분에 있는 독스트링이 출력 돼야 하지만, 실제로는 그렇지 않다."
   ]
  },
  {
   "cell_type": "code",
   "execution_count": 15,
   "id": "8f160622-fb37-4c05-b570-8978a9b0f615",
   "metadata": {},
   "outputs": [
    {
     "name": "stdout",
     "output_type": "stream",
     "text": [
      "Help on function wrapper in module __main__:\n",
      "\n",
      "wrapper(*args, **kwargs)\n",
      "\n"
     ]
    }
   ],
   "source": [
    "help(fibonacci)"
   ]
  },
  {
   "cell_type": "markdown",
   "id": "1860bd66-8c3d-4890-8856-d08870a199d5",
   "metadata": {},
   "source": [
    "데코레이터가 감싸고 있는 원래 함수의 위치를 찾을 수 없기 때문에 객체 직렬화도 깨진다."
   ]
  },
  {
   "cell_type": "code",
   "execution_count": 16,
   "id": "ff9df50f-987e-4b67-b1cc-da7a560c0a18",
   "metadata": {},
   "outputs": [
    {
     "ename": "AttributeError",
     "evalue": "Can't pickle local object 'trace.<locals>.wrapper'",
     "output_type": "error",
     "traceback": [
      "\u001b[0;31m---------------------------------------------------------------------------\u001b[0m",
      "\u001b[0;31mAttributeError\u001b[0m                            Traceback (most recent call last)",
      "\u001b[0;32m<ipython-input-16-689374fb5a49>\u001b[0m in \u001b[0;36m<module>\u001b[0;34m\u001b[0m\n\u001b[1;32m      1\u001b[0m \u001b[0;32mimport\u001b[0m \u001b[0mpickle\u001b[0m\u001b[0;34m\u001b[0m\u001b[0;34m\u001b[0m\u001b[0m\n\u001b[1;32m      2\u001b[0m \u001b[0;34m\u001b[0m\u001b[0m\n\u001b[0;32m----> 3\u001b[0;31m \u001b[0mpickle\u001b[0m\u001b[0;34m.\u001b[0m\u001b[0mdumps\u001b[0m\u001b[0;34m(\u001b[0m\u001b[0mfibonacci\u001b[0m\u001b[0;34m)\u001b[0m\u001b[0;34m\u001b[0m\u001b[0;34m\u001b[0m\u001b[0m\n\u001b[0m",
      "\u001b[0;31mAttributeError\u001b[0m: Can't pickle local object 'trace.<locals>.wrapper'"
     ]
    }
   ],
   "source": [
    "import pickle\n",
    "\n",
    "pickle.dumps(fibonacci)"
   ]
  },
  {
   "cell_type": "markdown",
   "id": "d1266148-25d1-48c2-83d4-027bdac2f37c",
   "metadata": {},
   "source": [
    "문제를 해결하는 방법은 functools 내장 모듈에 정의된 wraps 도우미 함수를 사용하는 것이다. 이 함수는 데코레이터 작성을 돕는 데코레이터이다.\n",
    "\n",
    "wraps 를 wrapper 함수에 적용하면 wraps가 데코레이터 내부에 들어가는 함수에서 중요한 메타데이터를 복사해 wrapper 함수에 적용해준다."
   ]
  },
  {
   "cell_type": "code",
   "execution_count": 17,
   "id": "2d148874-c02e-4d23-8bb5-0d8483813bdd",
   "metadata": {},
   "outputs": [],
   "source": [
    "from functools import wraps\n",
    "\n",
    "def trace(func):\n",
    "    @wraps(func)\n",
    "    def wrapper(*args, **kwargs):\n",
    "        result = func(*args, **kwargs)\n",
    "        print(f'{func.__name__}({args!r}, {kwargs!r}) -> {result!r}')\n",
    "        \n",
    "        return result\n",
    "    return wrapper\n",
    "\n",
    "@trace\n",
    "def fibonacci(n):\n",
    "    \"\"\"n번째 피보나치 수를 반환한다.\"\"\"\n",
    "    \n",
    "    if n in (0, 1):\n",
    "        return n\n",
    "    return (fibonacci(n-2) + fibonacci(n-1))"
   ]
  },
  {
   "cell_type": "code",
   "execution_count": 18,
   "id": "b5339243-9438-442b-9952-e5d8d3f1f570",
   "metadata": {},
   "outputs": [
    {
     "name": "stdout",
     "output_type": "stream",
     "text": [
      "Help on function fibonacci in module __main__:\n",
      "\n",
      "fibonacci(n)\n",
      "    n번째 피보나치 수를 반환한다.\n",
      "\n"
     ]
    }
   ],
   "source": [
    "help(fibonacci)"
   ]
  },
  {
   "cell_type": "markdown",
   "id": "6c48830e-736a-4bef-addd-95c62aac1cc8",
   "metadata": {},
   "source": [
    "help 함수를 실행하면 데코레이터로 감싸진 함수에 대해서도 원하는 결과를 볼 수 있다."
   ]
  },
  {
   "cell_type": "markdown",
   "id": "0f16a2bf-4b69-470e-b450-fcc82a6ae0f8",
   "metadata": {},
   "source": [
    "기억해야 할 내용\n",
    "- 파이썬 데코레이터는 실행 시점에 함수가 다른 함수를 변경할 수 있게 해주는 구문이다.\n",
    "- 데코레이터를 사용하면 디버거 등 인트로스펙션을 사용하는 도구가 잘못 작동할 수 있다.\n",
    "- 직접 데코레이터를 구현할 떄 인트로스펙션에서 문제가 생기지 않길 바란다면 functools 내장 모듈의 wraps 데코레이터를 사용하라."
   ]
  }
 ],
 "metadata": {
  "kernelspec": {
   "display_name": "Python 3",
   "language": "python",
   "name": "python3"
  },
  "language_info": {
   "codemirror_mode": {
    "name": "ipython",
    "version": 3
   },
   "file_extension": ".py",
   "mimetype": "text/x-python",
   "name": "python",
   "nbconvert_exporter": "python",
   "pygments_lexer": "ipython3",
   "version": "3.8.8"
  }
 },
 "nbformat": 4,
 "nbformat_minor": 5
}
