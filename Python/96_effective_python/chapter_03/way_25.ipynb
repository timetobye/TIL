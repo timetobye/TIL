{
 "cells": [
  {
   "cell_type": "markdown",
   "id": "e3e85074-4230-46af-b2ff-be71ce18cb06",
   "metadata": {},
   "source": [
    "## 위치로만 인자를 지정하게 하거나 키워드로만 인자를 지정하게 해서 함수 호출을 명확하게 만들라"
   ]
  },
  {
   "cell_type": "markdown",
   "id": "60ecefda-9962-4e3d-9c10-c572f7d628d0",
   "metadata": {},
   "source": [
    "키워드를 사용해 인자를 넘기는 기능은 파이썬 함수의 강력한 기능이다.\n",
    "\n",
    "인자의 유연성을 활용하면 코드를 처음 읽는 사람도 더 명확하게 용례를 이해할 수 있는 함수를 작성할 수 있다.\n",
    "\n",
    "예를 들어 한 숫자를 다른 숫자로 나눌 때 세삼하게 주의를 기울여야 한느 특별한 경우가 있는지 알고 싶다고 하자.\n",
    "\n",
    "떄로는 ZeroDivisionError 예외를 무시하고 무한대를 반환하고 싶고, 어떨 때는 OverflowError 예외를 무시하고 대신 0을 반환하고 싶다."
   ]
  },
  {
   "cell_type": "code",
   "execution_count": 1,
   "id": "e173f5fe-870b-48f5-8030-b4ff0730bdf4",
   "metadata": {},
   "outputs": [],
   "source": [
    "def safe_divison(number, divisor,\n",
    "                ignore_overflow,\n",
    "                ignore_zero_division):\n",
    "    \n",
    "    try:\n",
    "        return number / divisor\n",
    "    except OverflowError:\n",
    "        if ignore_overflow:\n",
    "            return 0\n",
    "        else:\n",
    "            raise\n",
    "    except ZeroDivisionError:\n",
    "        if ignore_zero_division:\n",
    "            return float('inf')\n",
    "        else:\n",
    "            raise"
   ]
  },
  {
   "cell_type": "code",
   "execution_count": 7,
   "id": "6747f220-81ca-4ccc-ac7e-2f158b2b1ce6",
   "metadata": {},
   "outputs": [
    {
     "name": "stdout",
     "output_type": "stream",
     "text": [
      "0\n"
     ]
    }
   ],
   "source": [
    "result = safe_divison(1.0, 10**500, True, False)\n",
    "print(result)"
   ]
  },
  {
   "cell_type": "code",
   "execution_count": 8,
   "id": "d11e38ba-4a29-404a-ac73-399d968f269a",
   "metadata": {},
   "outputs": [
    {
     "name": "stdout",
     "output_type": "stream",
     "text": [
      "inf\n"
     ]
    }
   ],
   "source": [
    "result = safe_divison(1.0, 0, False, True)\n",
    "print(result)"
   ]
  },
  {
   "cell_type": "markdown",
   "id": "96355ec4-f180-49bc-be7f-92acae0d8b2a",
   "metadata": {},
   "source": [
    "문제는 어떤 예외를 무시할지 결정하는 두 불 변수의 위치를 혼동하기 쉽다는 것이다.\n",
    "\n",
    "이로 인해 추적하기 힘든 버그가 생길 수 있다. 이 코드의 가독성을 향상시키는 방법은 키워드 인자를 사용하는 것이다."
   ]
  },
  {
   "cell_type": "code",
   "execution_count": 9,
   "id": "fbdfd5a6-ddce-44cb-a5cf-32cdbc323a72",
   "metadata": {},
   "outputs": [],
   "source": [
    "def safe_divison(number, divisor,\n",
    "                ignore_overflow=False,\n",
    "                ignore_zero_division=False):\n",
    "    \n",
    "    try:\n",
    "        return number / divisor\n",
    "    except OverflowError:\n",
    "        if ignore_overflow:\n",
    "            return 0\n",
    "        else:\n",
    "            raise\n",
    "    except ZeroDivisionError:\n",
    "        if ignore_zero_division:\n",
    "            return float('inf')\n",
    "        else:\n",
    "            raise"
   ]
  },
  {
   "cell_type": "code",
   "execution_count": 10,
   "id": "41544086-5a9f-4175-bc9e-cb31f2cc32d7",
   "metadata": {},
   "outputs": [
    {
     "name": "stdout",
     "output_type": "stream",
     "text": [
      "0\n"
     ]
    }
   ],
   "source": [
    "result = safe_divison(1.0, 10**500, ignore_overflow=True)\n",
    "print(result)"
   ]
  },
  {
   "cell_type": "code",
   "execution_count": 11,
   "id": "5731f08b-2ce9-42fa-9478-94c4e397d1ed",
   "metadata": {},
   "outputs": [
    {
     "name": "stdout",
     "output_type": "stream",
     "text": [
      "inf\n"
     ]
    }
   ],
   "source": [
    "result = safe_divison(1.0, 0, ignore_zero_division=True)\n",
    "print(result)"
   ]
  },
  {
   "cell_type": "markdown",
   "id": "8dc8ad4b-e438-455a-ac12-9f95bffc1f67",
   "metadata": {},
   "source": [
    "문제는 이런 식으로 키워드 인자를 사용하는 것이 선택적인 사항이므로 호출하는 쪽에서 명확성을 위해 키워드 인자를 꼭 쓰도록 강요할 수 없다는 데 있다.\n",
    "\n",
    "이와 같이 복잡한 함수의 경우 호출자가 키워드만 사용하는 인자를 통해 의도를 명확히 밝히도록 요구하는 편이 좋다. 키워드만 사용하는 인자는 키워드를 반드시 사용해 지정해야 하며, 절대 위치를 기반으로는 지정할 수 없다."
   ]
  },
  {
   "cell_type": "markdown",
   "id": "a199c001-8184-46d7-998c-3ed526724b50",
   "metadata": {},
   "source": [
    "다음은 safe_division 함수가 키워드만 사용하는 인자만 받도록 만든 코드다. 인자 목록에 있는 `*` 기호는 위치 인자의 마지막과 키워드만 사용하는 인자의 시작을 구분해준다."
   ]
  },
  {
   "cell_type": "code",
   "execution_count": 12,
   "id": "bdf45c03-4f52-4b6d-b2cb-f2b926e4fbc1",
   "metadata": {},
   "outputs": [],
   "source": [
    "def safe_divison_c(number, divisor, *,\n",
    "                ignore_overflow=False,\n",
    "                ignore_zero_division=False):\n",
    "    \n",
    "    try:\n",
    "        return number / divisor\n",
    "    except OverflowError:\n",
    "        if ignore_overflow:\n",
    "            return 0\n",
    "        else:\n",
    "            raise\n",
    "    except ZeroDivisionError:\n",
    "        if ignore_zero_division:\n",
    "            return float('inf')\n",
    "        else:\n",
    "            raise"
   ]
  },
  {
   "cell_type": "code",
   "execution_count": 14,
   "id": "dc260c15-e331-4b31-9b32-e278f29e9df9",
   "metadata": {},
   "outputs": [
    {
     "ename": "TypeError",
     "evalue": "safe_divison_c() takes 2 positional arguments but 4 were given",
     "output_type": "error",
     "traceback": [
      "\u001b[0;31m---------------------------------------------------------------------------\u001b[0m",
      "\u001b[0;31mTypeError\u001b[0m                                 Traceback (most recent call last)",
      "\u001b[0;32m<ipython-input-14-20bfa9df8002>\u001b[0m in \u001b[0;36m<module>\u001b[0;34m\u001b[0m\n\u001b[1;32m      1\u001b[0m \u001b[0;31m# 에러가 난다.\u001b[0m\u001b[0;34m\u001b[0m\u001b[0;34m\u001b[0m\u001b[0;34m\u001b[0m\u001b[0m\n\u001b[1;32m      2\u001b[0m \u001b[0;34m\u001b[0m\u001b[0m\n\u001b[0;32m----> 3\u001b[0;31m \u001b[0mresult\u001b[0m \u001b[0;34m=\u001b[0m \u001b[0msafe_divison_c\u001b[0m\u001b[0;34m(\u001b[0m\u001b[0;36m1.0\u001b[0m\u001b[0;34m,\u001b[0m \u001b[0;36m10\u001b[0m\u001b[0;34m**\u001b[0m\u001b[0;36m500\u001b[0m\u001b[0;34m,\u001b[0m \u001b[0;32mTrue\u001b[0m\u001b[0;34m,\u001b[0m \u001b[0;32mFalse\u001b[0m\u001b[0;34m)\u001b[0m\u001b[0;34m\u001b[0m\u001b[0;34m\u001b[0m\u001b[0m\n\u001b[0m\u001b[1;32m      4\u001b[0m \u001b[0mprint\u001b[0m\u001b[0;34m(\u001b[0m\u001b[0mresult\u001b[0m\u001b[0;34m)\u001b[0m\u001b[0;34m\u001b[0m\u001b[0;34m\u001b[0m\u001b[0m\n",
      "\u001b[0;31mTypeError\u001b[0m: safe_divison_c() takes 2 positional arguments but 4 were given"
     ]
    }
   ],
   "source": [
    "# 에러가 난다.\n",
    "\n",
    "result = safe_divison_c(1.0, 10**500, True, False)\n",
    "print(result)"
   ]
  },
  {
   "cell_type": "code",
   "execution_count": 16,
   "id": "cce08fd7-745c-4e60-a116-e6e46769ecd7",
   "metadata": {},
   "outputs": [
    {
     "name": "stdout",
     "output_type": "stream",
     "text": [
      "inf\n"
     ]
    }
   ],
   "source": [
    "# 이거 에러가 안 난다.\n",
    "\n",
    "result = safe_divison(1.0, 0, ignore_zero_division=True)\n",
    "print(result)"
   ]
  },
  {
   "cell_type": "markdown",
   "id": "9d77fa71-ab77-4579-af0f-6a21ea428137",
   "metadata": {},
   "source": [
    "하지만 이 safe_division_c 함수에도 문제가 있다.\n",
    "\n",
    "호출하는 쪽에서 이 함수의 맨 앞에 있는 두 필수 인자(number, divisor)를 호출하면서 위치와 키워드를 혼용할 수 있다."
   ]
  },
  {
   "cell_type": "code",
   "execution_count": 17,
   "id": "549a473e-9259-47cd-b28c-3b29103ba40e",
   "metadata": {},
   "outputs": [],
   "source": [
    "assert safe_divison_c(number=2, divisor=5) == 0.4\n",
    "assert safe_divison_c(divisor=5, number=2) == 0.4\n",
    "assert safe_divison_c(2, divisor=5) == 0.4"
   ]
  },
  {
   "cell_type": "markdown",
   "id": "e14af744-7cec-47fc-b20c-2ceb5be65d51",
   "metadata": {},
   "source": [
    "나중에 요구 사항이 바뀌거나 원하는 스타일이 바뀌어서 맨 앞의 두 인자 이름을 변경할 수도 있다. 그러면 호출 코드가 깨지는 이슈가 발생한다."
   ]
  },
  {
   "cell_type": "markdown",
   "id": "6dce552e-c711-4298-9b78-9e451b1e4ea9",
   "metadata": {},
   "source": [
    "파이썬 3.8에는 이 문제에 대한 해법이 들어 있다. 이를 `위치로만 지정하는 인자` 라고 부른다.\n",
    "\n",
    "위치로만 지정하는 인자는 반드시 위치만 사용해 인자를 지정 해야 하고 키워드 인자로는 쓸 수 없다.\n",
    "\n",
    "다음 safe_division 함수는 처음 두 필수 인자를 위치로만 지정하는 인자로 지정한다. 인자 목록의 `/`  기호는 위치로만 지정하는 인자의 끝을 표시한다."
   ]
  },
  {
   "cell_type": "code",
   "execution_count": 18,
   "id": "0f505e3e-10e3-4237-ae4c-2def590ce50f",
   "metadata": {},
   "outputs": [],
   "source": [
    "def safe_divison_d(number, divisor, /, *,\n",
    "                ignore_overflow=False,\n",
    "                ignore_zero_division=False):\n",
    "    \n",
    "    try:\n",
    "        return number / divisor\n",
    "    except OverflowError:\n",
    "        if ignore_overflow:\n",
    "            return 0\n",
    "        else:\n",
    "            raise\n",
    "    except ZeroDivisionError:\n",
    "        if ignore_zero_division:\n",
    "            return float('inf')\n",
    "        else:\n",
    "            raise"
   ]
  },
  {
   "cell_type": "code",
   "execution_count": 19,
   "id": "0ecad8a5-8611-44b5-ba0e-aaa6a22be058",
   "metadata": {},
   "outputs": [],
   "source": [
    "assert safe_divison_d(2, 5) == 0.4"
   ]
  },
  {
   "cell_type": "code",
   "execution_count": 20,
   "id": "a5565326-522d-478c-bbd5-704ea620db0b",
   "metadata": {},
   "outputs": [
    {
     "ename": "TypeError",
     "evalue": "safe_divison_d() got some positional-only arguments passed as keyword arguments: 'number, divisor'",
     "output_type": "error",
     "traceback": [
      "\u001b[0;31m---------------------------------------------------------------------------\u001b[0m",
      "\u001b[0;31mTypeError\u001b[0m                                 Traceback (most recent call last)",
      "\u001b[0;32m<ipython-input-20-b6e320792dd2>\u001b[0m in \u001b[0;36m<module>\u001b[0;34m\u001b[0m\n\u001b[1;32m      1\u001b[0m \u001b[0;31m# 이거는 에러 발생한다.\u001b[0m\u001b[0;34m\u001b[0m\u001b[0;34m\u001b[0m\u001b[0;34m\u001b[0m\u001b[0m\n\u001b[1;32m      2\u001b[0m \u001b[0;34m\u001b[0m\u001b[0m\n\u001b[0;32m----> 3\u001b[0;31m \u001b[0msafe_divison_d\u001b[0m\u001b[0;34m(\u001b[0m\u001b[0mnumber\u001b[0m\u001b[0;34m=\u001b[0m\u001b[0;36m2\u001b[0m\u001b[0;34m,\u001b[0m \u001b[0mdivisor\u001b[0m\u001b[0;34m=\u001b[0m\u001b[0;36m5\u001b[0m\u001b[0;34m)\u001b[0m\u001b[0;34m\u001b[0m\u001b[0;34m\u001b[0m\u001b[0m\n\u001b[0m",
      "\u001b[0;31mTypeError\u001b[0m: safe_divison_d() got some positional-only arguments passed as keyword arguments: 'number, divisor'"
     ]
    }
   ],
   "source": [
    "# 이거는 에러 발생한다.\n",
    "\n",
    "safe_divison_d(number=2, divisor=5)"
   ]
  },
  {
   "cell_type": "markdown",
   "id": "bb62fed8-1f05-442d-ae49-c237d5681784",
   "metadata": {},
   "source": [
    "이제 safe_division_d 함수 정의에서 맨 앞의 두 필수 인자는 호출하는 쪽과 분리 됐다. 따라서 파라미터 이름을 다시 바꿔도 아무것도 망가지지 않는다.\n",
    "\n",
    "키워드로만 지정하는 인자와 위치로만 지정하는 인자로 인해 생기는 효과 중에서 언급할 만한 가지는 다음과 같다.\n",
    "\n",
    "인자 목록에서 `/` 와 `*` 기호 사이에 있는 모든 파라미터는 위치를 사용해 전달할 수도 있고 이름을 키워드로 사용해 전달할 수도 있다.\n",
    "\n",
    "예를 들어 다음 코드에서는 결과를 표시할 때 얼마나 많은 자릿수를 사용할지 결정하고자 반올림할 위치를 지정하는 인자를 safe_division에 추가한다."
   ]
  },
  {
   "cell_type": "code",
   "execution_count": 21,
   "id": "911e8178-ac9a-4f94-ba7d-26db7979a543",
   "metadata": {},
   "outputs": [],
   "source": [
    "def safe_divison_e(number, divisor, /, \n",
    "                   ndigits=10, *,\n",
    "                   ignore_overflow=False,\n",
    "                   ignore_zero_division=False):\n",
    "    \n",
    "    try:\n",
    "        fraction = number / divisor\n",
    "        return round(fraction, ndigits)\n",
    "    except OverflowError:\n",
    "        if ignore_overflow:\n",
    "            return 0\n",
    "        else:\n",
    "            raise\n",
    "    except ZeroDivisionError:\n",
    "        if ignore_zero_division:\n",
    "            return float('inf')\n",
    "        else:\n",
    "            raise"
   ]
  },
  {
   "cell_type": "markdown",
   "id": "999421f2-8682-42c5-a1f7-3cf74f9d824b",
   "metadata": {},
   "source": [
    "이 함수에서 ndigits 는 위치나 키워드를 사용해 전달할 수 있는 선택적인 파라미터이므로 어떤 방식으로 함수 호출에 사용할 수 있다."
   ]
  },
  {
   "cell_type": "code",
   "execution_count": 22,
   "id": "84ac1879-b5ed-4312-b993-8bc3d7f93170",
   "metadata": {},
   "outputs": [
    {
     "name": "stdout",
     "output_type": "stream",
     "text": [
      "3.1428571429\n"
     ]
    }
   ],
   "source": [
    "result = safe_divison_e(22, 7)\n",
    "print(result)"
   ]
  },
  {
   "cell_type": "code",
   "execution_count": 23,
   "id": "50d66a40-764f-472e-b034-fd8852b5f30f",
   "metadata": {},
   "outputs": [
    {
     "name": "stdout",
     "output_type": "stream",
     "text": [
      "3.14286\n"
     ]
    }
   ],
   "source": [
    "result = safe_divison_e(22, 7, 5)\n",
    "print(result)"
   ]
  },
  {
   "cell_type": "code",
   "execution_count": 25,
   "id": "da3d4d3b-d3ca-4a67-bfc3-ee0f40ccd1fd",
   "metadata": {},
   "outputs": [
    {
     "name": "stdout",
     "output_type": "stream",
     "text": [
      "3.14\n"
     ]
    }
   ],
   "source": [
    "result = safe_divison_e(22, 7, ndigits=2)\n",
    "print(result)"
   ]
  },
  {
   "cell_type": "markdown",
   "id": "d4dad366-e44f-4606-a796-b909b36967b5",
   "metadata": {},
   "source": [
    "키워드로만 지정해야 하는 인자를 사용하면 호출하는 쪽에서 특정 인자를(위치를 사용 하지 않고) 반드시 키워드를 사용해 호출하도록 강제할 수 있다.\n",
    "이로 인해 함수 호출의 의도를 명확히 할 수 있다. 키워드로만 지정해야 하는 인자는 인자 목록에서 `*` 다음에 위치한다.\n",
    "\n",
    "위치로만 지정해야 하는 인자를 사용하면 호출하는 쪽에서 키워드를 사용해 인자를 지정하지 못하게 만들 수 있고, 이에 따라 함수 구현과 함수 호출 지점 사이의 결합을 줄일 수 있다.\n",
    "위치로만 지정해야 하는 인자는 인자 목록에서 `/` 앞에 위치한다.\n",
    "\n",
    "인자 목록에서 `/` 와 `*` 사이에 있는 파리미터는 키워드를 사용해 전달해도 되고 위치를 기반으로 전달해도 된다. 이런 동작은 파이썬 함수 파라미터의 기본 동작이다."
   ]
  }
 ],
 "metadata": {
  "kernelspec": {
   "display_name": "Python 3",
   "language": "python",
   "name": "python3"
  },
  "language_info": {
   "codemirror_mode": {
    "name": "ipython",
    "version": 3
   },
   "file_extension": ".py",
   "mimetype": "text/x-python",
   "name": "python",
   "nbconvert_exporter": "python",
   "pygments_lexer": "ipython3",
   "version": "3.8.8"
  }
 },
 "nbformat": 4,
 "nbformat_minor": 5
}
