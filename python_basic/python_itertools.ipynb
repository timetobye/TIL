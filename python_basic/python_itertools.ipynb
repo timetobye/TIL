{
 "cells": [
  {
   "cell_type": "markdown",
   "metadata": {},
   "source": [
    "## itertools"
   ]
  },
  {
   "cell_type": "markdown",
   "metadata": {},
   "source": [
    "### 사용 목적\n",
    "- 효율적인 반복을 위해 사용합니다.\n",
    "\n",
    "### 사용 방법\n",
    "- 사용 방법은 아래 코드를 참고해 주세요.\n",
    "\n",
    "### 참고 자료\n",
    "- [Python-itertools](https://docs.python.org/3/library/itertools.html)\n",
    "- [데이터 분석에 피가 되는 itertools 익히기](https://hamait.tistory.com/803)\n",
    "- [python에서 리스트에 있는 값들의 모든 조합을 구하기](https://ourcstory.tistory.com/414)\n",
    "- [python에서 이중 리스트를 flatten하게 만들기](https://winterj.me/list_of_lists_to_flatten/)\n",
    "- [Itertools in Python 3, By Example](https://realpython.com/python-itertools/)"
   ]
  },
  {
   "cell_type": "markdown",
   "metadata": {},
   "source": [
    "### 1. Infinite iterators\n",
    "\n",
    "| iterator | Arguments | Results | Example |\n",
    "|:--------:|:--------:|:--------:|:--------:|\n",
    "| count() | start, [step] | start, start+step, start+2*step, … | count(10) --> 10 11 12 13 14 ...|\n",
    "| cycle() | p | p0, p1, … plast, p0, p1, … | cycle('ABCD') --> A B C D A B C D ... |\n",
    "| repeat() | elem [,n] | elem, elem, elem, … endlessly or up to n times | repeat(10, 3) --> 10 10 10 |"
   ]
  },
  {
   "cell_type": "markdown",
   "metadata": {},
   "source": [
    "#### 1-1. count\n",
    "- start값을 기준으로 시작해서 일정 간격 값을 반환하는 iterator를 만듭니다.\n",
    "- 간격 기본 값은 1 입니다.\n",
    "- infinite 특성을 지닙니다.\n",
    "- 반복하고자 하는 최대수를 미리 알지 않아도 구현 할 수 있는 장점이 있습니다."
   ]
  },
  {
   "cell_type": "code",
   "execution_count": 11,
   "metadata": {},
   "outputs": [
    {
     "data": {
      "text/plain": [
       "count(10, 5)"
      ]
     },
     "execution_count": 11,
     "metadata": {},
     "output_type": "execute_result"
    }
   ],
   "source": [
    "from itertools import count\n",
    "\n",
    "count(10, 5)"
   ]
  },
  {
   "cell_type": "code",
   "execution_count": 32,
   "metadata": {},
   "outputs": [
    {
     "name": "stdout",
     "output_type": "stream",
     "text": [
      "value i is 10\n",
      "value i is 15\n",
      "value i is 20\n",
      "value i is 25\n",
      "value i is 30\n",
      "value i is 35\n",
      "value i is 40\n",
      "value i is 45\n",
      "value i is 50\n"
     ]
    }
   ],
   "source": [
    "# 일정 간격으로 숫자를 출력해보겠습니다.\n",
    "\n",
    "for i in count(10, 5):\n",
    "    print(f'value i is {i}')\n",
    "    if i == 50:\n",
    "        break"
   ]
  },
  {
   "cell_type": "code",
   "execution_count": 33,
   "metadata": {},
   "outputs": [
    {
     "name": "stdout",
     "output_type": "stream",
     "text": [
      "value i is 0\n",
      "value i is 0.5\n",
      "value i is 1.0\n",
      "value i is 1.5\n",
      "value i is 2.0\n",
      "value i is 2.5\n",
      "value i is 3.0\n",
      "value i is 3.5\n",
      "value i is 4.0\n",
      "value i is 4.5\n",
      "value i is 5.0\n"
     ]
    }
   ],
   "source": [
    "# 소수도 가능합니다!\n",
    "\n",
    "for i in count(0, 0.5):\n",
    "    print(f'value i is {i}')\n",
    "    if i == 5:\n",
    "        break"
   ]
  },
  {
   "cell_type": "markdown",
   "metadata": {},
   "source": [
    "------------------------------\n",
    "#### 1-2. cycle\n",
    "- 주어진 값을 반복하고 반복 가능한 값이 없을 경우 다시 처음부터 반복합니다.\n",
    "- infinite 특성을 지닙니다."
   ]
  },
  {
   "cell_type": "code",
   "execution_count": 15,
   "metadata": {},
   "outputs": [
    {
     "data": {
      "text/plain": [
       "<itertools.cycle at 0x111d33480>"
      ]
     },
     "execution_count": 15,
     "metadata": {},
     "output_type": "execute_result"
    }
   ],
   "source": [
    "from itertools import cycle\n",
    "\n",
    "cycle('ABCD')"
   ]
  },
  {
   "cell_type": "code",
   "execution_count": 18,
   "metadata": {},
   "outputs": [
    {
     "name": "stdout",
     "output_type": "stream",
     "text": [
      "A B C D A B C D A B C D A B C D A B C D A \n"
     ]
    }
   ],
   "source": [
    "# 지정된 문자열 ABCD를 반복 출력합니다.\n",
    "\n",
    "for i, str_value in enumerate(cycle('ABCD')):\n",
    "    print(str_value, end = \" \")\n",
    "    if i == 20:\n",
    "        print()\n",
    "        break"
   ]
  },
  {
   "cell_type": "code",
   "execution_count": 39,
   "metadata": {},
   "outputs": [
    {
     "name": "stdout",
     "output_type": "stream",
     "text": [
      "0 : a\n",
      "1 : b\n",
      "0 : c\n",
      "1 : d\n",
      "0 : e\n"
     ]
    }
   ],
   "source": [
    "# 0과 1을 반복하면서 문자를 지정\n",
    "\n",
    "for number, letter in zip(cycle(range(2)), ['a', 'b', 'c', 'd', 'e']):\n",
    "    print(f'{number} : {letter}')"
   ]
  },
  {
   "cell_type": "markdown",
   "metadata": {},
   "source": [
    "---------------------------------\n",
    "#### 1-3.repeat\n",
    "- object를 반복해서 반환하는 iterator를 만듭니다.\n",
    "- 몇 번 반복할지 정해지지 않으면 무한 반복합니다."
   ]
  },
  {
   "cell_type": "code",
   "execution_count": 20,
   "metadata": {},
   "outputs": [
    {
     "data": {
      "text/plain": [
       "repeat(10, 3)"
      ]
     },
     "execution_count": 20,
     "metadata": {},
     "output_type": "execute_result"
    }
   ],
   "source": [
    "from itertools import repeat\n",
    "\n",
    "repeat(10, 3)"
   ]
  },
  {
   "cell_type": "code",
   "execution_count": 25,
   "metadata": {},
   "outputs": [
    {
     "name": "stdout",
     "output_type": "stream",
     "text": [
      "10 10 10 10 10 10 10 10 10 10 "
     ]
    }
   ],
   "source": [
    "for i in repeat(10, 10):\n",
    "    print(i, end=\" \")"
   ]
  },
  {
   "cell_type": "code",
   "execution_count": 26,
   "metadata": {},
   "outputs": [
    {
     "name": "stdout",
     "output_type": "stream",
     "text": [
      "A A A A A A A A A A "
     ]
    }
   ],
   "source": [
    "for i in repeat('A', 10):\n",
    "    print(i, end=\" \")"
   ]
  },
  {
   "cell_type": "code",
   "execution_count": 31,
   "metadata": {},
   "outputs": [
    {
     "data": {
      "text/plain": [
       "[0, 1, 4, 9, 16, 25, 36, 49, 64, 81]"
      ]
     },
     "execution_count": 31,
     "metadata": {},
     "output_type": "execute_result"
    }
   ],
   "source": [
    "# map function도 함께 응용 할 수 있습니다.\n",
    "\n",
    "list(map(pow, range(10), repeat(2)))"
   ]
  },
  {
   "cell_type": "markdown",
   "metadata": {},
   "source": [
    "----------------------------------\n",
    "\n",
    "### 2. Combinatoric iterators\n",
    "| iterator | Arguments | Results | Example | Example result |\n",
    "|:--------:|:--------:|:--------:|:--------:|:--------:|\n",
    "| product() | p, q, … [repeat=1] |cartesian product, equivalent to a nested for-loop | product('ABCD', repeat=2)|AA AB AC AD BA BB BC BD CA CB CC CD DA DB DC DD |\n",
    "| permutations() | p[, r] | r-length tuples, all possible orderings, no repeated elements | permutations('ABCD', 2) | AB AC AD BA BC BD CA CB CD DA DB DC |\n",
    "| combinations() | p, r | r-length tuples, in sorted order, no repeated elements | combinations('ABCD', 2) | AB AC AD BC BD CD|\n",
    "| combinations_with_replacement() | p, r | r-length tuples, in sorted order, with repeated elements | combinations_with_replacement('ABCD', 2) |AA AB AC AD BB BC BD CC CD DD |"
   ]
  },
  {
   "cell_type": "markdown",
   "metadata": {},
   "source": [
    "### 2.1 product\n",
    "\n",
    "- 주어진 값의 곱집합을 구합니다.\n",
    "- 두 개 이상의 리스트에서 모든 조합을 계산한다고 생각하시면 좋습니다."
   ]
  },
  {
   "cell_type": "code",
   "execution_count": 51,
   "metadata": {},
   "outputs": [],
   "source": [
    "from itertools import product\n",
    "\n",
    "items = [['a', 'b', 'c'], ['1', '2', '3', '4'], ['@', '#', '&']]\n",
    "print(len(list(product(*items))))\n",
    "list(product(*items))"
   ]
  },
  {
   "cell_type": "code",
   "execution_count": 52,
   "metadata": {},
   "outputs": [
    {
     "data": {
      "text/plain": [
       "<itertools.product at 0x111ecd900>"
      ]
     },
     "execution_count": 52,
     "metadata": {},
     "output_type": "execute_result"
    }
   ],
   "source": [
    "product(*items)"
   ]
  },
  {
   "cell_type": "code",
   "execution_count": 54,
   "metadata": {},
   "outputs": [],
   "source": [
    "for product_value in product(*items):\n",
    "    print(product_value)"
   ]
  },
  {
   "cell_type": "code",
   "execution_count": 59,
   "metadata": {},
   "outputs": [],
   "source": [
    "for value in product('ABCD', repeat=2):\n",
    "    print(value)"
   ]
  },
  {
   "cell_type": "markdown",
   "metadata": {},
   "source": [
    "### 2.2 permutations\n",
    "- 순열을 생성합니다.\n",
    "- nPr"
   ]
  },
  {
   "cell_type": "code",
   "execution_count": 62,
   "metadata": {},
   "outputs": [],
   "source": [
    "from itertools import permutations\n",
    "\n",
    "for value in permutations('ABCD', 2):\n",
    "    print(value)"
   ]
  },
  {
   "cell_type": "code",
   "execution_count": 63,
   "metadata": {},
   "outputs": [],
   "source": [
    "for value in permutations('ABCD', 3):\n",
    "    print(value)"
   ]
  },
  {
   "cell_type": "markdown",
   "metadata": {},
   "source": [
    "### 2.3 combinations\n",
    "- 조합을 생성합니다.\n",
    "- nCr"
   ]
  },
  {
   "cell_type": "code",
   "execution_count": 71,
   "metadata": {},
   "outputs": [],
   "source": [
    "from itertools import combinations\n",
    "\n",
    "for value in combinations('ABCD', 2):\n",
    "    print(value)"
   ]
  },
  {
   "cell_type": "code",
   "execution_count": 70,
   "metadata": {},
   "outputs": [],
   "source": [
    "for value in combinations('ABCD', 3):\n",
    "    print(value)"
   ]
  },
  {
   "cell_type": "markdown",
   "metadata": {},
   "source": [
    "### 2.4 combinations_with_replacement\n",
    "- 조합을 생성합니다.\n",
    "- combinations와 다르게 중복을 허용합니다."
   ]
  },
  {
   "cell_type": "code",
   "execution_count": 69,
   "metadata": {},
   "outputs": [],
   "source": [
    "from itertools import combinations_with_replacement\n",
    "\n",
    "for value in combinations_with_replacement('ABCD', 2):\n",
    "    print(value)"
   ]
  },
  {
   "cell_type": "code",
   "execution_count": 68,
   "metadata": {},
   "outputs": [],
   "source": [
    "for value in combinations_with_replacement('ABCD', 3):\n",
    "    print(value)"
   ]
  },
  {
   "cell_type": "markdown",
   "metadata": {},
   "source": [
    "---------------------------------\n",
    "### 3. Iterators terminating on the shortest input sequence\n",
    "\n",
    "| iterator | Arguments | Results | Example |\n",
    "|:--------:|:--------:|:--------:|:--------:|\n",
    "| accumulate() | p [,func] | p0, p0+p1, p0+p1+p2, … | accumulate([1,2,3,4,5]) --> 1 3 6 10 15|\n",
    "| chain() | p, q, … | p0, p1, … plast, q0, q1, … | chain('ABC', 'DEF') --> A B C D E F |\n",
    "| chain.from_iterable() | iterable | p0, p1, … plast, q0, q1, … | chain.from_iterable(['ABC', 'DEF']) --> A B C D E F |\n",
    "| compress() | data, selectors | (d[0] if s[0]), (d[1] if s[1]), … | compress('ABCDEF', [1,0,1,0,1,1]) --> A C E F |\n",
    "| dropwhile() | pred, seq | seq[n], seq[n+1], starting when pred fails | dropwhile(lambda x: x<5, [1,4,6,4,1]) --> 6 4 1 |\n",
    "| filterfalse() | pred, seq | elements of seq where pred(elem) is false | filterfalse(lambda x: x%2, range(10)) --> 0 2 4 6 8 |\n",
    "| groupby() | iterable[, key] |sub-iterators grouped by value of key(v)|  |\n",
    "| islice() | seq, [start,] stop [, step] | elements from seq[start:stop:step] | islice('ABCDEFG', 2, None) --> C D E F G |\n",
    "| starmap() | func, seq | func(*seq[0]), func(*seq[1]), … | starmap(pow, [(2,5), (3,2), (10,3)]) --> 32 9 1000 |\n",
    "| takewhile() | pred, seq | seq[0], seq[1], until pred fails | takewhile(lambda x: x<5, [1,4,6,4,1]) --> 1 4 |\n",
    "| tee() | it, n | it1, it2, … itn splits one iterator into n |  |\n",
    "| zip_longest() | p, q, … | (p[0], q[0]), (p[1], q[1]), … | zip_longest('ABCD', 'xy', fillvalue='-') --> Ax By C- D- |"
   ]
  },
  {
   "cell_type": "markdown",
   "metadata": {},
   "source": [
    "### 3.1 itertools.accumulate\n",
    "- 누적 결과를 구합니다.\n",
    "- function을 명시할 경우 좀 더 폭넓게 사용 할 수 있습니다."
   ]
  },
  {
   "cell_type": "code",
   "execution_count": 72,
   "metadata": {},
   "outputs": [],
   "source": [
    "import operator\n",
    "from itertools import accumulate"
   ]
  },
  {
   "cell_type": "code",
   "execution_count": 75,
   "metadata": {},
   "outputs": [
    {
     "name": "stdout",
     "output_type": "stream",
     "text": [
      "1 3 6 10 15 "
     ]
    }
   ],
   "source": [
    "# 누적 합 구하기\n",
    "\n",
    "value_list = [1,2,3,4,5]\n",
    "\n",
    "for i in accumulate(value_list):\n",
    "    print(i, end=\" \")"
   ]
  },
  {
   "cell_type": "code",
   "execution_count": 76,
   "metadata": {},
   "outputs": [
    {
     "name": "stdout",
     "output_type": "stream",
     "text": [
      "[3, 12, 72, 144, 144, 1296, 0, 0, 0, 0]\n"
     ]
    }
   ],
   "source": [
    "# running product with operator.mul\n",
    "\n",
    "data = [3, 4, 6, 2, 1, 9, 0, 7, 5, 8]\n",
    "print(list(accumulate(data, operator.mul)))"
   ]
  },
  {
   "cell_type": "code",
   "execution_count": 77,
   "metadata": {},
   "outputs": [
    {
     "name": "stdout",
     "output_type": "stream",
     "text": [
      "[3, 4, 6, 6, 6, 9, 9, 9, 9, 9]\n"
     ]
    }
   ],
   "source": [
    "# running maximum\n",
    "\n",
    "data = [3, 4, 6, 2, 1, 9, 0, 7, 5, 8]\n",
    "print(list(accumulate(data, max)))"
   ]
  },
  {
   "cell_type": "code",
   "execution_count": 8,
   "metadata": {},
   "outputs": [
    {
     "name": "stdout",
     "output_type": "stream",
     "text": [
      "[1000, 960.0, 918.0, 873.9000000000001, 827.5950000000001]\n"
     ]
    }
   ],
   "source": [
    "# Amortize a 5% loan of 1000 with 4 annual payments of 90\n",
    "\n",
    "cashflows = [1000, -90, -90, -90, -90]\n",
    "\n",
    "print(list(accumulate(cashflows, lambda bal, pmt: bal*1.05 + pmt)))\n",
    "\n",
    "# 1000 * 1.05 - 90 = 960\n",
    "# 960 * 1.05 - 90 = 918..."
   ]
  },
  {
   "cell_type": "markdown",
   "metadata": {},
   "source": [
    "### 3.2 chain\n",
    "- Used for treating consecutive sequences as a single sequence.\n",
    "- 간단히 이야기 하면 각 type을 연결하는 것 입니다."
   ]
  },
  {
   "cell_type": "code",
   "execution_count": 79,
   "metadata": {},
   "outputs": [
    {
     "name": "stdout",
     "output_type": "stream",
     "text": [
      "['a', 'b', 'c', 'd', 'e', 'f', 1, 0, 1, 0, 0, 1, 0.1, 0.7, 0.4, 0.4, 0.5]\n"
     ]
    }
   ],
   "source": [
    "from itertools import chain\n",
    "\n",
    "letters = ['a', 'b', 'c', 'd', 'e', 'f']\n",
    "booleans = [1, 0, 1, 0, 0, 1]\n",
    "decimals = [0.1, 0.7, 0.4, 0.4, 0.5]\n",
    "\n",
    "print(list(itertools.chain(letters, booleans, decimals)))"
   ]
  },
  {
   "cell_type": "code",
   "execution_count": 81,
   "metadata": {},
   "outputs": [
    {
     "name": "stdout",
     "output_type": "stream",
     "text": [
      "['a', 'b', 'c', 'd', 'e', 'f', 1, 0, 1, 0, 0, 1, 0.1, 0.7, 0.4, 0.4, 0.5]\n"
     ]
    }
   ],
   "source": [
    "# list 1 + list 2 + tuple 1 이어도 연속적으로 이어진 것을 볼 수 있습니다.\n",
    "\n",
    "letters = ['a', 'b', 'c', 'd', 'e', 'f']\n",
    "booleans = [1, 0, 1, 0, 0, 1]\n",
    "decimals = (0.1, 0.7, 0.4, 0.4, 0.5)\n",
    "\n",
    "print(list(itertools.chain(letters, booleans, decimals)))"
   ]
  },
  {
   "cell_type": "code",
   "execution_count": 85,
   "metadata": {},
   "outputs": [
    {
     "data": {
      "text/plain": [
       "[1, 2, 3, 4]"
      ]
     },
     "execution_count": 85,
     "metadata": {},
     "output_type": "execute_result"
    }
   ],
   "source": [
    "# 2차원 리스트가 주어지면?\n",
    "\n",
    "list_of_lists = [[1, 2], [3, 4]]\n",
    "list(itertools.chain(*list_of_lists))"
   ]
  },
  {
   "cell_type": "markdown",
   "metadata": {},
   "source": [
    "### 3.3 chain.from_iterable\n",
    "- iteratort만 전달해도 iterator의 element들을 조회하면서 lazy하게 chain을 구성해줍니다."
   ]
  },
  {
   "cell_type": "code",
   "execution_count": 86,
   "metadata": {},
   "outputs": [
    {
     "name": "stdout",
     "output_type": "stream",
     "text": [
      "[1, 2, 3, 4]\n"
     ]
    }
   ],
   "source": [
    "print(list(chain.from_iterable(list_of_lists)))"
   ]
  },
  {
   "cell_type": "code",
   "execution_count": 90,
   "metadata": {},
   "outputs": [
    {
     "name": "stdout",
     "output_type": "stream",
     "text": [
      "['A', 'B', 'C', 'D', 'E', 'F']\n"
     ]
    }
   ],
   "source": [
    "print(list(chain.from_iterable(['ABC', 'DEF'])))"
   ]
  },
  {
   "cell_type": "markdown",
   "metadata": {},
   "source": [
    "### 3.4 compress\n",
    "- selector에 해당하는 요소가 있는 경우에만 반환을 하는 기능을 합니다."
   ]
  },
  {
   "cell_type": "code",
   "execution_count": 92,
   "metadata": {},
   "outputs": [
    {
     "name": "stdout",
     "output_type": "stream",
     "text": [
      "['A', 'C', 'E', 'F']\n"
     ]
    }
   ],
   "source": [
    "from itertools import compress\n",
    "\n",
    "print(list(compress('ABCDEF', [1,0,1,0,1,1])))"
   ]
  },
  {
   "cell_type": "markdown",
   "metadata": {},
   "source": [
    "### 3.5 dropwhile\n",
    "\n",
    "- 필터링 기능으르 하는 함수입니다.\n",
    "- 조건에 맞게 필터 기능을 하다가 조건에 벗어날 경우 남은 것을 반환합니다.\n",
    "\n",
    "```python3\n",
    "def dropwhile(predicate, iterable):\n",
    "    # dropwhile(lambda x: x<5, [1,4,6,4,1]) --> 6 4 1\n",
    "    iterable = iter(iterable)\n",
    "    for x in iterable:\n",
    "        if not predicate(x):\n",
    "            yield x\n",
    "            break\n",
    "    for x in iterable:\n",
    "        yield x\n",
    "```"
   ]
  },
  {
   "cell_type": "code",
   "execution_count": 93,
   "metadata": {},
   "outputs": [
    {
     "name": "stdout",
     "output_type": "stream",
     "text": [
      "[11, 34, 66, 100, 1]\n"
     ]
    }
   ],
   "source": [
    "from itertools import dropwhile\n",
    "\n",
    "print(list(dropwhile(lambda x: x < 10, [1, 4, 6, 7, 11, 34, 66, 100, 1])))\n",
    "\n",
    "# drop : 1, 4, 6, 7 | return : 11, 34, 66, 100, 1"
   ]
  },
  {
   "cell_type": "markdown",
   "metadata": {},
   "source": [
    "### 3.6 filterfalse\n",
    "-  function takes two arguments: a function that returns True or False (called a predicate), and an iterable inputs. It returns an iterator over the elements in inputs for which the predicate returns False."
   ]
  },
  {
   "cell_type": "code",
   "execution_count": 100,
   "metadata": {},
   "outputs": [
    {
     "data": {
      "text/plain": [
       "[1, 2]"
      ]
     },
     "execution_count": 100,
     "metadata": {},
     "output_type": "execute_result"
    }
   ],
   "source": [
    "from itertools import filterfalse\n",
    "\n",
    "only_positives = filterfalse(lambda x: x <= 0, [0, 1, -1, 2, -2])\n",
    "list(only_positives)"
   ]
  },
  {
   "cell_type": "markdown",
   "metadata": {},
   "source": [
    "### 3.7 groupby\n",
    "\n",
    "-"
   ]
  },
  {
   "cell_type": "markdown",
   "metadata": {},
   "source": [
    "### 3.8 islice"
   ]
  },
  {
   "cell_type": "markdown",
   "metadata": {},
   "source": [
    "### 3.9 starmap()"
   ]
  },
  {
   "cell_type": "markdown",
   "metadata": {},
   "source": [
    "### 3.10 takewhile()"
   ]
  },
  {
   "cell_type": "markdown",
   "metadata": {},
   "source": [
    "### 3.11 tee()"
   ]
  },
  {
   "cell_type": "markdown",
   "metadata": {},
   "source": [
    "### 3.12 zip_longest()"
   ]
  }
 ],
 "metadata": {
  "kernelspec": {
   "display_name": "Python 3",
   "language": "python",
   "name": "python3"
  },
  "language_info": {
   "codemirror_mode": {
    "name": "ipython",
    "version": 3
   },
   "file_extension": ".py",
   "mimetype": "text/x-python",
   "name": "python",
   "nbconvert_exporter": "python",
   "pygments_lexer": "ipython3",
   "version": "3.6.6"
  }
 },
 "nbformat": 4,
 "nbformat_minor": 2
}
