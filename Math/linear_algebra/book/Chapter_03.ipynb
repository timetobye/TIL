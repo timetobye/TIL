{
 "cells": [
  {
   "cell_type": "code",
   "execution_count": 1,
   "id": "3dc8fa12-8bc0-4427-9fba-b26a6a35d249",
   "metadata": {},
   "outputs": [],
   "source": [
    "import numpy as np"
   ]
  },
  {
   "cell_type": "markdown",
   "id": "451e9adb-ba4e-4624-b007-43839d167a05",
   "metadata": {},
   "source": [
    "### Quiz 1"
   ]
  },
  {
   "cell_type": "code",
   "execution_count": 5,
   "id": "aaf07ae3-1bed-4712-8563-d9dbb061878d",
   "metadata": {},
   "outputs": [],
   "source": [
    "v1 = np.array([1, 2, 3])\n",
    "v2 = np.array([4, 5, 6])\n",
    "v3 = np.array([7, 8, 9])"
   ]
  },
  {
   "cell_type": "code",
   "execution_count": 7,
   "id": "2d6dbec0-a91e-40da-aabe-e940078abfa0",
   "metadata": {},
   "outputs": [
    {
     "data": {
      "text/plain": [
       "array([[1, 2, 3],\n",
       "       [4, 5, 6],\n",
       "       [7, 8, 9]])"
      ]
     },
     "execution_count": 7,
     "metadata": {},
     "output_type": "execute_result"
    }
   ],
   "source": [
    "A = np.vstack([v1, v2, v3])\n",
    "A"
   ]
  },
  {
   "cell_type": "code",
   "execution_count": 8,
   "id": "89122c8e-241c-40b5-82f1-62ebdd209a17",
   "metadata": {},
   "outputs": [
    {
     "data": {
      "text/plain": [
       "array([[1, 4, 7],\n",
       "       [2, 5, 8],\n",
       "       [3, 6, 9]])"
      ]
     },
     "execution_count": 8,
     "metadata": {},
     "output_type": "execute_result"
    }
   ],
   "source": [
    "B = np.column_stack([v1, v2, v3])\n",
    "B"
   ]
  },
  {
   "cell_type": "code",
   "execution_count": 10,
   "id": "bc525975-ea00-416b-8534-74bd1ccf80c0",
   "metadata": {},
   "outputs": [],
   "source": [
    "C = np.array(\n",
    "    [\n",
    "        [1, 2],\n",
    "        [3, 4],\n",
    "        [5, 6]\n",
    "    ]\n",
    ")"
   ]
  },
  {
   "cell_type": "code",
   "execution_count": 11,
   "id": "1dd0c4f1-dd46-4ea3-b9a1-f2ce87fd2898",
   "metadata": {},
   "outputs": [
    {
     "data": {
      "text/plain": [
       "array([[1, 2],\n",
       "       [3, 4],\n",
       "       [5, 6]])"
      ]
     },
     "execution_count": 11,
     "metadata": {},
     "output_type": "execute_result"
    }
   ],
   "source": [
    "C"
   ]
  },
  {
   "cell_type": "code",
   "execution_count": 12,
   "id": "2d86e585-90c1-40b6-90ba-f94ea596ed34",
   "metadata": {},
   "outputs": [],
   "source": [
    "D = np.column_stack([C, v3])"
   ]
  },
  {
   "cell_type": "code",
   "execution_count": 13,
   "id": "2bc59917-f432-4657-a09d-acdabcfb7682",
   "metadata": {},
   "outputs": [
    {
     "data": {
      "text/plain": [
       "array([[1, 2, 7],\n",
       "       [3, 4, 8],\n",
       "       [5, 6, 9]])"
      ]
     },
     "execution_count": 13,
     "metadata": {},
     "output_type": "execute_result"
    }
   ],
   "source": [
    "D"
   ]
  },
  {
   "cell_type": "code",
   "execution_count": 14,
   "id": "b980c5d2-bf1d-4a1f-9b7d-e5058ce9b3b1",
   "metadata": {},
   "outputs": [],
   "source": [
    "E = np.array(\n",
    "    [\n",
    "        [1, 2, 3, 4],\n",
    "        [5, 6, 7, 8],\n",
    "        [9, 10, 11, 12]\n",
    "    ]\n",
    ")"
   ]
  },
  {
   "cell_type": "code",
   "execution_count": 15,
   "id": "c40f4df7-fd86-443a-b07a-06ead794844d",
   "metadata": {},
   "outputs": [
    {
     "data": {
      "text/plain": [
       "array([[ 1,  2,  3,  4],\n",
       "       [ 5,  6,  7,  8],\n",
       "       [ 9, 10, 11, 12]])"
      ]
     },
     "execution_count": 15,
     "metadata": {},
     "output_type": "execute_result"
    }
   ],
   "source": [
    "E"
   ]
  },
  {
   "cell_type": "code",
   "execution_count": 16,
   "id": "8285a6fe-6567-491f-b2cd-f7021c0b466e",
   "metadata": {},
   "outputs": [
    {
     "data": {
      "text/plain": [
       "4"
      ]
     },
     "execution_count": 16,
     "metadata": {},
     "output_type": "execute_result"
    }
   ],
   "source": [
    "# 1행 4열 성분\n",
    "E[0, 3]"
   ]
  },
  {
   "cell_type": "code",
   "execution_count": 18,
   "id": "6ee7dbc1-38d9-45b1-8e3a-3b1a0b8eae6f",
   "metadata": {},
   "outputs": [
    {
     "data": {
      "text/plain": [
       "array([3, 7])"
      ]
     },
     "execution_count": 18,
     "metadata": {},
     "output_type": "execute_result"
    }
   ],
   "source": [
    "# E의 1~2행의 3열에 해당하는 부분행렬\n",
    "E[0:2, 2]"
   ]
  },
  {
   "cell_type": "code",
   "execution_count": 19,
   "id": "9ccf5f47-3e0f-4ab7-8743-b9e02c0e6d64",
   "metadata": {},
   "outputs": [
    {
     "data": {
      "text/plain": [
       "array([[-1,  2,  3,  4],\n",
       "       [ 5,  6,  7,  8],\n",
       "       [ 9, 10, 11, 12]])"
      ]
     },
     "execution_count": 19,
     "metadata": {},
     "output_type": "execute_result"
    }
   ],
   "source": [
    "E[0, 0] = -1\n",
    "E"
   ]
  },
  {
   "cell_type": "markdown",
   "id": "0819b1ba-af40-4592-847b-42cc63f936c1",
   "metadata": {},
   "source": [
    "-----------"
   ]
  },
  {
   "cell_type": "code",
   "execution_count": 20,
   "id": "6e5c7c0a-7096-4418-a289-782783b2c11d",
   "metadata": {},
   "outputs": [],
   "source": [
    "A = np.array([[1., 2.], [3., 4.]])\n",
    "B = np.array([[2., 2.], [1., 3.]])\n",
    "C = np.array([[4., 5., 6.], [7., 8., 9.]])\n",
    "v = np.array([[10.], [20.]])"
   ]
  },
  {
   "cell_type": "code",
   "execution_count": 21,
   "id": "55a7ee7a-20d7-4c9c-878d-c52b42767588",
   "metadata": {},
   "outputs": [
    {
     "data": {
      "text/plain": [
       "array([[3., 4.],\n",
       "       [4., 7.]])"
      ]
     },
     "execution_count": 21,
     "metadata": {},
     "output_type": "execute_result"
    }
   ],
   "source": [
    "A + B"
   ]
  },
  {
   "cell_type": "code",
   "execution_count": 22,
   "id": "1382aca1-c0ee-4164-8168-52c6889e7165",
   "metadata": {},
   "outputs": [
    {
     "data": {
      "text/plain": [
       "array([[ 4.,  8.],\n",
       "       [10., 18.]])"
      ]
     },
     "execution_count": 22,
     "metadata": {},
     "output_type": "execute_result"
    }
   ],
   "source": [
    "np.matmul(A, B)"
   ]
  },
  {
   "cell_type": "code",
   "execution_count": 23,
   "id": "7ad72798-1a85-4025-9b6b-bee1610b65f5",
   "metadata": {},
   "outputs": [
    {
     "data": {
      "text/plain": [
       "array([[ 7., 10.],\n",
       "       [15., 22.]])"
      ]
     },
     "execution_count": 23,
     "metadata": {},
     "output_type": "execute_result"
    }
   ],
   "source": [
    "# 행렬의 거듭제곱\n",
    "\n",
    "np.linalg.matrix_power(A, 2)"
   ]
  },
  {
   "cell_type": "code",
   "execution_count": 24,
   "id": "b19adfe0-cd7d-4530-9e0a-c984916efca1",
   "metadata": {},
   "outputs": [
    {
     "data": {
      "text/plain": [
       "array([[ 37.,  54.],\n",
       "       [ 81., 118.]])"
      ]
     },
     "execution_count": 24,
     "metadata": {},
     "output_type": "execute_result"
    }
   ],
   "source": [
    "# 행렬의 거듭제곱\n",
    "\n",
    "np.linalg.matrix_power(A, 3)"
   ]
  },
  {
   "cell_type": "code",
   "execution_count": 25,
   "id": "64fcdfcc-5dac-4af4-9e28-b215ab9aa3f1",
   "metadata": {},
   "outputs": [
    {
     "data": {
      "text/plain": [
       "array([[ 1.,  4.],\n",
       "       [ 9., 16.]])"
      ]
     },
     "execution_count": 25,
     "metadata": {},
     "output_type": "execute_result"
    }
   ],
   "source": [
    "# 행렬의 성분별 거듭제곱 A**2\n",
    "\n",
    "A**2"
   ]
  },
  {
   "cell_type": "code",
   "execution_count": 27,
   "id": "a9b09a03-b849-41c1-b318-ac5b99fe2cb2",
   "metadata": {},
   "outputs": [
    {
     "data": {
      "text/plain": [
       "array([[1, 0, 0],\n",
       "       [0, 2, 0],\n",
       "       [0, 0, 3]])"
      ]
     },
     "execution_count": 27,
     "metadata": {},
     "output_type": "execute_result"
    }
   ],
   "source": [
    "# 대각행렬\n",
    "\n",
    "M = np.diag([1, 2, 3])\n",
    "M"
   ]
  },
  {
   "cell_type": "code",
   "execution_count": 28,
   "id": "29b2bd47-b0e1-4912-a04b-27a7b4744981",
   "metadata": {},
   "outputs": [
    {
     "data": {
      "text/plain": [
       "array([[1., 2., 5.],\n",
       "       [3., 4., 6.],\n",
       "       [7., 7., 8.]])"
      ]
     },
     "execution_count": 28,
     "metadata": {},
     "output_type": "execute_result"
    }
   ],
   "source": [
    "# 블록행렬 생성\n",
    "\n",
    "D11 = np.array([[1., 2.], [3., 4.]])\n",
    "D12 = np.array([[5], [6]])\n",
    "D21 = np.array([[7, 7]])\n",
    "D22 = np.array([[8]])\n",
    "\n",
    "D = np.block([[D11, D12], [D21, D22]])\n",
    "D"
   ]
  },
  {
   "cell_type": "code",
   "execution_count": null,
   "id": "3ed39486-f39b-4237-b473-5e96474612d6",
   "metadata": {},
   "outputs": [],
   "source": []
  }
 ],
 "metadata": {
  "kernelspec": {
   "display_name": "Python 3",
   "language": "python",
   "name": "python3"
  },
  "language_info": {
   "codemirror_mode": {
    "name": "ipython",
    "version": 3
   },
   "file_extension": ".py",
   "mimetype": "text/x-python",
   "name": "python",
   "nbconvert_exporter": "python",
   "pygments_lexer": "ipython3",
   "version": "3.8.8"
  }
 },
 "nbformat": 4,
 "nbformat_minor": 5
}
