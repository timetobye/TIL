{
 "cells": [
  {
   "cell_type": "markdown",
   "metadata": {},
   "source": [
    "# Python intermediate Stduy group\n",
    "\n",
    "## Reference : https://github.com/KaggleBreak/interpy-kr\n",
    "\n",
    "- 위 내용을 참고하여 재학습하였습니다.\n",
    "\n",
    "## 제너레이터(Generator)\n",
    "\n",
    "- 제너레이터는 반복자(iterator)와 같은 루프의 작용을 컨트롤하기 위해 쓰여지는 특별한 함수 또는 루틴.  \n",
    "- 제너레이터는 배열이나 리스트를 리턴하는 함수와 비슷하며, 호출을 할 수 있는 파라메터를 가지고 있고, 연속적인 값들을 만들어 냄.  \n",
    "- 하지만 한번에 모든 값을 포함한 배열을 만들어서 리턴하는 대신에 yield 구문을 이용해 한 번 호출될 때마다 하나의 값만을 리턴하고, 이런 이유로 일반 반복자에 비해 아주 작은 메모리를 필요로 함.  \n",
    "- 간단히 얘기하면 제너레이터는 반복자와 같은 역할을 하는 함수.\n",
    "\n",
    "- 추가로 찾은 자료\n",
    "  - http://pythonstudy.xyz/python/article/23-Iterator%EC%99%80-Generator\n",
    "  - Generator는 Iterator의 특수한 한 형태이다.\n",
    "Generator 함수(Generator function)는 함수 안에 yield 를 사용하여 데이타를 하나씩 리턴하는 함수이다. Generator 함수가 처음 호출되면, 그 함수 실행 중 처음으로 만나는 yield 에서 값을 리턴한다. Generator 함수가 다시 호출되면, 직전에 실행되었던 yield 문 다음부터 다음 yield 문을 만날 때까지 문장들을 실행하게 된다. 이러한 Generator 함수를 변수에 할당하면 그 변수는 generator 클래스 객체가 된다."
   ]
  },
  {
   "cell_type": "code",
   "execution_count": 1,
   "metadata": {},
   "outputs": [
    {
     "name": "stdout",
     "output_type": "stream",
     "text": [
      "[1, 4, 9, 16, 25]\n"
     ]
    }
   ],
   "source": [
    "def square_numbers(nums):\n",
    "    result = []\n",
    "    for i in nums:\n",
    "        result.append(i * i)\n",
    "    return result\n",
    "\n",
    "mynums = square_numbers([1, 2, 3, 4, 5])\n",
    "\n",
    "print(mynums)"
   ]
  },
  {
   "cell_type": "code",
   "execution_count": 2,
   "metadata": {},
   "outputs": [
    {
     "name": "stdout",
     "output_type": "stream",
     "text": [
      "<generator object square_numbers at 0x105acf938>\n"
     ]
    }
   ],
   "source": [
    "def square_numbers(nums):\n",
    "    for i in nums:\n",
    "        yield i * i\n",
    "\n",
    "my_nums = square_numbers([1, 2, 3, 4, 5])\n",
    "\n",
    "print(my_nums)"
   ]
  },
  {
   "cell_type": "code",
   "execution_count": 3,
   "metadata": {},
   "outputs": [
    {
     "name": "stdout",
     "output_type": "stream",
     "text": [
      "1\n",
      "4\n",
      "9\n",
      "16\n",
      "25\n"
     ]
    }
   ],
   "source": [
    "def square_numbers(nums):\n",
    "    for i in nums:\n",
    "        yield i * i\n",
    "\n",
    "my_nums = square_numbers([1, 2, 3, 4, 5])\n",
    "\n",
    "print(next(my_nums))\n",
    "print(next(my_nums))\n",
    "print(next(my_nums))\n",
    "print(next(my_nums))\n",
    "print(next(my_nums))"
   ]
  },
  {
   "cell_type": "code",
   "execution_count": 4,
   "metadata": {},
   "outputs": [
    {
     "ename": "StopIteration",
     "evalue": "",
     "output_type": "error",
     "traceback": [
      "\u001b[0;31m---------------------------------------------------------------------------\u001b[0m",
      "\u001b[0;31mStopIteration\u001b[0m                             Traceback (most recent call last)",
      "\u001b[0;32m<ipython-input-4-568b6ae09660>\u001b[0m in \u001b[0;36m<module>\u001b[0;34m\u001b[0m\n\u001b[0;32m----> 1\u001b[0;31m \u001b[0mprint\u001b[0m\u001b[0;34m(\u001b[0m\u001b[0mnext\u001b[0m\u001b[0;34m(\u001b[0m\u001b[0mmy_nums\u001b[0m\u001b[0;34m)\u001b[0m\u001b[0;34m)\u001b[0m\u001b[0;34m\u001b[0m\u001b[0;34m\u001b[0m\u001b[0m\n\u001b[0m",
      "\u001b[0;31mStopIteration\u001b[0m: "
     ]
    }
   ],
   "source": [
    "print(next(my_nums))"
   ]
  },
  {
   "cell_type": "markdown",
   "metadata": {},
   "source": [
    "제네레이터는 일반적으로 for 루프를 통해서 호출함"
   ]
  },
  {
   "cell_type": "code",
   "execution_count": 5,
   "metadata": {},
   "outputs": [
    {
     "name": "stdout",
     "output_type": "stream",
     "text": [
      "1\n",
      "4\n",
      "9\n",
      "16\n",
      "25\n"
     ]
    }
   ],
   "source": [
    "def square_numbers(nums):\n",
    "    for i in nums:\n",
    "        yield i * i\n",
    "        \n",
    "my_nums = square_numbers([1, 2, 3, 4 ,5])\n",
    "\n",
    "for num in my_nums:\n",
    "    print(num)"
   ]
  },
  {
   "cell_type": "markdown",
   "metadata": {},
   "source": [
    "**\"list comprehension\"**을 사용하면 위 코드를 더 간단하게 만들 수 있음."
   ]
  },
  {
   "cell_type": "code",
   "execution_count": 6,
   "metadata": {},
   "outputs": [
    {
     "name": "stdout",
     "output_type": "stream",
     "text": [
      "[1, 4, 9, 16, 25]\n",
      "1\n",
      "4\n",
      "9\n",
      "16\n",
      "25\n"
     ]
    }
   ],
   "source": [
    "my_nums = [x*x for x in range(1, 6)]\n",
    "\n",
    "print(my_nums)\n",
    "\n",
    "for num in my_nums:\n",
    "    print(num)"
   ]
  },
  {
   "cell_type": "code",
   "execution_count": 7,
   "metadata": {},
   "outputs": [
    {
     "name": "stdout",
     "output_type": "stream",
     "text": [
      "<generator object <genexpr> at 0x105b4abf8>\n",
      "1\n",
      "4\n",
      "9\n",
      "16\n",
      "25\n"
     ]
    }
   ],
   "source": [
    "# 조금만 위의 것을 바꾸면...\n",
    "\n",
    "my_nums = (x * x for x in range(1, 6))\n",
    "\n",
    "print(my_nums)\n",
    "\n",
    "for num in my_nums:\n",
    "    print(num)"
   ]
  },
  {
   "cell_type": "markdown",
   "metadata": {},
   "source": [
    "### 제너레이터의 장점인 성능에 대한 확인."
   ]
  },
  {
   "cell_type": "code",
   "execution_count": 8,
   "metadata": {},
   "outputs": [
    {
     "name": "stdout",
     "output_type": "stream",
     "text": [
      "psutil.Process(pid=2588, name='python3.6', started='01:26:44')\n",
      "24.29296875\n",
      "\n",
      "시작 전 메모리 사용량: 24.29296875 MB\n",
      "종료 후 메모리 사용량: 298.0 MB\n",
      "총 소요된 시간: 1.765978 초\n"
     ]
    }
   ],
   "source": [
    "# -*- coding: utf-8 -*-\n",
    "import os\n",
    "import psutil\n",
    "import random\n",
    "import time\n",
    "\n",
    "names = ['최용호', '지길정', '진영욱', '김세훈', '오세훈', '김민우']\n",
    "majors = ['컴퓨터 공학', '국문학', '영문학', '수학', '정치']\n",
    "\n",
    "process = psutil.Process(os.getpid())\n",
    "mem_before = process.memory_info().rss / 1024 / 1024\n",
    "\n",
    "def people_list(num_people):\n",
    "    result = []\n",
    "    for i in range(num_people):\n",
    "        person = {\n",
    "            'id': i,\n",
    "            'name': random.choice(names),\n",
    "            'major': random.choice(majors)\n",
    "        }\n",
    "        result.append(person)\n",
    "        \n",
    "    return result\n",
    "\n",
    "        \n",
    "t1 = time.clock()\n",
    "people = people_list(1000000)  #1 people_list를 호출\n",
    "t2 = time.clock()\n",
    "mem_after = process.memory_info().rss / 1024 / 1024\n",
    "total_time = t2 - t1\n",
    "\n",
    "print(process)\n",
    "print(mem_before)\n",
    "print()\n",
    "print('시작 전 메모리 사용량: {} MB'.format(mem_before))\n",
    "print('종료 후 메모리 사용량: {} MB'.format(mem_after))\n",
    "print('총 소요된 시간: {:.6f} 초'.format(total_time))"
   ]
  },
  {
   "cell_type": "code",
   "execution_count": 9,
   "metadata": {},
   "outputs": [
    {
     "name": "stdout",
     "output_type": "stream",
     "text": [
      "psutil.Process(pid=2588, name='python3.6', started='01:26:44')\n",
      "237.23828125\n",
      "\n",
      "시작 전 메모리 사용량: 237.23828125 MB\n",
      "종료 후 메모리 사용량: 56.609375 MB\n",
      "총 소요된 시간: 0.170086 초\n"
     ]
    }
   ],
   "source": [
    "# -*- coding: utf-8 -*-\n",
    "from __future__ import division\n",
    "import os\n",
    "import psutil\n",
    "import random\n",
    "import time\n",
    "\n",
    "names = ['최용호', '지길정', '진영욱', '김세훈', '오세훈', '김민우']\n",
    "majors = ['컴퓨터 공학', '국문학', '영문학', '수학', '정치']\n",
    "\n",
    "process = psutil.Process(os.getpid())\n",
    "mem_before = process.memory_info().rss / 1024 / 1024\n",
    "\n",
    "\n",
    "def people_generator(num_people):\n",
    "    for i in range(num_people):\n",
    "        person = {\n",
    "            'id': i,\n",
    "            'name': random.choice(names),\n",
    "            'major': random.choice(majors)\n",
    "        }\n",
    "        yield person\n",
    "\n",
    "        \n",
    "t1 = time.clock()\n",
    "people = people_generator(1000000)  #1 people_list를 호출\n",
    "t2 = time.clock()\n",
    "mem_after = process.memory_info().rss / 1024 / 1024\n",
    "total_time = t2 - t1\n",
    "\n",
    "print(process)\n",
    "print(mem_before)\n",
    "print()\n",
    "print('시작 전 메모리 사용량: {} MB'.format(mem_before))\n",
    "print('종료 후 메모리 사용량: {} MB'.format(mem_after))\n",
    "print('총 소요된 시간: {:.6f} 초'.format(total_time))"
   ]
  },
  {
   "cell_type": "markdown",
   "metadata": {},
   "source": [
    "제너레이터를 활용하니 메모리 사용량이 훨씬 적고, 작업시간도 훨씬 빠름.  \n",
    "  \n",
    "#### 결론) 제너레이터는 모든 결과값을 메모리에 저장하지 않기 때문에 더 좋은 퍼포먼스를 냄."
   ]
  },
  {
   "cell_type": "code",
   "execution_count": 11,
   "metadata": {},
   "outputs": [
    {
     "name": "stdout",
     "output_type": "stream",
     "text": [
      "0 : {'id': 0, 'name': '김민우', 'major': '컴퓨터 공학'}\n",
      "1 : {'id': 1, 'name': '최용호', 'major': '정치'}\n"
     ]
    }
   ],
   "source": [
    "for i, name in enumerate(people):\n",
    "    print(f'{i} : {name}')\n",
    "    \n",
    "    if i == 1:\n",
    "        break"
   ]
  },
  {
   "cell_type": "markdown",
   "metadata": {},
   "source": [
    "#### generator를 만들 때는 내가 원하는 방향과 목적에 부합하는 형태로 가야 한다.\n",
    "- json, tsv, csv 등등 파일 포맷도 대응하면 좋음\n",
    "- 성능은 최후순위."
   ]
  },
  {
   "cell_type": "code",
   "execution_count": null,
   "metadata": {},
   "outputs": [],
   "source": []
  }
 ],
 "metadata": {
  "kernelspec": {
   "display_name": "Python 3",
   "language": "python",
   "name": "python3"
  },
  "language_info": {
   "codemirror_mode": {
    "name": "ipython",
    "version": 3
   },
   "file_extension": ".py",
   "mimetype": "text/x-python",
   "name": "python",
   "nbconvert_exporter": "python",
   "pygments_lexer": "ipython3",
   "version": "3.6.7"
  }
 },
 "nbformat": 4,
 "nbformat_minor": 2
}
