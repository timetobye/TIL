{
 "cells": [
  {
   "cell_type": "markdown",
   "metadata": {},
   "source": [
    "logging\n",
    "--------------------------------------\n",
    "\n",
    "Table of contents\n",
    "\n",
    "# 문서 개요\n",
    "\n",
    "\n",
    "## 문서 목적\n",
    "\n",
    "- intermediate python study에서 logging 발표(20분)를 위해 작성되었습니다.\n",
    "- 이 문서는 python logging의 기본적인 내용을 안내합니다.\n",
    "- 추가로 logger 클래스 재사용, jupyter notebook에서의 logger 사용법에 대해서도 안내가 됩니다.\n",
    "\n",
    "## 참고 자료\n",
    "\n",
    "- 이 문서는 [python 공식 문서 logging](https://docs.python.org/ko/3/library/logging.html#logrecord-attributes)을 참고하여 작성 되었습니다. 영문판을 원하실 경우 링크에서 영어로 바꿔주시면 됩니다.\n",
    "- 위 공식 문서에서는 자습서를 제공됩니다.\n",
    "  - [기초 자습서](https://docs.python.org/ko/3/howto/logging.html#logging-basic-tutorial)\n",
    "  - [고급 자습서](https://docs.python.org/ko/3/howto/logging.html#logging-advanced-tutorial)\n",
    "  - [로깅 요리책](https://docs.python.org/ko/3/howto/logging-cookbook.html#logging-cookbook)\n",
    "- [파이썬 로깅의 모든것](https://hamait.tistory.com/880)도 참고하였습니다.\n",
    "- 더 많은 내용을 학습하려면 위 링크를 참고해주시기 바랍니다."
   ]
  },
  {
   "cell_type": "markdown",
   "metadata": {},
   "source": [
    "----------------------------------"
   ]
  },
  {
   "cell_type": "markdown",
   "metadata": {},
   "source": [
    "## logging\n",
    "\n",
    "### logging이란?\n",
    "\n",
    "logging은 <span style=\"color:red\">어떤 소프트웨어가 실행될 때 발생하는 이벤트를 추적하는 수단</span>\n",
    "- 개발자는 코드에 로깅 호출을 추가하여 특정 이벤트가 발생했음을 나타냅니다.\n",
    "- 이벤트는 선택적으로 가변 데이터 (즉, 이벤트 발생마다 잠재적으로 다른 데이터)를 포함할 수 있는 설명 메시지로 기술합니다.\n",
    "- 이벤트는 개발자가 이벤트에 부여한 중요도를 가지고 있습니다.\n",
    "> 중요도는 수준(level) 또는 심각도(severity)라고 칭합니다. 중요도는 다시 언급됩니다.\n",
    "- logging은 python에서 제공하므로 별도로 설치하실 필요는 없습니다.\n",
    "\n",
    "### logging은 언제 그리고 왜 쓰나요?\n",
    "\n",
    "위에서 언급한대로 logging은 이벤트를 추적하기 위해 사용되며 함수를 제공합니다.\n",
    "\n",
    "```\n",
    "debug(), info(), warning(), error(), critical()\n",
    "```\n",
    "\n",
    "로깅을 사용할 때를 결정하려면 [기초 자습서](https://docs.python.org/ko/3/howto/logging.html#logging-basic-tutorial)에서 로깅을 사용할 때를 참고해주시기 바랍니다. 아래는 몇 가지에 대한 예시입니다.\n",
    "\n",
    "- 프로그램의 정상 작동 중에 발생하는 이벤트 보고 (가령 상태 모니터링이나 결함 조사)\n",
    "> logging.info() (또는 진단 목적의 아주 자세한 출력의 경우 logging.debug())\n",
    "  \n",
    "  \n",
    "- 특정 실행시간 이벤트와 관련하여 경고를 발행\n",
    "> logging.warning()\n",
    "  \n",
    "  \n",
    "- 예외를 발생시키지 않고 에러의 억제를 보고 (가령 장기 실행 서버 프로세스의 에러 처리기)\n",
    "> logging.error(), logging.exception(), logging.critical() 사용\n",
    "\n",
    "\n",
    "- 사실 logging의 기능은 아니지만 가장 간단한 경우는 우리가 일상에서 코드를 작성하면서 이미 사용하고 있습니다. 바로 print 기능입니다.\n",
    "\n",
    "```python\n",
    "# print something\n",
    "\n",
    "print(\"logging is difficult\")\n",
    "```\n",
    "\n",
    "하지만 대량의 정보 등을 기록해야 할 때는 print로 일일이 할 수 없습니다. \n",
    "\n",
    "그래서 파일 저장 하는 등 좀 더 다양한 기능을 사용하고 싶을 때 우리는 로깅 시스템을 따로 만들거나, 기존에 구축되어진 라이브러리를 가져와서 사용합니다.\n",
    "\n",
    "\n",
    "### logging level\n",
    "\n",
    "logging 함수는 추적되는 이벤트의 수준 또는 심각도를 따라 명명 합니다.\n",
    "\n",
    "<span style=\"color:red\">기본 수준은 WARNING</span> 입니다. 이는 logging 패키지가 달리 구성되지 않는 한, 이 수준 이상의 이벤트만 추적된다는 것을 의미\n",
    "\n",
    "level : DEBUG < INFO < WARNING < ERROR < CRITICAL\n",
    "\n",
    "| Level   |      사용할 때      |\n",
    "|----------|:-------------:|\n",
    "| DEBUG |  상세한 정보. 보통 문제를 진단할 때만 필요합니다. |\n",
    "| INFO |    예상대로 작동하는지에 대한 확인 할 때   |\n",
    "| WARNING | 예상치 못한 일이 발생했거나 가까운 미래에 발생할 문제(예를 들어 '디스크 공간 부족')에 대한 표시. 소프트웨어는 여전히 예상대로 작동합니다. |\n",
    "| ERROR | 더욱 심각한 문제로 인해, 소프트웨어가 일부 기능을 수행하지 못 할 때 |\n",
    "| CRITICAL | 심각한 에러. 프로그램 자체가 계속 실행되지 않을 수 있음을 나타낼 때 |"
   ]
  },
  {
   "cell_type": "markdown",
   "metadata": {},
   "source": [
    "### A simple example"
   ]
  },
  {
   "cell_type": "code",
   "execution_count": 1,
   "metadata": {},
   "outputs": [
    {
     "name": "stderr",
     "output_type": "stream",
     "text": [
      "WARNING:root:Watch out!\n"
     ]
    }
   ],
   "source": [
    "import logging\n",
    "\n",
    "logging.warning('Watch out!')  # will print a message to the console\n",
    "logging.info('I told you so')  # will not print anything"
   ]
  },
  {
   "cell_type": "markdown",
   "metadata": {},
   "source": [
    "- WARNING:root:Watch out! 이 출력 됩니다. 기본 수준이 WARNING 이므로, INFO 메시지는 나타나지 않습니다.\n",
    "  - 출력된 메시지에는 level 표시, logging 호출에 제공된 이벤트 설명(즉, 'Watch out!')이 포함되어 있습니다.\n",
    "  - 'root'는 다시 다룹니다."
   ]
  },
  {
   "cell_type": "markdown",
   "metadata": {},
   "source": [
    "### Logging to a file\n",
    "\n",
    "- notice : 번거롭겠지만 jupyter에서 학습을 하실 때는 logging 마다 세션을 다시 시작해 주시기 바랍니다.\n",
    "- 이유 : simple exmple을 실행하고 아래 코드를 실행 할 경우 logging이 꼬여버립니다.\n",
    "\n",
    "> 세션 재시작 후 실행\n",
    "```\n",
    "DEBUG:root:This message should go to the log file\n",
    "INFO:root:So should this\n",
    "WARNING:root:And this, too\n",
    "```\n",
    "\n",
    "> 세션 재시작 안 하고 실행\n",
    "```\n",
    "WARNING:root:And this, too\n",
    "```"
   ]
  },
  {
   "cell_type": "code",
   "execution_count": 4,
   "metadata": {},
   "outputs": [],
   "source": [
    "# logging to a file\n",
    "import logging\n",
    "\n",
    "logging.basicConfig(filename='example.log', level=logging.DEBUG)\n",
    "logging.debug('This message should go to the log file')\n",
    "logging.info('So should this')\n",
    "logging.warning('And this, too')\n",
    "\n",
    "# example.log file이 생성됨과 동시에 아래와 같이 저장됨\n",
    "# logging level을 `DEBUG` 로 설정하였기 때문에 모든 메시지를 볼 수 있습니다.\n",
    "\n",
    "# `DEBUG:root:This message should go to the log file`\n",
    "# `INFO:root:So should this`\n",
    "# `WARNING:root:And this, too`"
   ]
  },
  {
   "cell_type": "code",
   "execution_count": 5,
   "metadata": {},
   "outputs": [],
   "source": [
    "# 이전 실행의 메시지를 기억하지 않고, 각 실행이 새로 시작하게 하는 법, filemode='w'\n",
    "import logging\n",
    "\n",
    "logging.basicConfig(filename='example.log', filemode='w', level=logging.DEBUG)\n",
    "logging.debug('This message should go to the log file')\n",
    "logging.info('So should this')\n",
    "logging.warning('And this, too')"
   ]
  },
  {
   "cell_type": "markdown",
   "metadata": {},
   "source": [
    "### 여러 모듈에서의 로깅\n",
    "- 프로그램이 여러 모듈로 구성되어 있을 때 로깅 구성 방법\n",
    "\n",
    "- jupyter notebook에서 .py load/edit/run/save 하는 방법\n",
    " - How to load/edit/run/save text files (.py) into an IPython notebook cell?\n",
    "  - [link](https://stackoverflow.com/questions/21034373/how-to-load-edit-run-save-text-files-py-into-an-ipython-notebook-cell)"
   ]
  },
  {
   "cell_type": "markdown",
   "metadata": {},
   "source": [
    "mylib.py은 아래와 같이 구성되어 있습니다.\n",
    "\n",
    "```python\n",
    "import logging\n",
    "\n",
    "def do_something():\n",
    "    logging.info('Doing something')\n",
    "```"
   ]
  },
  {
   "cell_type": "code",
   "execution_count": 1,
   "metadata": {},
   "outputs": [],
   "source": [
    "# myapp.py\n",
    "%run mylib.py\n",
    "\n",
    "import logging\n",
    "import mylib\n",
    "\n",
    "def main():\n",
    "    logging.basicConfig(filename='myapp.log', level=logging.INFO)\n",
    "    logging.info('Started')\n",
    "    mylib.do_something()\n",
    "    logging.info('Finished')\n",
    "    \n",
    "if __name__ == '__main__':\n",
    "    main()"
   ]
  },
  {
   "cell_type": "markdown",
   "metadata": {},
   "source": [
    "- myapp.log라는 파일이 생성되고 아래의 메시지가 기록됩니다.\n",
    "\n",
    "`INFO:root:Started`\n",
    "\n",
    "`INFO:root:Doing something`\n",
    "\n",
    "`INFO:root:Finished`\n",
    "  - 다만 이벤트 설명 외에는 메시지가 어디에서 왔는지는 알 수 없습니다.\n",
    "  - 보다 상세한 내용은 고급 자습서 부분에 명시되어 있습니다."
   ]
  },
  {
   "cell_type": "markdown",
   "metadata": {},
   "source": [
    "### 변수 데이터 로깅\n",
    "\n",
    "- 변수 데이터를 기록하려면, 이벤트 설명 메시지에 포맷 문자열을 사용하고 변수 데이터를 인자로 추가하면 됩니다.!"
   ]
  },
  {
   "cell_type": "code",
   "execution_count": 1,
   "metadata": {},
   "outputs": [
    {
     "name": "stderr",
     "output_type": "stream",
     "text": [
      "WARNING:root:Look before you leap!\n"
     ]
    }
   ],
   "source": [
    "# formating\n",
    "\n",
    "import logging\n",
    "logging.warning('%s before you %s', 'Look', 'leap!')"
   ]
  },
  {
   "cell_type": "code",
   "execution_count": 2,
   "metadata": {},
   "outputs": [
    {
     "name": "stderr",
     "output_type": "stream",
     "text": [
      "WARNING:root:Look before you leap!\n"
     ]
    }
   ],
   "source": [
    "logging.warning(f'Look before you leap!')"
   ]
  },
  {
   "cell_type": "code",
   "execution_count": 5,
   "metadata": {},
   "outputs": [
    {
     "name": "stderr",
     "output_type": "stream",
     "text": [
      "WARNING:root:Python is too difficult, AWS...\n"
     ]
    }
   ],
   "source": [
    "languege = 'Python'\n",
    "server = 'AWS'\n",
    "\n",
    "logging.warning(f'{languege} is too difficult, {server}...')"
   ]
  },
  {
   "cell_type": "markdown",
   "metadata": {},
   "source": [
    "### 표시된 메시지의 포맷 변경\n",
    "- 메시지를 표시하는 데 사용되는 포맷을 변경하려면 사용할 format을 지정해야 합니다:"
   ]
  },
  {
   "cell_type": "code",
   "execution_count": 1,
   "metadata": {},
   "outputs": [
    {
     "name": "stderr",
     "output_type": "stream",
     "text": [
      "DEBUG:This message should appear on the console\n",
      "INFO:So should this\n",
      "WARNING:And this, too\n"
     ]
    }
   ],
   "source": [
    "import logging\n",
    "logging.basicConfig(format='%(levelname)s:%(message)s', level=logging.DEBUG)\n",
    "logging.debug('This message should appear on the console')\n",
    "logging.info('So should this')\n",
    "logging.warning('And this, too')"
   ]
  },
  {
   "cell_type": "markdown",
   "metadata": {},
   "source": [
    "앞의 예제에서 나타난 'root' 가 사라졌음에 주목하십시오. 포맷 문자열에 나타날 수 있는 모든 것은 LogRecord 어트리뷰트 문서를 참고\n",
    "https://docs.python.org/ko/3/library/logging.html#logrecord-attributes\n",
    "\n",
    "하지만, 간단한 사용을 위해서는 levelname (심각도), message (이벤트 설명, 변수 데이터 포함) 와 아마도 발생 시각을 표시해야 할 것입니다. 이것은 다음 섹션에서 설명합니다."
   ]
  },
  {
   "cell_type": "markdown",
   "metadata": {},
   "source": [
    "### 메시지에 날짜/시간 표시\n",
    "\n",
    "- 이벤트의 날짜와 시간을 표시하려면, 포맷 문자열에 '%(asctime)s' 을 넣으십시오:"
   ]
  },
  {
   "cell_type": "code",
   "execution_count": 1,
   "metadata": {},
   "outputs": [
    {
     "name": "stderr",
     "output_type": "stream",
     "text": [
      "2019-05-23 23:20:52,017 is when this event was logged.\n"
     ]
    }
   ],
   "source": [
    "import logging\n",
    "logging.basicConfig(format='%(asctime)s %(message)s')\n",
    "logging.warning('is when this event was logged.')"
   ]
  },
  {
   "cell_type": "markdown",
   "metadata": {},
   "source": [
    "(위에 나온) 날짜/시간 표시의 기본 포맷은 ISO8601 또는 RFC 3339와 같습니다. \n",
    "\n",
    "날짜/시간의 포맷을 좀 더 제어해야 하는 경우, 이 예제에서와같이 basicConfig 에 datefmt 인자를 제공하십시오:"
   ]
  },
  {
   "cell_type": "code",
   "execution_count": 1,
   "metadata": {},
   "outputs": [
    {
     "name": "stderr",
     "output_type": "stream",
     "text": [
      "05/23/2019 11:21:26 PM is when this event was logged.\n"
     ]
    }
   ],
   "source": [
    "import logging\n",
    "logging.basicConfig(format='%(asctime)s %(message)s', datefmt='%m/%d/%Y %I:%M:%S %p')\n",
    "logging.warning('is when this event was logged.')"
   ]
  },
  {
   "cell_type": "markdown",
   "metadata": {},
   "source": [
    "datefmt 인자의 형식은 time.strftime() 에 의해 지원되는 것과 같습니다."
   ]
  }
 ],
 "metadata": {
  "kernelspec": {
   "display_name": "Python 3",
   "language": "python",
   "name": "python3"
  },
  "language_info": {
   "codemirror_mode": {
    "name": "ipython",
    "version": 3
   },
   "file_extension": ".py",
   "mimetype": "text/x-python",
   "name": "python",
   "nbconvert_exporter": "python",
   "pygments_lexer": "ipython3",
   "version": "3.7.1"
  }
 },
 "nbformat": 4,
 "nbformat_minor": 2
}
